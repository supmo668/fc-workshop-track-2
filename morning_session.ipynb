{
 "cells": [
  {
   "cell_type": "markdown",
   "id": "0a5b15f9",
   "metadata": {},
   "source": [
    "# 🤖 **Agentic AI Systems Workshop: From Rules to Adaptive Multi-Agent Systems**\n",
    "\n",
    "## ⏰ **WORKSHOP SCHEDULE (3 Hours Total)**\n",
    "\n",
    "### **Part 1: Foundation & Understanding (75 minutes)**\n",
    "- **Phase 1**: Environment Setup & Service Discovery (15 min)\n",
    "- **Phase 2**: Naive LLM Chain Analysis (20 min)\n",
    "- **🛠️ HANDS-ON**: Experiment with single-agent approaches (15 min)\n",
    "- **💬 DISCUSSION**: Why do LLM chains fail for complex coordination? (10 min)\n",
    "- **Phase 3**: Service-by-Service Investigation (15 min)\n",
    "\n",
    "### **☕ COFFEE BREAK (10 minutes)**\n",
    "\n",
    "### **Part 2: Multi-Agent Development (75 minutes)**\n",
    "- **Phase 4**: Building Specialized Agents (Grid, Emergency, Traffic) (25 min)\n",
    "- **🛠️ HANDS-ON**: Create your own agent specializations (15 min)\n",
    "- **Phase 5**: Multi-Agent Coordination & Orchestration (20 min)\n",
    "- **🛠️ HANDS-ON**: Experiment with crew configurations (10 min)\n",
    "- **Phase 6**: Adaptability Challenge & Testing (5 min)\n",
    "\n",
    "### **Part 3: Advanced Integration (20 minutes)**\n",
    "- **Phase 7**: Model Context Protocol (MCP) Demo (10 min)\n",
    "- **Phase 8**: Production Insights & Wrap-up (10 min)\n",
    "\n",
    "---\n",
    "\n",
    "## 🎯 **Workshop Learning Objectives**\n",
    "\n",
    "In this session, you will learn how to design and orchestrate agentic AI \n",
    "systems using modern frameworks, standards, and best practices. We will cover \n",
    "foundational design principles such as tool use, task planning, autonomy, and \n",
    "multi-agent collaboration, and introduce techniques for integrating external \n",
    "systems dynamically.\n",
    "\n",
    "You'll also explore how emerging standards like the Model Context Protocol \n",
    "(MCP) simplify how agents discover and use external tools, making agentic \n",
    "systems more adaptable and extensible. Practical examples will demonstrate \n",
    "how to build autonomous agents that make decisions, invoke tools, and \n",
    "accomplish complex tasks without rigid pre-programmed flows.\n",
    "\n",
    "## 🎓 **What You'll Build Today**\n",
    "\n",
    "By the end of this workshop, you will have:\n",
    "\n",
    "1. **🏗️ Understanding of Agent System Architecture**: Learn the fundamental \n",
    "   differences between rule-based systems, simple LLM chains, and \n",
    "   multi-agent systems\n",
    "2. **🛠️ Mastery of Tool Design Patterns**: Create specialized tools with \n",
    "   dynamic descriptions and structured outputs\n",
    "3. **🎭 Service-Specific Agent Development**: Build domain experts for Grid, \n",
    "   Emergency, and Traffic management\n",
    "4. **🤝 Multi-Agent Orchestration Skills**: Compose individual agents into \n",
    "   coordinated teams\n",
    "5. **🧠 Adaptive Behavior Implementation**: Build systems that reason about \n",
    "   new scenarios vs rigid rules\n",
    "6. **🔌 External System Integration**: Use Model Context Protocol (MCP) for \n",
    "   dynamic tool discovery\n",
    "7. **📊 System Performance Evaluation**: Quantitatively compare different \n",
    "   approaches\n",
    "\n",
    "## 🛠️ **Interactive Notebook Format**\n",
    "\n",
    "This workshop is designed for **Jupyter notebook interaction**! Each section \n",
    "contains:\n",
    "\n",
    "- **📝 Markdown cells** with educational content and step-by-step instructions\n",
    "- **👨‍💻 Code cells** with modular components you can modify and experiment with\n",
    "- **🛠️ Interactive exercises** to build understanding through hands-on practice\n",
    "- **💬 Discussion prompts** for reflection and collaborative learning\n",
    "- **📊 Evaluation cells** showing quantitative performance comparisons\n",
    "\n",
    "### **🎯 LEARNING PROGRESSION**\n",
    "Throughout the workshop, you'll progress through:\n",
    "- **Understanding**: Why existing approaches fail for complex coordination\n",
    "- **Building**: Creating specialized tools and agents for each service domain\n",
    "- **Integrating**: Orchestrating multiple agents into coordinated systems\n",
    "- **Evaluating**: Measuring and comparing different architectural approaches\n",
    "- **Extending**: Adding dynamic capabilities through MCP integration\n",
    "\n",
    "## 🏛️ **Workshop Architecture Overview**\n",
    "\n",
    "```\n",
    "Phase 1: Environment Setup & Service Discovery\n",
    "    ├── Smart city simulation initialization\n",
    "    ├── Service API exploration and understanding\n",
    "    └── Crisis scenario creation with dynamic resource discovery\n",
    "\n",
    "Phase 2: Naive LLM Chain Approach Analysis\n",
    "    ├── Single LLM approach implementation\n",
    "    ├── Performance measurement and limitation identification\n",
    "    └── Educational analysis of why sophisticated prompting isn't enough\n",
    "\n",
    "Phase 3: Service-by-Service Investigation & Tool Development\n",
    "    ├── 3A: Grid Service (Rules → Tools → Agent)\n",
    "    ├── 3B: Emergency Service (Rules → Tools → Agent)\n",
    "    └── 3C: Traffic Service (Rules → Tools → Agent)\n",
    "\n",
    "Phase 4: Full System Comparison & Multi-Agent Orchestration\n",
    "    ├── 4A: Complete Rule-Based System Integration\n",
    "    └── 4B: Complete Agent System (Manager + Specialists)\n",
    "\n",
    "Phase 5: Adaptability Challenge & Scenario Testing\n",
    "    ├── New scenario introduction (medical emergency)\n",
    "    └── Adaptability assessment and comparison\n",
    "\n",
    "Phase 6: Model Context Protocol (MCP) Integration\n",
    "    ├── Dynamic tool discovery simulation\n",
    "    ├── Runtime capability enhancement\n",
    "    └── Production-ready extensibility patterns\n",
    "\n",
    "Phase 7: Workshop Summary & Production Insights\n",
    "    ├── Performance comparison across all approaches\n",
    "    ├── Production deployment considerations\n",
    "    └── Future directions and advanced techniques\n",
    "```\n",
    "\n",
    "## 🔑 **Key Educational Principles**\n",
    "\n",
    "- **🔍 Incremental Complexity**: Build understanding step-by-step from simple to complex\n",
    "- **⚖️ Comparative Analysis**: Rules vs Agents at each step with quantitative measures\n",
    "- **📊 Evidence-Based Learning**: Measure what you build with objective metrics\n",
    "- **🧪 Hypothesis-Driven Development**: Predict outcomes, then verify with experiments\n",
    "- **🚀 Production-Ready Patterns**: Real-world integration and deployment strategies\n",
    "\n",
    "---"
   ]
  },
  {
   "cell_type": "code",
   "execution_count": 1,
   "id": "4a4d02da",
   "metadata": {},
   "outputs": [
    {
     "name": "stderr",
     "output_type": "stream",
     "text": [
      "INFO:httpx:HTTP Request: GET https://raw.githubusercontent.com/BerriAI/litellm/main/model_prices_and_context_window.json \"HTTP/1.1 200 OK\"\n"
     ]
    }
   ],
   "source": [
    "# All imports moved to top of file\n",
    "import json\n",
    "import requests\n",
    "import logging\n",
    "from typing import Dict, List, Any, Type\n",
    "from rich.console import Console\n",
    "from rich.panel import Panel\n",
    "from dotenv import load_dotenv\n",
    "\n",
    "# Import existing workshop components\n",
    "from workshop.command import Command, ServiceType, CommandExecutor\n",
    "from workshop.command_evaluator import evaluate_scenario_commands\n",
    "from workshop.agent_system import ScenarioType\n",
    "from workshop.state_models import (\n",
    "    ScenarioDefinition, ServiceState, ZoneState, IncidentState, \n",
    "    DroneState, TrafficState, SuccessCriteria\n",
    ")\n",
    "from workshop.agent_converter import convert_and_evaluate_agent_commands\n",
    "\n",
    "# CrewAI imports - Core framework for building multi-agent systems\n",
    "from crewai import Agent, Task, Crew, Process\n",
    "from crewai.tools import BaseTool\n",
    "from pydantic import BaseModel, Field\n",
    "\n",
    "# Import state management utilities\n",
    "from workshop.state_management import (\n",
    "    reset_all_service_states,\n",
    "    activate_scenario,\n",
    "    verify_scenario_state,\n",
    "    get_actual_service_ids,\n",
    "    get_system_status,\n",
    "    SERVICE_URLS\n",
    ")\n",
    "\n",
    "# Import service management utilities\n",
    "from workshop.service_management import (\n",
    "    check_environment,\n",
    "    start_services,\n",
    "    save_experiment_results\n",
    ")\n",
    "from workshop.suppression import *\n",
    "# Load environment variables and setup console\n",
    "load_dotenv()\n",
    "console = Console()\n",
    "\n",
    "# Workshop results tracking - demonstrates quantitative evaluation patterns\n",
    "# Key principle: measure agent vs rule-based performance objectively\n",
    "workshop_results = {\n",
    "    \"llm_chain\": {\"success_rate\": 0, \"commands\": []},\n",
    "    \"rule_based\": {\"success_rate\": 0, \"commands\": []},\n",
    "    \"agent_system\": {\"success_rate\": 0, \"commands\": []},\n",
    "    \"service_investigation\": {},\n",
    "    \"adaptability_test\": {}\n",
    "}\n",
    "\n",
    "RESULTS_FILE = \"workshop_experiment_results.json\""
   ]
  },
  {
   "cell_type": "code",
   "execution_count": 2,
   "id": "1ac27bda",
   "metadata": {},
   "outputs": [
    {
     "name": "stderr",
     "output_type": "stream",
     "text": [
      "INFO:gql.transport.requests:>>> {\"query\": \"query DefaultEntity {\\n  viewer {\\n    username\\n    defaultEntity {\\n      name\\n    }\\n  }\\n}\"}\n",
      "INFO:gql.transport.requests:<<< {\"data\":{\"viewer\":{\"username\":\"a-sh0ts\",\"defaultEntity\":{\"name\":\"a-sh0ts\"}}}}\n",
      "INFO:gql.transport.requests:>>> {\"query\": \"query DefaultEntity {\\n  viewer {\\n    username\\n    defaultEntity {\\n      name\\n    }\\n  }\\n}\"}\n",
      "INFO:gql.transport.requests:<<< {\"data\":{\"viewer\":{\"username\":\"a-sh0ts\",\"defaultEntity\":{\"name\":\"a-sh0ts\"}}}}\n",
      "\u001b[36m\u001b[1mweave\u001b[0m: Logged in as Weights & Biases user: a-sh0ts.\n",
      "\u001b[36m\u001b[1mweave\u001b[0m: View Weave data at https://wandb.ai/a-sh0ts/fc-workshop-track-2/weave\n",
      "INFO:weave.trace.init_message:Logged in as Weights & Biases user: a-sh0ts.\n",
      "View Weave data at https://wandb.ai/a-sh0ts/fc-workshop-track-2/weave\n"
     ]
    },
    {
     "data": {
      "text/plain": [
       "<weave.trace.weave_client.WeaveClient at 0x134c945d0>"
      ]
     },
     "execution_count": 2,
     "metadata": {},
     "output_type": "execute_result"
    }
   ],
   "source": [
    "import weave\n",
    "weave.init(\"fc-workshop-track-2-morning\")"
   ]
  },
  {
   "cell_type": "markdown",
   "id": "f595fbcb",
   "metadata": {},
   "source": [
    "## 🔧 **PHASE 1: Environment Setup & Service Discovery**\n",
    "\n",
    "**🎓 Educational Goal**: Establish working environment and understand service \n",
    "dependencies for multi-agent coordination\n",
    "\n",
    "**👨‍💻 INTERACTIVE COMPONENT**: Explore real service APIs and understand how \n",
    "agents will interact with live systems!\n",
    "\n",
    "In this phase, we'll:\n",
    "1. Set up the SENTINEL GRID smart city simulation\n",
    "2. Explore and understand service architecture and capabilities\n",
    "3. Define our crisis scenario with dynamic resource discovery\n",
    "4. Prepare for systematic comparison of different approaches\n",
    "\n",
    "**🔑 Key Learning**: Agent systems require reliable service infrastructure and \n",
    "well-defined scenarios for meaningful evaluation. Unlike rule-based systems, \n",
    "agents must discover and adapt to available resources dynamically.\n",
    "\n",
    "**💡 Why This Matters**: In production, agents often work with services that \n",
    "have varying availability, different capabilities, and changing resource \n",
    "constraints. This phase teaches you to build systems that discover and adapt \n",
    "to real-world service conditions."
   ]
  },
  {
   "cell_type": "code",
   "execution_count": 3,
   "id": "5b2cf8c1",
   "metadata": {},
   "outputs": [
    {
     "data": {
      "text/html": [
       "<pre style=\"white-space:pre;overflow-x:auto;line-height:normal;font-family:Menlo,'DejaVu Sans Mono',consolas,'Courier New',monospace\"><span style=\"color: #000080; text-decoration-color: #000080\">╭─────────────────────────────────────────── Phase 1: Foundation Setup ───────────────────────────────────────────╮</span>\n",
       "<span style=\"color: #000080; text-decoration-color: #000080\">│</span> 🔧 **PHASE 1: Environment Setup &amp; Service Discovery**                                                           <span style=\"color: #000080; text-decoration-color: #000080\">│</span>\n",
       "<span style=\"color: #000080; text-decoration-color: #000080\">│</span>                                                                                                                 <span style=\"color: #000080; text-decoration-color: #000080\">│</span>\n",
       "<span style=\"color: #000080; text-decoration-color: #000080\">│</span> 🎯 **Learning Focus**: Understanding service dependencies and dynamic resource discovery                        <span style=\"color: #000080; text-decoration-color: #000080\">│</span>\n",
       "<span style=\"color: #000080; text-decoration-color: #000080\">│</span> 📚 **Key Concepts**: Infrastructure validation, service interaction patterns, scenario-driven development       <span style=\"color: #000080; text-decoration-color: #000080\">│</span>\n",
       "<span style=\"color: #000080; text-decoration-color: #000080\">│</span> 🛠️ **Hands-On**: Explore live service APIs and resource discovery                                                <span style=\"color: #000080; text-decoration-color: #000080\">│</span>\n",
       "<span style=\"color: #000080; text-decoration-color: #000080\">╰─────────────────────────────────────────────────────────────────────────────────────────────────────────────────╯</span>\n",
       "</pre>\n"
      ],
      "text/plain": [
       "\u001b[34m╭─\u001b[0m\u001b[34m──────────────────────────────────────────\u001b[0m\u001b[34m Phase 1: Foundation Setup \u001b[0m\u001b[34m──────────────────────────────────────────\u001b[0m\u001b[34m─╮\u001b[0m\n",
       "\u001b[34m│\u001b[0m 🔧 **PHASE 1: Environment Setup & Service Discovery**                                                           \u001b[34m│\u001b[0m\n",
       "\u001b[34m│\u001b[0m                                                                                                                 \u001b[34m│\u001b[0m\n",
       "\u001b[34m│\u001b[0m 🎯 **Learning Focus**: Understanding service dependencies and dynamic resource discovery                        \u001b[34m│\u001b[0m\n",
       "\u001b[34m│\u001b[0m 📚 **Key Concepts**: Infrastructure validation, service interaction patterns, scenario-driven development       \u001b[34m│\u001b[0m\n",
       "\u001b[34m│\u001b[0m 🛠️ **Hands-On**: Explore live service APIs and resource discovery                                                \u001b[34m│\u001b[0m\n",
       "\u001b[34m╰─────────────────────────────────────────────────────────────────────────────────────────────────────────────────╯\u001b[0m\n"
      ]
     },
     "metadata": {},
     "output_type": "display_data"
    }
   ],
   "source": [
    "# 🎓 EDUCATIONAL NOTE: Infrastructure Setup for Multi-Agent Systems\n",
    "# \n",
    "# This section demonstrates production-ready patterns for agent infrastructure:\n",
    "# 1. Environment validation before deployment\n",
    "# 2. Service dependency checking and startup\n",
    "# 3. Dynamic resource discovery (not hardcoded assumptions)\n",
    "# 4. Graceful degradation when services are unavailable\n",
    "#\n",
    "# These patterns are essential for deploying agent systems in real environments\n",
    "# where services may be distributed, have varying uptime, or change capabilities.\n",
    "\n",
    "console.print(Panel(\n",
    "    \"🔧 **PHASE 1: Environment Setup & Service Discovery**\\n\\n\"\n",
    "    \"🎯 **Learning Focus**: Understanding service dependencies and dynamic \"\n",
    "    \"resource discovery\\n\"\n",
    "    \"📚 **Key Concepts**: Infrastructure validation, service interaction patterns, \"\n",
    "    \"scenario-driven development\\n\"\n",
    "    \"🛠️ **Hands-On**: Explore live service APIs and resource discovery\",\n",
    "    title=\"Phase 1: Foundation Setup\",\n",
    "    border_style=\"blue\"\n",
    "))"
   ]
  },
  {
   "cell_type": "code",
   "execution_count": 4,
   "id": "ffc4ecd8",
   "metadata": {
    "lines_to_next_cell": 1
   },
   "outputs": [
    {
     "data": {
      "text/html": [
       "<pre style=\"white-space:pre;overflow-x:auto;line-height:normal;font-family:Menlo,'DejaVu Sans Mono',consolas,'Courier New',monospace\">🔍 Checking environment setup<span style=\"color: #808000; text-decoration-color: #808000\">...</span>\n",
       "</pre>\n"
      ],
      "text/plain": [
       "🔍 Checking environment setup\u001b[33m...\u001b[0m\n"
      ]
     },
     "metadata": {},
     "output_type": "display_data"
    },
    {
     "data": {
      "text/html": [
       "<pre style=\"white-space:pre;overflow-x:auto;line-height:normal;font-family:Menlo,'DejaVu Sans Mono',consolas,'Courier New',monospace\">✅ All packages installed\n",
       "</pre>\n"
      ],
      "text/plain": [
       "✅ All packages installed\n"
      ]
     },
     "metadata": {},
     "output_type": "display_data"
    },
    {
     "data": {
      "text/html": [
       "<pre style=\"white-space:pre;overflow-x:auto;line-height:normal;font-family:Menlo,'DejaVu Sans Mono',consolas,'Courier New',monospace\">✅ Environment setup complete!\n",
       "</pre>\n"
      ],
      "text/plain": [
       "✅ Environment setup complete!\n"
      ]
     },
     "metadata": {},
     "output_type": "display_data"
    },
    {
     "data": {
      "text/html": [
       "<pre style=\"white-space:pre;overflow-x:auto;line-height:normal;font-family:Menlo,'DejaVu Sans Mono',consolas,'Courier New',monospace\">✅ Environment validation successful - all dependencies available\n",
       "</pre>\n"
      ],
      "text/plain": [
       "✅ Environment validation successful - all dependencies available\n"
      ]
     },
     "metadata": {},
     "output_type": "display_data"
    },
    {
     "data": {
      "text/html": [
       "<pre style=\"white-space:pre;overflow-x:auto;line-height:normal;font-family:Menlo,'DejaVu Sans Mono',consolas,'Courier New',monospace\">🚀 Starting SENTINEL GRID Services<span style=\"color: #808000; text-decoration-color: #808000\">...</span>\n",
       "</pre>\n"
      ],
      "text/plain": [
       "🚀 Starting SENTINEL GRID Services\u001b[33m...\u001b[0m\n"
      ]
     },
     "metadata": {},
     "output_type": "display_data"
    },
    {
     "data": {
      "text/html": [
       "<pre style=\"white-space:pre;overflow-x:auto;line-height:normal;font-family:Menlo,'DejaVu Sans Mono',consolas,'Courier New',monospace\">✅ GRID started on port <span style=\"color: #008080; text-decoration-color: #008080; font-weight: bold\">8002</span>\n",
       "</pre>\n"
      ],
      "text/plain": [
       "✅ GRID started on port \u001b[1;36m8002\u001b[0m\n"
      ]
     },
     "metadata": {},
     "output_type": "display_data"
    },
    {
     "data": {
      "text/html": [
       "<pre style=\"white-space:pre;overflow-x:auto;line-height:normal;font-family:Menlo,'DejaVu Sans Mono',consolas,'Courier New',monospace\">✅ EMERGENCY started on port <span style=\"color: #008080; text-decoration-color: #008080; font-weight: bold\">8003</span>\n",
       "</pre>\n"
      ],
      "text/plain": [
       "✅ EMERGENCY started on port \u001b[1;36m8003\u001b[0m\n"
      ]
     },
     "metadata": {},
     "output_type": "display_data"
    },
    {
     "data": {
      "text/html": [
       "<pre style=\"white-space:pre;overflow-x:auto;line-height:normal;font-family:Menlo,'DejaVu Sans Mono',consolas,'Courier New',monospace\">✅ TRAFFIC started on port <span style=\"color: #008080; text-decoration-color: #008080; font-weight: bold\">8004</span>\n",
       "</pre>\n"
      ],
      "text/plain": [
       "✅ TRAFFIC started on port \u001b[1;36m8004\u001b[0m\n"
      ]
     },
     "metadata": {},
     "output_type": "display_data"
    },
    {
     "data": {
      "text/html": [
       "<pre style=\"white-space:pre;overflow-x:auto;line-height:normal;font-family:Menlo,'DejaVu Sans Mono',consolas,'Courier New',monospace\">✅ SCENARIO started on port <span style=\"color: #008080; text-decoration-color: #008080; font-weight: bold\">8005</span>\n",
       "</pre>\n"
      ],
      "text/plain": [
       "✅ SCENARIO started on port \u001b[1;36m8005\u001b[0m\n"
      ]
     },
     "metadata": {},
     "output_type": "display_data"
    },
    {
     "data": {
      "text/html": [
       "<pre style=\"white-space:pre;overflow-x:auto;line-height:normal;font-family:Menlo,'DejaVu Sans Mono',consolas,'Courier New',monospace\">✅ GRID healthy\n",
       "</pre>\n"
      ],
      "text/plain": [
       "✅ GRID healthy\n"
      ]
     },
     "metadata": {},
     "output_type": "display_data"
    },
    {
     "data": {
      "text/html": [
       "<pre style=\"white-space:pre;overflow-x:auto;line-height:normal;font-family:Menlo,'DejaVu Sans Mono',consolas,'Courier New',monospace\">✅ EMERGENCY healthy\n",
       "</pre>\n"
      ],
      "text/plain": [
       "✅ EMERGENCY healthy\n"
      ]
     },
     "metadata": {},
     "output_type": "display_data"
    },
    {
     "data": {
      "text/html": [
       "<pre style=\"white-space:pre;overflow-x:auto;line-height:normal;font-family:Menlo,'DejaVu Sans Mono',consolas,'Courier New',monospace\">✅ TRAFFIC healthy\n",
       "</pre>\n"
      ],
      "text/plain": [
       "✅ TRAFFIC healthy\n"
      ]
     },
     "metadata": {},
     "output_type": "display_data"
    },
    {
     "data": {
      "text/html": [
       "<pre style=\"white-space:pre;overflow-x:auto;line-height:normal;font-family:Menlo,'DejaVu Sans Mono',consolas,'Courier New',monospace\">✅ SCENARIO healthy\n",
       "</pre>\n"
      ],
      "text/plain": [
       "✅ SCENARIO healthy\n"
      ]
     },
     "metadata": {},
     "output_type": "display_data"
    },
    {
     "data": {
      "text/html": [
       "<pre style=\"white-space:pre;overflow-x:auto;line-height:normal;font-family:Menlo,'DejaVu Sans Mono',consolas,'Courier New',monospace\">🔗 Service Status: ✅ All Services Running\n",
       "</pre>\n"
      ],
      "text/plain": [
       "🔗 Service Status: ✅ All Services Running\n"
      ]
     },
     "metadata": {},
     "output_type": "display_data"
    },
    {
     "data": {
      "text/html": [
       "<pre style=\"white-space:pre;overflow-x:auto;line-height:normal;font-family:Menlo,'DejaVu Sans Mono',consolas,'Courier New',monospace\">\n",
       "🔄 Initializing clean workshop environment<span style=\"color: #808000; text-decoration-color: #808000\">...</span>\n",
       "</pre>\n"
      ],
      "text/plain": [
       "\n",
       "🔄 Initializing clean workshop environment\u001b[33m...\u001b[0m\n"
      ]
     },
     "metadata": {},
     "output_type": "display_data"
    },
    {
     "data": {
      "text/html": [
       "<pre style=\"white-space:pre;overflow-x:auto;line-height:normal;font-family:Menlo,'DejaVu Sans Mono',consolas,'Courier New',monospace\">📋 This ensures all agents start with the same baseline conditions\n",
       "</pre>\n"
      ],
      "text/plain": [
       "📋 This ensures all agents start with the same baseline conditions\n"
      ]
     },
     "metadata": {},
     "output_type": "display_data"
    },
    {
     "data": {
      "text/html": [
       "<pre style=\"white-space:pre;overflow-x:auto;line-height:normal;font-family:Menlo,'DejaVu Sans Mono',consolas,'Courier New',monospace\">🔄 Resetting all service states<span style=\"color: #808000; text-decoration-color: #808000\">...</span>\n",
       "</pre>\n"
      ],
      "text/plain": [
       "🔄 Resetting all service states\u001b[33m...\u001b[0m\n"
      ]
     },
     "metadata": {},
     "output_type": "display_data"
    },
    {
     "data": {
      "text/html": [
       "<pre style=\"white-space:pre;overflow-x:auto;line-height:normal;font-family:Menlo,'DejaVu Sans Mono',consolas,'Courier New',monospace\">  ✅ GRID state reset\n",
       "</pre>\n"
      ],
      "text/plain": [
       "  ✅ GRID state reset\n"
      ]
     },
     "metadata": {},
     "output_type": "display_data"
    },
    {
     "data": {
      "text/html": [
       "<pre style=\"white-space:pre;overflow-x:auto;line-height:normal;font-family:Menlo,'DejaVu Sans Mono',consolas,'Courier New',monospace\">  ✅ EMERGENCY state reset\n",
       "</pre>\n"
      ],
      "text/plain": [
       "  ✅ EMERGENCY state reset\n"
      ]
     },
     "metadata": {},
     "output_type": "display_data"
    },
    {
     "data": {
      "text/html": [
       "<pre style=\"white-space:pre;overflow-x:auto;line-height:normal;font-family:Menlo,'DejaVu Sans Mono',consolas,'Courier New',monospace\">  ✅ TRAFFIC state reset\n",
       "</pre>\n"
      ],
      "text/plain": [
       "  ✅ TRAFFIC state reset\n"
      ]
     },
     "metadata": {},
     "output_type": "display_data"
    },
    {
     "data": {
      "text/html": [
       "<pre style=\"white-space:pre;overflow-x:auto;line-height:normal;font-family:Menlo,'DejaVu Sans Mono',consolas,'Courier New',monospace\">  ✅ SCENARIO state reset\n",
       "</pre>\n"
      ],
      "text/plain": [
       "  ✅ SCENARIO state reset\n"
      ]
     },
     "metadata": {},
     "output_type": "display_data"
    },
    {
     "data": {
      "text/html": [
       "<pre style=\"white-space:pre;overflow-x:auto;line-height:normal;font-family:Menlo,'DejaVu Sans Mono',consolas,'Courier New',monospace\">✅ Workshop environment ready for multi-agent experiments\n",
       "</pre>\n"
      ],
      "text/plain": [
       "✅ Workshop environment ready for multi-agent experiments\n"
      ]
     },
     "metadata": {},
     "output_type": "display_data"
    },
    {
     "data": {
      "text/html": [
       "<pre style=\"white-space:pre;overflow-x:auto;line-height:normal;font-family:Menlo,'DejaVu Sans Mono',consolas,'Courier New',monospace\"><span style=\"color: #008000; text-decoration-color: #008000\">╭───────────────────────────────────────── Interactive Service Discovery ─────────────────────────────────────────╮</span>\n",
       "<span style=\"color: #008000; text-decoration-color: #008000\">│</span> 🛠️ **HANDS-ON EXERCISE: Service API Exploration**                                                                <span style=\"color: #008000; text-decoration-color: #008000\">│</span>\n",
       "<span style=\"color: #008000; text-decoration-color: #008000\">│</span>                                                                                                                 <span style=\"color: #008000; text-decoration-color: #008000\">│</span>\n",
       "<span style=\"color: #008000; text-decoration-color: #008000\">│</span> **👨‍💻 Your Turn to Explore!**                                                                                  <span style=\"color: #008000; text-decoration-color: #008000\">│</span>\n",
       "<span style=\"color: #008000; text-decoration-color: #008000\">│</span>                                                                                                                 <span style=\"color: #008000; text-decoration-color: #008000\">│</span>\n",
       "<span style=\"color: #008000; text-decoration-color: #008000\">│</span> Try these exploration activities:                                                                               <span style=\"color: #008000; text-decoration-color: #008000\">│</span>\n",
       "<span style=\"color: #008000; text-decoration-color: #008000\">│</span> 1. Look at the SERVICE_URLS in the imported utilities                                                           <span style=\"color: #008000; text-decoration-color: #008000\">│</span>\n",
       "<span style=\"color: #008000; text-decoration-color: #008000\">│</span> 2. Examine what check_environment() actually validates                                                          <span style=\"color: #008000; text-decoration-color: #008000\">│</span>\n",
       "<span style=\"color: #008000; text-decoration-color: #008000\">│</span> 3. Consider: What happens if one service is down?                                                               <span style=\"color: #008000; text-decoration-color: #008000\">│</span>\n",
       "<span style=\"color: #008000; text-decoration-color: #008000\">│</span> 4. Think: How do agents handle service failures?                                                                <span style=\"color: #008000; text-decoration-color: #008000\">│</span>\n",
       "<span style=\"color: #008000; text-decoration-color: #008000\">│</span>                                                                                                                 <span style=\"color: #008000; text-decoration-color: #008000\">│</span>\n",
       "<span style=\"color: #008000; text-decoration-color: #008000\">│</span> 💡 **Challenge**: What additional validation would you add for production deployment?                           <span style=\"color: #008000; text-decoration-color: #008000\">│</span>\n",
       "<span style=\"color: #008000; text-decoration-color: #008000\">╰─────────────────────────────────────────────────────────────────────────────────────────────────────────────────╯</span>\n",
       "</pre>\n"
      ],
      "text/plain": [
       "\u001b[32m╭─\u001b[0m\u001b[32m────────────────────────────────────────\u001b[0m\u001b[32m Interactive Service Discovery \u001b[0m\u001b[32m────────────────────────────────────────\u001b[0m\u001b[32m─╮\u001b[0m\n",
       "\u001b[32m│\u001b[0m 🛠️ **HANDS-ON EXERCISE: Service API Exploration**                                                                \u001b[32m│\u001b[0m\n",
       "\u001b[32m│\u001b[0m                                                                                                                 \u001b[32m│\u001b[0m\n",
       "\u001b[32m│\u001b[0m **👨‍💻 Your Turn to Explore!**                                                                                  \u001b[32m│\u001b[0m\n",
       "\u001b[32m│\u001b[0m                                                                                                                 \u001b[32m│\u001b[0m\n",
       "\u001b[32m│\u001b[0m Try these exploration activities:                                                                               \u001b[32m│\u001b[0m\n",
       "\u001b[32m│\u001b[0m 1. Look at the SERVICE_URLS in the imported utilities                                                           \u001b[32m│\u001b[0m\n",
       "\u001b[32m│\u001b[0m 2. Examine what check_environment() actually validates                                                          \u001b[32m│\u001b[0m\n",
       "\u001b[32m│\u001b[0m 3. Consider: What happens if one service is down?                                                               \u001b[32m│\u001b[0m\n",
       "\u001b[32m│\u001b[0m 4. Think: How do agents handle service failures?                                                                \u001b[32m│\u001b[0m\n",
       "\u001b[32m│\u001b[0m                                                                                                                 \u001b[32m│\u001b[0m\n",
       "\u001b[32m│\u001b[0m 💡 **Challenge**: What additional validation would you add for production deployment?                           \u001b[32m│\u001b[0m\n",
       "\u001b[32m╰─────────────────────────────────────────────────────────────────────────────────────────────────────────────────╯\u001b[0m\n"
      ]
     },
     "metadata": {},
     "output_type": "display_data"
    }
   ],
   "source": [
    "# Infrastructure setup for multi-agent systems testing\n",
    "# 🎓 PRINCIPLE: Agents need reliable service infrastructure for coordination\n",
    "environment_ok = check_environment()\n",
    "if environment_ok:\n",
    "    console.print(\"✅ Environment validation successful - all dependencies available\")\n",
    "    services_running = start_services()\n",
    "    status = '✅ All Services Running' if services_running else '❌ Some Services Failed'\n",
    "    console.print(f\"🔗 Service Status: {status}\")\n",
    "    \n",
    "    # Clean state initialization - ensures consistent agent testing environment\n",
    "    if services_running:\n",
    "        console.print(\"\\n🔄 Initializing clean workshop environment...\")\n",
    "        console.print(\"📋 This ensures all agents start with the same baseline conditions\")\n",
    "        reset_all_service_states()\n",
    "        console.print(\"✅ Workshop environment ready for multi-agent experiments\")\n",
    "else:\n",
    "    console.print(\"[red]⚠️ Please fix environment issues before continuing[/red]\")\n",
    "    console.print(\"[yellow]💡 Check that all required services are accessible[/yellow]\")\n",
    "\n",
    "# 🛠️ HANDS-ON EXERCISE: Service Discovery\n",
    "console.print(Panel(\n",
    "    \"🛠️ **HANDS-ON EXERCISE: Service API Exploration**\\n\\n\"\n",
    "    \"**👨‍💻 Your Turn to Explore!**\\n\\n\"\n",
    "    \"Try these exploration activities:\\n\"\n",
    "    \"1. Look at the SERVICE_URLS in the imported utilities\\n\"\n",
    "    \"2. Examine what check_environment() actually validates\\n\"\n",
    "    \"3. Consider: What happens if one service is down?\\n\"\n",
    "    \"4. Think: How do agents handle service failures?\\n\\n\"\n",
    "    \"💡 **Challenge**: What additional validation would you add for production deployment?\",\n",
    "    title=\"Interactive Service Discovery\",\n",
    "    border_style=\"green\"\n",
    "))"
   ]
  },
  {
   "cell_type": "code",
   "execution_count": 5,
   "id": "253babdb",
   "metadata": {
    "lines_to_next_cell": 1
   },
   "outputs": [],
   "source": [
    "@weave.op\n",
    "def create_heat_wave_scenario():\n",
    "    \"\"\"\n",
    "    🎓 EDUCATIONAL PURPOSE: Create crisis scenario with dynamic resource discovery.\n",
    "    \n",
    "    This function demonstrates several key production patterns:\n",
    "    \n",
    "    1. **Dynamic Resource Discovery**: Instead of hardcoded resource IDs, \n",
    "       we query services to find available resources at runtime\n",
    "    2. **Realistic Constraints**: Using actual service limits and capacities\n",
    "    3. **Scenario-Driven Development**: Building complex situations that test \n",
    "       agent coordination and decision-making\n",
    "    4. **Adaptability Testing**: Creating scenarios that force agents to \n",
    "       work with real system constraints\n",
    "    \n",
    "    🔑 KEY INSIGHT: Production agents must work with dynamic, changing \n",
    "    resource landscapes - not static, predefined configurations.\n",
    "    \"\"\"\n",
    "    console.print(\"🔍 **EDUCATIONAL STEP**: Discovering available system resources...\")\n",
    "    console.print(\"📋 This demonstrates how agents work with real, dynamic resources\")\n",
    "    \n",
    "    actual_ids = get_actual_service_ids()\n",
    "    \n",
    "    # 🎓 EDUCATIONAL PATTERN: Dynamic resource binding\n",
    "    # Agents discover available resources at runtime rather than using hardcoded values\n",
    "    # This forces agents to work with actual system constraints\n",
    "    grid_zones = actual_ids.get('grid_zones', [\"zone_a\", \"zone_b\", \"zone_c\"])\n",
    "    available_drones = actual_ids.get('drones', \n",
    "                                     [\"drone_1\", \"drone_2\", \"drone_3\", \"drone_4\"])\n",
    "    incident_ids = actual_ids.get('incidents', \n",
    "                                 [\"incident_1\", \"incident_2\", \"incident_3\", \n",
    "                                  \"incident_4\"])\n",
    "    traffic_sectors = actual_ids.get('traffic_sectors', [\"S001\", \"S002\", \"S003\"])\n",
    "    \n",
    "    console.print(f\"📊 **Resource Discovery Results:**\")\n",
    "    console.print(f\"   ⚡ Grid Zones Available: {grid_zones[:3]}\")\n",
    "    console.print(f\"   🚁 Emergency Drones: {available_drones[:4]}\")  \n",
    "    console.print(f\"   🚨 Incident Tracking IDs: {incident_ids[:4]}\")\n",
    "    console.print(f\"   🚦 Traffic Sectors: {traffic_sectors[:3]}\")\n",
    "    \n",
    "    console.print(\"\\n🎯 **SCENARIO CREATION**: Building complex crisis with realistic constraints...\")\n",
    "    \n",
    "    return ScenarioDefinition(\n",
    "        name=\"Heat Wave Crisis\",\n",
    "        description=\"An extreme heat wave is causing severe grid stress and \"\n",
    "                   \"emergency conditions across the city\",\n",
    "        initial_state=ServiceState(\n",
    "            zones={\n",
    "                grid_zones[0]: ZoneState(\n",
    "                    id=grid_zones[0],\n",
    "                    name=\"Downtown\",\n",
    "                    capacity=1.0,\n",
    "                    current_load=0.98,\n",
    "                    stability=0.4,\n",
    "                    is_critical=True\n",
    "                ),\n",
    "                (grid_zones[1] if len(grid_zones) > 1 else \"zone_b\"): ZoneState(\n",
    "                    id=grid_zones[1] if len(grid_zones) > 1 else \"zone_b\",\n",
    "                    name=\"Residential District\",\n",
    "                    capacity=1.0,\n",
    "                    current_load=0.95,\n",
    "                    stability=0.5\n",
    "                ),\n",
    "                (grid_zones[2] if len(grid_zones) > 2 else \"zone_c\"): ZoneState(\n",
    "                    id=grid_zones[2] if len(grid_zones) > 2 else \"zone_c\",\n",
    "                    name=\"Industrial Zone\", \n",
    "                    capacity=1.0,\n",
    "                    current_load=0.92,\n",
    "                    stability=0.6\n",
    "                )\n",
    "            },\n",
    "            incidents=[\n",
    "                IncidentState(\n",
    "                    id=(incident_ids[0] if len(incident_ids) > 0 \n",
    "                        else \"incident_1\"),\n",
    "                    description=\"Major power outage affecting hospital\",\n",
    "                    location=grid_zones[0],\n",
    "                    urgency=0.99\n",
    "                ),\n",
    "                IncidentState(\n",
    "                    id=(incident_ids[1] if len(incident_ids) > 1 \n",
    "                        else \"incident_2\"),\n",
    "                    description=\"Multiple heat stroke victims in residential area\",\n",
    "                    location=(grid_zones[1] if len(grid_zones) > 1 \n",
    "                             else \"zone_b\"),\n",
    "                    urgency=0.95\n",
    "                ),\n",
    "                IncidentState(\n",
    "                    id=(incident_ids[2] if len(incident_ids) > 2 \n",
    "                        else \"incident_3\"),\n",
    "                    description=\"Electrical fire from overloaded grid\",\n",
    "                    location=grid_zones[0],\n",
    "                    urgency=0.9\n",
    "                ),\n",
    "                IncidentState(\n",
    "                    id=(incident_ids[3] if len(incident_ids) > 3 \n",
    "                        else \"incident_4\"),\n",
    "                    description=\"AC system failure in elderly care facility\",\n",
    "                    location=(grid_zones[1] if len(grid_zones) > 1 \n",
    "                             else \"zone_b\"),\n",
    "                    urgency=0.85\n",
    "                )\n",
    "            ],\n",
    "            drones=[\n",
    "                DroneState(\n",
    "                    id=(available_drones[0] if len(available_drones) > 0 \n",
    "                        else \"drone_1\"),\n",
    "                    name=\"Alpha\",\n",
    "                    capabilities=[\"medical\", \"surveillance\"],\n",
    "                    speed=1.5\n",
    "                ),\n",
    "                DroneState(\n",
    "                    id=(available_drones[1] if len(available_drones) > 1 \n",
    "                        else \"drone_2\"),\n",
    "                    name=\"Beta\", \n",
    "                    capabilities=[\"power\", \"surveillance\"],\n",
    "                    speed=1.2\n",
    "                ),\n",
    "                DroneState(\n",
    "                    id=(available_drones[2] if len(available_drones) > 2 \n",
    "                        else \"drone_3\"),\n",
    "                    name=\"Gamma\",\n",
    "                    capabilities=[\"firefighting\", \"surveillance\"],\n",
    "                    speed=1.0\n",
    "                ),\n",
    "                DroneState(\n",
    "                    id=(available_drones[3] if len(available_drones) > 3 \n",
    "                        else \"drone_4\"),\n",
    "                    name=\"Delta\",\n",
    "                    capabilities=[\"medical\", \"power\"],\n",
    "                    speed=1.3\n",
    "                )\n",
    "            ],\n",
    "            traffic={\n",
    "                traffic_sectors[0]: TrafficState(\n",
    "                    zone_id=traffic_sectors[0],\n",
    "                    congestion=0.9,\n",
    "                    blocked=False,\n",
    "                    description=\"Severe traffic congestion in downtown due to \"\n",
    "                               \"power outages affecting signals\"\n",
    "                ),\n",
    "                (traffic_sectors[1] if len(traffic_sectors) > 1 else \"S002\"): \n",
    "                    TrafficState(\n",
    "                        zone_id=(traffic_sectors[1] if len(traffic_sectors) > 1 \n",
    "                                else \"S002\"),\n",
    "                        congestion=0.7,\n",
    "                        blocked=False,\n",
    "                        description=\"Heavy traffic in residential area due to \"\n",
    "                                   \"evacuation attempts\"\n",
    "                    ),\n",
    "                (traffic_sectors[2] if len(traffic_sectors) > 2 else \"S003\"): \n",
    "                    TrafficState(\n",
    "                        zone_id=(traffic_sectors[2] if len(traffic_sectors) > 2 \n",
    "                                else \"S003\"),\n",
    "                        congestion=0.6,\n",
    "                        blocked=True,\n",
    "                        description=\"Road closed due to emergency response \"\n",
    "                                   \"activity\"\n",
    "                    )\n",
    "            }\n",
    "        ),\n",
    "        success_criteria=SuccessCriteria(\n",
    "            name=\"Heat Wave Resolution\",\n",
    "            description=\"Resolve extreme heat wave crisis\",\n",
    "            metrics={\n",
    "                \"grid_stability\": 0.8,\n",
    "                \"incident_response\": 0.9,\n",
    "                \"traffic_flow\": 0.7\n",
    "            },\n",
    "            thresholds={\n",
    "                \"max_temperature\": 46.0,\n",
    "                \"min_power\": 0.7,\n",
    "                \"max_response_time\": 300\n",
    "            }\n",
    "        ),\n",
    "        optimal_commands=[\n",
    "            {\n",
    "                \"service\": \"grid\",\n",
    "                \"action\": \"adjust_zone\", \n",
    "                \"parameters\": {\"zone_id\": grid_zones[0], \"capacity\": 0.8}\n",
    "            },\n",
    "            {\n",
    "                \"service\": \"grid\",\n",
    "                \"action\": \"set_priority\",\n",
    "                \"parameters\": {\n",
    "                    \"infrastructure_id\": \"hospital\",\n",
    "                    \"level\": \"critical\"\n",
    "                }\n",
    "            },\n",
    "            {\n",
    "                \"service\": \"emergency\",\n",
    "                \"action\": \"assign_drone\",\n",
    "                \"parameters\": {\n",
    "                    \"drone_id\": (available_drones[0] if len(available_drones) > 0 \n",
    "                                else \"drone_1\"),\n",
    "                    \"incident_id\": (incident_ids[0] if len(incident_ids) > 0 \n",
    "                                   else \"incident_1\")\n",
    "                }\n",
    "            },\n",
    "            {\n",
    "                \"service\": \"emergency\", \n",
    "                \"action\": \"assign_drone\",\n",
    "                \"parameters\": {\n",
    "                    \"drone_id\": (available_drones[1] if len(available_drones) > 1 \n",
    "                                else \"drone_2\"),\n",
    "                    \"incident_id\": (incident_ids[2] if len(incident_ids) > 2 \n",
    "                                   else \"incident_3\")\n",
    "                }\n",
    "            },\n",
    "            {\n",
    "                \"service\": \"traffic\",\n",
    "                \"action\": \"redirect\",\n",
    "                \"parameters\": {\n",
    "                    \"sector_id\": traffic_sectors[0],\n",
    "                    \"target_reduction\": 0.6\n",
    "                }\n",
    "            }\n",
    "        ],\n",
    "        command_weights={\n",
    "            \"grid\": 0.45,\n",
    "            \"emergency\": 0.45, \n",
    "            \"traffic\": 0.1\n",
    "        }\n",
    "    )"
   ]
  },
  {
   "cell_type": "code",
   "execution_count": 6,
   "id": "7da985ac",
   "metadata": {},
   "outputs": [
    {
     "data": {
      "text/html": [
       "<pre style=\"white-space:pre;overflow-x:auto;line-height:normal;font-family:Menlo,'DejaVu Sans Mono',consolas,'Courier New',monospace\">\n",
       "🎓 **CREATING DYNAMIC CRISIS SCENARIO**\n",
       "</pre>\n"
      ],
      "text/plain": [
       "\n",
       "🎓 **CREATING DYNAMIC CRISIS SCENARIO**\n"
      ]
     },
     "metadata": {},
     "output_type": "display_data"
    },
    {
     "data": {
      "text/html": [
       "<pre style=\"white-space:pre;overflow-x:auto;line-height:normal;font-family:Menlo,'DejaVu Sans Mono',consolas,'Courier New',monospace\">📚 **Learning Focus**: How agents work with real, changing resource constraints\n",
       "</pre>\n"
      ],
      "text/plain": [
       "📚 **Learning Focus**: How agents work with real, changing resource constraints\n"
      ]
     },
     "metadata": {},
     "output_type": "display_data"
    },
    {
     "data": {
      "text/html": [
       "<pre style=\"white-space:pre;overflow-x:auto;line-height:normal;font-family:Menlo,'DejaVu Sans Mono',consolas,'Courier New',monospace\">🔍 **EDUCATIONAL STEP**: Discovering available system resources<span style=\"color: #808000; text-decoration-color: #808000\">...</span>\n",
       "</pre>\n"
      ],
      "text/plain": [
       "🔍 **EDUCATIONAL STEP**: Discovering available system resources\u001b[33m...\u001b[0m\n"
      ]
     },
     "metadata": {},
     "output_type": "display_data"
    },
    {
     "data": {
      "text/html": [
       "<pre style=\"white-space:pre;overflow-x:auto;line-height:normal;font-family:Menlo,'DejaVu Sans Mono',consolas,'Courier New',monospace\">📋 This demonstrates how agents work with real, dynamic resources\n",
       "</pre>\n"
      ],
      "text/plain": [
       "📋 This demonstrates how agents work with real, dynamic resources\n"
      ]
     },
     "metadata": {},
     "output_type": "display_data"
    },
    {
     "data": {
      "text/html": [
       "<pre style=\"white-space:pre;overflow-x:auto;line-height:normal;font-family:Menlo,'DejaVu Sans Mono',consolas,'Courier New',monospace\">📊 **Resource Discovery Results:**\n",
       "</pre>\n"
      ],
      "text/plain": [
       "📊 **Resource Discovery Results:**\n"
      ]
     },
     "metadata": {},
     "output_type": "display_data"
    },
    {
     "data": {
      "text/html": [
       "<pre style=\"white-space:pre;overflow-x:auto;line-height:normal;font-family:Menlo,'DejaVu Sans Mono',consolas,'Courier New',monospace\">   ⚡ Grid Zones Available: <span style=\"font-weight: bold\">[</span><span style=\"color: #008000; text-decoration-color: #008000\">'Z001'</span>, <span style=\"color: #008000; text-decoration-color: #008000\">'Z002'</span>, <span style=\"color: #008000; text-decoration-color: #008000\">'Z003'</span><span style=\"font-weight: bold\">]</span>\n",
       "</pre>\n"
      ],
      "text/plain": [
       "   ⚡ Grid Zones Available: \u001b[1m[\u001b[0m\u001b[32m'Z001'\u001b[0m, \u001b[32m'Z002'\u001b[0m, \u001b[32m'Z003'\u001b[0m\u001b[1m]\u001b[0m\n"
      ]
     },
     "metadata": {},
     "output_type": "display_data"
    },
    {
     "data": {
      "text/html": [
       "<pre style=\"white-space:pre;overflow-x:auto;line-height:normal;font-family:Menlo,'DejaVu Sans Mono',consolas,'Courier New',monospace\">   🚁 Emergency Drones: <span style=\"font-weight: bold\">[</span><span style=\"color: #008000; text-decoration-color: #008000\">'D001'</span>, <span style=\"color: #008000; text-decoration-color: #008000\">'D002'</span>, <span style=\"color: #008000; text-decoration-color: #008000\">'D003'</span>, <span style=\"color: #008000; text-decoration-color: #008000\">'D004'</span><span style=\"font-weight: bold\">]</span>\n",
       "</pre>\n"
      ],
      "text/plain": [
       "   🚁 Emergency Drones: \u001b[1m[\u001b[0m\u001b[32m'D001'\u001b[0m, \u001b[32m'D002'\u001b[0m, \u001b[32m'D003'\u001b[0m, \u001b[32m'D004'\u001b[0m\u001b[1m]\u001b[0m\n"
      ]
     },
     "metadata": {},
     "output_type": "display_data"
    },
    {
     "data": {
      "text/html": [
       "<pre style=\"white-space:pre;overflow-x:auto;line-height:normal;font-family:Menlo,'DejaVu Sans Mono',consolas,'Courier New',monospace\">   🚨 Incident Tracking IDs: <span style=\"font-weight: bold\">[</span><span style=\"color: #008000; text-decoration-color: #008000\">'E-1001'</span>, <span style=\"color: #008000; text-decoration-color: #008000\">'E-1002'</span>, <span style=\"color: #008000; text-decoration-color: #008000\">'E-1003'</span>, <span style=\"color: #008000; text-decoration-color: #008000\">'E-1004'</span><span style=\"font-weight: bold\">]</span>\n",
       "</pre>\n"
      ],
      "text/plain": [
       "   🚨 Incident Tracking IDs: \u001b[1m[\u001b[0m\u001b[32m'E-1001'\u001b[0m, \u001b[32m'E-1002'\u001b[0m, \u001b[32m'E-1003'\u001b[0m, \u001b[32m'E-1004'\u001b[0m\u001b[1m]\u001b[0m\n"
      ]
     },
     "metadata": {},
     "output_type": "display_data"
    },
    {
     "data": {
      "text/html": [
       "<pre style=\"white-space:pre;overflow-x:auto;line-height:normal;font-family:Menlo,'DejaVu Sans Mono',consolas,'Courier New',monospace\">   🚦 Traffic Sectors: <span style=\"font-weight: bold\">[</span><span style=\"color: #008000; text-decoration-color: #008000\">'S001'</span>, <span style=\"color: #008000; text-decoration-color: #008000\">'S002'</span>, <span style=\"color: #008000; text-decoration-color: #008000\">'S003'</span><span style=\"font-weight: bold\">]</span>\n",
       "</pre>\n"
      ],
      "text/plain": [
       "   🚦 Traffic Sectors: \u001b[1m[\u001b[0m\u001b[32m'S001'\u001b[0m, \u001b[32m'S002'\u001b[0m, \u001b[32m'S003'\u001b[0m\u001b[1m]\u001b[0m\n"
      ]
     },
     "metadata": {},
     "output_type": "display_data"
    },
    {
     "data": {
      "text/html": [
       "<pre style=\"white-space:pre;overflow-x:auto;line-height:normal;font-family:Menlo,'DejaVu Sans Mono',consolas,'Courier New',monospace\">\n",
       "🎯 **SCENARIO CREATION**: Building complex crisis with realistic constraints<span style=\"color: #808000; text-decoration-color: #808000\">...</span>\n",
       "</pre>\n"
      ],
      "text/plain": [
       "\n",
       "🎯 **SCENARIO CREATION**: Building complex crisis with realistic constraints\u001b[33m...\u001b[0m\n"
      ]
     },
     "metadata": {},
     "output_type": "display_data"
    },
    {
     "data": {
      "text/html": [
       "<pre style=\"white-space:pre;overflow-x:auto;line-height:normal;font-family:Menlo,'DejaVu Sans Mono',consolas,'Courier New',monospace\"><span style=\"color: #800000; text-decoration-color: #800000\">╭─────────────────────────────────────── Crisis Briefing: Heat Wave Crisis ───────────────────────────────────────╮</span>\n",
       "<span style=\"color: #800000; text-decoration-color: #800000\">│</span> 📋 **CRISIS SCENARIO BRIEFING**                                                                                 <span style=\"color: #800000; text-decoration-color: #800000\">│</span>\n",
       "<span style=\"color: #800000; text-decoration-color: #800000\">│</span>                                                                                                                 <span style=\"color: #800000; text-decoration-color: #800000\">│</span>\n",
       "<span style=\"color: #800000; text-decoration-color: #800000\">│</span> **Scenario**: Heat Wave Crisis                                                                                  <span style=\"color: #800000; text-decoration-color: #800000\">│</span>\n",
       "<span style=\"color: #800000; text-decoration-color: #800000\">│</span> **Challenge**: An extreme heat wave is causing severe grid stress and emergency conditions across the city      <span style=\"color: #800000; text-decoration-color: #800000\">│</span>\n",
       "<span style=\"color: #800000; text-decoration-color: #800000\">│</span>                                                                                                                 <span style=\"color: #800000; text-decoration-color: #800000\">│</span>\n",
       "<span style=\"color: #800000; text-decoration-color: #800000\">│</span> **🎯 Educational Value**: This scenario tests agent coordination across:                                        <span style=\"color: #800000; text-decoration-color: #800000\">│</span>\n",
       "<span style=\"color: #800000; text-decoration-color: #800000\">│</span> • Grid stability management under extreme load                                                                  <span style=\"color: #800000; text-decoration-color: #800000\">│</span>\n",
       "<span style=\"color: #800000; text-decoration-color: #800000\">│</span> • Emergency response with limited drone resources                                                               <span style=\"color: #800000; text-decoration-color: #800000\">│</span>\n",
       "<span style=\"color: #800000; text-decoration-color: #800000\">│</span> • Traffic coordination during crisis conditions                                                                 <span style=\"color: #800000; text-decoration-color: #800000\">│</span>\n",
       "<span style=\"color: #800000; text-decoration-color: #800000\">│</span>                                                                                                                 <span style=\"color: #800000; text-decoration-color: #800000\">│</span>\n",
       "<span style=\"color: #800000; text-decoration-color: #800000\">│</span> **💡 Key Learning**: Agents must balance competing priorities and                                               <span style=\"color: #800000; text-decoration-color: #800000\">│</span>\n",
       "<span style=\"color: #800000; text-decoration-color: #800000\">│</span> resource constraints - just like real-world crisis management!                                                  <span style=\"color: #800000; text-decoration-color: #800000\">│</span>\n",
       "<span style=\"color: #800000; text-decoration-color: #800000\">╰─────────────────────────────────────────────────────────────────────────────────────────────────────────────────╯</span>\n",
       "</pre>\n"
      ],
      "text/plain": [
       "\u001b[31m╭─\u001b[0m\u001b[31m──────────────────────────────────────\u001b[0m\u001b[31m Crisis Briefing: Heat Wave Crisis \u001b[0m\u001b[31m──────────────────────────────────────\u001b[0m\u001b[31m─╮\u001b[0m\n",
       "\u001b[31m│\u001b[0m 📋 **CRISIS SCENARIO BRIEFING**                                                                                 \u001b[31m│\u001b[0m\n",
       "\u001b[31m│\u001b[0m                                                                                                                 \u001b[31m│\u001b[0m\n",
       "\u001b[31m│\u001b[0m **Scenario**: Heat Wave Crisis                                                                                  \u001b[31m│\u001b[0m\n",
       "\u001b[31m│\u001b[0m **Challenge**: An extreme heat wave is causing severe grid stress and emergency conditions across the city      \u001b[31m│\u001b[0m\n",
       "\u001b[31m│\u001b[0m                                                                                                                 \u001b[31m│\u001b[0m\n",
       "\u001b[31m│\u001b[0m **🎯 Educational Value**: This scenario tests agent coordination across:                                        \u001b[31m│\u001b[0m\n",
       "\u001b[31m│\u001b[0m • Grid stability management under extreme load                                                                  \u001b[31m│\u001b[0m\n",
       "\u001b[31m│\u001b[0m • Emergency response with limited drone resources                                                               \u001b[31m│\u001b[0m\n",
       "\u001b[31m│\u001b[0m • Traffic coordination during crisis conditions                                                                 \u001b[31m│\u001b[0m\n",
       "\u001b[31m│\u001b[0m                                                                                                                 \u001b[31m│\u001b[0m\n",
       "\u001b[31m│\u001b[0m **💡 Key Learning**: Agents must balance competing priorities and                                               \u001b[31m│\u001b[0m\n",
       "\u001b[31m│\u001b[0m resource constraints - just like real-world crisis management!                                                  \u001b[31m│\u001b[0m\n",
       "\u001b[31m╰─────────────────────────────────────────────────────────────────────────────────────────────────────────────────╯\u001b[0m\n"
      ]
     },
     "metadata": {},
     "output_type": "display_data"
    },
    {
     "data": {
      "text/html": [
       "<pre style=\"white-space:pre;overflow-x:auto;line-height:normal;font-family:Menlo,'DejaVu Sans Mono',consolas,'Courier New',monospace\">\n",
       "🔗 **SCENARIO ACTIVATION**: Initializing crisis across all services<span style=\"color: #808000; text-decoration-color: #808000\">...</span>\n",
       "</pre>\n"
      ],
      "text/plain": [
       "\n",
       "🔗 **SCENARIO ACTIVATION**: Initializing crisis across all services\u001b[33m...\u001b[0m\n"
      ]
     },
     "metadata": {},
     "output_type": "display_data"
    },
    {
     "data": {
      "text/html": [
       "<pre style=\"white-space:pre;overflow-x:auto;line-height:normal;font-family:Menlo,'DejaVu Sans Mono',consolas,'Courier New',monospace\">📋 This demonstrates how agents coordinate across distributed systems\n",
       "</pre>\n"
      ],
      "text/plain": [
       "📋 This demonstrates how agents coordinate across distributed systems\n"
      ]
     },
     "metadata": {},
     "output_type": "display_data"
    },
    {
     "data": {
      "text/html": [
       "<pre style=\"white-space:pre;overflow-x:auto;line-height:normal;font-family:Menlo,'DejaVu Sans Mono',consolas,'Courier New',monospace\">🚀 Activating heat wave scenario across all service endpoints<span style=\"color: #808000; text-decoration-color: #808000\">...</span>\n",
       "</pre>\n"
      ],
      "text/plain": [
       "🚀 Activating heat wave scenario across all service endpoints\u001b[33m...\u001b[0m\n"
      ]
     },
     "metadata": {},
     "output_type": "display_data"
    },
    {
     "data": {
      "text/html": [
       "<pre style=\"white-space:pre;overflow-x:auto;line-height:normal;font-family:Menlo,'DejaVu Sans Mono',consolas,'Courier New',monospace\">🎯 Activating scenario: Heat Wave Crisis\n",
       "</pre>\n"
      ],
      "text/plain": [
       "🎯 Activating scenario: Heat Wave Crisis\n"
      ]
     },
     "metadata": {},
     "output_type": "display_data"
    },
    {
     "data": {
      "text/html": [
       "<pre style=\"white-space:pre;overflow-x:auto;line-height:normal;font-family:Menlo,'DejaVu Sans Mono',consolas,'Courier New',monospace\">🔄 Resetting all service states<span style=\"color: #808000; text-decoration-color: #808000\">...</span>\n",
       "</pre>\n"
      ],
      "text/plain": [
       "🔄 Resetting all service states\u001b[33m...\u001b[0m\n"
      ]
     },
     "metadata": {},
     "output_type": "display_data"
    },
    {
     "data": {
      "text/html": [
       "<pre style=\"white-space:pre;overflow-x:auto;line-height:normal;font-family:Menlo,'DejaVu Sans Mono',consolas,'Courier New',monospace\">  ✅ GRID state reset\n",
       "</pre>\n"
      ],
      "text/plain": [
       "  ✅ GRID state reset\n"
      ]
     },
     "metadata": {},
     "output_type": "display_data"
    },
    {
     "data": {
      "text/html": [
       "<pre style=\"white-space:pre;overflow-x:auto;line-height:normal;font-family:Menlo,'DejaVu Sans Mono',consolas,'Courier New',monospace\">  ✅ EMERGENCY state reset\n",
       "</pre>\n"
      ],
      "text/plain": [
       "  ✅ EMERGENCY state reset\n"
      ]
     },
     "metadata": {},
     "output_type": "display_data"
    },
    {
     "data": {
      "text/html": [
       "<pre style=\"white-space:pre;overflow-x:auto;line-height:normal;font-family:Menlo,'DejaVu Sans Mono',consolas,'Courier New',monospace\">  ✅ TRAFFIC state reset\n",
       "</pre>\n"
      ],
      "text/plain": [
       "  ✅ TRAFFIC state reset\n"
      ]
     },
     "metadata": {},
     "output_type": "display_data"
    },
    {
     "data": {
      "text/html": [
       "<pre style=\"white-space:pre;overflow-x:auto;line-height:normal;font-family:Menlo,'DejaVu Sans Mono',consolas,'Courier New',monospace\">  ✅ SCENARIO state reset\n",
       "</pre>\n"
      ],
      "text/plain": [
       "  ✅ SCENARIO state reset\n"
      ]
     },
     "metadata": {},
     "output_type": "display_data"
    },
    {
     "name": "stderr",
     "output_type": "stream",
     "text": [
      "\u001b[36m\u001b[1mweave\u001b[0m: 🍩 https://wandb.ai/a-sh0ts/fc-workshop-track-2/r/call/01977d96-449d-7409-acd2-b8c431e93f37\n",
      "INFO:weave.trace.op:🍩 https://wandb.ai/a-sh0ts/fc-workshop-track-2/r/call/01977d96-449d-7409-acd2-b8c431e93f37\n"
     ]
    },
    {
     "data": {
      "text/html": [
       "<pre style=\"white-space:pre;overflow-x:auto;line-height:normal;font-family:Menlo,'DejaVu Sans Mono',consolas,'Courier New',monospace\">  📋 Scenario created with ID: <span style=\"color: #ffff00; text-decoration-color: #ffff00\">96edf079-b21d-49ec-9f31-a25a101bd0ca</span>\n",
       "</pre>\n"
      ],
      "text/plain": [
       "  📋 Scenario created with ID: \u001b[93m96edf079-b21d-49ec-9f31-a25a101bd0ca\u001b[0m\n"
      ]
     },
     "metadata": {},
     "output_type": "display_data"
    },
    {
     "data": {
      "text/html": [
       "<pre style=\"white-space:pre;overflow-x:auto;line-height:normal;font-family:Menlo,'DejaVu Sans Mono',consolas,'Courier New',monospace\">  ✅ Scenario <span style=\"color: #008000; text-decoration-color: #008000\">'Heat Wave Crisis'</span> activated successfully\n",
       "</pre>\n"
      ],
      "text/plain": [
       "  ✅ Scenario \u001b[32m'Heat Wave Crisis'\u001b[0m activated successfully\n"
      ]
     },
     "metadata": {},
     "output_type": "display_data"
    },
    {
     "data": {
      "text/html": [
       "<pre style=\"white-space:pre;overflow-x:auto;line-height:normal;font-family:Menlo,'DejaVu Sans Mono',consolas,'Courier New',monospace\">    ✅ GRID: State initialized\n",
       "</pre>\n"
      ],
      "text/plain": [
       "    ✅ GRID: State initialized\n"
      ]
     },
     "metadata": {},
     "output_type": "display_data"
    },
    {
     "data": {
      "text/html": [
       "<pre style=\"white-space:pre;overflow-x:auto;line-height:normal;font-family:Menlo,'DejaVu Sans Mono',consolas,'Courier New',monospace\">    ✅ EMERGENCY: State initialized\n",
       "</pre>\n"
      ],
      "text/plain": [
       "    ✅ EMERGENCY: State initialized\n"
      ]
     },
     "metadata": {},
     "output_type": "display_data"
    },
    {
     "data": {
      "text/html": [
       "<pre style=\"white-space:pre;overflow-x:auto;line-height:normal;font-family:Menlo,'DejaVu Sans Mono',consolas,'Courier New',monospace\">    ✅ TRAFFIC: State initialized\n",
       "</pre>\n"
      ],
      "text/plain": [
       "    ✅ TRAFFIC: State initialized\n"
      ]
     },
     "metadata": {},
     "output_type": "display_data"
    },
    {
     "data": {
      "text/html": [
       "<pre style=\"white-space:pre;overflow-x:auto;line-height:normal;font-family:Menlo,'DejaVu Sans Mono',consolas,'Courier New',monospace\">✅ Scenario successfully activated across all services\n",
       "</pre>\n"
      ],
      "text/plain": [
       "✅ Scenario successfully activated across all services\n"
      ]
     },
     "metadata": {},
     "output_type": "display_data"
    },
    {
     "data": {
      "text/html": [
       "<pre style=\"white-space:pre;overflow-x:auto;line-height:normal;font-family:Menlo,'DejaVu Sans Mono',consolas,'Courier New',monospace\">🔍 Verifying scenario state consistency across services<span style=\"color: #808000; text-decoration-color: #808000\">...</span>\n",
       "</pre>\n"
      ],
      "text/plain": [
       "🔍 Verifying scenario state consistency across services\u001b[33m...\u001b[0m\n"
      ]
     },
     "metadata": {},
     "output_type": "display_data"
    },
    {
     "data": {
      "text/html": [
       "<pre style=\"white-space:pre;overflow-x:auto;line-height:normal;font-family:Menlo,'DejaVu Sans Mono',consolas,'Courier New',monospace\">🔍 Verifying scenario state: Heat Wave Crisis\n",
       "</pre>\n"
      ],
      "text/plain": [
       "🔍 Verifying scenario state: Heat Wave Crisis\n"
      ]
     },
     "metadata": {},
     "output_type": "display_data"
    },
    {
     "data": {
      "text/html": [
       "<pre style=\"white-space:pre;overflow-x:auto;line-height:normal;font-family:Menlo,'DejaVu Sans Mono',consolas,'Courier New',monospace\">  ✅ Grid: <span style=\"color: #008080; text-decoration-color: #008080; font-weight: bold\">3</span> zones <span style=\"font-weight: bold\">(</span>expected ≥<span style=\"color: #008080; text-decoration-color: #008080; font-weight: bold\">3</span><span style=\"font-weight: bold\">)</span>\n",
       "</pre>\n"
      ],
      "text/plain": [
       "  ✅ Grid: \u001b[1;36m3\u001b[0m zones \u001b[1m(\u001b[0mexpected ≥\u001b[1;36m3\u001b[0m\u001b[1m)\u001b[0m\n"
      ]
     },
     "metadata": {},
     "output_type": "display_data"
    },
    {
     "data": {
      "text/html": [
       "<pre style=\"white-space:pre;overflow-x:auto;line-height:normal;font-family:Menlo,'DejaVu Sans Mono',consolas,'Courier New',monospace\">  ✅ Emergency: <span style=\"color: #008080; text-decoration-color: #008080; font-weight: bold\">4</span> incidents, <span style=\"color: #008080; text-decoration-color: #008080; font-weight: bold\">4</span> drones\n",
       "</pre>\n"
      ],
      "text/plain": [
       "  ✅ Emergency: \u001b[1;36m4\u001b[0m incidents, \u001b[1;36m4\u001b[0m drones\n"
      ]
     },
     "metadata": {},
     "output_type": "display_data"
    },
    {
     "data": {
      "text/html": [
       "<pre style=\"white-space:pre;overflow-x:auto;line-height:normal;font-family:Menlo,'DejaVu Sans Mono',consolas,'Courier New',monospace\">  ✅ Traffic: <span style=\"color: #008080; text-decoration-color: #008080; font-weight: bold\">3</span> sectors <span style=\"font-weight: bold\">(</span>expected ≥<span style=\"color: #008080; text-decoration-color: #008080; font-weight: bold\">3</span><span style=\"font-weight: bold\">)</span>\n",
       "</pre>\n"
      ],
      "text/plain": [
       "  ✅ Traffic: \u001b[1;36m3\u001b[0m sectors \u001b[1m(\u001b[0mexpected ≥\u001b[1;36m3\u001b[0m\u001b[1m)\u001b[0m\n"
      ]
     },
     "metadata": {},
     "output_type": "display_data"
    },
    {
     "data": {
      "text/html": [
       "<pre style=\"white-space:pre;overflow-x:auto;line-height:normal;font-family:Menlo,'DejaVu Sans Mono',consolas,'Courier New',monospace\">  ✅ Scenario verification complete: All <span style=\"color: #008080; text-decoration-color: #008080; font-weight: bold\">3</span> services ready\n",
       "</pre>\n"
      ],
      "text/plain": [
       "  ✅ Scenario verification complete: All \u001b[1;36m3\u001b[0m services ready\n"
      ]
     },
     "metadata": {},
     "output_type": "display_data"
    },
    {
     "data": {
      "text/html": [
       "<pre style=\"white-space:pre;overflow-x:auto;line-height:normal;font-family:Menlo,'DejaVu Sans Mono',consolas,'Courier New',monospace\">✅ All services reporting consistent crisis state\n",
       "</pre>\n"
      ],
      "text/plain": [
       "✅ All services reporting consistent crisis state\n"
      ]
     },
     "metadata": {},
     "output_type": "display_data"
    },
    {
     "data": {
      "text/html": [
       "<pre style=\"white-space:pre;overflow-x:auto;line-height:normal;font-family:Menlo,'DejaVu Sans Mono',consolas,'Courier New',monospace\">\n",
       "📊 **BASELINE MEASUREMENT**: Capturing initial system state<span style=\"color: #808000; text-decoration-color: #808000\">...</span>\n",
       "</pre>\n"
      ],
      "text/plain": [
       "\n",
       "📊 **BASELINE MEASUREMENT**: Capturing initial system state\u001b[33m...\u001b[0m\n"
      ]
     },
     "metadata": {},
     "output_type": "display_data"
    },
    {
     "data": {
      "text/html": [
       "<pre style=\"white-space:pre;overflow-x:auto;line-height:normal;font-family:Menlo,'DejaVu Sans Mono',consolas,'Courier New',monospace\">📚 **Why This Matters**: Agents need baseline measurements to make informed decisions\n",
       "</pre>\n"
      ],
      "text/plain": [
       "📚 **Why This Matters**: Agents need baseline measurements to make informed decisions\n"
      ]
     },
     "metadata": {},
     "output_type": "display_data"
    },
    {
     "data": {
      "text/html": [
       "<pre style=\"white-space:pre;overflow-x:auto;line-height:normal;font-family:Menlo,'DejaVu Sans Mono',consolas,'Courier New',monospace\"><span style=\"color: #008080; text-decoration-color: #008080\">╭─────────────────────────────────── System Baseline for Agent Decision-Making ───────────────────────────────────╮</span>\n",
       "<span style=\"color: #008080; text-decoration-color: #008080\">│</span> 📊 **INITIAL SYSTEM STATUS**                                                                                    <span style=\"color: #008080; text-decoration-color: #008080\">│</span>\n",
       "<span style=\"color: #008080; text-decoration-color: #008080\">│</span>                                                                                                                 <span style=\"color: #008080; text-decoration-color: #008080\">│</span>\n",
       "<span style=\"color: #008080; text-decoration-color: #008080\">│</span> ```json                                                                                                         <span style=\"color: #008080; text-decoration-color: #008080\">│</span>\n",
       "<span style=\"color: #008080; text-decoration-color: #008080\">│</span> {                                                                                                               <span style=\"color: #008080; text-decoration-color: #008080\">│</span>\n",
       "<span style=\"color: #008080; text-decoration-color: #008080\">│</span>   \"grid\": {                                                                                                     <span style=\"color: #008080; text-decoration-color: #008080\">│</span>\n",
       "<span style=\"color: #008080; text-decoration-color: #008080\">│</span>     \"zones\": {                                                                                                  <span style=\"color: #008080; text-decoration-color: #008080\">│</span>\n",
       "<span style=\"color: #008080; text-decoration-color: #008080\">│</span>       \"Z001\": {                                                                                                 <span style=\"color: #008080; text-decoration-color: #008080\">│</span>\n",
       "<span style=\"color: #008080; text-decoration-color: #008080\">│</span>         \"zone_id\": \"Z001\",                                                                                      <span style=\"color: #008080; text-decoration-color: #008080\">│</span>\n",
       "<span style=\"color: #008080; text-decoration-color: #008080\">│</span>         \"status\": \"online\",                                                                                     <span style=\"color: #008080; text-decoration-color: #008080\">│</span>\n",
       "<span style=\"color: #008080; text-decoration-color: #008080\">│</span>         \"capacity_kw\": 1.0,                                                                                     <span style=\"color: #008080; text-decoration-color: #008080\">│</span>\n",
       "<span style=\"color: #008080; text-decoration-color: #008080\">│</span>         \"current_load_kw\": 0.98,                                                                                <span style=\"color: #008080; text-decoration-color: #008080\">│</span>\n",
       "<span style=\"color: #008080; text-decoration-color: #008080\">│</span>         \"is_critical\": true,                                                                                    <span style=\"color: #008080; text-decoration-color: #008080\">│</span>\n",
       "<span style=\"color: #008080; text-decoration-color: #008080\">│</span>         \"stability\": 0.4,                                                                                       <span style=\"color: #008080; text-decoration-color: #008080\">│</span>\n",
       "<span style=\"color: #008080; text-decoration-color: #008080\">│</span>         \"max_capacity_kw\": 1.0                                                                                  <span style=\"color: #008080; text-decoration-color: #008080\">│</span>\n",
       "<span style=\"color: #008080; text-decoration-color: #008080\">│</span>       },                                                                                                        <span style=\"color: #008080; text-decoration-color: #008080\">│</span>\n",
       "<span style=\"color: #008080; text-decoration-color: #008080\">│</span>       \"Z002\": {                                                                                                 <span style=\"color: #008080; text-decoration-color: #008080\">│</span>\n",
       "<span style=\"color: #008080; text-decoration-color: #008080\">│</span>         \"zone_id\": \"Z002\",                                                                                      <span style=\"color: #008080; text-decoration-color: #008080\">│</span>\n",
       "<span style=\"color: #008080; text-decoration-color: #008080\">│</span>         \"status\": \"online\",                                                                                     <span style=\"color: #008080; text-decoration-color: #008080\">│</span>\n",
       "<span style=\"color: #008080; text-decoration-color: #008080\">│</span>         \"capacity_kw\": 1.0,                                                                                     <span style=\"color: #008080; text-decoration-color: #008080\">│</span>\n",
       "<span style=\"color: #008080; text-decoration-color: #008080\">│</span>         \"current_load_kw\": 0.95,                                                                                <span style=\"color: #008080; text-decoration-color: #008080\">│</span>\n",
       "<span style=\"color: #008080; text-decoration-color: #008080\">│</span>         \"is_critical\": false,                                                                                   <span style=\"color: #008080; text-decoration-color: #008080\">│</span>\n",
       "<span style=\"color: #008080; text-decoration-color: #008080\">│</span>         \"stability\": 0.5,                                                                                       <span style=\"color: #008080; text-decoration-color: #008080\">│</span>\n",
       "<span style=\"color: #008080; text-decoration-color: #008080\">│</span>         \"max_capacity_kw\": 1.0                                                                                  <span style=\"color: #008080; text-decoration-color: #008080\">│</span>\n",
       "<span style=\"color: #008080; text-decoration-color: #008080\">│</span>       },                                                                                                        <span style=\"color: #008080; text-decoration-color: #008080\">│</span>\n",
       "<span style=\"color: #008080; text-decoration-color: #008080\">│</span>       \"Z003\": {                                                                                                 <span style=\"color: #008080; text-decoration-color: #008080\">│</span>\n",
       "<span style=\"color: #008080; text-decoration-color: #008080\">│</span> ...                                                                                                             <span style=\"color: #008080; text-decoration-color: #008080\">│</span>\n",
       "<span style=\"color: #008080; text-decoration-color: #008080\">│</span> ```                                                                                                             <span style=\"color: #008080; text-decoration-color: #008080\">│</span>\n",
       "<span style=\"color: #008080; text-decoration-color: #008080\">│</span>                                                                                                                 <span style=\"color: #008080; text-decoration-color: #008080\">│</span>\n",
       "<span style=\"color: #008080; text-decoration-color: #008080\">│</span> 🎓 **Educational Note**: This baseline data shows exactly what information                                      <span style=\"color: #008080; text-decoration-color: #008080\">│</span>\n",
       "<span style=\"color: #008080; text-decoration-color: #008080\">│</span> agents have access to when making decisions. Notice the resource IDs,                                           <span style=\"color: #008080; text-decoration-color: #008080\">│</span>\n",
       "<span style=\"color: #008080; text-decoration-color: #008080\">│</span> current load levels, and service availability.                                                                  <span style=\"color: #008080; text-decoration-color: #008080\">│</span>\n",
       "<span style=\"color: #008080; text-decoration-color: #008080\">╰─────────────────────────────────────────────────────────────────────────────────────────────────────────────────╯</span>\n",
       "</pre>\n"
      ],
      "text/plain": [
       "\u001b[36m╭─\u001b[0m\u001b[36m──────────────────────────────────\u001b[0m\u001b[36m System Baseline for Agent Decision-Making \u001b[0m\u001b[36m──────────────────────────────────\u001b[0m\u001b[36m─╮\u001b[0m\n",
       "\u001b[36m│\u001b[0m 📊 **INITIAL SYSTEM STATUS**                                                                                    \u001b[36m│\u001b[0m\n",
       "\u001b[36m│\u001b[0m                                                                                                                 \u001b[36m│\u001b[0m\n",
       "\u001b[36m│\u001b[0m ```json                                                                                                         \u001b[36m│\u001b[0m\n",
       "\u001b[36m│\u001b[0m {                                                                                                               \u001b[36m│\u001b[0m\n",
       "\u001b[36m│\u001b[0m   \"grid\": {                                                                                                     \u001b[36m│\u001b[0m\n",
       "\u001b[36m│\u001b[0m     \"zones\": {                                                                                                  \u001b[36m│\u001b[0m\n",
       "\u001b[36m│\u001b[0m       \"Z001\": {                                                                                                 \u001b[36m│\u001b[0m\n",
       "\u001b[36m│\u001b[0m         \"zone_id\": \"Z001\",                                                                                      \u001b[36m│\u001b[0m\n",
       "\u001b[36m│\u001b[0m         \"status\": \"online\",                                                                                     \u001b[36m│\u001b[0m\n",
       "\u001b[36m│\u001b[0m         \"capacity_kw\": 1.0,                                                                                     \u001b[36m│\u001b[0m\n",
       "\u001b[36m│\u001b[0m         \"current_load_kw\": 0.98,                                                                                \u001b[36m│\u001b[0m\n",
       "\u001b[36m│\u001b[0m         \"is_critical\": true,                                                                                    \u001b[36m│\u001b[0m\n",
       "\u001b[36m│\u001b[0m         \"stability\": 0.4,                                                                                       \u001b[36m│\u001b[0m\n",
       "\u001b[36m│\u001b[0m         \"max_capacity_kw\": 1.0                                                                                  \u001b[36m│\u001b[0m\n",
       "\u001b[36m│\u001b[0m       },                                                                                                        \u001b[36m│\u001b[0m\n",
       "\u001b[36m│\u001b[0m       \"Z002\": {                                                                                                 \u001b[36m│\u001b[0m\n",
       "\u001b[36m│\u001b[0m         \"zone_id\": \"Z002\",                                                                                      \u001b[36m│\u001b[0m\n",
       "\u001b[36m│\u001b[0m         \"status\": \"online\",                                                                                     \u001b[36m│\u001b[0m\n",
       "\u001b[36m│\u001b[0m         \"capacity_kw\": 1.0,                                                                                     \u001b[36m│\u001b[0m\n",
       "\u001b[36m│\u001b[0m         \"current_load_kw\": 0.95,                                                                                \u001b[36m│\u001b[0m\n",
       "\u001b[36m│\u001b[0m         \"is_critical\": false,                                                                                   \u001b[36m│\u001b[0m\n",
       "\u001b[36m│\u001b[0m         \"stability\": 0.5,                                                                                       \u001b[36m│\u001b[0m\n",
       "\u001b[36m│\u001b[0m         \"max_capacity_kw\": 1.0                                                                                  \u001b[36m│\u001b[0m\n",
       "\u001b[36m│\u001b[0m       },                                                                                                        \u001b[36m│\u001b[0m\n",
       "\u001b[36m│\u001b[0m       \"Z003\": {                                                                                                 \u001b[36m│\u001b[0m\n",
       "\u001b[36m│\u001b[0m ...                                                                                                             \u001b[36m│\u001b[0m\n",
       "\u001b[36m│\u001b[0m ```                                                                                                             \u001b[36m│\u001b[0m\n",
       "\u001b[36m│\u001b[0m                                                                                                                 \u001b[36m│\u001b[0m\n",
       "\u001b[36m│\u001b[0m 🎓 **Educational Note**: This baseline data shows exactly what information                                      \u001b[36m│\u001b[0m\n",
       "\u001b[36m│\u001b[0m agents have access to when making decisions. Notice the resource IDs,                                           \u001b[36m│\u001b[0m\n",
       "\u001b[36m│\u001b[0m current load levels, and service availability.                                                                  \u001b[36m│\u001b[0m\n",
       "\u001b[36m╰─────────────────────────────────────────────────────────────────────────────────────────────────────────────────╯\u001b[0m\n"
      ]
     },
     "metadata": {},
     "output_type": "display_data"
    },
    {
     "data": {
      "text/html": [
       "<pre style=\"white-space:pre;overflow-x:auto;line-height:normal;font-family:Menlo,'DejaVu Sans Mono',consolas,'Courier New',monospace\">\n",
       "💾 **RESULTS TRACKING**: Saving Phase <span style=\"color: #008080; text-decoration-color: #008080; font-weight: bold\">1</span> baseline for comparison<span style=\"color: #808000; text-decoration-color: #808000\">...</span>\n",
       "</pre>\n"
      ],
      "text/plain": [
       "\n",
       "💾 **RESULTS TRACKING**: Saving Phase \u001b[1;36m1\u001b[0m baseline for comparison\u001b[33m...\u001b[0m\n"
      ]
     },
     "metadata": {},
     "output_type": "display_data"
    },
    {
     "data": {
      "text/html": [
       "<pre style=\"white-space:pre;overflow-x:auto;line-height:normal;font-family:Menlo,'DejaVu Sans Mono',consolas,'Courier New',monospace\">📚 **Learning Pattern**: Systematic measurement enables objective evaluation\n",
       "</pre>\n"
      ],
      "text/plain": [
       "📚 **Learning Pattern**: Systematic measurement enables objective evaluation\n"
      ]
     },
     "metadata": {},
     "output_type": "display_data"
    },
    {
     "data": {
      "text/html": [
       "<pre style=\"white-space:pre;overflow-x:auto;line-height:normal;font-family:Menlo,'DejaVu Sans Mono',consolas,'Courier New',monospace\">📊 Results saved to workshop_experiment_results.json\n",
       "</pre>\n"
      ],
      "text/plain": [
       "📊 Results saved to workshop_experiment_results.json\n"
      ]
     },
     "metadata": {},
     "output_type": "display_data"
    }
   ],
   "source": [
    "# 🎓 EDUCATIONAL DEMONSTRATION: Create scenario with actual service IDs for realistic testing\n",
    "console.print(\"\\n🎓 **CREATING DYNAMIC CRISIS SCENARIO**\")\n",
    "console.print(\"📚 **Learning Focus**: How agents work with real, changing resource constraints\")\n",
    "\n",
    "HEAT_WAVE_SCENARIO = create_heat_wave_scenario()\n",
    "\n",
    "console.print(Panel(\n",
    "    f\"📋 **CRISIS SCENARIO BRIEFING**\\n\\n\"\n",
    "    f\"**Scenario**: {HEAT_WAVE_SCENARIO.name}\\n\"\n",
    "    f\"**Challenge**: {HEAT_WAVE_SCENARIO.description}\\n\\n\"\n",
    "    f\"**🎯 Educational Value**: This scenario tests agent coordination across:\\n\"\n",
    "    f\"• Grid stability management under extreme load\\n\" \n",
    "    f\"• Emergency response with limited drone resources\\n\"\n",
    "    f\"• Traffic coordination during crisis conditions\\n\\n\"\n",
    "    f\"**💡 Key Learning**: Agents must balance competing priorities and\\n\"\n",
    "    f\"resource constraints - just like real-world crisis management!\",\n",
    "    title=f\"Crisis Briefing: {HEAT_WAVE_SCENARIO.name}\", \n",
    "    border_style=\"red\"\n",
    "))\n",
    "\n",
    "# 🎓 EDUCATIONAL PATTERN: Activate scenario across all services for multi-agent testing\n",
    "console.print(\"\\n🔗 **SCENARIO ACTIVATION**: Initializing crisis across all services...\")\n",
    "console.print(\"📋 This demonstrates how agents coordinate across distributed systems\")\n",
    "\n",
    "if 'services_running' in locals() and services_running:\n",
    "    console.print(\"🚀 Activating heat wave scenario across all service endpoints...\")\n",
    "    scenario_activated = activate_scenario(HEAT_WAVE_SCENARIO, \n",
    "                                         \"Heat Wave Crisis\")\n",
    "    if scenario_activated:\n",
    "        console.print(\"✅ Scenario successfully activated across all services\")\n",
    "        console.print(\"🔍 Verifying scenario state consistency across services...\")\n",
    "        verify_scenario_state(HEAT_WAVE_SCENARIO, \"Heat Wave Crisis\")\n",
    "        console.print(\"✅ All services reporting consistent crisis state\")\n",
    "    else:\n",
    "        console.print(\"[yellow]⚠️ Scenario activation had issues, but \"\n",
    "                     \"continuing with workshop...[/yellow]\")\n",
    "        console.print(\"[blue]💡 This demonstrates graceful degradation in distributed systems[/blue]\")\n",
    "\n",
    "# 🎓 EDUCATIONAL PATTERN: Get initial system status for comparison baseline\n",
    "console.print(\"\\n📊 **BASELINE MEASUREMENT**: Capturing initial system state...\")\n",
    "console.print(\"📚 **Why This Matters**: Agents need baseline measurements to make informed decisions\")\n",
    "\n",
    "initial_status = get_system_status()\n",
    "console.print(Panel(\n",
    "    f\"📊 **INITIAL SYSTEM STATUS**\\n\\n\"\n",
    "    f\"```json\\n{json.dumps(initial_status, indent=2)[:500]}...\\n```\\n\\n\"\n",
    "    f\"🎓 **Educational Note**: This baseline data shows exactly what information\\n\"\n",
    "    f\"agents have access to when making decisions. Notice the resource IDs,\\n\"\n",
    "    f\"current load levels, and service availability.\",\n",
    "    title=\"System Baseline for Agent Decision-Making\", \n",
    "    border_style=\"cyan\"\n",
    "))\n",
    "\n",
    "# 🎓 EDUCATIONAL PRACTICE: Save Phase 1 results for systematic comparison\n",
    "console.print(\"\\n💾 **RESULTS TRACKING**: Saving Phase 1 baseline for comparison...\")\n",
    "console.print(\"📚 **Learning Pattern**: Systematic measurement enables objective evaluation\")\n",
    "\n",
    "workshop_results[\"phase_1\"] = {\n",
    "    \"environment_ok\": environment_ok,\n",
    "    \"services_running\": services_running,\n",
    "    \"scenario_activated\": scenario_activated if 'scenario_activated' in locals() else False,\n",
    "    \"initial_status\": initial_status,\n",
    "    \"resources_discovered\": {\n",
    "        \"grid_zones\": len(get_actual_service_ids().get('grid_zones', [])),\n",
    "        \"drones\": len(get_actual_service_ids().get('drones', [])),\n",
    "        \"incidents\": len(get_actual_service_ids().get('incidents', [])),\n",
    "        \"traffic_sectors\": len(get_actual_service_ids().get('traffic_sectors', []))\n",
    "    }\n",
    "}\n",
    "save_experiment_results(workshop_results)"
   ]
  },
  {
   "cell_type": "markdown",
   "id": "82a8d0d7",
   "metadata": {},
   "source": [
    "![](./imgs/morning_scenario_trace.png)"
   ]
  },
  {
   "cell_type": "code",
   "execution_count": 7,
   "id": "3ab145cb",
   "metadata": {
    "lines_to_next_cell": 1
   },
   "outputs": [
    {
     "data": {
      "text/html": [
       "<pre style=\"white-space:pre;overflow-x:auto;line-height:normal;font-family:Menlo,'DejaVu Sans Mono',consolas,'Courier New',monospace\"><span style=\"color: #008000; text-decoration-color: #008000\">╭─────────────────────────────────────────── Phase 1 Learning Summary ────────────────────────────────────────────╮</span>\n",
       "<span style=\"color: #008000; text-decoration-color: #008000\">│</span> ✅ **PHASE 1 COMPLETE: Environment Setup &amp; Service Discovery**                                                  <span style=\"color: #008000; text-decoration-color: #008000\">│</span>\n",
       "<span style=\"color: #008000; text-decoration-color: #008000\">│</span>                                                                                                                 <span style=\"color: #008000; text-decoration-color: #008000\">│</span>\n",
       "<span style=\"color: #008000; text-decoration-color: #008000\">│</span> 🎓 **What You've Learned:**                                                                                     <span style=\"color: #008000; text-decoration-color: #008000\">│</span>\n",
       "<span style=\"color: #008000; text-decoration-color: #008000\">│</span> • How to set up agent infrastructure with proper validation                                                     <span style=\"color: #008000; text-decoration-color: #008000\">│</span>\n",
       "<span style=\"color: #008000; text-decoration-color: #008000\">│</span> • Why dynamic resource discovery is crucial for production agents                                               <span style=\"color: #008000; text-decoration-color: #008000\">│</span>\n",
       "<span style=\"color: #008000; text-decoration-color: #008000\">│</span> • How to create realistic scenarios that test agent coordination                                                <span style=\"color: #008000; text-decoration-color: #008000\">│</span>\n",
       "<span style=\"color: #008000; text-decoration-color: #008000\">│</span> • The importance of baseline measurement for objective evaluation                                               <span style=\"color: #008000; text-decoration-color: #008000\">│</span>\n",
       "<span style=\"color: #008000; text-decoration-color: #008000\">│</span>                                                                                                                 <span style=\"color: #008000; text-decoration-color: #008000\">│</span>\n",
       "<span style=\"color: #008000; text-decoration-color: #008000\">│</span> 🚀 **Next Phase**: We'll explore why single LLM chains fail for                                                 <span style=\"color: #008000; text-decoration-color: #008000\">│</span>\n",
       "<span style=\"color: #008000; text-decoration-color: #008000\">│</span> complex coordination tasks, setting up the need for specialized agents!                                         <span style=\"color: #008000; text-decoration-color: #008000\">│</span>\n",
       "<span style=\"color: #008000; text-decoration-color: #008000\">╰─────────────────────────────────────────────────────────────────────────────────────────────────────────────────╯</span>\n",
       "</pre>\n"
      ],
      "text/plain": [
       "\u001b[32m╭─\u001b[0m\u001b[32m──────────────────────────────────────────\u001b[0m\u001b[32m Phase 1 Learning Summary \u001b[0m\u001b[32m───────────────────────────────────────────\u001b[0m\u001b[32m─╮\u001b[0m\n",
       "\u001b[32m│\u001b[0m ✅ **PHASE 1 COMPLETE: Environment Setup & Service Discovery**                                                  \u001b[32m│\u001b[0m\n",
       "\u001b[32m│\u001b[0m                                                                                                                 \u001b[32m│\u001b[0m\n",
       "\u001b[32m│\u001b[0m 🎓 **What You've Learned:**                                                                                     \u001b[32m│\u001b[0m\n",
       "\u001b[32m│\u001b[0m • How to set up agent infrastructure with proper validation                                                     \u001b[32m│\u001b[0m\n",
       "\u001b[32m│\u001b[0m • Why dynamic resource discovery is crucial for production agents                                               \u001b[32m│\u001b[0m\n",
       "\u001b[32m│\u001b[0m • How to create realistic scenarios that test agent coordination                                                \u001b[32m│\u001b[0m\n",
       "\u001b[32m│\u001b[0m • The importance of baseline measurement for objective evaluation                                               \u001b[32m│\u001b[0m\n",
       "\u001b[32m│\u001b[0m                                                                                                                 \u001b[32m│\u001b[0m\n",
       "\u001b[32m│\u001b[0m 🚀 **Next Phase**: We'll explore why single LLM chains fail for                                                 \u001b[32m│\u001b[0m\n",
       "\u001b[32m│\u001b[0m complex coordination tasks, setting up the need for specialized agents!                                         \u001b[32m│\u001b[0m\n",
       "\u001b[32m╰─────────────────────────────────────────────────────────────────────────────────────────────────────────────────╯\u001b[0m\n"
      ]
     },
     "metadata": {},
     "output_type": "display_data"
    },
    {
     "data": {
      "text/html": [
       "<pre style=\"white-space:pre;overflow-x:auto;line-height:normal;font-family:Menlo,'DejaVu Sans Mono',consolas,'Courier New',monospace\"><span style=\"color: #808000; text-decoration-color: #808000\">╭──────────────────────────────────────── Phase 1 Reflection &amp; Discussion ────────────────────────────────────────╮</span>\n",
       "<span style=\"color: #808000; text-decoration-color: #808000\">│</span> 🛠️ **HANDS-ON REFLECTION: Phase 1**                                                                              <span style=\"color: #808000; text-decoration-color: #808000\">│</span>\n",
       "<span style=\"color: #808000; text-decoration-color: #808000\">│</span>                                                                                                                 <span style=\"color: #808000; text-decoration-color: #808000\">│</span>\n",
       "<span style=\"color: #808000; text-decoration-color: #808000\">│</span> **👨‍💻 Take a moment to reflect:**                                                                              <span style=\"color: #808000; text-decoration-color: #808000\">│</span>\n",
       "<span style=\"color: #808000; text-decoration-color: #808000\">│</span>                                                                                                                 <span style=\"color: #808000; text-decoration-color: #808000\">│</span>\n",
       "<span style=\"color: #808000; text-decoration-color: #808000\">│</span> 1. **Service Discovery**: What resources were discovered in your environment?                                   <span style=\"color: #808000; text-decoration-color: #808000\">│</span>\n",
       "<span style=\"color: #808000; text-decoration-color: #808000\">│</span> 2. **Scenario Complexity**: How many different constraints do agents need to handle?                            <span style=\"color: #808000; text-decoration-color: #808000\">│</span>\n",
       "<span style=\"color: #808000; text-decoration-color: #808000\">│</span> 3. **Real-World Parallel**: How does this compare to actual crisis management?                                  <span style=\"color: #808000; text-decoration-color: #808000\">│</span>\n",
       "<span style=\"color: #808000; text-decoration-color: #808000\">│</span> 4. **Agent Challenges**: What coordination challenges do you anticipate?                                        <span style=\"color: #808000; text-decoration-color: #808000\">│</span>\n",
       "<span style=\"color: #808000; text-decoration-color: #808000\">│</span>                                                                                                                 <span style=\"color: #808000; text-decoration-color: #808000\">│</span>\n",
       "<span style=\"color: #808000; text-decoration-color: #808000\">│</span> 💡 **Discussion Question**: What would happen if one service went offline                                       <span style=\"color: #808000; text-decoration-color: #808000\">│</span>\n",
       "<span style=\"color: #808000; text-decoration-color: #808000\">│</span> during agent execution? How should production systems handle this?                                              <span style=\"color: #808000; text-decoration-color: #808000\">│</span>\n",
       "<span style=\"color: #808000; text-decoration-color: #808000\">╰─────────────────────────────────────────────────────────────────────────────────────────────────────────────────╯</span>\n",
       "</pre>\n"
      ],
      "text/plain": [
       "\u001b[33m╭─\u001b[0m\u001b[33m───────────────────────────────────────\u001b[0m\u001b[33m Phase 1 Reflection & Discussion \u001b[0m\u001b[33m───────────────────────────────────────\u001b[0m\u001b[33m─╮\u001b[0m\n",
       "\u001b[33m│\u001b[0m 🛠️ **HANDS-ON REFLECTION: Phase 1**                                                                              \u001b[33m│\u001b[0m\n",
       "\u001b[33m│\u001b[0m                                                                                                                 \u001b[33m│\u001b[0m\n",
       "\u001b[33m│\u001b[0m **👨‍💻 Take a moment to reflect:**                                                                              \u001b[33m│\u001b[0m\n",
       "\u001b[33m│\u001b[0m                                                                                                                 \u001b[33m│\u001b[0m\n",
       "\u001b[33m│\u001b[0m 1. **Service Discovery**: What resources were discovered in your environment?                                   \u001b[33m│\u001b[0m\n",
       "\u001b[33m│\u001b[0m 2. **Scenario Complexity**: How many different constraints do agents need to handle?                            \u001b[33m│\u001b[0m\n",
       "\u001b[33m│\u001b[0m 3. **Real-World Parallel**: How does this compare to actual crisis management?                                  \u001b[33m│\u001b[0m\n",
       "\u001b[33m│\u001b[0m 4. **Agent Challenges**: What coordination challenges do you anticipate?                                        \u001b[33m│\u001b[0m\n",
       "\u001b[33m│\u001b[0m                                                                                                                 \u001b[33m│\u001b[0m\n",
       "\u001b[33m│\u001b[0m 💡 **Discussion Question**: What would happen if one service went offline                                       \u001b[33m│\u001b[0m\n",
       "\u001b[33m│\u001b[0m during agent execution? How should production systems handle this?                                              \u001b[33m│\u001b[0m\n",
       "\u001b[33m╰─────────────────────────────────────────────────────────────────────────────────────────────────────────────────╯\u001b[0m\n"
      ]
     },
     "metadata": {},
     "output_type": "display_data"
    }
   ],
   "source": [
    "console.print(Panel(\n",
    "    \"✅ **PHASE 1 COMPLETE: Environment Setup & Service Discovery**\\n\\n\"\n",
    "    \"🎓 **What You've Learned:**\\n\"\n",
    "    \"• How to set up agent infrastructure with proper validation\\n\"\n",
    "    \"• Why dynamic resource discovery is crucial for production agents\\n\"\n",
    "    \"• How to create realistic scenarios that test agent coordination\\n\"\n",
    "    \"• The importance of baseline measurement for objective evaluation\\n\\n\"\n",
    "    \"🚀 **Next Phase**: We'll explore why single LLM chains fail for\\n\"\n",
    "    \"complex coordination tasks, setting up the need for specialized agents!\",\n",
    "    title=\"Phase 1 Learning Summary\",\n",
    "    border_style=\"green\"\n",
    "))\n",
    "\n",
    "# 🛠️ HANDS-ON REFLECTION\n",
    "console.print(Panel(\n",
    "    \"🛠️ **HANDS-ON REFLECTION: Phase 1**\\n\\n\"\n",
    "    \"**👨‍💻 Take a moment to reflect:**\\n\\n\"\n",
    "    \"1. **Service Discovery**: What resources were discovered in your environment?\\n\"\n",
    "    \"2. **Scenario Complexity**: How many different constraints do agents need to handle?\\n\"\n",
    "    \"3. **Real-World Parallel**: How does this compare to actual crisis management?\\n\"\n",
    "    \"4. **Agent Challenges**: What coordination challenges do you anticipate?\\n\\n\"\n",
    "    \"💡 **Discussion Question**: What would happen if one service went offline\\n\"\n",
    "    \"during agent execution? How should production systems handle this?\",\n",
    "    title=\"Phase 1 Reflection & Discussion\",\n",
    "    border_style=\"yellow\"\n",
    "))"
   ]
  },
  {
   "cell_type": "markdown",
   "id": "cf419c73",
   "metadata": {},
   "source": [
    "## 🤖 **PHASE 2: Naive LLM Chain Approach Analysis**\n",
    "\n",
    "**🎓 Educational Goal**: Understand fundamental limitations of single LLM chains \n",
    "for complex coordination tasks\n",
    "\n",
    "**👨‍💻 INTERACTIVE COMPONENT**: Watch a sophisticated LLM attempt complex \n",
    "coordination and analyze why it fails!\n",
    "\n",
    "**🧪 Hypothesis to Test**: \n",
    "\"A single, well-engineered LLM call with comprehensive context can handle \n",
    "the entire crisis by generating all necessary actions at once.\"\n",
    "\n",
    "**🚫 Why This Will Likely Fail:**\n",
    "- **No domain expertise**: Generic reasoning vs specialized knowledge\n",
    "- **No memory or state**: Cannot remember previous actions or learn from results  \n",
    "- **No real-time adaptation**: Cannot adjust to changing conditions\n",
    "- **No coordination feedback**: Services cannot communicate back for adjustment\n",
    "- **Context limitations**: Struggles with unlimited real-time data processing\n",
    "- **Single decision point**: No iterative refinement or multi-step reasoning\n",
    "\n",
    "**📊 Success Metric**: Command execution success rate and decision quality\n",
    "\n",
    "**🎯 Learning Outcome**: You'll see exactly why sophisticated prompting alone \n",
    "isn't sufficient for complex multi-service coordination, despite seeming \n",
    "reasonable on the surface!\n",
    "\n",
    "**💡 Key Insight Preview**: This phase demonstrates that production-level \n",
    "coordination requires more than just better prompts - it needs specialized \n",
    "agents with domain expertise and coordination capabilities."
   ]
  },
  {
   "cell_type": "code",
   "execution_count": 8,
   "id": "ce6235af",
   "metadata": {
    "lines_to_next_cell": 1
   },
   "outputs": [],
   "source": [
    "@weave.op\n",
    "def naive_llm_approach(scenario: ScenarioDefinition, system_prompt: str, user_prompt: str):\n",
    "    \"\"\"\n",
    "    🎓 EDUCATIONAL DEMONSTRATION: Single LLM chain approach with sophisticated engineering.\n",
    "    \n",
    "    This function shows what happens when we try to solve complex coordination\n",
    "    with a single, well-engineered LLM call. We'll use:\n",
    "    \n",
    "    - **Comprehensive system context**: Full real-time service state\n",
    "    - **Structured output format**: JSON with reasoning for each action\n",
    "    - **Dynamic resource discovery**: Actual service IDs and constraints\n",
    "    - **Expert-level prompting**: Crisis management domain expertise\n",
    "    - **Clear action specifications**: Exact API formats and parameters\n",
    "    \n",
    "    Args:\n",
    "        scenario: The crisis scenario to handle\n",
    "        system_prompt: The system prompt for the LLM\n",
    "        user_prompt: The user prompt for the LLM\n",
    "    \n",
    "    🔑 KEY LEARNING: Even with excellent engineering, single LLM approaches \n",
    "    have fundamental limitations for complex coordination tasks.\n",
    "    \n",
    "    🎯 EDUCATIONAL VALUE: This establishes the baseline that motivates why \n",
    "    we need specialized multi-agent systems.\n",
    "    \"\"\"\n",
    "\n",
    "    console.print(Panel(\n",
    "        \"🤖 **PHASE 2: Naive LLM Chain Approach**\\n\\n\"\n",
    "        \"🎯 **Testing Hypothesis**: Can a single, sophisticated LLM call\\n\"\n",
    "        \"handle complex crisis coordination?\\n\\n\"\n",
    "        \"📚 **Educational Focus**: Understanding the limits of single-agent approaches\\n\"\n",
    "        \"🔬 **Method**: Comprehensive context + expert prompting + structured output\\n\"\n",
    "        \"📊 **Measurement**: Success rate, decision quality, coordination effectiveness\", \n",
    "        border_style=\"yellow\"\n",
    "    ))\n",
    "    \n",
    "    console.print(\"📝 **STEP 1**: Building comprehensive LLM context with real-time service data...\")\n",
    "    console.print(\"🎓 **Learning**: Notice how much context we can provide to a single LLM\")\n",
    "    \n",
    "    # Real-time system integration - LLM gets actual service state\n",
    "    current_status = get_system_status()\n",
    "    \n",
    "    # Dynamic resource discovery - LLM works with actual service IDs\n",
    "    actual_ids = get_actual_service_ids()\n",
    "    \n",
    "    console.print(\"📊 **STEP 2**: Providing dynamic resource discovery results...\")\n",
    "    console.print(f\"   Available Resources: {len(actual_ids)} service categories discovered\")\n",
    "    \n",
    "    try:\n",
    "        import litellm\n",
    "        \n",
    "        console.print(\"🧠 **STEP 3**: Constructing expert-level crisis management prompt...\")\n",
    "        \n",
    "        # Sophisticated prompting with structured output - still limited approach\n",
    "        formatted_system_prompt = system_prompt.format(\n",
    "            current_status=json.dumps(current_status, indent=2),\n",
    "            grid_zones=actual_ids.get('grid_zones', []),\n",
    "            drones=actual_ids.get('drones', []),\n",
    "            incidents=actual_ids.get('incidents', []),\n",
    "            traffic_sectors=actual_ids.get('traffic_sectors', [])\n",
    "        )\n",
    "        \n",
    "        formatted_user_prompt = user_prompt.format(\n",
    "            scenario_name=scenario.name,\n",
    "            scenario_description=scenario.description\n",
    "        )\n",
    "\n",
    "        console.print(\"🚀 **STEP 4**: Executing sophisticated LLM call for crisis coordination...\")\n",
    "        console.print(\"⏱️ **Timing**: Measuring response time and decision quality...\")\n",
    "\n",
    "        messages = weave.MessagesPrompt([\n",
    "                {\"role\": \"system\", \"content\": formatted_system_prompt},\n",
    "                {\"role\": \"user\", \"content\": formatted_user_prompt}\n",
    "            ]\n",
    "        )\n",
    "        weave.publish(messages, name=\"naive_llm_prompt\")\n",
    "        \n",
    "        # Structured completion with LiteLLM - still one-shot approach\n",
    "        response = litellm.completion(\n",
    "            model=\"gpt-4o-mini\",\n",
    "            messages=messages.messages,\n",
    "            temperature=0.1,\n",
    "            max_tokens=1000,\n",
    "        )\n",
    "        \n",
    "        # Response parsing - extracting structured output from LLM\n",
    "        llm_output = response.choices[0].message.content\n",
    "        console.print(f\"📝 LLM Response Length: {len(llm_output)} characters\")\n",
    "        \n",
    "        # JSON extraction - converting LLM response to executable commands\n",
    "        try:\n",
    "            import re\n",
    "            json_match = re.search(r'\\{.*\\}', llm_output, re.DOTALL)\n",
    "            if json_match:\n",
    "                parsed_response = json.loads(json_match.group())\n",
    "                actions = parsed_response.get(\"commands\", [])\n",
    "                \n",
    "                console.print(f\"✅ Successfully parsed {len(actions)} commands from LLM\")\n",
    "                console.print(f\"📊 Strategy: {parsed_response.get('strategy', 'No strategy provided')[:100]}...\")\n",
    "                \n",
    "            else:\n",
    "                raise ValueError(\"No JSON found in response\")\n",
    "                \n",
    "        except (json.JSONDecodeError, ValueError) as e:\n",
    "            console.print(f\"⚠️ JSON parsing failed: {e}\")\n",
    "            actions = []\n",
    "        \n",
    "    except Exception as e:\n",
    "        console.print(f\"[red]❌ LLM call failed: {e}[/red]\")\n",
    "        actions = []\n",
    "    \n",
    "    # Command execution through workshop's executor\n",
    "    executor = CommandExecutor()\n",
    "    results = []\n",
    "    \n",
    "    console.print(f\"\\n🎯 Executing {len(actions)} LLM-generated actions...\")\n",
    "    \n",
    "    for i, action in enumerate(actions, 1):\n",
    "        console.print(f\"\\n🎯 Action {i}: {action.get('reasoning', 'No reasoning provided')}\")\n",
    "        \n",
    "        try:\n",
    "            cmd = Command(\n",
    "                service=ServiceType(action[\"service\"]),\n",
    "                action=action[\"action\"], \n",
    "                parameters=action.get(\"parameters\", {})\n",
    "            )\n",
    "            result = executor.execute(cmd)\n",
    "            results.append(result.success)\n",
    "            \n",
    "            status = \"✅ SUCCESS\" if result.success else \"❌ FAILED\"\n",
    "            console.print(f\"  {status}: {action['service']}.{action['action']}\")\n",
    "            \n",
    "            if not result.success:\n",
    "                console.print(f\"    Error: {result.error}\")\n",
    "                \n",
    "        except Exception as e:\n",
    "            console.print(f\"  ❌ EXECUTION ERROR: {e}\")\n",
    "            results.append(False)\n",
    "    \n",
    "    success_rate = sum(results) / len(results) if results else 0\n",
    "    \n",
    "    # Results storage for systematic comparison\n",
    "    workshop_results[\"llm_chain\"][\"success_rate\"] = success_rate\n",
    "    workshop_results[\"llm_chain\"][\"commands\"] = actions\n",
    "    \n",
    "    save_experiment_results(workshop_results)\n",
    "    \n",
    "    console.print(Panel(\n",
    "        f\"🎯 Naive LLM Success Rate: {success_rate:.1%}\\n\\n\"\n",
    "        f\"✅ Successful actions: {sum(results)}\\n\"\n",
    "        f\"❌ Failed actions: {len(results) - sum(results)}\\n\"\n",
    "        f\"📊 Total actions attempted: {len(results)}\\n\\n\"\n",
    "        f\"**Why this approach has limitations (despite sophistication):**\\n\"\n",
    "        f\"• Single decision point - no adaptation to intermediate results\\n\"\n",
    "        f\"• No memory - can't learn from action outcomes\\n\"\n",
    "        f\"• No coordination feedback - services can't communicate back\\n\"\n",
    "        f\"• Context window limits - can't process unlimited real-time data\\n\"\n",
    "        f\"• No iterative refinement - one shot approach\",\n",
    "        title=\"Naive LLM Results (Sophisticated but Limited)\",\n",
    "        border_style=\"yellow\"\n",
    "    ))\n",
    "    \n",
    "    return actions, success_rate"
   ]
  },
  {
   "cell_type": "code",
   "execution_count": 9,
   "id": "b9de80c9",
   "metadata": {},
   "outputs": [],
   "source": [
    "system_prompt = \"\"\"You are an expert crisis management AI system. You have access to real-time data \n",
    "from a smart city's Grid, Emergency, and Traffic services. Your task is to generate a comprehensive \n",
    "response plan for the current crisis scenario.\n",
    "\n",
    "CURRENT SYSTEM STATE:\n",
    "{current_status}\n",
    "\n",
    "AVAILABLE RESOURCES:\n",
    "- Grid Zones: {grid_zones}\n",
    "- Emergency Drones: {drones}\n",
    "- Active Incidents: {incidents}\n",
    "- Traffic Sectors: {traffic_sectors}\n",
    "\n",
    "VALID ACTIONS BY SERVICE:\n",
    "Grid Service:\n",
    "- adjust_zone: Adjust zone capacity (parameters: zone_id, capacity)\n",
    "- set_priority: Set infrastructure priority (parameters: infrastructure_id, level)\n",
    "\n",
    "Emergency Service:\n",
    "- assign_drone: Assign drone to incident (parameters: drone_id, incident_id)\n",
    "- update_incident: Update incident status (parameters: incident_id, status)\n",
    "\n",
    "Traffic Service:\n",
    "- redirect: Redirect traffic (parameters: sector_id, target_reduction)\n",
    "- block_route: Block route (parameters: sector, reason, duration_minutes)\n",
    "\n",
    "You must generate a JSON response with exactly this structure:\n",
    "{{\n",
    "    \"analysis\": \"Your analysis of the crisis situation\",\n",
    "    \"strategy\": \"Overall coordination strategy\", \n",
    "    \"commands\": [\n",
    "        {{\n",
    "            \"service\": \"grid|emergency|traffic\",\n",
    "            \"action\": \"one of the valid actions listed above\",\n",
    "            \"parameters\": {{\"param1\": \"value1\", \"param2\": \"value2\"}},\n",
    "            \"reasoning\": \"Why this action is needed\"\n",
    "        }}\n",
    "    ]\n",
    "}}\n",
    "\n",
    "IMPORTANT: Only use the exact action names listed above. Use actual resource IDs from the available resources.\"\"\""
   ]
  },
  {
   "cell_type": "code",
   "execution_count": 10,
   "id": "e4bc291f",
   "metadata": {},
   "outputs": [],
   "source": [
    "user_prompt = \"\"\"CRISIS SCENARIO: {scenario_name}\n",
    "{scenario_description}\n",
    "\n",
    "The situation is critical. Analyze the current system state and generate a comprehensive response plan.\n",
    "Consider interdependencies between services and prioritize actions by urgency.\n",
    "\n",
    "Generate commands that address:\n",
    "1. Grid stability issues (zone load balancing, infrastructure priorities)\n",
    "2. Emergency response (drone assignments, incident management)  \n",
    "3. Traffic management (congestion relief, emergency access)\n",
    "\n",
    "Use only the actual resource IDs provided in the system context and the valid actions specified.\"\"\""
   ]
  },
  {
   "cell_type": "markdown",
   "id": "ef72c428",
   "metadata": {},
   "source": [
    "![](./imgs/morning_naive_llm_trace.png)"
   ]
  },
  {
   "cell_type": "code",
   "execution_count": 11,
   "id": "913280cb",
   "metadata": {},
   "outputs": [
    {
     "data": {
      "text/html": [
       "<pre style=\"white-space:pre;overflow-x:auto;line-height:normal;font-family:Menlo,'DejaVu Sans Mono',consolas,'Courier New',monospace\"><span style=\"color: #008080; text-decoration-color: #008080\">╭───────────────────────────────────────── Phase 2: Experimental Design ──────────────────────────────────────────╮</span>\n",
       "<span style=\"color: #008080; text-decoration-color: #008080\">│</span> 🧪 **PHASE 2 EXPERIMENT: Testing Naive LLM Approach**                                                           <span style=\"color: #008080; text-decoration-color: #008080\">│</span>\n",
       "<span style=\"color: #008080; text-decoration-color: #008080\">│</span>                                                                                                                 <span style=\"color: #008080; text-decoration-color: #008080\">│</span>\n",
       "<span style=\"color: #008080; text-decoration-color: #008080\">│</span> 🎯 **Objective**: Measure how well a single, sophisticated LLM performs                                         <span style=\"color: #008080; text-decoration-color: #008080\">│</span>\n",
       "<span style=\"color: #008080; text-decoration-color: #008080\">│</span> on complex multi-service coordination                                                                           <span style=\"color: #008080; text-decoration-color: #008080\">│</span>\n",
       "<span style=\"color: #008080; text-decoration-color: #008080\">│</span>                                                                                                                 <span style=\"color: #008080; text-decoration-color: #008080\">│</span>\n",
       "<span style=\"color: #008080; text-decoration-color: #008080\">│</span> 📚 **Educational Value**: This establishes the baseline that motivates                                          <span style=\"color: #008080; text-decoration-color: #008080\">│</span>\n",
       "<span style=\"color: #008080; text-decoration-color: #008080\">│</span> why we need specialized multi-agent architectures                                                               <span style=\"color: #008080; text-decoration-color: #008080\">│</span>\n",
       "<span style=\"color: #008080; text-decoration-color: #008080\">│</span>                                                                                                                 <span style=\"color: #008080; text-decoration-color: #008080\">│</span>\n",
       "<span style=\"color: #008080; text-decoration-color: #008080\">│</span> 🔬 **Method**: Comprehensive prompting + structured output + real-time data                                     <span style=\"color: #008080; text-decoration-color: #008080\">│</span>\n",
       "<span style=\"color: #008080; text-decoration-color: #008080\">╰─────────────────────────────────────────────────────────────────────────────────────────────────────────────────╯</span>\n",
       "</pre>\n"
      ],
      "text/plain": [
       "\u001b[36m╭─\u001b[0m\u001b[36m────────────────────────────────────────\u001b[0m\u001b[36m Phase 2: Experimental Design \u001b[0m\u001b[36m─────────────────────────────────────────\u001b[0m\u001b[36m─╮\u001b[0m\n",
       "\u001b[36m│\u001b[0m 🧪 **PHASE 2 EXPERIMENT: Testing Naive LLM Approach**                                                           \u001b[36m│\u001b[0m\n",
       "\u001b[36m│\u001b[0m                                                                                                                 \u001b[36m│\u001b[0m\n",
       "\u001b[36m│\u001b[0m 🎯 **Objective**: Measure how well a single, sophisticated LLM performs                                         \u001b[36m│\u001b[0m\n",
       "\u001b[36m│\u001b[0m on complex multi-service coordination                                                                           \u001b[36m│\u001b[0m\n",
       "\u001b[36m│\u001b[0m                                                                                                                 \u001b[36m│\u001b[0m\n",
       "\u001b[36m│\u001b[0m 📚 **Educational Value**: This establishes the baseline that motivates                                          \u001b[36m│\u001b[0m\n",
       "\u001b[36m│\u001b[0m why we need specialized multi-agent architectures                                                               \u001b[36m│\u001b[0m\n",
       "\u001b[36m│\u001b[0m                                                                                                                 \u001b[36m│\u001b[0m\n",
       "\u001b[36m│\u001b[0m 🔬 **Method**: Comprehensive prompting + structured output + real-time data                                     \u001b[36m│\u001b[0m\n",
       "\u001b[36m╰─────────────────────────────────────────────────────────────────────────────────────────────────────────────────╯\u001b[0m\n"
      ]
     },
     "metadata": {},
     "output_type": "display_data"
    },
    {
     "data": {
      "text/html": [
       "<pre style=\"white-space:pre;overflow-x:auto;line-height:normal;font-family:Menlo,'DejaVu Sans Mono',consolas,'Courier New',monospace\">🔄 **EXPERIMENTAL SETUP**: Resetting environment for clean LLM test<span style=\"color: #808000; text-decoration-color: #808000\">...</span>\n",
       "</pre>\n"
      ],
      "text/plain": [
       "🔄 **EXPERIMENTAL SETUP**: Resetting environment for clean LLM test\u001b[33m...\u001b[0m\n"
      ]
     },
     "metadata": {},
     "output_type": "display_data"
    },
    {
     "data": {
      "text/html": [
       "<pre style=\"white-space:pre;overflow-x:auto;line-height:normal;font-family:Menlo,'DejaVu Sans Mono',consolas,'Courier New',monospace\">🎯 Activating scenario: Heat Wave Crisis - LLM Test\n",
       "</pre>\n"
      ],
      "text/plain": [
       "🎯 Activating scenario: Heat Wave Crisis - LLM Test\n"
      ]
     },
     "metadata": {},
     "output_type": "display_data"
    },
    {
     "data": {
      "text/html": [
       "<pre style=\"white-space:pre;overflow-x:auto;line-height:normal;font-family:Menlo,'DejaVu Sans Mono',consolas,'Courier New',monospace\">🔄 Resetting all service states<span style=\"color: #808000; text-decoration-color: #808000\">...</span>\n",
       "</pre>\n"
      ],
      "text/plain": [
       "🔄 Resetting all service states\u001b[33m...\u001b[0m\n"
      ]
     },
     "metadata": {},
     "output_type": "display_data"
    },
    {
     "data": {
      "text/html": [
       "<pre style=\"white-space:pre;overflow-x:auto;line-height:normal;font-family:Menlo,'DejaVu Sans Mono',consolas,'Courier New',monospace\">  ✅ GRID state reset\n",
       "</pre>\n"
      ],
      "text/plain": [
       "  ✅ GRID state reset\n"
      ]
     },
     "metadata": {},
     "output_type": "display_data"
    },
    {
     "data": {
      "text/html": [
       "<pre style=\"white-space:pre;overflow-x:auto;line-height:normal;font-family:Menlo,'DejaVu Sans Mono',consolas,'Courier New',monospace\">  ✅ EMERGENCY state reset\n",
       "</pre>\n"
      ],
      "text/plain": [
       "  ✅ EMERGENCY state reset\n"
      ]
     },
     "metadata": {},
     "output_type": "display_data"
    },
    {
     "data": {
      "text/html": [
       "<pre style=\"white-space:pre;overflow-x:auto;line-height:normal;font-family:Menlo,'DejaVu Sans Mono',consolas,'Courier New',monospace\">  ✅ TRAFFIC state reset\n",
       "</pre>\n"
      ],
      "text/plain": [
       "  ✅ TRAFFIC state reset\n"
      ]
     },
     "metadata": {},
     "output_type": "display_data"
    },
    {
     "data": {
      "text/html": [
       "<pre style=\"white-space:pre;overflow-x:auto;line-height:normal;font-family:Menlo,'DejaVu Sans Mono',consolas,'Courier New',monospace\">  ✅ SCENARIO state reset\n",
       "</pre>\n"
      ],
      "text/plain": [
       "  ✅ SCENARIO state reset\n"
      ]
     },
     "metadata": {},
     "output_type": "display_data"
    },
    {
     "data": {
      "text/html": [
       "<pre style=\"white-space:pre;overflow-x:auto;line-height:normal;font-family:Menlo,'DejaVu Sans Mono',consolas,'Courier New',monospace\">  📋 Scenario created with ID: <span style=\"color: #ffff00; text-decoration-color: #ffff00\">adadbf01-4ef5-4ba4-bf53-cdfc6c9f39ac</span>\n",
       "</pre>\n"
      ],
      "text/plain": [
       "  📋 Scenario created with ID: \u001b[93madadbf01-4ef5-4ba4-bf53-cdfc6c9f39ac\u001b[0m\n"
      ]
     },
     "metadata": {},
     "output_type": "display_data"
    },
    {
     "data": {
      "text/html": [
       "<pre style=\"white-space:pre;overflow-x:auto;line-height:normal;font-family:Menlo,'DejaVu Sans Mono',consolas,'Courier New',monospace\">  ✅ Scenario <span style=\"color: #008000; text-decoration-color: #008000\">'Heat Wave Crisis - LLM Test'</span> activated successfully\n",
       "</pre>\n"
      ],
      "text/plain": [
       "  ✅ Scenario \u001b[32m'Heat Wave Crisis - LLM Test'\u001b[0m activated successfully\n"
      ]
     },
     "metadata": {},
     "output_type": "display_data"
    },
    {
     "data": {
      "text/html": [
       "<pre style=\"white-space:pre;overflow-x:auto;line-height:normal;font-family:Menlo,'DejaVu Sans Mono',consolas,'Courier New',monospace\">    ✅ GRID: State initialized\n",
       "</pre>\n"
      ],
      "text/plain": [
       "    ✅ GRID: State initialized\n"
      ]
     },
     "metadata": {},
     "output_type": "display_data"
    },
    {
     "data": {
      "text/html": [
       "<pre style=\"white-space:pre;overflow-x:auto;line-height:normal;font-family:Menlo,'DejaVu Sans Mono',consolas,'Courier New',monospace\">    ✅ EMERGENCY: State initialized\n",
       "</pre>\n"
      ],
      "text/plain": [
       "    ✅ EMERGENCY: State initialized\n"
      ]
     },
     "metadata": {},
     "output_type": "display_data"
    },
    {
     "data": {
      "text/html": [
       "<pre style=\"white-space:pre;overflow-x:auto;line-height:normal;font-family:Menlo,'DejaVu Sans Mono',consolas,'Courier New',monospace\">    ✅ TRAFFIC: State initialized\n",
       "</pre>\n"
      ],
      "text/plain": [
       "    ✅ TRAFFIC: State initialized\n"
      ]
     },
     "metadata": {},
     "output_type": "display_data"
    },
    {
     "data": {
      "text/html": [
       "<pre style=\"white-space:pre;overflow-x:auto;line-height:normal;font-family:Menlo,'DejaVu Sans Mono',consolas,'Courier New',monospace\"><span style=\"color: #808000; text-decoration-color: #808000\">╭─────────────────────────────────────────────────────────────────────────────────────────────────────────────────╮</span>\n",
       "<span style=\"color: #808000; text-decoration-color: #808000\">│</span> 🤖 **PHASE 2: Naive LLM Chain Approach**                                                                        <span style=\"color: #808000; text-decoration-color: #808000\">│</span>\n",
       "<span style=\"color: #808000; text-decoration-color: #808000\">│</span>                                                                                                                 <span style=\"color: #808000; text-decoration-color: #808000\">│</span>\n",
       "<span style=\"color: #808000; text-decoration-color: #808000\">│</span> 🎯 **Testing Hypothesis**: Can a single, sophisticated LLM call                                                 <span style=\"color: #808000; text-decoration-color: #808000\">│</span>\n",
       "<span style=\"color: #808000; text-decoration-color: #808000\">│</span> handle complex crisis coordination?                                                                             <span style=\"color: #808000; text-decoration-color: #808000\">│</span>\n",
       "<span style=\"color: #808000; text-decoration-color: #808000\">│</span>                                                                                                                 <span style=\"color: #808000; text-decoration-color: #808000\">│</span>\n",
       "<span style=\"color: #808000; text-decoration-color: #808000\">│</span> 📚 **Educational Focus**: Understanding the limits of single-agent approaches                                   <span style=\"color: #808000; text-decoration-color: #808000\">│</span>\n",
       "<span style=\"color: #808000; text-decoration-color: #808000\">│</span> 🔬 **Method**: Comprehensive context + expert prompting + structured output                                     <span style=\"color: #808000; text-decoration-color: #808000\">│</span>\n",
       "<span style=\"color: #808000; text-decoration-color: #808000\">│</span> 📊 **Measurement**: Success rate, decision quality, coordination effectiveness                                  <span style=\"color: #808000; text-decoration-color: #808000\">│</span>\n",
       "<span style=\"color: #808000; text-decoration-color: #808000\">╰─────────────────────────────────────────────────────────────────────────────────────────────────────────────────╯</span>\n",
       "</pre>\n"
      ],
      "text/plain": [
       "\u001b[33m╭─────────────────────────────────────────────────────────────────────────────────────────────────────────────────╮\u001b[0m\n",
       "\u001b[33m│\u001b[0m 🤖 **PHASE 2: Naive LLM Chain Approach**                                                                        \u001b[33m│\u001b[0m\n",
       "\u001b[33m│\u001b[0m                                                                                                                 \u001b[33m│\u001b[0m\n",
       "\u001b[33m│\u001b[0m 🎯 **Testing Hypothesis**: Can a single, sophisticated LLM call                                                 \u001b[33m│\u001b[0m\n",
       "\u001b[33m│\u001b[0m handle complex crisis coordination?                                                                             \u001b[33m│\u001b[0m\n",
       "\u001b[33m│\u001b[0m                                                                                                                 \u001b[33m│\u001b[0m\n",
       "\u001b[33m│\u001b[0m 📚 **Educational Focus**: Understanding the limits of single-agent approaches                                   \u001b[33m│\u001b[0m\n",
       "\u001b[33m│\u001b[0m 🔬 **Method**: Comprehensive context + expert prompting + structured output                                     \u001b[33m│\u001b[0m\n",
       "\u001b[33m│\u001b[0m 📊 **Measurement**: Success rate, decision quality, coordination effectiveness                                  \u001b[33m│\u001b[0m\n",
       "\u001b[33m╰─────────────────────────────────────────────────────────────────────────────────────────────────────────────────╯\u001b[0m\n"
      ]
     },
     "metadata": {},
     "output_type": "display_data"
    },
    {
     "data": {
      "text/html": [
       "<pre style=\"white-space:pre;overflow-x:auto;line-height:normal;font-family:Menlo,'DejaVu Sans Mono',consolas,'Courier New',monospace\">📝 **STEP <span style=\"color: #008080; text-decoration-color: #008080; font-weight: bold\">1</span>**: Building comprehensive LLM context with real-time service data<span style=\"color: #808000; text-decoration-color: #808000\">...</span>\n",
       "</pre>\n"
      ],
      "text/plain": [
       "📝 **STEP \u001b[1;36m1\u001b[0m**: Building comprehensive LLM context with real-time service data\u001b[33m...\u001b[0m\n"
      ]
     },
     "metadata": {},
     "output_type": "display_data"
    },
    {
     "data": {
      "text/html": [
       "<pre style=\"white-space:pre;overflow-x:auto;line-height:normal;font-family:Menlo,'DejaVu Sans Mono',consolas,'Courier New',monospace\">🎓 **Learning**: Notice how much context we can provide to a single LLM\n",
       "</pre>\n"
      ],
      "text/plain": [
       "🎓 **Learning**: Notice how much context we can provide to a single LLM\n"
      ]
     },
     "metadata": {},
     "output_type": "display_data"
    },
    {
     "data": {
      "text/html": [
       "<pre style=\"white-space:pre;overflow-x:auto;line-height:normal;font-family:Menlo,'DejaVu Sans Mono',consolas,'Courier New',monospace\">📊 **STEP <span style=\"color: #008080; text-decoration-color: #008080; font-weight: bold\">2</span>**: Providing dynamic resource discovery results<span style=\"color: #808000; text-decoration-color: #808000\">...</span>\n",
       "</pre>\n"
      ],
      "text/plain": [
       "📊 **STEP \u001b[1;36m2\u001b[0m**: Providing dynamic resource discovery results\u001b[33m...\u001b[0m\n"
      ]
     },
     "metadata": {},
     "output_type": "display_data"
    },
    {
     "data": {
      "text/html": [
       "<pre style=\"white-space:pre;overflow-x:auto;line-height:normal;font-family:Menlo,'DejaVu Sans Mono',consolas,'Courier New',monospace\">   Available Resources: <span style=\"color: #008080; text-decoration-color: #008080; font-weight: bold\">4</span> service categories discovered\n",
       "</pre>\n"
      ],
      "text/plain": [
       "   Available Resources: \u001b[1;36m4\u001b[0m service categories discovered\n"
      ]
     },
     "metadata": {},
     "output_type": "display_data"
    },
    {
     "data": {
      "text/html": [
       "<pre style=\"white-space:pre;overflow-x:auto;line-height:normal;font-family:Menlo,'DejaVu Sans Mono',consolas,'Courier New',monospace\">🧠 **STEP <span style=\"color: #008080; text-decoration-color: #008080; font-weight: bold\">3</span>**: Constructing expert-level crisis management prompt<span style=\"color: #808000; text-decoration-color: #808000\">...</span>\n",
       "</pre>\n"
      ],
      "text/plain": [
       "🧠 **STEP \u001b[1;36m3\u001b[0m**: Constructing expert-level crisis management prompt\u001b[33m...\u001b[0m\n"
      ]
     },
     "metadata": {},
     "output_type": "display_data"
    },
    {
     "data": {
      "text/html": [
       "<pre style=\"white-space:pre;overflow-x:auto;line-height:normal;font-family:Menlo,'DejaVu Sans Mono',consolas,'Courier New',monospace\">🚀 **STEP <span style=\"color: #008080; text-decoration-color: #008080; font-weight: bold\">4</span>**: Executing sophisticated LLM call for crisis coordination<span style=\"color: #808000; text-decoration-color: #808000\">...</span>\n",
       "</pre>\n"
      ],
      "text/plain": [
       "🚀 **STEP \u001b[1;36m4\u001b[0m**: Executing sophisticated LLM call for crisis coordination\u001b[33m...\u001b[0m\n"
      ]
     },
     "metadata": {},
     "output_type": "display_data"
    },
    {
     "data": {
      "text/html": [
       "<pre style=\"white-space:pre;overflow-x:auto;line-height:normal;font-family:Menlo,'DejaVu Sans Mono',consolas,'Courier New',monospace\">⏱️ **Timing**: Measuring response time and decision quality<span style=\"color: #808000; text-decoration-color: #808000\">...</span>\n",
       "</pre>\n"
      ],
      "text/plain": [
       "⏱️ **Timing**: Measuring response time and decision quality\u001b[33m...\u001b[0m\n"
      ]
     },
     "metadata": {},
     "output_type": "display_data"
    },
    {
     "name": "stderr",
     "output_type": "stream",
     "text": [
      "\u001b[36m\u001b[1mweave\u001b[0m: 🍩 https://wandb.ai/a-sh0ts/fc-workshop-track-2/r/call/01977d96-55ac-7897-8493-10911cf70f4f\n",
      "INFO:weave.trace.op:🍩 https://wandb.ai/a-sh0ts/fc-workshop-track-2/r/call/01977d96-55ac-7897-8493-10911cf70f4f\n",
      "\u001b[36m\u001b[1mweave\u001b[0m: 🍩 https://wandb.ai/a-sh0ts/fc-workshop-track-2/r/call/01977d96-952d-7cbe-af1a-c2d1b227b949\n",
      "INFO:weave.trace.op:🍩 https://wandb.ai/a-sh0ts/fc-workshop-track-2/r/call/01977d96-952d-7cbe-af1a-c2d1b227b949\n",
      "\u001b[36m\u001b[1mweave\u001b[0m: 🍩 https://wandb.ai/a-sh0ts/fc-workshop-track-2/r/call/01977d96-9dd1-70d5-8067-224ac8eddcee\n",
      "INFO:weave.trace.op:🍩 https://wandb.ai/a-sh0ts/fc-workshop-track-2/r/call/01977d96-9dd1-70d5-8067-224ac8eddcee\n",
      "\u001b[36m\u001b[1mweave\u001b[0m: 🍩 https://wandb.ai/a-sh0ts/fc-workshop-track-2/r/call/01977d96-9fa9-7534-86db-73c79123945e\n",
      "INFO:weave.trace.op:🍩 https://wandb.ai/a-sh0ts/fc-workshop-track-2/r/call/01977d96-9fa9-7534-86db-73c79123945e\n",
      "\u001b[36m\u001b[1mweave\u001b[0m: 🍩 https://wandb.ai/a-sh0ts/fc-workshop-track-2/r/call/01977d96-d5c5-7c23-bedf-74f0c8a0b128\n",
      "INFO:weave.trace.op:🍩 https://wandb.ai/a-sh0ts/fc-workshop-track-2/r/call/01977d96-d5c5-7c23-bedf-74f0c8a0b128\n",
      "\u001b[36m\u001b[1mweave\u001b[0m: 🍩 https://wandb.ai/a-sh0ts/fc-workshop-track-2/r/call/01977d96-e093-708c-833f-58b532feff63\n",
      "INFO:weave.trace.op:🍩 https://wandb.ai/a-sh0ts/fc-workshop-track-2/r/call/01977d96-e093-708c-833f-58b532feff63\n",
      "\u001b[36m\u001b[1mweave\u001b[0m: 🍩 https://wandb.ai/a-sh0ts/fc-workshop-track-2/r/call/01977d96-e04c-7ec1-bad9-eada37a81794\n",
      "INFO:weave.trace.op:🍩 https://wandb.ai/a-sh0ts/fc-workshop-track-2/r/call/01977d96-e04c-7ec1-bad9-eada37a81794\n",
      "\u001b[36m\u001b[1mweave\u001b[0m: 🍩 https://wandb.ai/a-sh0ts/fc-workshop-track-2/r/call/01977d97-3ecb-764d-8215-be0dba1d3365\n",
      "INFO:weave.trace.op:🍩 https://wandb.ai/a-sh0ts/fc-workshop-track-2/r/call/01977d97-3ecb-764d-8215-be0dba1d3365\n",
      "\u001b[36m\u001b[1mweave\u001b[0m: 🍩 https://wandb.ai/a-sh0ts/fc-workshop-track-2/r/call/01977d97-33e2-79d2-bf28-ad2c2e6d7cc6\n",
      "INFO:weave.trace.op:🍩 https://wandb.ai/a-sh0ts/fc-workshop-track-2/r/call/01977d97-33e2-79d2-bf28-ad2c2e6d7cc6\n",
      "\u001b[36m\u001b[1mweave\u001b[0m: 🍩 https://wandb.ai/a-sh0ts/fc-workshop-track-2/r/call/01977d97-2b62-7407-adc7-a4444e47e222\n",
      "INFO:weave.trace.op:🍩 https://wandb.ai/a-sh0ts/fc-workshop-track-2/r/call/01977d97-2b62-7407-adc7-a4444e47e222\n",
      "\u001b[36m\u001b[1mweave\u001b[0m: 🍩 https://wandb.ai/a-sh0ts/fc-workshop-track-2/r/call/01977d97-8065-73b8-b18b-0809f7b553c9\n",
      "INFO:weave.trace.op:🍩 https://wandb.ai/a-sh0ts/fc-workshop-track-2/r/call/01977d97-8065-73b8-b18b-0809f7b553c9\n",
      "\u001b[36m\u001b[1mweave\u001b[0m: 🍩 https://wandb.ai/a-sh0ts/fc-workshop-track-2/r/call/01977d97-7fb0-7497-b3a3-46f8efbbdcd1\n",
      "INFO:weave.trace.op:🍩 https://wandb.ai/a-sh0ts/fc-workshop-track-2/r/call/01977d97-7fb0-7497-b3a3-46f8efbbdcd1\n",
      "\u001b[36m\u001b[1mweave\u001b[0m: 🍩 https://wandb.ai/a-sh0ts/fc-workshop-track-2/r/call/01977d97-889a-72bf-85d4-2d28ec800b0b\n",
      "INFO:weave.trace.op:🍩 https://wandb.ai/a-sh0ts/fc-workshop-track-2/r/call/01977d97-889a-72bf-85d4-2d28ec800b0b\n",
      "\u001b[36m\u001b[1mweave\u001b[0m: 🍩 https://wandb.ai/a-sh0ts/fc-workshop-track-2/r/call/01977d97-88f3-7888-9fe2-b159b4e06816\n",
      "INFO:weave.trace.op:🍩 https://wandb.ai/a-sh0ts/fc-workshop-track-2/r/call/01977d97-88f3-7888-9fe2-b159b4e06816\n",
      "\u001b[36m\u001b[1mweave\u001b[0m: 🍩 https://wandb.ai/a-sh0ts/fc-workshop-track-2/r/call/01977d97-8931-76d1-9632-73a75496f36c\n",
      "INFO:weave.trace.op:🍩 https://wandb.ai/a-sh0ts/fc-workshop-track-2/r/call/01977d97-8931-76d1-9632-73a75496f36c\n",
      "\u001b[36m\u001b[1mweave\u001b[0m: 🍩 https://wandb.ai/a-sh0ts/fc-workshop-track-2/r/call/01977d97-8a8d-7ebe-ba7b-f176eae9734b\n",
      "INFO:weave.trace.op:🍩 https://wandb.ai/a-sh0ts/fc-workshop-track-2/r/call/01977d97-8a8d-7ebe-ba7b-f176eae9734b\n",
      "\u001b[36m\u001b[1mweave\u001b[0m: 🍩 https://wandb.ai/a-sh0ts/fc-workshop-track-2/r/call/01977d9b-d5a9-77bc-9c64-61d2883f3277\n",
      "INFO:weave.trace.op:🍩 https://wandb.ai/a-sh0ts/fc-workshop-track-2/r/call/01977d9b-d5a9-77bc-9c64-61d2883f3277\n",
      "\u001b[36m\u001b[1mweave\u001b[0m: 🍩 https://wandb.ai/a-sh0ts/fc-workshop-track-2/r/call/01977d9b-d6a2-7a24-9de2-9823c45e85be\n",
      "INFO:weave.trace.op:🍩 https://wandb.ai/a-sh0ts/fc-workshop-track-2/r/call/01977d9b-d6a2-7a24-9de2-9823c45e85be\n",
      "\u001b[36m\u001b[1mweave\u001b[0m: 🍩 https://wandb.ai/a-sh0ts/fc-workshop-track-2/r/call/01977da0-6862-7be8-a93c-23fefc859d41\n",
      "INFO:weave.trace.op:🍩 https://wandb.ai/a-sh0ts/fc-workshop-track-2/r/call/01977da0-6862-7be8-a93c-23fefc859d41\n",
      "\u001b[36m\u001b[1mweave\u001b[0m: 🍩 https://wandb.ai/a-sh0ts/fc-workshop-track-2/r/call/01977da0-68da-774e-8e78-faa0f375cd1e\n",
      "INFO:weave.trace.op:🍩 https://wandb.ai/a-sh0ts/fc-workshop-track-2/r/call/01977da0-68da-774e-8e78-faa0f375cd1e\n"
     ]
    },
    {
     "data": {
      "text/html": [
       "<pre style=\"white-space:pre;overflow-x:auto;line-height:normal;font-family:Menlo,'DejaVu Sans Mono',consolas,'Courier New',monospace\">📝 LLM Response Length: <span style=\"color: #008080; text-decoration-color: #008080; font-weight: bold\">2324</span> characters\n",
       "</pre>\n"
      ],
      "text/plain": [
       "📝 LLM Response Length: \u001b[1;36m2324\u001b[0m characters\n"
      ]
     },
     "metadata": {},
     "output_type": "display_data"
    },
    {
     "data": {
      "text/html": [
       "<pre style=\"white-space:pre;overflow-x:auto;line-height:normal;font-family:Menlo,'DejaVu Sans Mono',consolas,'Courier New',monospace\">✅ Successfully parsed <span style=\"color: #008080; text-decoration-color: #008080; font-weight: bold\">5</span> commands from LLM\n",
       "</pre>\n"
      ],
      "text/plain": [
       "✅ Successfully parsed \u001b[1;36m5\u001b[0m commands from LLM\n"
      ]
     },
     "metadata": {},
     "output_type": "display_data"
    },
    {
     "data": {
      "text/html": [
       "<pre style=\"white-space:pre;overflow-x:auto;line-height:normal;font-family:Menlo,'DejaVu Sans Mono',consolas,'Courier New',monospace\">📊 Strategy: The strategy focuses on stabilizing the grid by adjusting load distribution, prioritizing critical \n",
       "i<span style=\"color: #808000; text-decoration-color: #808000\">...</span>\n",
       "</pre>\n"
      ],
      "text/plain": [
       "📊 Strategy: The strategy focuses on stabilizing the grid by adjusting load distribution, prioritizing critical \n",
       "i\u001b[33m...\u001b[0m\n"
      ]
     },
     "metadata": {},
     "output_type": "display_data"
    },
    {
     "data": {
      "text/html": [
       "<pre style=\"white-space:pre;overflow-x:auto;line-height:normal;font-family:Menlo,'DejaVu Sans Mono',consolas,'Courier New',monospace\">\n",
       "🎯 Executing <span style=\"color: #008080; text-decoration-color: #008080; font-weight: bold\">5</span> LLM-generated actions<span style=\"color: #808000; text-decoration-color: #808000\">...</span>\n",
       "</pre>\n"
      ],
      "text/plain": [
       "\n",
       "🎯 Executing \u001b[1;36m5\u001b[0m LLM-generated actions\u001b[33m...\u001b[0m\n"
      ]
     },
     "metadata": {},
     "output_type": "display_data"
    },
    {
     "data": {
      "text/html": [
       "<pre style=\"white-space:pre;overflow-x:auto;line-height:normal;font-family:Menlo,'DejaVu Sans Mono',consolas,'Courier New',monospace\">\n",
       "🎯 Action <span style=\"color: #008080; text-decoration-color: #008080; font-weight: bold\">1</span>: Reducing the load capacity of zone Z001 will help alleviate stress on the grid and prevent potential \n",
       "outages.\n",
       "</pre>\n"
      ],
      "text/plain": [
       "\n",
       "🎯 Action \u001b[1;36m1\u001b[0m: Reducing the load capacity of zone Z001 will help alleviate stress on the grid and prevent potential \n",
       "outages.\n"
      ]
     },
     "metadata": {},
     "output_type": "display_data"
    },
    {
     "name": "stderr",
     "output_type": "stream",
     "text": [
      "INFO:command:Executing adjust_zone on ServiceType.GRID service\n"
     ]
    },
    {
     "data": {
      "text/html": [
       "<pre style=\"white-space:pre;overflow-x:auto;line-height:normal;font-family:Menlo,'DejaVu Sans Mono',consolas,'Courier New',monospace\">  ✅ SUCCESS: grid.adjust_zone\n",
       "</pre>\n"
      ],
      "text/plain": [
       "  ✅ SUCCESS: grid.adjust_zone\n"
      ]
     },
     "metadata": {},
     "output_type": "display_data"
    },
    {
     "data": {
      "text/html": [
       "<pre style=\"white-space:pre;overflow-x:auto;line-height:normal;font-family:Menlo,'DejaVu Sans Mono',consolas,'Courier New',monospace\">\n",
       "🎯 Action <span style=\"color: #008080; text-decoration-color: #008080; font-weight: bold\">2</span>: The hospital is a critical infrastructure that must be prioritized to ensure it has the necessary \n",
       "power supply during the heat wave.\n",
       "</pre>\n"
      ],
      "text/plain": [
       "\n",
       "🎯 Action \u001b[1;36m2\u001b[0m: The hospital is a critical infrastructure that must be prioritized to ensure it has the necessary \n",
       "power supply during the heat wave.\n"
      ]
     },
     "metadata": {},
     "output_type": "display_data"
    },
    {
     "name": "stderr",
     "output_type": "stream",
     "text": [
      "INFO:command:Executing set_priority on ServiceType.GRID service\n"
     ]
    },
    {
     "data": {
      "text/html": [
       "<pre style=\"white-space:pre;overflow-x:auto;line-height:normal;font-family:Menlo,'DejaVu Sans Mono',consolas,'Courier New',monospace\">  ✅ SUCCESS: grid.set_priority\n",
       "</pre>\n"
      ],
      "text/plain": [
       "  ✅ SUCCESS: grid.set_priority\n"
      ]
     },
     "metadata": {},
     "output_type": "display_data"
    },
    {
     "data": {
      "text/html": [
       "<pre style=\"white-space:pre;overflow-x:auto;line-height:normal;font-family:Menlo,'DejaVu Sans Mono',consolas,'Courier New',monospace\">\n",
       "🎯 Action <span style=\"color: #008080; text-decoration-color: #008080; font-weight: bold\">3</span>: Assigning drone D002, which has power capabilities, to incident E-<span style=\"color: #008080; text-decoration-color: #008080; font-weight: bold\">1001</span> will help assess and manage the\n",
       "situation in zone Z001.\n",
       "</pre>\n"
      ],
      "text/plain": [
       "\n",
       "🎯 Action \u001b[1;36m3\u001b[0m: Assigning drone D002, which has power capabilities, to incident E-\u001b[1;36m1001\u001b[0m will help assess and manage the\n",
       "situation in zone Z001.\n"
      ]
     },
     "metadata": {},
     "output_type": "display_data"
    },
    {
     "name": "stderr",
     "output_type": "stream",
     "text": [
      "INFO:command:Executing assign_drone on ServiceType.EMERGENCY service\n"
     ]
    },
    {
     "data": {
      "text/html": [
       "<pre style=\"white-space:pre;overflow-x:auto;line-height:normal;font-family:Menlo,'DejaVu Sans Mono',consolas,'Courier New',monospace\">  ✅ SUCCESS: emergency.assign_drone\n",
       "</pre>\n"
      ],
      "text/plain": [
       "  ✅ SUCCESS: emergency.assign_drone\n"
      ]
     },
     "metadata": {},
     "output_type": "display_data"
    },
    {
     "data": {
      "text/html": [
       "<pre style=\"white-space:pre;overflow-x:auto;line-height:normal;font-family:Menlo,'DejaVu Sans Mono',consolas,'Courier New',monospace\">\n",
       "🎯 Action <span style=\"color: #008080; text-decoration-color: #008080; font-weight: bold\">4</span>: Drone D004 can provide medical support and power assistance to incident E-<span style=\"color: #008080; text-decoration-color: #008080; font-weight: bold\">1003</span>, which is critical in \n",
       "zone Z001.\n",
       "</pre>\n"
      ],
      "text/plain": [
       "\n",
       "🎯 Action \u001b[1;36m4\u001b[0m: Drone D004 can provide medical support and power assistance to incident E-\u001b[1;36m1003\u001b[0m, which is critical in \n",
       "zone Z001.\n"
      ]
     },
     "metadata": {},
     "output_type": "display_data"
    },
    {
     "name": "stderr",
     "output_type": "stream",
     "text": [
      "INFO:command:Executing assign_drone on ServiceType.EMERGENCY service\n"
     ]
    },
    {
     "data": {
      "text/html": [
       "<pre style=\"white-space:pre;overflow-x:auto;line-height:normal;font-family:Menlo,'DejaVu Sans Mono',consolas,'Courier New',monospace\">  ✅ SUCCESS: emergency.assign_drone\n",
       "</pre>\n"
      ],
      "text/plain": [
       "  ✅ SUCCESS: emergency.assign_drone\n"
      ]
     },
     "metadata": {},
     "output_type": "display_data"
    },
    {
     "data": {
      "text/html": [
       "<pre style=\"white-space:pre;overflow-x:auto;line-height:normal;font-family:Menlo,'DejaVu Sans Mono',consolas,'Courier New',monospace\">\n",
       "🎯 Action <span style=\"color: #008080; text-decoration-color: #008080; font-weight: bold\">5</span>: Redirecting traffic in sector S001 will help reduce congestion and ensure that emergency vehicles can \n",
       "access critical areas quickly.\n",
       "</pre>\n"
      ],
      "text/plain": [
       "\n",
       "🎯 Action \u001b[1;36m5\u001b[0m: Redirecting traffic in sector S001 will help reduce congestion and ensure that emergency vehicles can \n",
       "access critical areas quickly.\n"
      ]
     },
     "metadata": {},
     "output_type": "display_data"
    },
    {
     "name": "stderr",
     "output_type": "stream",
     "text": [
      "INFO:command:Executing redirect on ServiceType.TRAFFIC service\n"
     ]
    },
    {
     "data": {
      "text/html": [
       "<pre style=\"white-space:pre;overflow-x:auto;line-height:normal;font-family:Menlo,'DejaVu Sans Mono',consolas,'Courier New',monospace\">  ✅ SUCCESS: traffic.redirect\n",
       "</pre>\n"
      ],
      "text/plain": [
       "  ✅ SUCCESS: traffic.redirect\n"
      ]
     },
     "metadata": {},
     "output_type": "display_data"
    },
    {
     "data": {
      "text/html": [
       "<pre style=\"white-space:pre;overflow-x:auto;line-height:normal;font-family:Menlo,'DejaVu Sans Mono',consolas,'Courier New',monospace\">📊 Results saved to workshop_experiment_results.json\n",
       "</pre>\n"
      ],
      "text/plain": [
       "📊 Results saved to workshop_experiment_results.json\n"
      ]
     },
     "metadata": {},
     "output_type": "display_data"
    },
    {
     "data": {
      "text/html": [
       "<pre style=\"white-space:pre;overflow-x:auto;line-height:normal;font-family:Menlo,'DejaVu Sans Mono',consolas,'Courier New',monospace\"><span style=\"color: #808000; text-decoration-color: #808000\">╭───────────────────────────────── Naive LLM Results (Sophisticated but Limited) ─────────────────────────────────╮</span>\n",
       "<span style=\"color: #808000; text-decoration-color: #808000\">│</span> 🎯 Naive LLM Success Rate: 100.0%                                                                               <span style=\"color: #808000; text-decoration-color: #808000\">│</span>\n",
       "<span style=\"color: #808000; text-decoration-color: #808000\">│</span>                                                                                                                 <span style=\"color: #808000; text-decoration-color: #808000\">│</span>\n",
       "<span style=\"color: #808000; text-decoration-color: #808000\">│</span> ✅ Successful actions: 5                                                                                        <span style=\"color: #808000; text-decoration-color: #808000\">│</span>\n",
       "<span style=\"color: #808000; text-decoration-color: #808000\">│</span> ❌ Failed actions: 0                                                                                            <span style=\"color: #808000; text-decoration-color: #808000\">│</span>\n",
       "<span style=\"color: #808000; text-decoration-color: #808000\">│</span> 📊 Total actions attempted: 5                                                                                   <span style=\"color: #808000; text-decoration-color: #808000\">│</span>\n",
       "<span style=\"color: #808000; text-decoration-color: #808000\">│</span>                                                                                                                 <span style=\"color: #808000; text-decoration-color: #808000\">│</span>\n",
       "<span style=\"color: #808000; text-decoration-color: #808000\">│</span> **Why this approach has limitations (despite sophistication):**                                                 <span style=\"color: #808000; text-decoration-color: #808000\">│</span>\n",
       "<span style=\"color: #808000; text-decoration-color: #808000\">│</span> • Single decision point - no adaptation to intermediate results                                                 <span style=\"color: #808000; text-decoration-color: #808000\">│</span>\n",
       "<span style=\"color: #808000; text-decoration-color: #808000\">│</span> • No memory - can't learn from action outcomes                                                                  <span style=\"color: #808000; text-decoration-color: #808000\">│</span>\n",
       "<span style=\"color: #808000; text-decoration-color: #808000\">│</span> • No coordination feedback - services can't communicate back                                                    <span style=\"color: #808000; text-decoration-color: #808000\">│</span>\n",
       "<span style=\"color: #808000; text-decoration-color: #808000\">│</span> • Context window limits - can't process unlimited real-time data                                                <span style=\"color: #808000; text-decoration-color: #808000\">│</span>\n",
       "<span style=\"color: #808000; text-decoration-color: #808000\">│</span> • No iterative refinement - one shot approach                                                                   <span style=\"color: #808000; text-decoration-color: #808000\">│</span>\n",
       "<span style=\"color: #808000; text-decoration-color: #808000\">╰─────────────────────────────────────────────────────────────────────────────────────────────────────────────────╯</span>\n",
       "</pre>\n"
      ],
      "text/plain": [
       "\u001b[33m╭─\u001b[0m\u001b[33m────────────────────────────────\u001b[0m\u001b[33m Naive LLM Results (Sophisticated but Limited) \u001b[0m\u001b[33m────────────────────────────────\u001b[0m\u001b[33m─╮\u001b[0m\n",
       "\u001b[33m│\u001b[0m 🎯 Naive LLM Success Rate: 100.0%                                                                               \u001b[33m│\u001b[0m\n",
       "\u001b[33m│\u001b[0m                                                                                                                 \u001b[33m│\u001b[0m\n",
       "\u001b[33m│\u001b[0m ✅ Successful actions: 5                                                                                        \u001b[33m│\u001b[0m\n",
       "\u001b[33m│\u001b[0m ❌ Failed actions: 0                                                                                            \u001b[33m│\u001b[0m\n",
       "\u001b[33m│\u001b[0m 📊 Total actions attempted: 5                                                                                   \u001b[33m│\u001b[0m\n",
       "\u001b[33m│\u001b[0m                                                                                                                 \u001b[33m│\u001b[0m\n",
       "\u001b[33m│\u001b[0m **Why this approach has limitations (despite sophistication):**                                                 \u001b[33m│\u001b[0m\n",
       "\u001b[33m│\u001b[0m • Single decision point - no adaptation to intermediate results                                                 \u001b[33m│\u001b[0m\n",
       "\u001b[33m│\u001b[0m • No memory - can't learn from action outcomes                                                                  \u001b[33m│\u001b[0m\n",
       "\u001b[33m│\u001b[0m • No coordination feedback - services can't communicate back                                                    \u001b[33m│\u001b[0m\n",
       "\u001b[33m│\u001b[0m • Context window limits - can't process unlimited real-time data                                                \u001b[33m│\u001b[0m\n",
       "\u001b[33m│\u001b[0m • No iterative refinement - one shot approach                                                                   \u001b[33m│\u001b[0m\n",
       "\u001b[33m╰─────────────────────────────────────────────────────────────────────────────────────────────────────────────────╯\u001b[0m\n"
      ]
     },
     "metadata": {},
     "output_type": "display_data"
    },
    {
     "data": {
      "text/html": [
       "<pre style=\"white-space:pre;overflow-x:auto;line-height:normal;font-family:Menlo,'DejaVu Sans Mono',consolas,'Courier New',monospace\"><span style=\"color: #008000; text-decoration-color: #008000\">╭───────────────────────────────────────── Interactive Analysis Exercise ─────────────────────────────────────────╮</span>\n",
       "<span style=\"color: #008000; text-decoration-color: #008000\">│</span> 🛠️ **HANDS-ON ANALYSIS: Phase 2 Results**                                                                        <span style=\"color: #008000; text-decoration-color: #008000\">│</span>\n",
       "<span style=\"color: #008000; text-decoration-color: #008000\">│</span>                                                                                                                 <span style=\"color: #008000; text-decoration-color: #008000\">│</span>\n",
       "<span style=\"color: #008000; text-decoration-color: #008000\">│</span> **👨‍💻 Analyze the LLM's Performance:**                                                                         <span style=\"color: #008000; text-decoration-color: #008000\">│</span>\n",
       "<span style=\"color: #008000; text-decoration-color: #008000\">│</span>                                                                                                                 <span style=\"color: #008000; text-decoration-color: #008000\">│</span>\n",
       "<span style=\"color: #008000; text-decoration-color: #008000\">│</span> 1. **Action Quality**: Look at the actions the LLM generated above                                              <span style=\"color: #008000; text-decoration-color: #008000\">│</span>\n",
       "<span style=\"color: #008000; text-decoration-color: #008000\">│</span> 2. **Coordination**: Did the LLM coordinate well across services?                                               <span style=\"color: #008000; text-decoration-color: #008000\">│</span>\n",
       "<span style=\"color: #008000; text-decoration-color: #008000\">│</span> 3. **Resource Usage**: How did it handle dynamic resource discovery?                                            <span style=\"color: #008000; text-decoration-color: #008000\">│</span>\n",
       "<span style=\"color: #008000; text-decoration-color: #008000\">│</span> 4. **Reasoning**: Was the LLM's reasoning for each action sound?                                                <span style=\"color: #008000; text-decoration-color: #008000\">│</span>\n",
       "<span style=\"color: #008000; text-decoration-color: #008000\">│</span> 5. **Completeness**: Did it address all aspects of the crisis?                                                  <span style=\"color: #008000; text-decoration-color: #008000\">│</span>\n",
       "<span style=\"color: #008000; text-decoration-color: #008000\">│</span>                                                                                                                 <span style=\"color: #008000; text-decoration-color: #008000\">│</span>\n",
       "<span style=\"color: #008000; text-decoration-color: #008000\">│</span> 💡 **Reflection Questions**:                                                                                    <span style=\"color: #008000; text-decoration-color: #008000\">│</span>\n",
       "<span style=\"color: #008000; text-decoration-color: #008000\">│</span> • What would happen if the crisis evolved during execution?                                                     <span style=\"color: #008000; text-decoration-color: #008000\">│</span>\n",
       "<span style=\"color: #008000; text-decoration-color: #008000\">│</span> • How would the LLM handle conflicting priorities?                                                              <span style=\"color: #008000; text-decoration-color: #008000\">│</span>\n",
       "<span style=\"color: #008000; text-decoration-color: #008000\">│</span> • Could this approach scale to more complex scenarios?                                                          <span style=\"color: #008000; text-decoration-color: #008000\">│</span>\n",
       "<span style=\"color: #008000; text-decoration-color: #008000\">╰─────────────────────────────────────────────────────────────────────────────────────────────────────────────────╯</span>\n",
       "</pre>\n"
      ],
      "text/plain": [
       "\u001b[32m╭─\u001b[0m\u001b[32m────────────────────────────────────────\u001b[0m\u001b[32m Interactive Analysis Exercise \u001b[0m\u001b[32m────────────────────────────────────────\u001b[0m\u001b[32m─╮\u001b[0m\n",
       "\u001b[32m│\u001b[0m 🛠️ **HANDS-ON ANALYSIS: Phase 2 Results**                                                                        \u001b[32m│\u001b[0m\n",
       "\u001b[32m│\u001b[0m                                                                                                                 \u001b[32m│\u001b[0m\n",
       "\u001b[32m│\u001b[0m **👨‍💻 Analyze the LLM's Performance:**                                                                         \u001b[32m│\u001b[0m\n",
       "\u001b[32m│\u001b[0m                                                                                                                 \u001b[32m│\u001b[0m\n",
       "\u001b[32m│\u001b[0m 1. **Action Quality**: Look at the actions the LLM generated above                                              \u001b[32m│\u001b[0m\n",
       "\u001b[32m│\u001b[0m 2. **Coordination**: Did the LLM coordinate well across services?                                               \u001b[32m│\u001b[0m\n",
       "\u001b[32m│\u001b[0m 3. **Resource Usage**: How did it handle dynamic resource discovery?                                            \u001b[32m│\u001b[0m\n",
       "\u001b[32m│\u001b[0m 4. **Reasoning**: Was the LLM's reasoning for each action sound?                                                \u001b[32m│\u001b[0m\n",
       "\u001b[32m│\u001b[0m 5. **Completeness**: Did it address all aspects of the crisis?                                                  \u001b[32m│\u001b[0m\n",
       "\u001b[32m│\u001b[0m                                                                                                                 \u001b[32m│\u001b[0m\n",
       "\u001b[32m│\u001b[0m 💡 **Reflection Questions**:                                                                                    \u001b[32m│\u001b[0m\n",
       "\u001b[32m│\u001b[0m • What would happen if the crisis evolved during execution?                                                     \u001b[32m│\u001b[0m\n",
       "\u001b[32m│\u001b[0m • How would the LLM handle conflicting priorities?                                                              \u001b[32m│\u001b[0m\n",
       "\u001b[32m│\u001b[0m • Could this approach scale to more complex scenarios?                                                          \u001b[32m│\u001b[0m\n",
       "\u001b[32m╰─────────────────────────────────────────────────────────────────────────────────────────────────────────────────╯\u001b[0m\n"
      ]
     },
     "metadata": {},
     "output_type": "display_data"
    },
    {
     "data": {
      "text/html": [
       "<pre style=\"white-space:pre;overflow-x:auto;line-height:normal;font-family:Menlo,'DejaVu Sans Mono',consolas,'Courier New',monospace\"><span style=\"color: #008000; text-decoration-color: #008000\">╭─────────────────────────────────────────── Phase 2 Learning Summary ────────────────────────────────────────────╮</span>\n",
       "<span style=\"color: #008000; text-decoration-color: #008000\">│</span> ✅ **PHASE 2 COMPLETE: Naive LLM Approach Baseline Established**                                                <span style=\"color: #008000; text-decoration-color: #008000\">│</span>\n",
       "<span style=\"color: #008000; text-decoration-color: #008000\">│</span>                                                                                                                 <span style=\"color: #008000; text-decoration-color: #008000\">│</span>\n",
       "<span style=\"color: #008000; text-decoration-color: #008000\">│</span> 📊 **Quantitative Results**:                                                                                    <span style=\"color: #008000; text-decoration-color: #008000\">│</span>\n",
       "<span style=\"color: #008000; text-decoration-color: #008000\">│</span> • Success Rate: 100.0%                                                                                          <span style=\"color: #008000; text-decoration-color: #008000\">│</span>\n",
       "<span style=\"color: #008000; text-decoration-color: #008000\">│</span> • Actions Generated: 5                                                                                          <span style=\"color: #008000; text-decoration-color: #008000\">│</span>\n",
       "<span style=\"color: #008000; text-decoration-color: #008000\">│</span> • Approach: Single LLM with sophisticated prompting                                                             <span style=\"color: #008000; text-decoration-color: #008000\">│</span>\n",
       "<span style=\"color: #008000; text-decoration-color: #008000\">│</span>                                                                                                                 <span style=\"color: #008000; text-decoration-color: #008000\">│</span>\n",
       "<span style=\"color: #008000; text-decoration-color: #008000\">│</span> 🎓 **Key Learning Outcomes**:                                                                                   <span style=\"color: #008000; text-decoration-color: #008000\">│</span>\n",
       "<span style=\"color: #008000; text-decoration-color: #008000\">│</span> • Understanding why single LLM approaches have fundamental limits                                               <span style=\"color: #008000; text-decoration-color: #008000\">│</span>\n",
       "<span style=\"color: #008000; text-decoration-color: #008000\">│</span> • Appreciation for the complexity of multi-service coordination                                                 <span style=\"color: #008000; text-decoration-color: #008000\">│</span>\n",
       "<span style=\"color: #008000; text-decoration-color: #008000\">│</span> • Baseline measurement for comparing against agent approaches                                                   <span style=\"color: #008000; text-decoration-color: #008000\">│</span>\n",
       "<span style=\"color: #008000; text-decoration-color: #008000\">│</span> • Recognition that production systems need more than better prompts                                             <span style=\"color: #008000; text-decoration-color: #008000\">│</span>\n",
       "<span style=\"color: #008000; text-decoration-color: #008000\">│</span>                                                                                                                 <span style=\"color: #008000; text-decoration-color: #008000\">│</span>\n",
       "<span style=\"color: #008000; text-decoration-color: #008000\">│</span> 🚀 **Next Phase**: We'll build specialized agents for each service                                              <span style=\"color: #008000; text-decoration-color: #008000\">│</span>\n",
       "<span style=\"color: #008000; text-decoration-color: #008000\">│</span> domain and see how domain expertise improves coordination!                                                      <span style=\"color: #008000; text-decoration-color: #008000\">│</span>\n",
       "<span style=\"color: #008000; text-decoration-color: #008000\">╰─────────────────────────────────────────────────────────────────────────────────────────────────────────────────╯</span>\n",
       "</pre>\n"
      ],
      "text/plain": [
       "\u001b[32m╭─\u001b[0m\u001b[32m──────────────────────────────────────────\u001b[0m\u001b[32m Phase 2 Learning Summary \u001b[0m\u001b[32m───────────────────────────────────────────\u001b[0m\u001b[32m─╮\u001b[0m\n",
       "\u001b[32m│\u001b[0m ✅ **PHASE 2 COMPLETE: Naive LLM Approach Baseline Established**                                                \u001b[32m│\u001b[0m\n",
       "\u001b[32m│\u001b[0m                                                                                                                 \u001b[32m│\u001b[0m\n",
       "\u001b[32m│\u001b[0m 📊 **Quantitative Results**:                                                                                    \u001b[32m│\u001b[0m\n",
       "\u001b[32m│\u001b[0m • Success Rate: 100.0%                                                                                          \u001b[32m│\u001b[0m\n",
       "\u001b[32m│\u001b[0m • Actions Generated: 5                                                                                          \u001b[32m│\u001b[0m\n",
       "\u001b[32m│\u001b[0m • Approach: Single LLM with sophisticated prompting                                                             \u001b[32m│\u001b[0m\n",
       "\u001b[32m│\u001b[0m                                                                                                                 \u001b[32m│\u001b[0m\n",
       "\u001b[32m│\u001b[0m 🎓 **Key Learning Outcomes**:                                                                                   \u001b[32m│\u001b[0m\n",
       "\u001b[32m│\u001b[0m • Understanding why single LLM approaches have fundamental limits                                               \u001b[32m│\u001b[0m\n",
       "\u001b[32m│\u001b[0m • Appreciation for the complexity of multi-service coordination                                                 \u001b[32m│\u001b[0m\n",
       "\u001b[32m│\u001b[0m • Baseline measurement for comparing against agent approaches                                                   \u001b[32m│\u001b[0m\n",
       "\u001b[32m│\u001b[0m • Recognition that production systems need more than better prompts                                             \u001b[32m│\u001b[0m\n",
       "\u001b[32m│\u001b[0m                                                                                                                 \u001b[32m│\u001b[0m\n",
       "\u001b[32m│\u001b[0m 🚀 **Next Phase**: We'll build specialized agents for each service                                              \u001b[32m│\u001b[0m\n",
       "\u001b[32m│\u001b[0m domain and see how domain expertise improves coordination!                                                      \u001b[32m│\u001b[0m\n",
       "\u001b[32m╰─────────────────────────────────────────────────────────────────────────────────────────────────────────────────╯\u001b[0m\n"
      ]
     },
     "metadata": {},
     "output_type": "display_data"
    },
    {
     "data": {
      "text/html": [
       "<pre style=\"white-space:pre;overflow-x:auto;line-height:normal;font-family:Menlo,'DejaVu Sans Mono',consolas,'Courier New',monospace\"><span style=\"color: #000080; text-decoration-color: #000080\">╭───────────────────────── Phase 2 Discussion: Why Sophisticated Prompting Isn't Enough ──────────────────────────╮</span>\n",
       "<span style=\"color: #000080; text-decoration-color: #000080\">│</span> 💬 **DISCUSSION PROMPT: LLM Limitations**                                                                       <span style=\"color: #000080; text-decoration-color: #000080\">│</span>\n",
       "<span style=\"color: #000080; text-decoration-color: #000080\">│</span>                                                                                                                 <span style=\"color: #000080; text-decoration-color: #000080\">│</span>\n",
       "<span style=\"color: #000080; text-decoration-color: #000080\">│</span> **🤔 Questions for Reflection and Discussion:**                                                                 <span style=\"color: #000080; text-decoration-color: #000080\">│</span>\n",
       "<span style=\"color: #000080; text-decoration-color: #000080\">│</span>                                                                                                                 <span style=\"color: #000080; text-decoration-color: #000080\">│</span>\n",
       "<span style=\"color: #000080; text-decoration-color: #000080\">│</span> 1. **Scalability**: How would this approach handle 10+ services instead of 3?                                   <span style=\"color: #000080; text-decoration-color: #000080\">│</span>\n",
       "<span style=\"color: #000080; text-decoration-color: #000080\">│</span> 2. **Real-Time Adaptation**: What if the crisis changed during execution?                                       <span style=\"color: #000080; text-decoration-color: #000080\">│</span>\n",
       "<span style=\"color: #000080; text-decoration-color: #000080\">│</span> 3. **Domain Expertise**: Did the LLM show deep understanding of each service?                                   <span style=\"color: #000080; text-decoration-color: #000080\">│</span>\n",
       "<span style=\"color: #000080; text-decoration-color: #000080\">│</span> 4. **Coordination Patterns**: How well did it balance competing priorities?                                     <span style=\"color: #000080; text-decoration-color: #000080\">│</span>\n",
       "<span style=\"color: #000080; text-decoration-color: #000080\">│</span> 5. **Production Readiness**: Would you deploy this approach in a real crisis?                                   <span style=\"color: #000080; text-decoration-color: #000080\">│</span>\n",
       "<span style=\"color: #000080; text-decoration-color: #000080\">│</span>                                                                                                                 <span style=\"color: #000080; text-decoration-color: #000080\">│</span>\n",
       "<span style=\"color: #000080; text-decoration-color: #000080\">│</span> 💡 **Key Discussion Points**:                                                                                   <span style=\"color: #000080; text-decoration-color: #000080\">│</span>\n",
       "<span style=\"color: #000080; text-decoration-color: #000080\">│</span> • Even sophisticated prompting has architectural limitations                                                    <span style=\"color: #000080; text-decoration-color: #000080\">│</span>\n",
       "<span style=\"color: #000080; text-decoration-color: #000080\">│</span> • Complex coordination often requires iterative, adaptive approaches                                            <span style=\"color: #000080; text-decoration-color: #000080\">│</span>\n",
       "<span style=\"color: #000080; text-decoration-color: #000080\">│</span> • Specialized knowledge often outperforms general reasoning                                                     <span style=\"color: #000080; text-decoration-color: #000080\">│</span>\n",
       "<span style=\"color: #000080; text-decoration-color: #000080\">│</span> • Production systems need reliability and consistency, not just intelligence                                    <span style=\"color: #000080; text-decoration-color: #000080\">│</span>\n",
       "<span style=\"color: #000080; text-decoration-color: #000080\">╰─────────────────────────────────────────────────────────────────────────────────────────────────────────────────╯</span>\n",
       "</pre>\n"
      ],
      "text/plain": [
       "\u001b[34m╭─\u001b[0m\u001b[34m────────────────────────\u001b[0m\u001b[34m Phase 2 Discussion: Why Sophisticated Prompting Isn't Enough \u001b[0m\u001b[34m─────────────────────────\u001b[0m\u001b[34m─╮\u001b[0m\n",
       "\u001b[34m│\u001b[0m 💬 **DISCUSSION PROMPT: LLM Limitations**                                                                       \u001b[34m│\u001b[0m\n",
       "\u001b[34m│\u001b[0m                                                                                                                 \u001b[34m│\u001b[0m\n",
       "\u001b[34m│\u001b[0m **🤔 Questions for Reflection and Discussion:**                                                                 \u001b[34m│\u001b[0m\n",
       "\u001b[34m│\u001b[0m                                                                                                                 \u001b[34m│\u001b[0m\n",
       "\u001b[34m│\u001b[0m 1. **Scalability**: How would this approach handle 10+ services instead of 3?                                   \u001b[34m│\u001b[0m\n",
       "\u001b[34m│\u001b[0m 2. **Real-Time Adaptation**: What if the crisis changed during execution?                                       \u001b[34m│\u001b[0m\n",
       "\u001b[34m│\u001b[0m 3. **Domain Expertise**: Did the LLM show deep understanding of each service?                                   \u001b[34m│\u001b[0m\n",
       "\u001b[34m│\u001b[0m 4. **Coordination Patterns**: How well did it balance competing priorities?                                     \u001b[34m│\u001b[0m\n",
       "\u001b[34m│\u001b[0m 5. **Production Readiness**: Would you deploy this approach in a real crisis?                                   \u001b[34m│\u001b[0m\n",
       "\u001b[34m│\u001b[0m                                                                                                                 \u001b[34m│\u001b[0m\n",
       "\u001b[34m│\u001b[0m 💡 **Key Discussion Points**:                                                                                   \u001b[34m│\u001b[0m\n",
       "\u001b[34m│\u001b[0m • Even sophisticated prompting has architectural limitations                                                    \u001b[34m│\u001b[0m\n",
       "\u001b[34m│\u001b[0m • Complex coordination often requires iterative, adaptive approaches                                            \u001b[34m│\u001b[0m\n",
       "\u001b[34m│\u001b[0m • Specialized knowledge often outperforms general reasoning                                                     \u001b[34m│\u001b[0m\n",
       "\u001b[34m│\u001b[0m • Production systems need reliability and consistency, not just intelligence                                    \u001b[34m│\u001b[0m\n",
       "\u001b[34m╰─────────────────────────────────────────────────────────────────────────────────────────────────────────────────╯\u001b[0m\n"
      ]
     },
     "metadata": {},
     "output_type": "display_data"
    }
   ],
   "source": [
    "# 🎓 EDUCATIONAL EXPERIMENT: Test the naive approach with proper scenario definition\n",
    "console.print(Panel(\n",
    "    \"🧪 **PHASE 2 EXPERIMENT: Testing Naive LLM Approach**\\n\\n\"\n",
    "    \"🎯 **Objective**: Measure how well a single, sophisticated LLM performs\\n\"\n",
    "    \"on complex multi-service coordination\\n\\n\"\n",
    "    \"📚 **Educational Value**: This establishes the baseline that motivates\\n\"\n",
    "    \"why we need specialized multi-agent architectures\\n\\n\"\n",
    "    \"🔬 **Method**: Comprehensive prompting + structured output + real-time data\",\n",
    "    title=\"Phase 2: Experimental Design\",\n",
    "    border_style=\"cyan\"\n",
    "))\n",
    "\n",
    "# 🎓 EDUCATIONAL PATTERN: Reset and activate scenario for clean test\n",
    "console.print(\"🔄 **EXPERIMENTAL SETUP**: Resetting environment for clean LLM test...\")\n",
    "activate_scenario(HEAT_WAVE_SCENARIO, \"Heat Wave Crisis - LLM Test\")\n",
    "\n",
    "llm_actions, llm_success_rate = naive_llm_approach(scenario=HEAT_WAVE_SCENARIO, system_prompt=system_prompt, user_prompt=user_prompt)\n",
    "\n",
    "# 🛠️ HANDS-ON ANALYSIS EXERCISE\n",
    "console.print(Panel(\n",
    "    \"🛠️ **HANDS-ON ANALYSIS: Phase 2 Results**\\n\\n\"\n",
    "    \"**👨‍💻 Analyze the LLM's Performance:**\\n\\n\"\n",
    "    \"1. **Action Quality**: Look at the actions the LLM generated above\\n\"\n",
    "    \"2. **Coordination**: Did the LLM coordinate well across services?\\n\"\n",
    "    \"3. **Resource Usage**: How did it handle dynamic resource discovery?\\n\"\n",
    "    \"4. **Reasoning**: Was the LLM's reasoning for each action sound?\\n\"\n",
    "    \"5. **Completeness**: Did it address all aspects of the crisis?\\n\\n\"\n",
    "    \"💡 **Reflection Questions**:\\n\"\n",
    "    \"• What would happen if the crisis evolved during execution?\\n\"\n",
    "    \"• How would the LLM handle conflicting priorities?\\n\"\n",
    "    \"• Could this approach scale to more complex scenarios?\",\n",
    "    title=\"Interactive Analysis Exercise\",\n",
    "    border_style=\"green\"\n",
    "))\n",
    "\n",
    "console.print(Panel(\n",
    "    f\"✅ **PHASE 2 COMPLETE: Naive LLM Approach Baseline Established**\\n\\n\"\n",
    "    f\"📊 **Quantitative Results**:\\n\"\n",
    "    f\"• Success Rate: {llm_success_rate:.1%}\\n\"\n",
    "    f\"• Actions Generated: {len(llm_actions)}\\n\"\n",
    "    f\"• Approach: Single LLM with sophisticated prompting\\n\\n\"\n",
    "    f\"🎓 **Key Learning Outcomes**:\\n\"\n",
    "    f\"• Understanding why single LLM approaches have fundamental limits\\n\"\n",
    "    f\"• Appreciation for the complexity of multi-service coordination\\n\"\n",
    "    f\"• Baseline measurement for comparing against agent approaches\\n\"\n",
    "    f\"• Recognition that production systems need more than better prompts\\n\\n\"\n",
    "    f\"🚀 **Next Phase**: We'll build specialized agents for each service\\n\"\n",
    "    f\"domain and see how domain expertise improves coordination!\",\n",
    "    title=\"Phase 2 Learning Summary\",\n",
    "    border_style=\"green\"\n",
    "))\n",
    "\n",
    "# 💬 DISCUSSION PROMPT\n",
    "console.print(Panel(\n",
    "    \"💬 **DISCUSSION PROMPT: LLM Limitations**\\n\\n\"\n",
    "    \"**🤔 Questions for Reflection and Discussion:**\\n\\n\"\n",
    "    \"1. **Scalability**: How would this approach handle 10+ services instead of 3?\\n\"\n",
    "    \"2. **Real-Time Adaptation**: What if the crisis changed during execution?\\n\"\n",
    "    \"3. **Domain Expertise**: Did the LLM show deep understanding of each service?\\n\"\n",
    "    \"4. **Coordination Patterns**: How well did it balance competing priorities?\\n\"\n",
    "    \"5. **Production Readiness**: Would you deploy this approach in a real crisis?\\n\\n\"\n",
    "    \"💡 **Key Discussion Points**:\\n\"\n",
    "    \"• Even sophisticated prompting has architectural limitations\\n\"\n",
    "    \"• Complex coordination often requires iterative, adaptive approaches\\n\"\n",
    "    \"• Specialized knowledge often outperforms general reasoning\\n\"\n",
    "    \"• Production systems need reliability and consistency, not just intelligence\",\n",
    "    title=\"Phase 2 Discussion: Why Sophisticated Prompting Isn't Enough\",\n",
    "    border_style=\"blue\"\n",
    "))"
   ]
  },
  {
   "cell_type": "markdown",
   "id": "628f4f43",
   "metadata": {},
   "source": [
    "### 🎮 **Key Insights from Naive LLM Approach**\n",
    "\n",
    "**🎓 Educational Analysis: Why Single LLM Chains Fail for Complex Coordination**\n",
    "\n",
    "Despite excellent engineering (comprehensive context, structured output, expert prompting), \n",
    "the naive LLM approach demonstrates several fundamental limitations:\n",
    "\n",
    "**1. 🎯 Single Decision Point Limitation**\n",
    "- No adaptation or learning from intermediate results\n",
    "- Cannot adjust strategy based on action outcomes\n",
    "- One-shot approach vs iterative refinement\n",
    "\n",
    "**2. 🧠 Memory and State Management Issues**\n",
    "- Cannot remember previous actions or their outcomes during execution\n",
    "- No learning from failures or successes within the same session\n",
    "- No persistent context across multiple coordination cycles\n",
    "\n",
    "**3. 🔄 Coordination and Feedback Gaps**\n",
    "- Services cannot provide feedback for real-time strategy adjustment\n",
    "- No mechanism for cross-service communication and status updates\n",
    "- Cannot handle cascading effects or interdependencies dynamically\n",
    "\n",
    "**4. ⏱️ Real-Time Monitoring Limitations**\n",
    "- Cannot continuously monitor and adjust to changing conditions\n",
    "- No mechanism for handling events that occur during execution\n",
    "- Fixed strategy cannot adapt to evolving crisis conditions\n",
    "\n",
    "**5. 📏 Context Window and Scalability Constraints**\n",
    "- Limited ability to process unlimited real-time data streams\n",
    "- Context window limitations affect complex, multi-step reasoning\n",
    "- Scalability issues with large numbers of services and resources\n",
    "\n",
    "**6. 🎭 Generic vs Specialized Reasoning**\n",
    "- General intelligence vs domain-specific expertise\n",
    "- Lacks deep understanding of service-specific constraints and patterns\n",
    "- Cannot leverage specialized knowledge that comes from focused training\n",
    "\n",
    "**7. 🔁 Iterative Refinement Challenges**\n",
    "- No mechanism for continuous improvement during execution\n",
    "- Cannot learn and adapt strategies based on real-world feedback\n",
    "- One-shot approach prevents sophisticated multi-step coordination\n",
    "\n",
    "**🔑 Central Insight**: Complex coordination requires more than sophisticated prompting!\n",
    "\n",
    "**📊 Measured Success Rate**: {llm_success_rate:.1%} - This becomes our baseline for comparison\n",
    "\n",
    "**🚀 Implication**: Production-level coordination needs specialized agents with:\n",
    "- Domain expertise for each service area\n",
    "- Memory and state management capabilities  \n",
    "- Inter-agent communication and coordination mechanisms\n",
    "- Adaptive learning and iterative refinement abilities\n",
    "- Real-time monitoring and adjustment capabilities\n",
    "\n",
    "This motivates our next phase: building specialized agents for each service domain."
   ]
  },
  {
   "cell_type": "markdown",
   "id": "ba911ffd",
   "metadata": {},
   "source": [
    "## 🛠️ **PHASE 3: Service-by-Service Investigation**\n",
    "\n",
    "**🎓 Educational Goal**: Build understanding of each service domain and compare approaches\n",
    "\n",
    "**📚 What We're Learning:**\n",
    "- **Domain Expertise**: Each service has unique challenges and requirements\n",
    "- **Rules vs Agents**: Compare rigid logic vs adaptive reasoning\n",
    "- **Tool Design**: Create specialized capabilities for each domain\n",
    "- **Component Reuse**: Build pieces that compose into larger systems\n",
    "\n",
    "**🔍 Investigation Strategy**:\n",
    "For each service, we will:\n",
    "1. **🔍 Explore**: Understand service API and current state  \n",
    "2. **📏 Build Rules**: Create deterministic, scenario-specific logic\n",
    "3. **🤖 Create Agent**: Develop adaptive agent with specialized tools\n",
    "4. **⚖️ Compare**: Evaluate rules vs agent performance\n",
    "5. **🧩 Store**: Save components for later composition\n",
    "\n",
    "**💡 Key Insight**: This incremental approach lets us understand each domain before \n",
    "attempting coordination."
   ]
  },
  {
   "cell_type": "code",
   "execution_count": 12,
   "id": "f486e053",
   "metadata": {
    "lines_to_next_cell": 1
   },
   "outputs": [],
   "source": [
    "from workshop.session_utils import execute_rule_commands"
   ]
  },
  {
   "cell_type": "markdown",
   "id": "ea07b9b3",
   "metadata": {},
   "source": [
    "### ⚡ **Phase 3A: Grid Service Investigation**\n",
    "\n",
    "**🎯 Learning Objectives**:\n",
    "- Understand grid zone management and capacity control\n",
    "- Learn infrastructure prioritization strategies  \n",
    "- Compare rule-based vs agent-based power management\n",
    "- Design tools for grid stability operations\n",
    "\n",
    "Let's start by exploring the Grid service!"
   ]
  },
  {
   "cell_type": "code",
   "execution_count": 13,
   "id": "3efbf484",
   "metadata": {
    "lines_to_next_cell": 1
   },
   "outputs": [
    {
     "data": {
      "text/html": [
       "<pre style=\"white-space:pre;overflow-x:auto;line-height:normal;font-family:Menlo,'DejaVu Sans Mono',consolas,'Courier New',monospace\"><span style=\"color: #000080; text-decoration-color: #000080\">╭─────────────────────────────────────────────────────────────────────────────────────────────────────────────────╮</span>\n",
       "<span style=\"color: #000080; text-decoration-color: #000080\">│</span> 🔍 Phase 3A: Grid Service Investigation                                                                         <span style=\"color: #000080; text-decoration-color: #000080\">│</span>\n",
       "<span style=\"color: #000080; text-decoration-color: #000080\">╰─────────────────────────────────────────────────────────────────────────────────────────────────────────────────╯</span>\n",
       "</pre>\n"
      ],
      "text/plain": [
       "\u001b[34m╭─────────────────────────────────────────────────────────────────────────────────────────────────────────────────╮\u001b[0m\n",
       "\u001b[34m│\u001b[0m 🔍 Phase 3A: Grid Service Investigation                                                                         \u001b[34m│\u001b[0m\n",
       "\u001b[34m╰─────────────────────────────────────────────────────────────────────────────────────────────────────────────────╯\u001b[0m\n"
      ]
     },
     "metadata": {},
     "output_type": "display_data"
    },
    {
     "data": {
      "text/html": [
       "<pre style=\"white-space:pre;overflow-x:auto;line-height:normal;font-family:Menlo,'DejaVu Sans Mono',consolas,'Courier New',monospace\"><span style=\"color: #000080; text-decoration-color: #000080\">╭─────────────────────────────────────────────────────────────────────────────────────────────────────────────────╮</span>\n",
       "<span style=\"color: #000080; text-decoration-color: #000080\">│</span> ⚡ Grid Service Analysis                                                                                        <span style=\"color: #000080; text-decoration-color: #000080\">│</span>\n",
       "<span style=\"color: #000080; text-decoration-color: #000080\">╰─────────────────────────────────────────────────────────────────────────────────────────────────────────────────╯</span>\n",
       "</pre>\n"
      ],
      "text/plain": [
       "\u001b[34m╭─────────────────────────────────────────────────────────────────────────────────────────────────────────────────╮\u001b[0m\n",
       "\u001b[34m│\u001b[0m ⚡ Grid Service Analysis                                                                                        \u001b[34m│\u001b[0m\n",
       "\u001b[34m╰─────────────────────────────────────────────────────────────────────────────────────────────────────────────────╯\u001b[0m\n"
      ]
     },
     "metadata": {},
     "output_type": "display_data"
    },
    {
     "data": {
      "text/html": [
       "<pre style=\"white-space:pre;overflow-x:auto;line-height:normal;font-family:Menlo,'DejaVu Sans Mono',consolas,'Courier New',monospace\">\n",
       "📊 Current Grid State:\n",
       "</pre>\n"
      ],
      "text/plain": [
       "\n",
       "📊 Current Grid State:\n"
      ]
     },
     "metadata": {},
     "output_type": "display_data"
    },
    {
     "data": {
      "text/html": [
       "<pre style=\"white-space:pre;overflow-x:auto;line-height:normal;font-family:Menlo,'DejaVu Sans Mono',consolas,'Courier New',monospace\">\n",
       "⚡ Grid Zones: <span style=\"color: #008080; text-decoration-color: #008080; font-weight: bold\">3</span>\n",
       "</pre>\n"
      ],
      "text/plain": [
       "\n",
       "⚡ Grid Zones: \u001b[1;36m3\u001b[0m\n"
      ]
     },
     "metadata": {},
     "output_type": "display_data"
    },
    {
     "data": {
      "text/html": [
       "<pre style=\"white-space:pre;overflow-x:auto;line-height:normal;font-family:Menlo,'DejaVu Sans Mono',consolas,'Courier New',monospace\">  • Z001: <span style=\"color: #008080; text-decoration-color: #008080; font-weight: bold\">0.0</span>% load, <span style=\"color: #008080; text-decoration-color: #008080; font-weight: bold\">10.0</span>% stability\n",
       "</pre>\n"
      ],
      "text/plain": [
       "  • Z001: \u001b[1;36m0.0\u001b[0m% load, \u001b[1;36m10.0\u001b[0m% stability\n"
      ]
     },
     "metadata": {},
     "output_type": "display_data"
    },
    {
     "data": {
      "text/html": [
       "<pre style=\"white-space:pre;overflow-x:auto;line-height:normal;font-family:Menlo,'DejaVu Sans Mono',consolas,'Courier New',monospace\">  • Z002: <span style=\"color: #008080; text-decoration-color: #008080; font-weight: bold\">0.0</span>% load, <span style=\"color: #008080; text-decoration-color: #008080; font-weight: bold\">50.0</span>% stability\n",
       "</pre>\n"
      ],
      "text/plain": [
       "  • Z002: \u001b[1;36m0.0\u001b[0m% load, \u001b[1;36m50.0\u001b[0m% stability\n"
      ]
     },
     "metadata": {},
     "output_type": "display_data"
    },
    {
     "data": {
      "text/html": [
       "<pre style=\"white-space:pre;overflow-x:auto;line-height:normal;font-family:Menlo,'DejaVu Sans Mono',consolas,'Courier New',monospace\">  • Z003: <span style=\"color: #008080; text-decoration-color: #008080; font-weight: bold\">0.0</span>% load, <span style=\"color: #008080; text-decoration-color: #008080; font-weight: bold\">60.0</span>% stability\n",
       "</pre>\n"
      ],
      "text/plain": [
       "  • Z003: \u001b[1;36m0.0\u001b[0m% load, \u001b[1;36m60.0\u001b[0m% stability\n"
      ]
     },
     "metadata": {},
     "output_type": "display_data"
    }
   ],
   "source": [
    "# Grid Service Analysis\n",
    "def explore_grid_service():\n",
    "    \"\"\"Explore Grid service capabilities and current state.\"\"\"\n",
    "    console.print(Panel(\"⚡ Grid Service Analysis\", border_style=\"blue\"))\n",
    "    \n",
    "    try:\n",
    "        # Get service info\n",
    "        response = requests.get(f\"{SERVICE_URLS['grid']}/service/info\")\n",
    "        if response.status_code == 200:\n",
    "            info = response.json()\n",
    "            console.print(\"📋 Grid Service Capabilities:\")\n",
    "            for action in info.get(\"available_actions\", []):\n",
    "                console.print(f\"  • {action}\")\n",
    "        \n",
    "        # Get current grid state\n",
    "        response = requests.get(f\"{SERVICE_URLS['grid']}/state/get\")\n",
    "        if response.status_code == 200:\n",
    "            state = response.json()\n",
    "            console.print(\"\\n📊 Current Grid State:\")\n",
    "            \n",
    "            # Show zones\n",
    "            zones = state.get(\"zones\", {})\n",
    "            console.print(f\"\\n⚡ Grid Zones: {len(zones)}\")\n",
    "            for zone_id, zone_data in list(zones.items())[:3]:\n",
    "                load = zone_data.get(\"current_load\", 0)\n",
    "                stability = zone_data.get(\"stability\", 0)\n",
    "                console.print(\n",
    "                    f\"  • {zone_id}: {load:.1%} load, \"\n",
    "                    f\"{stability:.1%} stability\"\n",
    "                )\n",
    "    \n",
    "    except Exception as e:\n",
    "        console.print(f\"[red]Error exploring grid service: {e}[/red]\")\n",
    "\n",
    "\n",
    "console.print(Panel(\"🔍 Phase 3A: Grid Service Investigation\", border_style=\"blue\"))\n",
    "explore_grid_service()"
   ]
  },
  {
   "cell_type": "code",
   "execution_count": 14,
   "id": "1e0d76a0",
   "metadata": {
    "lines_to_next_cell": 1
   },
   "outputs": [],
   "source": [
    "# A. Rule-Based Grid Management\n",
    "class GridRuleBasedManager(weave.Model):\n",
    "    \"\"\"Rule-based approach for grid management - heat wave specific.\"\"\"\n",
    "    name : str = \"Grid Rule-Based Manager\"\n",
    "        \n",
    "    @weave.op\n",
    "    def analyze_heat_wave_rules(self, scenario_state):\n",
    "        \"\"\"Apply heat wave specific rules for grid management.\"\"\"\n",
    "        commands = []\n",
    "        zones = scenario_state.zones if hasattr(scenario_state, 'zones') else {}\n",
    "        \n",
    "        console.print(\"🎯 Applying Simple Grid Heat Wave Rules...\")\n",
    "        \n",
    "        # Simplified Rule: Only reduce capacity in severely overloaded zones (>95%)\n",
    "        for zone_id, zone_data in zones.items():\n",
    "            current_load = (zone_data.current_load \n",
    "                          if hasattr(zone_data, 'current_load') else 0)\n",
    "            \n",
    "            # Much more restrictive threshold - only act on extreme overload\n",
    "            if current_load > 0.95:\n",
    "                new_capacity = 0.9  # Only minor reduction\n",
    "                commands.append({\n",
    "                    \"service\": \"grid\",\n",
    "                    \"action\": \"adjust_zone\",\n",
    "                    \"parameters\": {\"zone_id\": zone_id, \"capacity\": new_capacity},\n",
    "                    \"rule\": f\"Simple Rule: Reduce {zone_id} capacity slightly \"\n",
    "                           f\"for extreme overload (current: {current_load:.1%})\"\n",
    "                })\n",
    "                console.print(f\"  ⚡ Simple Rule: Reducing {zone_id} capacity \"\n",
    "                             f\"(load: {current_load:.1%})\")\n",
    "                \n",
    "        return commands"
   ]
  },
  {
   "cell_type": "code",
   "execution_count": 15,
   "id": "7c9a1c99",
   "metadata": {},
   "outputs": [
    {
     "data": {
      "text/html": [
       "<pre style=\"white-space:pre;overflow-x:auto;line-height:normal;font-family:Menlo,'DejaVu Sans Mono',consolas,'Courier New',monospace\"><span style=\"color: #808000; text-decoration-color: #808000\">╭─────────────────────────────────────────────────────────────────────────────────────────────────────────────────╮</span>\n",
       "<span style=\"color: #808000; text-decoration-color: #808000\">│</span> ⚖️ Grid Service: Rules vs Agent Testing                                                                          <span style=\"color: #808000; text-decoration-color: #808000\">│</span>\n",
       "<span style=\"color: #808000; text-decoration-color: #808000\">╰─────────────────────────────────────────────────────────────────────────────────────────────────────────────────╯</span>\n",
       "</pre>\n"
      ],
      "text/plain": [
       "\u001b[33m╭─────────────────────────────────────────────────────────────────────────────────────────────────────────────────╮\u001b[0m\n",
       "\u001b[33m│\u001b[0m ⚖️ Grid Service: Rules vs Agent Testing                                                                          \u001b[33m│\u001b[0m\n",
       "\u001b[33m╰─────────────────────────────────────────────────────────────────────────────────────────────────────────────────╯\u001b[0m\n"
      ]
     },
     "metadata": {},
     "output_type": "display_data"
    },
    {
     "data": {
      "text/html": [
       "<pre style=\"white-space:pre;overflow-x:auto;line-height:normal;font-family:Menlo,'DejaVu Sans Mono',consolas,'Courier New',monospace\">\n",
       "📏 Testing Grid Rule-Based Management\n",
       "</pre>\n"
      ],
      "text/plain": [
       "\n",
       "📏 Testing Grid Rule-Based Management\n"
      ]
     },
     "metadata": {},
     "output_type": "display_data"
    },
    {
     "data": {
      "text/html": [
       "<pre style=\"white-space:pre;overflow-x:auto;line-height:normal;font-family:Menlo,'DejaVu Sans Mono',consolas,'Courier New',monospace\">🎯 Activating scenario: Heat Wave Crisis - Grid Rules Test\n",
       "</pre>\n"
      ],
      "text/plain": [
       "🎯 Activating scenario: Heat Wave Crisis - Grid Rules Test\n"
      ]
     },
     "metadata": {},
     "output_type": "display_data"
    },
    {
     "data": {
      "text/html": [
       "<pre style=\"white-space:pre;overflow-x:auto;line-height:normal;font-family:Menlo,'DejaVu Sans Mono',consolas,'Courier New',monospace\">🔄 Resetting all service states<span style=\"color: #808000; text-decoration-color: #808000\">...</span>\n",
       "</pre>\n"
      ],
      "text/plain": [
       "🔄 Resetting all service states\u001b[33m...\u001b[0m\n"
      ]
     },
     "metadata": {},
     "output_type": "display_data"
    },
    {
     "data": {
      "text/html": [
       "<pre style=\"white-space:pre;overflow-x:auto;line-height:normal;font-family:Menlo,'DejaVu Sans Mono',consolas,'Courier New',monospace\">  ✅ GRID state reset\n",
       "</pre>\n"
      ],
      "text/plain": [
       "  ✅ GRID state reset\n"
      ]
     },
     "metadata": {},
     "output_type": "display_data"
    },
    {
     "data": {
      "text/html": [
       "<pre style=\"white-space:pre;overflow-x:auto;line-height:normal;font-family:Menlo,'DejaVu Sans Mono',consolas,'Courier New',monospace\">  ✅ EMERGENCY state reset\n",
       "</pre>\n"
      ],
      "text/plain": [
       "  ✅ EMERGENCY state reset\n"
      ]
     },
     "metadata": {},
     "output_type": "display_data"
    },
    {
     "data": {
      "text/html": [
       "<pre style=\"white-space:pre;overflow-x:auto;line-height:normal;font-family:Menlo,'DejaVu Sans Mono',consolas,'Courier New',monospace\">  ✅ TRAFFIC state reset\n",
       "</pre>\n"
      ],
      "text/plain": [
       "  ✅ TRAFFIC state reset\n"
      ]
     },
     "metadata": {},
     "output_type": "display_data"
    },
    {
     "data": {
      "text/html": [
       "<pre style=\"white-space:pre;overflow-x:auto;line-height:normal;font-family:Menlo,'DejaVu Sans Mono',consolas,'Courier New',monospace\">  ✅ SCENARIO state reset\n",
       "</pre>\n"
      ],
      "text/plain": [
       "  ✅ SCENARIO state reset\n"
      ]
     },
     "metadata": {},
     "output_type": "display_data"
    },
    {
     "data": {
      "text/html": [
       "<pre style=\"white-space:pre;overflow-x:auto;line-height:normal;font-family:Menlo,'DejaVu Sans Mono',consolas,'Courier New',monospace\">  📋 Scenario created with ID: <span style=\"color: #ffff00; text-decoration-color: #ffff00\">4398e588-2deb-487c-82e5-5d2c4d351e25</span>\n",
       "</pre>\n"
      ],
      "text/plain": [
       "  📋 Scenario created with ID: \u001b[93m4398e588-2deb-487c-82e5-5d2c4d351e25\u001b[0m\n"
      ]
     },
     "metadata": {},
     "output_type": "display_data"
    },
    {
     "data": {
      "text/html": [
       "<pre style=\"white-space:pre;overflow-x:auto;line-height:normal;font-family:Menlo,'DejaVu Sans Mono',consolas,'Courier New',monospace\">  ✅ Scenario <span style=\"color: #008000; text-decoration-color: #008000\">'Heat Wave Crisis - Grid Rules Test'</span> activated successfully\n",
       "</pre>\n"
      ],
      "text/plain": [
       "  ✅ Scenario \u001b[32m'Heat Wave Crisis - Grid Rules Test'\u001b[0m activated successfully\n"
      ]
     },
     "metadata": {},
     "output_type": "display_data"
    },
    {
     "data": {
      "text/html": [
       "<pre style=\"white-space:pre;overflow-x:auto;line-height:normal;font-family:Menlo,'DejaVu Sans Mono',consolas,'Courier New',monospace\">    ✅ GRID: State initialized\n",
       "</pre>\n"
      ],
      "text/plain": [
       "    ✅ GRID: State initialized\n"
      ]
     },
     "metadata": {},
     "output_type": "display_data"
    },
    {
     "data": {
      "text/html": [
       "<pre style=\"white-space:pre;overflow-x:auto;line-height:normal;font-family:Menlo,'DejaVu Sans Mono',consolas,'Courier New',monospace\">    ✅ EMERGENCY: State initialized\n",
       "</pre>\n"
      ],
      "text/plain": [
       "    ✅ EMERGENCY: State initialized\n"
      ]
     },
     "metadata": {},
     "output_type": "display_data"
    },
    {
     "data": {
      "text/html": [
       "<pre style=\"white-space:pre;overflow-x:auto;line-height:normal;font-family:Menlo,'DejaVu Sans Mono',consolas,'Courier New',monospace\">    ✅ TRAFFIC: State initialized\n",
       "</pre>\n"
      ],
      "text/plain": [
       "    ✅ TRAFFIC: State initialized\n"
      ]
     },
     "metadata": {},
     "output_type": "display_data"
    },
    {
     "data": {
      "text/html": [
       "<pre style=\"white-space:pre;overflow-x:auto;line-height:normal;font-family:Menlo,'DejaVu Sans Mono',consolas,'Courier New',monospace\">🎯 Applying Simple Grid Heat Wave Rules<span style=\"color: #808000; text-decoration-color: #808000\">...</span>\n",
       "</pre>\n"
      ],
      "text/plain": [
       "🎯 Applying Simple Grid Heat Wave Rules\u001b[33m...\u001b[0m\n"
      ]
     },
     "metadata": {},
     "output_type": "display_data"
    },
    {
     "data": {
      "text/html": [
       "<pre style=\"white-space:pre;overflow-x:auto;line-height:normal;font-family:Menlo,'DejaVu Sans Mono',consolas,'Courier New',monospace\">  ⚡ Simple Rule: Reducing Z001 capacity <span style=\"font-weight: bold\">(</span>load: <span style=\"color: #008080; text-decoration-color: #008080; font-weight: bold\">98.0</span>%<span style=\"font-weight: bold\">)</span>\n",
       "</pre>\n"
      ],
      "text/plain": [
       "  ⚡ Simple Rule: Reducing Z001 capacity \u001b[1m(\u001b[0mload: \u001b[1;36m98.0\u001b[0m%\u001b[1m)\u001b[0m\n"
      ]
     },
     "metadata": {},
     "output_type": "display_data"
    },
    {
     "data": {
      "text/html": [
       "<pre style=\"white-space:pre;overflow-x:auto;line-height:normal;font-family:Menlo,'DejaVu Sans Mono',consolas,'Courier New',monospace\">\n",
       "📏 Command <span style=\"color: #008080; text-decoration-color: #008080; font-weight: bold\">1</span>: Simple Rule: Reduce Z001 capacity slightly for extreme overload <span style=\"font-weight: bold\">(</span>current: <span style=\"color: #008080; text-decoration-color: #008080; font-weight: bold\">98.0</span>%<span style=\"font-weight: bold\">)</span>\n",
       "</pre>\n"
      ],
      "text/plain": [
       "\n",
       "📏 Command \u001b[1;36m1\u001b[0m: Simple Rule: Reduce Z001 capacity slightly for extreme overload \u001b[1m(\u001b[0mcurrent: \u001b[1;36m98.0\u001b[0m%\u001b[1m)\u001b[0m\n"
      ]
     },
     "metadata": {},
     "output_type": "display_data"
    },
    {
     "name": "stderr",
     "output_type": "stream",
     "text": [
      "INFO:command:Executing adjust_zone on ServiceType.GRID service\n"
     ]
    },
    {
     "data": {
      "text/html": [
       "<pre style=\"white-space:pre;overflow-x:auto;line-height:normal;font-family:Menlo,'DejaVu Sans Mono',consolas,'Courier New',monospace\">  ✅ SUCCESS: grid.adjust_zone\n",
       "</pre>\n"
      ],
      "text/plain": [
       "  ✅ SUCCESS: grid.adjust_zone\n"
      ]
     },
     "metadata": {},
     "output_type": "display_data"
    }
   ],
   "source": [
    "# Test Grid Service: Rules vs Agent\n",
    "console.print(Panel(\"⚖️ Grid Service: Rules vs Agent Testing\", border_style=\"yellow\"))\n",
    "\n",
    "# Test 1: Grid Rule-Based Manager\n",
    "console.print(\"\\n📏 Testing Grid Rule-Based Management\")\n",
    "activate_scenario(HEAT_WAVE_SCENARIO, \"Heat Wave Crisis - Grid Rules Test\")\n",
    "\n",
    "grid_rule_manager = GridRuleBasedManager()\n",
    "grid_rule_commands = grid_rule_manager.analyze_heat_wave_rules(\n",
    "    HEAT_WAVE_SCENARIO.initial_state\n",
    ")\n",
    "\n",
    "# Execute grid rule commands\n",
    "grid_rule_success_rate = execute_rule_commands(grid_rule_commands)"
   ]
  },
  {
   "cell_type": "code",
   "execution_count": 16,
   "id": "18da26dd",
   "metadata": {
    "lines_to_next_cell": 1
   },
   "outputs": [
    {
     "data": {
      "text/html": [
       "<pre style=\"white-space:pre;overflow-x:auto;line-height:normal;font-family:Menlo,'DejaVu Sans Mono',consolas,'Courier New',monospace\">📊 Evaluating grid rules with scenario-based method<span style=\"color: #808000; text-decoration-color: #808000\">...</span>\n",
       "</pre>\n"
      ],
      "text/plain": [
       "📊 Evaluating grid rules with scenario-based method\u001b[33m...\u001b[0m\n"
      ]
     },
     "metadata": {},
     "output_type": "display_data"
    },
    {
     "name": "stderr",
     "output_type": "stream",
     "text": [
      "INFO:command_evaluator:Command grid.adjust_zone matches optimal command\n",
      "INFO:command_evaluator:Evaluation complete - Overall score: 0.27\n"
     ]
    },
    {
     "data": {
      "text/html": [
       "<pre style=\"white-space:pre;overflow-x:auto;line-height:normal;font-family:Menlo,'DejaVu Sans Mono',consolas,'Courier New',monospace\"><span style=\"color: #008080; text-decoration-color: #008080; font-weight: bold\">0.270390625</span>\n",
       "</pre>\n"
      ],
      "text/plain": [
       "\u001b[1;36m0.270390625\u001b[0m\n"
      ]
     },
     "metadata": {},
     "output_type": "display_data"
    }
   ],
   "source": [
    "console.print(\"📊 Evaluating grid rules with scenario-based method...\")\n",
    "grid_rule_command_dicts = []\n",
    "for cmd in grid_rule_commands:\n",
    "    grid_rule_command_dicts.append({\n",
    "        \"service\": cmd[\"service\"],\n",
    "        \"action\": cmd[\"action\"],\n",
    "        \"parameters\": cmd.get(\"parameters\", {}),\n",
    "        \"success\": True  # Assume successful execution for fair comparison\n",
    "    })\n",
    "\n",
    "grid_rule_evaluation = evaluate_scenario_commands(\n",
    "    commands=grid_rule_command_dicts,\n",
    "    scenario_type=ScenarioType.GRID_SURGE,\n",
    "    current_state=get_system_status(),\n",
    "    scenario_definition=HEAT_WAVE_SCENARIO\n",
    ")\n",
    "grid_rule_success_rate = grid_rule_evaluation.get('overall_score', grid_rule_success_rate)\n",
    "console.print(grid_rule_success_rate)"
   ]
  },
  {
   "cell_type": "code",
   "execution_count": 17,
   "id": "e7c662ab",
   "metadata": {
    "lines_to_next_cell": 1
   },
   "outputs": [],
   "source": [
    "# Structured output models for agent communication\n",
    "# Key principle: consistent data exchange between autonomous agents\n",
    "class ZoneAdjustment(BaseModel):\n",
    "    \"\"\"Zone capacity adjustment action.\"\"\"\n",
    "    zone_id: str = Field(description=\"ID of the zone to adjust\")\n",
    "    capacity: float = Field(description=\"New capacity ratio (0.0-1.0)\")\n",
    "    reason: str = Field(description=\"Reason for the adjustment\")\n",
    "\n",
    "\n",
    "class InfrastructurePriority(BaseModel):\n",
    "    \"\"\"Infrastructure priority setting action.\"\"\"\n",
    "    infrastructure_id: str = Field(description=\"ID of infrastructure\")\n",
    "    level: str = Field(description=\"Priority level (normal, high, critical)\")\n",
    "    reason: str = Field(description=\"Reason for priority change\")"
   ]
  },
  {
   "cell_type": "code",
   "execution_count": 18,
   "id": "ea2c3e0c",
   "metadata": {
    "lines_to_next_cell": 1
   },
   "outputs": [],
   "source": [
    "grid_zone_adjustment_tool_description = \"\"\"\n",
    "Adjust the power grid zone capacity with detailed specifications.\n",
    "\n",
    "Parameters:\n",
    "- zone_id: Target zone identifier (available: {zones})\n",
    "- capacity: Desired capacity level (0.0-1.0)\n",
    "- reason: Justification for the adjustment\n",
    "\n",
    "Returns execution status with detailed feedback.\n",
    "\"\"\""
   ]
  },
  {
   "cell_type": "code",
   "execution_count": 19,
   "id": "5f1ab356",
   "metadata": {
    "lines_to_next_cell": 1
   },
   "outputs": [],
   "source": [
    "@weave.op\n",
    "def create_grid_zone_adjustment_tool(tool_description: str):\n",
    "    \"\"\"\n",
    "    Create GridZoneAdjustmentTool with the provided description.\n",
    "    \n",
    "    Args:\n",
    "        tool_description: Description for the tool that explains its purpose,\n",
    "                         parameters, and return values.\n",
    "    \"\"\"\n",
    "    actual_ids = get_actual_service_ids()\n",
    "    available_zones = actual_ids.get('grid_zones', ['Z001', 'Z002', 'Z003'])\n",
    "\n",
    "    description = tool_description.format(zones=', '.join(available_zones))\n",
    "    weave.publish(weave.StringPrompt(description), name=\"grid_tool_prompt\")\n",
    "    \n",
    "    class GridZoneAdjustmentTool(BaseTool):\n",
    "        name: str = \"adjust_grid_zone\"\n",
    "        description: str = \"\"\n",
    "        \n",
    "        def __init__(self, description):\n",
    "            super().__init__()\n",
    "            self._execution_results = []\n",
    "            self.description = description\n",
    "        \n",
    "        def _run(self, zone_id: str, capacity: float, reason: str) -> str:\n",
    "            cmd = Command(\n",
    "                service=ServiceType.GRID,\n",
    "                action=\"adjust_zone\",\n",
    "                parameters={\"zone_id\": zone_id, \"capacity\": capacity}\n",
    "            )\n",
    "            \n",
    "            executor = CommandExecutor()\n",
    "            result = executor.execute(cmd)\n",
    "            \n",
    "            # Track execution result\n",
    "            self._execution_results.append(result.success)\n",
    "            \n",
    "            status = \"SUCCESS\" if result.success else \"FAILED\"\n",
    "            console.print(f\"🔧 Grid: {zone_id} → {capacity:.1%} ({reason}) - {status}\")\n",
    "            \n",
    "            return f\"Grid zone {zone_id} adjustment: {status}\"\n",
    "\n",
    "    return GridZoneAdjustmentTool(description=description)"
   ]
  },
  {
   "cell_type": "code",
   "execution_count": 20,
   "id": "b8e2737f",
   "metadata": {
    "lines_to_next_cell": 1
   },
   "outputs": [],
   "source": [
    "infrastructure_priority_tool_description = \"\"\"\n",
    "Set priority level for critical infrastructure.\n",
    "\n",
    "Parameters:\n",
    "- infrastructure_id: ID of infrastructure (available: {infrastructure})\n",
    "- level: Priority level ('normal', 'high', 'critical')\n",
    "- reason: Reason for priority change\n",
    "\n",
    "Returns success/failure status.\n",
    "\"\"\""
   ]
  },
  {
   "cell_type": "code",
   "execution_count": 21,
   "id": "d1133286",
   "metadata": {
    "lines_to_next_cell": 1
   },
   "outputs": [],
   "source": [
    "@weave.op\n",
    "def create_infrastructure_priority_tool(tool_description: str):\n",
    "    \"\"\"\n",
    "    Create InfrastructurePriorityTool with the provided description.\n",
    "    \n",
    "    Args:\n",
    "        tool_description: Description for the tool that explains its purpose,\n",
    "                         parameters, and return values.\n",
    "    \"\"\"\n",
    "    try:\n",
    "        response = requests.get(f\"{SERVICE_URLS['grid']}/service/info\", timeout=5)\n",
    "        if response.status_code == 200:\n",
    "            available_infrastructure = [\"hospital\", \"police\", \"emergency_services\", \n",
    "                                      \"water_treatment\", \"data_center\", \n",
    "                                      \"emergency_shelter\"]\n",
    "        else:\n",
    "            available_infrastructure = [\"hospital\", \"police\", \"emergency_services\"]\n",
    "    except Exception:\n",
    "        available_infrastructure = [\"hospital\", \"police\", \"emergency_services\"]\n",
    "    \n",
    "    description = tool_description.format(infrastructure=', '.join(available_infrastructure))\n",
    "    weave.publish(weave.StringPrompt(description), name=\"infrastructure_tool_prompt\")\n",
    "    \n",
    "    class InfrastructurePriorityTool(BaseTool):\n",
    "        name: str = \"set_infrastructure_priority\"\n",
    "        description: str = \"\"\n",
    "        \n",
    "        def __init__(self, description):\n",
    "            super().__init__()\n",
    "            self._execution_results = []\n",
    "            self.description = description\n",
    "        \n",
    "        def _run(self, infrastructure_id: str, level: str, reason: str) -> str:\n",
    "            cmd = Command(\n",
    "                service=ServiceType.GRID,\n",
    "                action=\"set_priority\",\n",
    "                parameters={\"infrastructure_id\": infrastructure_id, \"level\": level}\n",
    "            )\n",
    "            \n",
    "            executor = CommandExecutor()\n",
    "            result = executor.execute(cmd)\n",
    "            \n",
    "            # Track execution result\n",
    "            self._execution_results.append(result.success)\n",
    "            \n",
    "            status = \"SUCCESS\" if result.success else \"FAILED\"\n",
    "            console.print(f\"⚡ Priority: {infrastructure_id} → {level} \"\n",
    "                         f\"({reason}) - {status}\")\n",
    "            \n",
    "            return f\"Infrastructure {infrastructure_id} priority: {status}\"\n",
    "\n",
    "    return InfrastructurePriorityTool(description=description)"
   ]
  },
  {
   "cell_type": "code",
   "execution_count": 22,
   "id": "bb710d67",
   "metadata": {
    "lines_to_next_cell": 1
   },
   "outputs": [],
   "source": [
    "class GridAgentConfig(BaseModel):\n",
    "    \"\"\"Configuration for creating an agent with its role, goal, and backstory.\"\"\"\n",
    "    role: str = Field(..., description=\"The role/title of the agent\")\n",
    "    goal: str = Field(..., description=\"The primary objective of the agent\")\n",
    "    backstory: str = Field(..., description=\"The agent's background and context\")"
   ]
  },
  {
   "cell_type": "code",
   "execution_count": 23,
   "id": "b413fc9a",
   "metadata": {
    "lines_to_next_cell": 1
   },
   "outputs": [],
   "source": [
    "@weave.op\n",
    "def create_grid_agent(config: GridAgentConfig):\n",
    "    \"\"\"\n",
    "    Create the Grid Management Specialist Agent with dynamic context.\n",
    "    \n",
    "    Args:\n",
    "        config: AgentConfig containing the base agent configuration\n",
    "    \"\"\"\n",
    "    actual_ids = get_actual_service_ids()\n",
    "    available_zones = actual_ids.get('grid_zones', ['Z001', 'Z002', 'Z003'])\n",
    "    \n",
    "    try:\n",
    "        response = requests.get(f\"{SERVICE_URLS['grid']}/service/info\", timeout=5)\n",
    "        if response.status_code == 200:\n",
    "            available_infrastructure = [\"hospital\", \"police\", \"emergency_services\", \n",
    "                                      \"water_treatment\", \"data_center\", \n",
    "                                      \"emergency_shelter\"]\n",
    "        else:\n",
    "            available_infrastructure = [\"hospital\", \"police\", \"emergency_services\"]\n",
    "    except Exception:\n",
    "        available_infrastructure = [\"hospital\", \"police\", \"emergency_services\"]\n",
    "    \n",
    "    # Format the backstory with dynamic content\n",
    "    formatted_backstory = config.backstory.format(\n",
    "        zones=', '.join(available_zones),\n",
    "        infrastructure=', '.join(available_infrastructure),\n",
    "        zone_count=len(available_zones)\n",
    "    )\n",
    "    \n",
    "    # Format the goal with dynamic content\n",
    "    formatted_goal = config.goal.format(\n",
    "        zone_count=len(available_zones)\n",
    "    )\n",
    "    \n",
    "    grid_specialist = Agent(\n",
    "        role=config.role,\n",
    "        goal=formatted_goal,\n",
    "        backstory=formatted_backstory,\n",
    "        tools=[create_grid_zone_adjustment_tool(grid_zone_adjustment_tool_description), \n",
    "               create_infrastructure_priority_tool(infrastructure_priority_tool_description)],\n",
    "        verbose=False,\n",
    "        allow_delegation=False\n",
    "    )\n",
    "    \n",
    "    return grid_specialist"
   ]
  },
  {
   "cell_type": "code",
   "execution_count": 24,
   "id": "dc63a6aa",
   "metadata": {
    "lines_to_next_cell": 1
   },
   "outputs": [],
   "source": [
    "# Define the base configuration\n",
    "grid_agent_config = GridAgentConfig(\n",
    "    role=\"Power Grid Stability Specialist\",\n",
    "    goal=\"Prevent grid failures through capacity management and infrastructure prioritization across {zone_count} zones\",\n",
    "    backstory=(\n",
    "        \"Senior grid engineer specializing in load balancing and infrastructure prioritization.\\n\\n\"\n",
    "        \"Available resources:\\n\"\n",
    "        \"• Grid zones: {zones}\\n\"\n",
    "        \"• Critical infrastructure: {infrastructure}\\n\\n\"\n",
    "        \"Decision criteria:\\n\"\n",
    "        \"• Reduce capacity for any zone >90% load to 0.8 or lower\\n\"\n",
    "        \"• Set all critical infrastructure to 'critical' priority\\n\"\n",
    "        \"• Take 6+ actions total (zone adjustments + infrastructure priorities)\\n\"\n",
    "        \"• Use actual resource IDs only\"\n",
    "    )\n",
    ")"
   ]
  },
  {
   "cell_type": "code",
   "execution_count": 25,
   "id": "9fffb8d4",
   "metadata": {
    "lines_to_next_cell": 1
   },
   "outputs": [],
   "source": [
    "class GridManagementPlan(BaseModel):\n",
    "    \"\"\"Structured output for grid management actions during heat wave.\"\"\"\n",
    "    zone_adjustments: List[ZoneAdjustment] = Field(\n",
    "        description=\"Zone capacity adjustments to prevent overloads\"\n",
    "    )\n",
    "    priority_settings: List[InfrastructurePriority] = Field(\n",
    "        description=\"Infrastructure priority changes for critical facilities\"\n",
    "    )\n",
    "    stability_forecast: str = Field(\n",
    "        description=\"Expected grid stability after implementing changes\"\n",
    "    )\n",
    "    coordination_notes: str = Field(\n",
    "        description=\"Notes for other agents about grid impacts and dependencies\"\n",
    "    )"
   ]
  },
  {
   "cell_type": "code",
   "execution_count": 26,
   "id": "5583b759",
   "metadata": {
    "lines_to_next_cell": 1
   },
   "outputs": [],
   "source": [
    "class GridTaskConfig(BaseModel):\n",
    "    \"\"\"Configuration for creating a task with its description and expected output.\"\"\"\n",
    "    description: str = Field(..., description=\"The task description with placeholders for dynamic content\")\n",
    "    expected_output: str = Field(..., description=\"Description of the expected output from the task\")\n",
    "    output_pydantic: Type = Field(..., description=\"The Pydantic model class for the output\")"
   ]
  },
  {
   "cell_type": "code",
   "execution_count": 27,
   "id": "22d6df3c",
   "metadata": {
    "lines_to_next_cell": 1
   },
   "outputs": [],
   "source": [
    "@weave.op\n",
    "def create_grid_task(grid_agent, config: GridTaskConfig):\n",
    "    \"\"\"\n",
    "    Create a task specifically for the Grid agent with dynamic context.\n",
    "    \n",
    "    Args:\n",
    "        grid_agent: The agent that will execute the task\n",
    "        config: TaskConfig containing the base task configuration\n",
    "    \"\"\"\n",
    "    actual_ids = get_actual_service_ids()\n",
    "    available_zones = actual_ids.get('grid_zones', ['Z001', 'Z002', 'Z003'])\n",
    "    \n",
    "    try:\n",
    "        response = requests.get(f\"{SERVICE_URLS['grid']}/service/info\", timeout=5)\n",
    "        if response.status_code == 200:\n",
    "            available_infrastructure = [\"hospital\", \"police\", \"emergency_services\", \n",
    "                                      \"water_treatment\", \"data_center\", \n",
    "                                      \"emergency_shelter\"]\n",
    "        else:\n",
    "            available_infrastructure = [\"hospital\", \"police\", \"emergency_services\"]\n",
    "    except Exception:\n",
    "        available_infrastructure = [\"hospital\", \"police\", \"emergency_services\"]\n",
    "    \n",
    "    # Format the description with dynamic content\n",
    "    formatted_description = config.description.format(\n",
    "        zones=', '.join(available_zones),\n",
    "        infrastructure=', '.join(available_infrastructure)\n",
    "    )\n",
    "    \n",
    "    grid_task = Task(\n",
    "        description=formatted_description,\n",
    "        agent=grid_agent,\n",
    "        expected_output=config.expected_output,\n",
    "        output_pydantic=config.output_pydantic\n",
    "    )\n",
    "    \n",
    "    return grid_task"
   ]
  },
  {
   "cell_type": "code",
   "execution_count": 28,
   "id": "27b453bc",
   "metadata": {},
   "outputs": [],
   "source": [
    "# Define the base task configuration\n",
    "grid_task_config = GridTaskConfig(\n",
    "    description=(\n",
    "        \"Heat wave crisis: Grid zones approaching overload thresholds.\\n\\n\"\n",
    "        \"Required actions:\\n\"\n",
    "        \"1. Check all zones: {zones}\\n\"\n",
    "        \"2. Reduce capacity to 0.8 for any zone >90% load\\n\"\n",
    "        \"3. Set all critical infrastructure to 'critical' priority: {infrastructure}\\n\\n\"\n",
    "        \"Success criteria: Execute 6+ total actions minimum\\n\"\n",
    "        \"Use only the resource IDs listed above\"\n",
    "    ),\n",
    "    expected_output=\"Grid management plan with capacity adjustments and infrastructure priorities\",\n",
    "    output_pydantic=GridManagementPlan\n",
    ")"
   ]
  },
  {
   "cell_type": "code",
   "execution_count": 29,
   "id": "6996bf77",
   "metadata": {},
   "outputs": [
    {
     "data": {
      "text/html": [
       "<pre style=\"white-space:pre;overflow-x:auto;line-height:normal;font-family:Menlo,'DejaVu Sans Mono',consolas,'Courier New',monospace\">\n",
       "🤖 Testing Grid Agent-Based Management\n",
       "</pre>\n"
      ],
      "text/plain": [
       "\n",
       "🤖 Testing Grid Agent-Based Management\n"
      ]
     },
     "metadata": {},
     "output_type": "display_data"
    },
    {
     "data": {
      "text/html": [
       "<pre style=\"white-space:pre;overflow-x:auto;line-height:normal;font-family:Menlo,'DejaVu Sans Mono',consolas,'Courier New',monospace\">🎯 Activating scenario: Heat Wave Crisis - Grid Agent Test\n",
       "</pre>\n"
      ],
      "text/plain": [
       "🎯 Activating scenario: Heat Wave Crisis - Grid Agent Test\n"
      ]
     },
     "metadata": {},
     "output_type": "display_data"
    },
    {
     "data": {
      "text/html": [
       "<pre style=\"white-space:pre;overflow-x:auto;line-height:normal;font-family:Menlo,'DejaVu Sans Mono',consolas,'Courier New',monospace\">🔄 Resetting all service states<span style=\"color: #808000; text-decoration-color: #808000\">...</span>\n",
       "</pre>\n"
      ],
      "text/plain": [
       "🔄 Resetting all service states\u001b[33m...\u001b[0m\n"
      ]
     },
     "metadata": {},
     "output_type": "display_data"
    },
    {
     "data": {
      "text/html": [
       "<pre style=\"white-space:pre;overflow-x:auto;line-height:normal;font-family:Menlo,'DejaVu Sans Mono',consolas,'Courier New',monospace\">  ✅ GRID state reset\n",
       "</pre>\n"
      ],
      "text/plain": [
       "  ✅ GRID state reset\n"
      ]
     },
     "metadata": {},
     "output_type": "display_data"
    },
    {
     "data": {
      "text/html": [
       "<pre style=\"white-space:pre;overflow-x:auto;line-height:normal;font-family:Menlo,'DejaVu Sans Mono',consolas,'Courier New',monospace\">  ✅ EMERGENCY state reset\n",
       "</pre>\n"
      ],
      "text/plain": [
       "  ✅ EMERGENCY state reset\n"
      ]
     },
     "metadata": {},
     "output_type": "display_data"
    },
    {
     "data": {
      "text/html": [
       "<pre style=\"white-space:pre;overflow-x:auto;line-height:normal;font-family:Menlo,'DejaVu Sans Mono',consolas,'Courier New',monospace\">  ✅ TRAFFIC state reset\n",
       "</pre>\n"
      ],
      "text/plain": [
       "  ✅ TRAFFIC state reset\n"
      ]
     },
     "metadata": {},
     "output_type": "display_data"
    },
    {
     "data": {
      "text/html": [
       "<pre style=\"white-space:pre;overflow-x:auto;line-height:normal;font-family:Menlo,'DejaVu Sans Mono',consolas,'Courier New',monospace\">  ✅ SCENARIO state reset\n",
       "</pre>\n"
      ],
      "text/plain": [
       "  ✅ SCENARIO state reset\n"
      ]
     },
     "metadata": {},
     "output_type": "display_data"
    },
    {
     "name": "stderr",
     "output_type": "stream",
     "text": [
      "\u001b[36m\u001b[1mweave\u001b[0m: 🍩 https://wandb.ai/a-sh0ts/fc-workshop-track-2/r/call/01977d96-952a-7aba-96a8-c91fb09fed95\n",
      "INFO:weave.trace.op:🍩 https://wandb.ai/a-sh0ts/fc-workshop-track-2/r/call/01977d96-952a-7aba-96a8-c91fb09fed95\n",
      "\u001b[36m\u001b[1mweave\u001b[0m: 🍩 https://wandb.ai/a-sh0ts/fc-workshop-track-2/r/call/01977d96-9f45-74f8-9844-f62f69485595\n",
      "INFO:weave.trace.op:🍩 https://wandb.ai/a-sh0ts/fc-workshop-track-2/r/call/01977d96-9f45-74f8-9844-f62f69485595\n",
      "\u001b[36m\u001b[1mweave\u001b[0m: 🍩 https://wandb.ai/a-sh0ts/fc-workshop-track-2/r/call/01977d96-d5c3-70e8-8269-f6b283c02217\n",
      "INFO:weave.trace.op:🍩 https://wandb.ai/a-sh0ts/fc-workshop-track-2/r/call/01977d96-d5c3-70e8-8269-f6b283c02217\n",
      "\u001b[36m\u001b[1mweave\u001b[0m: 🍩 https://wandb.ai/a-sh0ts/fc-workshop-track-2/r/call/01977d96-de45-752f-84a3-81548abb839a\n",
      "INFO:weave.trace.op:🍩 https://wandb.ai/a-sh0ts/fc-workshop-track-2/r/call/01977d96-de45-752f-84a3-81548abb839a\n",
      "\u001b[36m\u001b[1mweave\u001b[0m: 🍩 https://wandb.ai/a-sh0ts/fc-workshop-track-2/r/call/01977d97-2b65-7152-90fc-a2da024cd30b\n",
      "INFO:weave.trace.op:🍩 https://wandb.ai/a-sh0ts/fc-workshop-track-2/r/call/01977d97-2b65-7152-90fc-a2da024cd30b\n",
      "\u001b[36m\u001b[1mweave\u001b[0m: 🍩 https://wandb.ai/a-sh0ts/fc-workshop-track-2/r/call/01977d97-3e77-77e2-9929-ad8ad9b12373\n",
      "INFO:weave.trace.op:🍩 https://wandb.ai/a-sh0ts/fc-workshop-track-2/r/call/01977d97-3e77-77e2-9929-ad8ad9b12373\n",
      "\u001b[36m\u001b[1mweave\u001b[0m: 🍩 https://wandb.ai/a-sh0ts/fc-workshop-track-2/r/call/01977d97-88b6-7d52-96c4-154169417303\n",
      "INFO:weave.trace.op:🍩 https://wandb.ai/a-sh0ts/fc-workshop-track-2/r/call/01977d97-88b6-7d52-96c4-154169417303\n",
      "\u001b[36m\u001b[1mweave\u001b[0m: 🍩 https://wandb.ai/a-sh0ts/fc-workshop-track-2/r/call/01977d9b-c3ef-7bfc-b38f-98502ae014cd\n",
      "INFO:weave.trace.op:🍩 https://wandb.ai/a-sh0ts/fc-workshop-track-2/r/call/01977d9b-c3ef-7bfc-b38f-98502ae014cd\n",
      "\u001b[36m\u001b[1mweave\u001b[0m: 🍩 https://wandb.ai/a-sh0ts/fc-workshop-track-2/r/call/01977d9b-d500-77ee-9296-9185bf19d666\n",
      "INFO:weave.trace.op:🍩 https://wandb.ai/a-sh0ts/fc-workshop-track-2/r/call/01977d9b-d500-77ee-9296-9185bf19d666\n",
      "\u001b[36m\u001b[1mweave\u001b[0m: 🍩 https://wandb.ai/a-sh0ts/fc-workshop-track-2/r/call/01977d9b-d525-7282-8e84-d143f72ce15a\n",
      "INFO:weave.trace.op:🍩 https://wandb.ai/a-sh0ts/fc-workshop-track-2/r/call/01977d9b-d525-7282-8e84-d143f72ce15a\n",
      "\u001b[36m\u001b[1mweave\u001b[0m: 🍩 https://wandb.ai/a-sh0ts/fc-workshop-track-2/r/call/01977d9b-d56d-7955-9388-b5b12315e543\n",
      "INFO:weave.trace.op:🍩 https://wandb.ai/a-sh0ts/fc-workshop-track-2/r/call/01977d9b-d56d-7955-9388-b5b12315e543\n",
      "\u001b[36m\u001b[1mweave\u001b[0m: 🍩 https://wandb.ai/a-sh0ts/fc-workshop-track-2/r/call/01977da0-6905-75c4-b525-f60a2b79a2f3\n",
      "INFO:weave.trace.op:🍩 https://wandb.ai/a-sh0ts/fc-workshop-track-2/r/call/01977da0-6905-75c4-b525-f60a2b79a2f3\n"
     ]
    },
    {
     "data": {
      "text/html": [
       "<pre style=\"white-space:pre;overflow-x:auto;line-height:normal;font-family:Menlo,'DejaVu Sans Mono',consolas,'Courier New',monospace\">  📋 Scenario created with ID: <span style=\"color: #ffff00; text-decoration-color: #ffff00\">aa1eecda-edd5-422a-94c8-b03915c5155c</span>\n",
       "</pre>\n"
      ],
      "text/plain": [
       "  📋 Scenario created with ID: \u001b[93maa1eecda-edd5-422a-94c8-b03915c5155c\u001b[0m\n"
      ]
     },
     "metadata": {},
     "output_type": "display_data"
    },
    {
     "data": {
      "text/html": [
       "<pre style=\"white-space:pre;overflow-x:auto;line-height:normal;font-family:Menlo,'DejaVu Sans Mono',consolas,'Courier New',monospace\">  ✅ Scenario <span style=\"color: #008000; text-decoration-color: #008000\">'Heat Wave Crisis - Grid Agent Test'</span> activated successfully\n",
       "</pre>\n"
      ],
      "text/plain": [
       "  ✅ Scenario \u001b[32m'Heat Wave Crisis - Grid Agent Test'\u001b[0m activated successfully\n"
      ]
     },
     "metadata": {},
     "output_type": "display_data"
    },
    {
     "data": {
      "text/html": [
       "<pre style=\"white-space:pre;overflow-x:auto;line-height:normal;font-family:Menlo,'DejaVu Sans Mono',consolas,'Courier New',monospace\">    ✅ GRID: State initialized\n",
       "</pre>\n"
      ],
      "text/plain": [
       "    ✅ GRID: State initialized\n"
      ]
     },
     "metadata": {},
     "output_type": "display_data"
    },
    {
     "data": {
      "text/html": [
       "<pre style=\"white-space:pre;overflow-x:auto;line-height:normal;font-family:Menlo,'DejaVu Sans Mono',consolas,'Courier New',monospace\">    ✅ EMERGENCY: State initialized\n",
       "</pre>\n"
      ],
      "text/plain": [
       "    ✅ EMERGENCY: State initialized\n"
      ]
     },
     "metadata": {},
     "output_type": "display_data"
    },
    {
     "data": {
      "text/html": [
       "<pre style=\"white-space:pre;overflow-x:auto;line-height:normal;font-family:Menlo,'DejaVu Sans Mono',consolas,'Courier New',monospace\">    ✅ TRAFFIC: State initialized\n",
       "</pre>\n"
      ],
      "text/plain": [
       "    ✅ TRAFFIC: State initialized\n"
      ]
     },
     "metadata": {},
     "output_type": "display_data"
    },
    {
     "name": "stderr",
     "output_type": "stream",
     "text": [
      "INFO:command:Executing adjust_zone on ServiceType.GRID service\n"
     ]
    },
    {
     "data": {
      "text/html": [
       "<pre style=\"white-space:pre;overflow-x:auto;line-height:normal;font-family:Menlo,'DejaVu Sans Mono',consolas,'Courier New',monospace\">🔧 Grid: Z001 → <span style=\"color: #008080; text-decoration-color: #008080; font-weight: bold\">80.0</span>% <span style=\"font-weight: bold\">(</span>Reducing capacity due to &gt;<span style=\"color: #008080; text-decoration-color: #008080; font-weight: bold\">90</span>% load to prevent grid failure.<span style=\"font-weight: bold\">)</span> - SUCCESS\n",
       "</pre>\n"
      ],
      "text/plain": [
       "🔧 Grid: Z001 → \u001b[1;36m80.0\u001b[0m% \u001b[1m(\u001b[0mReducing capacity due to >\u001b[1;36m90\u001b[0m% load to prevent grid failure.\u001b[1m)\u001b[0m - SUCCESS\n"
      ]
     },
     "metadata": {},
     "output_type": "display_data"
    },
    {
     "name": "stderr",
     "output_type": "stream",
     "text": [
      "INFO:command:Executing adjust_zone on ServiceType.GRID service\n"
     ]
    },
    {
     "data": {
      "text/html": [
       "<pre style=\"white-space:pre;overflow-x:auto;line-height:normal;font-family:Menlo,'DejaVu Sans Mono',consolas,'Courier New',monospace\">🔧 Grid: Z002 → <span style=\"color: #008080; text-decoration-color: #008080; font-weight: bold\">80.0</span>% <span style=\"font-weight: bold\">(</span>Reducing capacity due to &gt;<span style=\"color: #008080; text-decoration-color: #008080; font-weight: bold\">90</span>% load to prevent grid failure.<span style=\"font-weight: bold\">)</span> - SUCCESS\n",
       "</pre>\n"
      ],
      "text/plain": [
       "🔧 Grid: Z002 → \u001b[1;36m80.0\u001b[0m% \u001b[1m(\u001b[0mReducing capacity due to >\u001b[1;36m90\u001b[0m% load to prevent grid failure.\u001b[1m)\u001b[0m - SUCCESS\n"
      ]
     },
     "metadata": {},
     "output_type": "display_data"
    },
    {
     "name": "stderr",
     "output_type": "stream",
     "text": [
      "INFO:command:Executing adjust_zone on ServiceType.GRID service\n"
     ]
    },
    {
     "data": {
      "text/html": [
       "<pre style=\"white-space:pre;overflow-x:auto;line-height:normal;font-family:Menlo,'DejaVu Sans Mono',consolas,'Courier New',monospace\">🔧 Grid: Z003 → <span style=\"color: #008080; text-decoration-color: #008080; font-weight: bold\">80.0</span>% <span style=\"font-weight: bold\">(</span>Reducing capacity due to &gt;<span style=\"color: #008080; text-decoration-color: #008080; font-weight: bold\">90</span>% load to prevent grid failure.<span style=\"font-weight: bold\">)</span> - SUCCESS\n",
       "</pre>\n"
      ],
      "text/plain": [
       "🔧 Grid: Z003 → \u001b[1;36m80.0\u001b[0m% \u001b[1m(\u001b[0mReducing capacity due to >\u001b[1;36m90\u001b[0m% load to prevent grid failure.\u001b[1m)\u001b[0m - SUCCESS\n"
      ]
     },
     "metadata": {},
     "output_type": "display_data"
    },
    {
     "name": "stderr",
     "output_type": "stream",
     "text": [
      "INFO:command:Executing set_priority on ServiceType.GRID service\n"
     ]
    },
    {
     "data": {
      "text/html": [
       "<pre style=\"white-space:pre;overflow-x:auto;line-height:normal;font-family:Menlo,'DejaVu Sans Mono',consolas,'Courier New',monospace\">⚡ Priority: hospital → critical <span style=\"font-weight: bold\">(</span>Hospital requires the highest priority during the heat wave crisis for patient \n",
       "care.<span style=\"font-weight: bold\">)</span> - SUCCESS\n",
       "</pre>\n"
      ],
      "text/plain": [
       "⚡ Priority: hospital → critical \u001b[1m(\u001b[0mHospital requires the highest priority during the heat wave crisis for patient \n",
       "care.\u001b[1m)\u001b[0m - SUCCESS\n"
      ]
     },
     "metadata": {},
     "output_type": "display_data"
    },
    {
     "name": "stderr",
     "output_type": "stream",
     "text": [
      "INFO:command:Executing set_priority on ServiceType.GRID service\n"
     ]
    },
    {
     "data": {
      "text/html": [
       "<pre style=\"white-space:pre;overflow-x:auto;line-height:normal;font-family:Menlo,'DejaVu Sans Mono',consolas,'Courier New',monospace\">⚡ Priority: police → critical <span style=\"font-weight: bold\">(</span>Police services are essential for maintaining order and safety during the crisis.<span style=\"font-weight: bold\">)</span> \n",
       "- SUCCESS\n",
       "</pre>\n"
      ],
      "text/plain": [
       "⚡ Priority: police → critical \u001b[1m(\u001b[0mPolice services are essential for maintaining order and safety during the crisis.\u001b[1m)\u001b[0m \n",
       "- SUCCESS\n"
      ]
     },
     "metadata": {},
     "output_type": "display_data"
    },
    {
     "name": "stderr",
     "output_type": "stream",
     "text": [
      "INFO:command:Executing set_priority on ServiceType.GRID service\n"
     ]
    },
    {
     "data": {
      "text/html": [
       "<pre style=\"white-space:pre;overflow-x:auto;line-height:normal;font-family:Menlo,'DejaVu Sans Mono',consolas,'Courier New',monospace\">⚡ Priority: emergency_services → critical <span style=\"font-weight: bold\">(</span>Emergency services must be prioritized to respond to crises \n",
       "effectively.<span style=\"font-weight: bold\">)</span> - SUCCESS\n",
       "</pre>\n"
      ],
      "text/plain": [
       "⚡ Priority: emergency_services → critical \u001b[1m(\u001b[0mEmergency services must be prioritized to respond to crises \n",
       "effectively.\u001b[1m)\u001b[0m - SUCCESS\n"
      ]
     },
     "metadata": {},
     "output_type": "display_data"
    },
    {
     "data": {
      "text/html": [
       "<pre style=\"white-space:pre;overflow-x:auto;line-height:normal;font-family:Menlo,'DejaVu Sans Mono',consolas,'Courier New',monospace\">📊 Evaluating grid agent with proper agent converter<span style=\"color: #808000; text-decoration-color: #808000\">...</span>\n",
       "</pre>\n"
      ],
      "text/plain": [
       "📊 Evaluating grid agent with proper agent converter\u001b[33m...\u001b[0m\n"
      ]
     },
     "metadata": {},
     "output_type": "display_data"
    },
    {
     "data": {
      "text/html": [
       "<pre style=\"white-space:pre;overflow-x:auto;line-height:normal;font-family:Menlo,'DejaVu Sans Mono',consolas,'Courier New',monospace\">🔍 Converting <span style=\"color: #008080; text-decoration-color: #008080; font-weight: bold\">1</span> task outputs\n",
       "</pre>\n"
      ],
      "text/plain": [
       "🔍 Converting \u001b[1;36m1\u001b[0m task outputs\n"
      ]
     },
     "metadata": {},
     "output_type": "display_data"
    },
    {
     "data": {
      "text/html": [
       "<pre style=\"white-space:pre;overflow-x:auto;line-height:normal;font-family:Menlo,'DejaVu Sans Mono',consolas,'Courier New',monospace\">📋 Processing Task <span style=\"color: #008080; text-decoration-color: #008080; font-weight: bold\">0</span>\n",
       "</pre>\n"
      ],
      "text/plain": [
       "📋 Processing Task \u001b[1;36m0\u001b[0m\n"
      ]
     },
     "metadata": {},
     "output_type": "display_data"
    },
    {
     "data": {
      "text/html": [
       "<pre style=\"white-space:pre;overflow-x:auto;line-height:normal;font-family:Menlo,'DejaVu Sans Mono',consolas,'Courier New',monospace\">📋 Task <span style=\"color: #008080; text-decoration-color: #008080; font-weight: bold\">0</span> dict keys: <span style=\"font-weight: bold\">[</span><span style=\"color: #008000; text-decoration-color: #008000\">'zone_adjustments'</span>, <span style=\"color: #008000; text-decoration-color: #008000\">'priority_settings'</span>, <span style=\"color: #008000; text-decoration-color: #008000\">'stability_forecast'</span>, <span style=\"color: #008000; text-decoration-color: #008000\">'coordination_notes'</span><span style=\"font-weight: bold\">]</span>\n",
       "</pre>\n"
      ],
      "text/plain": [
       "📋 Task \u001b[1;36m0\u001b[0m dict keys: \u001b[1m[\u001b[0m\u001b[32m'zone_adjustments'\u001b[0m, \u001b[32m'priority_settings'\u001b[0m, \u001b[32m'stability_forecast'\u001b[0m, \u001b[32m'coordination_notes'\u001b[0m\u001b[1m]\u001b[0m\n"
      ]
     },
     "metadata": {},
     "output_type": "display_data"
    },
    {
     "data": {
      "text/html": [
       "<pre style=\"white-space:pre;overflow-x:auto;line-height:normal;font-family:Menlo,'DejaVu Sans Mono',consolas,'Courier New',monospace\">📋 Task <span style=\"color: #008080; text-decoration-color: #008080; font-weight: bold\">0</span>: Processing Grid Plan\n",
       "</pre>\n"
      ],
      "text/plain": [
       "📋 Task \u001b[1;36m0\u001b[0m: Processing Grid Plan\n"
      ]
     },
     "metadata": {},
     "output_type": "display_data"
    },
    {
     "data": {
      "text/html": [
       "<pre style=\"white-space:pre;overflow-x:auto;line-height:normal;font-family:Menlo,'DejaVu Sans Mono',consolas,'Courier New',monospace\">  🔧 Grid: adjust_zone Z001 → <span style=\"color: #008080; text-decoration-color: #008080; font-weight: bold\">0.8</span>\n",
       "</pre>\n"
      ],
      "text/plain": [
       "  🔧 Grid: adjust_zone Z001 → \u001b[1;36m0.8\u001b[0m\n"
      ]
     },
     "metadata": {},
     "output_type": "display_data"
    },
    {
     "data": {
      "text/html": [
       "<pre style=\"white-space:pre;overflow-x:auto;line-height:normal;font-family:Menlo,'DejaVu Sans Mono',consolas,'Courier New',monospace\">  🔧 Grid: adjust_zone Z002 → <span style=\"color: #008080; text-decoration-color: #008080; font-weight: bold\">0.8</span>\n",
       "</pre>\n"
      ],
      "text/plain": [
       "  🔧 Grid: adjust_zone Z002 → \u001b[1;36m0.8\u001b[0m\n"
      ]
     },
     "metadata": {},
     "output_type": "display_data"
    },
    {
     "data": {
      "text/html": [
       "<pre style=\"white-space:pre;overflow-x:auto;line-height:normal;font-family:Menlo,'DejaVu Sans Mono',consolas,'Courier New',monospace\">  🔧 Grid: adjust_zone Z003 → <span style=\"color: #008080; text-decoration-color: #008080; font-weight: bold\">0.8</span>\n",
       "</pre>\n"
      ],
      "text/plain": [
       "  🔧 Grid: adjust_zone Z003 → \u001b[1;36m0.8\u001b[0m\n"
      ]
     },
     "metadata": {},
     "output_type": "display_data"
    },
    {
     "data": {
      "text/html": [
       "<pre style=\"white-space:pre;overflow-x:auto;line-height:normal;font-family:Menlo,'DejaVu Sans Mono',consolas,'Courier New',monospace\">  ⚡ Grid: set_priority hospital → critical\n",
       "</pre>\n"
      ],
      "text/plain": [
       "  ⚡ Grid: set_priority hospital → critical\n"
      ]
     },
     "metadata": {},
     "output_type": "display_data"
    },
    {
     "data": {
      "text/html": [
       "<pre style=\"white-space:pre;overflow-x:auto;line-height:normal;font-family:Menlo,'DejaVu Sans Mono',consolas,'Courier New',monospace\">  ⚡ Grid: set_priority police → critical\n",
       "</pre>\n"
      ],
      "text/plain": [
       "  ⚡ Grid: set_priority police → critical\n"
      ]
     },
     "metadata": {},
     "output_type": "display_data"
    },
    {
     "data": {
      "text/html": [
       "<pre style=\"white-space:pre;overflow-x:auto;line-height:normal;font-family:Menlo,'DejaVu Sans Mono',consolas,'Courier New',monospace\">  ⚡ Grid: set_priority emergency_services → critical\n",
       "</pre>\n"
      ],
      "text/plain": [
       "  ⚡ Grid: set_priority emergency_services → critical\n"
      ]
     },
     "metadata": {},
     "output_type": "display_data"
    },
    {
     "data": {
      "text/html": [
       "<pre style=\"white-space:pre;overflow-x:auto;line-height:normal;font-family:Menlo,'DejaVu Sans Mono',consolas,'Courier New',monospace\">✅ Converted <span style=\"color: #008080; text-decoration-color: #008080; font-weight: bold\">6</span> commands from agent results\n",
       "</pre>\n"
      ],
      "text/plain": [
       "✅ Converted \u001b[1;36m6\u001b[0m commands from agent results\n"
      ]
     },
     "metadata": {},
     "output_type": "display_data"
    },
    {
     "data": {
      "text/html": [
       "<pre style=\"white-space:pre;overflow-x:auto;line-height:normal;font-family:Menlo,'DejaVu Sans Mono',consolas,'Courier New',monospace\">📊 Converted <span style=\"color: #008080; text-decoration-color: #008080; font-weight: bold\">6</span> commands for evaluation\n",
       "</pre>\n"
      ],
      "text/plain": [
       "📊 Converted \u001b[1;36m6\u001b[0m commands for evaluation\n"
      ]
     },
     "metadata": {},
     "output_type": "display_data"
    },
    {
     "name": "stderr",
     "output_type": "stream",
     "text": [
      "INFO:command_evaluator:Command grid.adjust_zone matches optimal command\n",
      "INFO:command_evaluator:Command grid.set_priority matches optimal command\n",
      "INFO:command_evaluator:Evaluation complete - Overall score: 0.30\n"
     ]
    },
    {
     "data": {
      "text/html": [
       "<pre style=\"white-space:pre;overflow-x:auto;line-height:normal;font-family:Menlo,'DejaVu Sans Mono',consolas,'Courier New',monospace\">📊 Command evaluator score: <span style=\"color: #008080; text-decoration-color: #008080; font-weight: bold\">30.0</span>%\n",
       "</pre>\n"
      ],
      "text/plain": [
       "📊 Command evaluator score: \u001b[1;36m30.0\u001b[0m%\n"
      ]
     },
     "metadata": {},
     "output_type": "display_data"
    },
    {
     "data": {
      "text/html": [
       "<pre style=\"white-space:pre;overflow-x:auto;line-height:normal;font-family:Menlo,'DejaVu Sans Mono',consolas,'Courier New',monospace\">📊 Rule: <span style=\"color: #008080; text-decoration-color: #008080; font-weight: bold\">27.0</span>%\n",
       "</pre>\n"
      ],
      "text/plain": [
       "📊 Rule: \u001b[1;36m27.0\u001b[0m%\n"
      ]
     },
     "metadata": {},
     "output_type": "display_data"
    },
    {
     "data": {
      "text/html": [
       "<pre style=\"white-space:pre;overflow-x:auto;line-height:normal;font-family:Menlo,'DejaVu Sans Mono',consolas,'Courier New',monospace\">📊 Grid Agent: <span style=\"color: #008080; text-decoration-color: #008080; font-weight: bold\">30.0</span>%\n",
       "</pre>\n"
      ],
      "text/plain": [
       "📊 Grid Agent: \u001b[1;36m30.0\u001b[0m%\n"
      ]
     },
     "metadata": {},
     "output_type": "display_data"
    }
   ],
   "source": [
    "# Test 2: Grid Agent-Based Manager\n",
    "console.print(\"\\n🤖 Testing Grid Agent-Based Management\")\n",
    "activate_scenario(HEAT_WAVE_SCENARIO, \"Heat Wave Crisis - Grid Agent Test\")\n",
    "\n",
    "grid_agent = create_grid_agent(grid_agent_config)\n",
    "grid_task = create_grid_task(grid_agent, grid_task_config)\n",
    "\n",
    "# Create single-agent crew for grid testing\n",
    "grid_crew = Crew(\n",
    "    agents=[grid_agent],\n",
    "    tasks=[grid_task],\n",
    "    process=Process.sequential,\n",
    "    verbose=False\n",
    ")\n",
    "\n",
    "# Execute grid agent task\n",
    "grid_agent_result = grid_crew.kickoff(inputs={\n",
    "    \"scenario_name\": HEAT_WAVE_SCENARIO.name,\n",
    "    \"scenario_description\": HEAT_WAVE_SCENARIO.description\n",
    "})\n",
    "\n",
    "console.print(\"📊 Evaluating grid agent with proper agent converter...\")\n",
    "grid_agent_success_rate, grid_agent_commands, grid_agent_evaluation = convert_and_evaluate_agent_commands(\n",
    "    crew_result=grid_agent_result,\n",
    "    scenario_definition=HEAT_WAVE_SCENARIO,\n",
    "    scenario_type=ScenarioType.GRID_SURGE\n",
    ")\n",
    "console.print(f\"📊 Rule: {grid_rule_success_rate:.1%}\")\n",
    "console.print(f\"📊 Grid Agent: {grid_agent_success_rate:.1%}\")"
   ]
  },
  {
   "cell_type": "code",
   "execution_count": 30,
   "id": "3c269a0c",
   "metadata": {},
   "outputs": [
    {
     "data": {
      "text/html": [
       "<pre style=\"white-space:pre;overflow-x:auto;line-height:normal;font-family:Menlo,'DejaVu Sans Mono',consolas,'Courier New',monospace\">📊 Results saved to workshop_experiment_results.json\n",
       "</pre>\n"
      ],
      "text/plain": [
       "📊 Results saved to workshop_experiment_results.json\n"
      ]
     },
     "metadata": {},
     "output_type": "display_data"
    },
    {
     "data": {
      "text/html": [
       "<pre style=\"white-space:pre;overflow-x:auto;line-height:normal;font-family:Menlo,'DejaVu Sans Mono',consolas,'Courier New',monospace\">    Service Investigation Progress:\n",
       "</pre>\n"
      ],
      "text/plain": [
       "    Service Investigation Progress:\n"
      ]
     },
     "metadata": {},
     "output_type": "display_data"
    }
   ],
   "source": [
    "# Store Grid service results using actual agent commands\n",
    "workshop_results[\"service_investigation\"][\"grid\"] = {\n",
    "    \"rule_success_rate\": grid_rule_success_rate,\n",
    "    \"agent_success_rate\": grid_agent_success_rate,\n",
    "    \"rule_commands\": grid_rule_commands,\n",
    "    \"agent_commands\": [\n",
    "        {\n",
    "            \"service\": cmd.service.value,\n",
    "            \"action\": cmd.action,\n",
    "            \"parameters\": cmd.parameters\n",
    "        } for cmd in grid_agent_commands\n",
    "    ] if grid_agent_commands else []\n",
    "}\n",
    "save_experiment_results(workshop_results)"
   ]
  },
  {
   "cell_type": "code",
   "execution_count": 31,
   "id": "19b1c688",
   "metadata": {
    "lines_to_next_cell": 1
   },
   "outputs": [
    {
     "data": {
      "text/html": [
       "<pre style=\"white-space:pre;overflow-x:auto;line-height:normal;font-family:Menlo,'DejaVu Sans Mono',consolas,'Courier New',monospace\"><span style=\"color: #808000; text-decoration-color: #808000\">╭────────────────────────────────────── Grid Service Investigation Results ───────────────────────────────────────╮</span>\n",
       "<span style=\"color: #808000; text-decoration-color: #808000\">│</span> ⚖️ **Grid Service: Rules vs Agent Comparison**                                                                   <span style=\"color: #808000; text-decoration-color: #808000\">│</span>\n",
       "<span style=\"color: #808000; text-decoration-color: #808000\">│</span>                                                                                                                 <span style=\"color: #808000; text-decoration-color: #808000\">│</span>\n",
       "<span style=\"color: #808000; text-decoration-color: #808000\">│</span> **Grid Rules**: 27.0% success rate                                                                              <span style=\"color: #808000; text-decoration-color: #808000\">│</span>\n",
       "<span style=\"color: #808000; text-decoration-color: #808000\">│</span> • ⚡ Fast execution (deterministic)                                                                             <span style=\"color: #808000; text-decoration-color: #808000\">│</span>\n",
       "<span style=\"color: #808000; text-decoration-color: #808000\">│</span> • 🎯 Heat wave optimized                                                                                        <span style=\"color: #808000; text-decoration-color: #808000\">│</span>\n",
       "<span style=\"color: #808000; text-decoration-color: #808000\">│</span> • ❌ Rigid - only handles predefined scenarios                                                                  <span style=\"color: #808000; text-decoration-color: #808000\">│</span>\n",
       "<span style=\"color: #808000; text-decoration-color: #808000\">│</span> • 🔧 Hard-coded logic                                                                                           <span style=\"color: #808000; text-decoration-color: #808000\">│</span>\n",
       "<span style=\"color: #808000; text-decoration-color: #808000\">│</span>                                                                                                                 <span style=\"color: #808000; text-decoration-color: #808000\">│</span>\n",
       "<span style=\"color: #808000; text-decoration-color: #808000\">│</span> **Grid Agent**: 30.0% success rate                                                                              <span style=\"color: #808000; text-decoration-color: #808000\">│</span>\n",
       "<span style=\"color: #808000; text-decoration-color: #808000\">│</span> • 🧠 Reasoning and context awareness                                                                            <span style=\"color: #808000; text-decoration-color: #808000\">│</span>\n",
       "<span style=\"color: #808000; text-decoration-color: #808000\">│</span> • 🛠️ Dynamic tool usage                                                                                          <span style=\"color: #808000; text-decoration-color: #808000\">│</span>\n",
       "<span style=\"color: #808000; text-decoration-color: #808000\">│</span> • ✅ Adaptable to new situations                                                                                <span style=\"color: #808000; text-decoration-color: #808000\">│</span>\n",
       "<span style=\"color: #808000; text-decoration-color: #808000\">│</span> • 🎭 Domain expertise with flexibility                                                                          <span style=\"color: #808000; text-decoration-color: #808000\">│</span>\n",
       "<span style=\"color: #808000; text-decoration-color: #808000\">│</span>                                                                                                                 <span style=\"color: #808000; text-decoration-color: #808000\">│</span>\n",
       "<span style=\"color: #808000; text-decoration-color: #808000\">│</span> **🔑 Key Insight**: Agents provide superior adaptability                                                        <span style=\"color: #808000; text-decoration-color: #808000\">│</span>\n",
       "<span style=\"color: #808000; text-decoration-color: #808000\">╰─────────────────────────────────────────────────────────────────────────────────────────────────────────────────╯</span>\n",
       "</pre>\n"
      ],
      "text/plain": [
       "\u001b[33m╭─\u001b[0m\u001b[33m─────────────────────────────────────\u001b[0m\u001b[33m Grid Service Investigation Results \u001b[0m\u001b[33m──────────────────────────────────────\u001b[0m\u001b[33m─╮\u001b[0m\n",
       "\u001b[33m│\u001b[0m ⚖️ **Grid Service: Rules vs Agent Comparison**                                                                   \u001b[33m│\u001b[0m\n",
       "\u001b[33m│\u001b[0m                                                                                                                 \u001b[33m│\u001b[0m\n",
       "\u001b[33m│\u001b[0m **Grid Rules**: 27.0% success rate                                                                              \u001b[33m│\u001b[0m\n",
       "\u001b[33m│\u001b[0m • ⚡ Fast execution (deterministic)                                                                             \u001b[33m│\u001b[0m\n",
       "\u001b[33m│\u001b[0m • 🎯 Heat wave optimized                                                                                        \u001b[33m│\u001b[0m\n",
       "\u001b[33m│\u001b[0m • ❌ Rigid - only handles predefined scenarios                                                                  \u001b[33m│\u001b[0m\n",
       "\u001b[33m│\u001b[0m • 🔧 Hard-coded logic                                                                                           \u001b[33m│\u001b[0m\n",
       "\u001b[33m│\u001b[0m                                                                                                                 \u001b[33m│\u001b[0m\n",
       "\u001b[33m│\u001b[0m **Grid Agent**: 30.0% success rate                                                                              \u001b[33m│\u001b[0m\n",
       "\u001b[33m│\u001b[0m • 🧠 Reasoning and context awareness                                                                            \u001b[33m│\u001b[0m\n",
       "\u001b[33m│\u001b[0m • 🛠️ Dynamic tool usage                                                                                          \u001b[33m│\u001b[0m\n",
       "\u001b[33m│\u001b[0m • ✅ Adaptable to new situations                                                                                \u001b[33m│\u001b[0m\n",
       "\u001b[33m│\u001b[0m • 🎭 Domain expertise with flexibility                                                                          \u001b[33m│\u001b[0m\n",
       "\u001b[33m│\u001b[0m                                                                                                                 \u001b[33m│\u001b[0m\n",
       "\u001b[33m│\u001b[0m **🔑 Key Insight**: Agents provide superior adaptability                                                        \u001b[33m│\u001b[0m\n",
       "\u001b[33m╰─────────────────────────────────────────────────────────────────────────────────────────────────────────────────╯\u001b[0m\n"
      ]
     },
     "metadata": {},
     "output_type": "display_data"
    },
    {
     "data": {
      "text/html": [
       "<pre style=\"white-space:pre;overflow-x:auto;line-height:normal;font-family:Menlo,'DejaVu Sans Mono',consolas,'Courier New',monospace\">✅ Phase 3A Complete: Grid service investigation finished\n",
       "</pre>\n"
      ],
      "text/plain": [
       "✅ Phase 3A Complete: Grid service investigation finished\n"
      ]
     },
     "metadata": {},
     "output_type": "display_data"
    }
   ],
   "source": [
    "# Grid Service Comparison\n",
    "console.print(Panel(\n",
    "    f\"⚖️ **Grid Service: Rules vs Agent Comparison**\\n\\n\"\n",
    "    f\"**Grid Rules**: {grid_rule_success_rate:.1%} success rate\\n\"\n",
    "    f\"• ⚡ Fast execution (deterministic)\\n\"\n",
    "    f\"• 🎯 Heat wave optimized\\n\"\n",
    "    f\"• ❌ Rigid - only handles predefined scenarios\\n\"\n",
    "    f\"• 🔧 Hard-coded logic\\n\\n\"\n",
    "    f\"**Grid Agent**: {grid_agent_success_rate:.1%} success rate\\n\"\n",
    "    f\"• 🧠 Reasoning and context awareness\\n\"\n",
    "    f\"• 🛠️ Dynamic tool usage\\n\"\n",
    "    f\"• ✅ Adaptable to new situations\\n\"\n",
    "    f\"• 🎭 Domain expertise with flexibility\\n\\n\"\n",
    "    f\"**🔑 Key Insight**: \"\n",
    "    f\"{'Agents provide superior adaptability' if grid_agent_success_rate > grid_rule_success_rate else 'Rules provide reliable performance for known scenarios'}\",\n",
    "    title=\"Grid Service Investigation Results\",\n",
    "    border_style=\"yellow\"\n",
    "))\n",
    "\n",
    "console.print(\"✅ Phase 3A Complete: Grid service investigation finished\")"
   ]
  },
  {
   "cell_type": "markdown",
   "id": "278e9586",
   "metadata": {},
   "source": [
    "### 🚁 **Phase 3B: Emergency Service Investigation**\n",
    "Following the same pattern for Emergency services - rules vs agents"
   ]
  },
  {
   "cell_type": "code",
   "execution_count": 32,
   "id": "c68cb889",
   "metadata": {
    "lines_to_next_cell": 1
   },
   "outputs": [],
   "source": [
    "class EmergencyRuleBasedManager(weave.Model):\n",
    "    \"\"\"Rule-based emergency management for heat wave scenarios.\"\"\"\n",
    "    name: str = \"Emergency Rule-Based Manager\"\n",
    "        \n",
    "    @weave.op\n",
    "    def analyze_heat_wave_rules(self, scenario_state):\n",
    "        \"\"\"Apply heat wave specific rules for emergency management.\"\"\"\n",
    "        commands = []\n",
    "        incidents = (scenario_state.incidents \n",
    "                    if hasattr(scenario_state, 'incidents') else [])\n",
    "        drones = scenario_state.drones if hasattr(scenario_state, 'drones') else []\n",
    "        \n",
    "        console.print(\"🎯 Applying Simple Emergency Heat Wave Rules...\")\n",
    "        \n",
    "        # Simplified Rule: Only assign first drone to highest urgency incident\n",
    "        if incidents and drones:\n",
    "            sorted_incidents = sorted(incidents, \n",
    "                                key=lambda x: getattr(x, 'urgency', 0), \n",
    "                                reverse=True)\n",
    "            \n",
    "            # Only handle the single most urgent incident (instead of all)\n",
    "            if sorted_incidents and drones:\n",
    "                incident = sorted_incidents[0]  # Only first incident\n",
    "                drone = drones[0]  # Only first drone\n",
    "                incident_id = getattr(incident, 'id', 'unknown')\n",
    "                drone_id = getattr(drone, 'id', 'unknown')\n",
    "                urgency = getattr(incident, 'urgency', 0)\n",
    "                \n",
    "                commands.append({\n",
    "                    \"service\": \"emergency\",\n",
    "                    \"action\": \"assign_drone\",\n",
    "                    \"parameters\": {\"drone_id\": drone_id, \"incident_id\": incident_id},\n",
    "                    \"rule\": f\"Simple Rule: Assign {drone_id} to most urgent incident \"\n",
    "                           f\"{incident_id} (urgency: {urgency:.1%})\"\n",
    "                })\n",
    "                console.print(f\"  🚁 Simple Rule: {drone_id} → {incident_id} \"\n",
    "                             f\"(urgency: {urgency:.1%})\")\n",
    "        \n",
    "        return commands"
   ]
  },
  {
   "cell_type": "code",
   "execution_count": 33,
   "id": "bc11f123",
   "metadata": {},
   "outputs": [
    {
     "data": {
      "text/html": [
       "<pre style=\"white-space:pre;overflow-x:auto;line-height:normal;font-family:Menlo,'DejaVu Sans Mono',consolas,'Courier New',monospace\"><span style=\"color: #800000; text-decoration-color: #800000\">╭─────────────────────────────────────────────────────────────────────────────────────────────────────────────────╮</span>\n",
       "<span style=\"color: #800000; text-decoration-color: #800000\">│</span> 🚁 Phase 3B: Emergency Service Investigation                                                                    <span style=\"color: #800000; text-decoration-color: #800000\">│</span>\n",
       "<span style=\"color: #800000; text-decoration-color: #800000\">╰─────────────────────────────────────────────────────────────────────────────────────────────────────────────────╯</span>\n",
       "</pre>\n"
      ],
      "text/plain": [
       "\u001b[31m╭─────────────────────────────────────────────────────────────────────────────────────────────────────────────────╮\u001b[0m\n",
       "\u001b[31m│\u001b[0m 🚁 Phase 3B: Emergency Service Investigation                                                                    \u001b[31m│\u001b[0m\n",
       "\u001b[31m╰─────────────────────────────────────────────────────────────────────────────────────────────────────────────────╯\u001b[0m\n"
      ]
     },
     "metadata": {},
     "output_type": "display_data"
    },
    {
     "data": {
      "text/html": [
       "<pre style=\"white-space:pre;overflow-x:auto;line-height:normal;font-family:Menlo,'DejaVu Sans Mono',consolas,'Courier New',monospace\">🎯 Applying Simple Emergency Heat Wave Rules<span style=\"color: #808000; text-decoration-color: #808000\">...</span>\n",
       "</pre>\n"
      ],
      "text/plain": [
       "🎯 Applying Simple Emergency Heat Wave Rules\u001b[33m...\u001b[0m\n"
      ]
     },
     "metadata": {},
     "output_type": "display_data"
    },
    {
     "data": {
      "text/html": [
       "<pre style=\"white-space:pre;overflow-x:auto;line-height:normal;font-family:Menlo,'DejaVu Sans Mono',consolas,'Courier New',monospace\">  🚁 Simple Rule: D001 → E-<span style=\"color: #008080; text-decoration-color: #008080; font-weight: bold\">1001</span> <span style=\"font-weight: bold\">(</span>urgency: <span style=\"color: #008080; text-decoration-color: #008080; font-weight: bold\">99.0</span>%<span style=\"font-weight: bold\">)</span>\n",
       "</pre>\n"
      ],
      "text/plain": [
       "  🚁 Simple Rule: D001 → E-\u001b[1;36m1001\u001b[0m \u001b[1m(\u001b[0murgency: \u001b[1;36m99.0\u001b[0m%\u001b[1m)\u001b[0m\n"
      ]
     },
     "metadata": {},
     "output_type": "display_data"
    },
    {
     "data": {
      "text/html": [
       "<pre style=\"white-space:pre;overflow-x:auto;line-height:normal;font-family:Menlo,'DejaVu Sans Mono',consolas,'Courier New',monospace\">\n",
       "📏 Command <span style=\"color: #008080; text-decoration-color: #008080; font-weight: bold\">1</span>: Simple Rule: Assign D001 to most urgent incident E-<span style=\"color: #008080; text-decoration-color: #008080; font-weight: bold\">1001</span> <span style=\"font-weight: bold\">(</span>urgency: <span style=\"color: #008080; text-decoration-color: #008080; font-weight: bold\">99.0</span>%<span style=\"font-weight: bold\">)</span>\n",
       "</pre>\n"
      ],
      "text/plain": [
       "\n",
       "📏 Command \u001b[1;36m1\u001b[0m: Simple Rule: Assign D001 to most urgent incident E-\u001b[1;36m1001\u001b[0m \u001b[1m(\u001b[0murgency: \u001b[1;36m99.0\u001b[0m%\u001b[1m)\u001b[0m\n"
      ]
     },
     "metadata": {},
     "output_type": "display_data"
    },
    {
     "name": "stderr",
     "output_type": "stream",
     "text": [
      "INFO:command:Executing assign_drone on ServiceType.EMERGENCY service\n"
     ]
    },
    {
     "data": {
      "text/html": [
       "<pre style=\"white-space:pre;overflow-x:auto;line-height:normal;font-family:Menlo,'DejaVu Sans Mono',consolas,'Courier New',monospace\">  ✅ SUCCESS: emergency.assign_drone\n",
       "</pre>\n"
      ],
      "text/plain": [
       "  ✅ SUCCESS: emergency.assign_drone\n"
      ]
     },
     "metadata": {},
     "output_type": "display_data"
    }
   ],
   "source": [
    "# Test Emergency Service: Rules vs Agent (condensed)\n",
    "console.print(Panel(\"🚁 Phase 3B: Emergency Service Investigation\", border_style=\"red\"))\n",
    "\n",
    "# Test Emergency Rules\n",
    "emergency_rule_manager = EmergencyRuleBasedManager()\n",
    "emergency_rule_commands = emergency_rule_manager.analyze_heat_wave_rules(\n",
    "    HEAT_WAVE_SCENARIO.initial_state\n",
    ")\n",
    "\n",
    "# Actually execute emergency rule commands\n",
    "emergency_rule_success_rate = execute_rule_commands(emergency_rule_commands)"
   ]
  },
  {
   "cell_type": "code",
   "execution_count": 34,
   "id": "e21cd071",
   "metadata": {
    "lines_to_next_cell": 1
   },
   "outputs": [
    {
     "data": {
      "text/html": [
       "<pre style=\"white-space:pre;overflow-x:auto;line-height:normal;font-family:Menlo,'DejaVu Sans Mono',consolas,'Courier New',monospace\">📊 Evaluating emergency rules with scenario-based method<span style=\"color: #808000; text-decoration-color: #808000\">...</span>\n",
       "</pre>\n"
      ],
      "text/plain": [
       "📊 Evaluating emergency rules with scenario-based method\u001b[33m...\u001b[0m\n"
      ]
     },
     "metadata": {},
     "output_type": "display_data"
    },
    {
     "name": "stderr",
     "output_type": "stream",
     "text": [
      "INFO:command_evaluator:Command emergency.assign_drone matches optimal command\n",
      "INFO:command_evaluator:Evaluation complete - Overall score: 0.38\n"
     ]
    }
   ],
   "source": [
    "# Use same evaluation method as agents for fair comparison\n",
    "console.print(\"📊 Evaluating emergency rules with scenario-based method...\")\n",
    "emergency_rule_command_dicts = []\n",
    "for cmd in emergency_rule_commands:\n",
    "    emergency_rule_command_dicts.append({\n",
    "        \"service\": cmd[\"service\"],\n",
    "        \"action\": cmd[\"action\"],\n",
    "        \"parameters\": cmd.get(\"parameters\", {}),\n",
    "        \"success\": True  # Assume executed successfully (like agents)\n",
    "    })\n",
    "\n",
    "emergency_rule_evaluation = evaluate_scenario_commands(\n",
    "    commands=emergency_rule_command_dicts,\n",
    "    scenario_type=ScenarioType.GRID_SURGE,\n",
    "    current_state=get_system_status(),\n",
    "    scenario_definition=HEAT_WAVE_SCENARIO\n",
    ")\n",
    "emergency_rule_success_rate = emergency_rule_evaluation.get('overall_score', emergency_rule_success_rate)"
   ]
  },
  {
   "cell_type": "code",
   "execution_count": 35,
   "id": "1d51937f",
   "metadata": {
    "lines_to_next_cell": 0
   },
   "outputs": [],
   "source": [
    "class DroneAssignment(BaseModel):\n",
    "    \"\"\"Drone assignment action.\"\"\"\n",
    "    drone_id: str = Field(description=\"ID of the drone to assign\")\n",
    "    incident_id: str = Field(description=\"ID of the incident to respond to\")\n",
    "    reason: str = Field(description=\"Reason for this assignment\")\n",
    "\n",
    "\n",
    "class IncidentUpdate(BaseModel):\n",
    "    \"\"\"Incident status update action.\"\"\"\n",
    "    incident_id: str = Field(description=\"ID of the incident to update \"\n",
    "                           \"(use actual IDs: E-1001, E-1002, E-1003, E-1004)\")\n",
    "    status: str = Field(description=\"New status ('active', 'assigned', \"\n",
    "                                   \"'in_progress', 'resolved')\")\n",
    "    reason: str = Field(description=\"Reason for status change\")"
   ]
  },
  {
   "cell_type": "code",
   "execution_count": 36,
   "id": "d1dc7d09",
   "metadata": {},
   "outputs": [],
   "source": [
    "drone_assignment_tool_description = \"\"\"\n",
    "Assign an available drone to an emergency incident with detailed specifications.\n",
    "\n",
    "Parameters:\n",
    "- drone_id: Target drone identifier (available: {drones})\n",
    "- incident_id: Target incident identifier (available: {incidents})\n",
    "- reason: Justification for the assignment\n",
    "\n",
    "Returns execution status with detailed feedback.\n",
    "\"\"\""
   ]
  },
  {
   "cell_type": "code",
   "execution_count": 37,
   "id": "25ab4736",
   "metadata": {
    "lines_to_next_cell": 1
   },
   "outputs": [],
   "source": [
    "incident_update_tool_description = \"\"\"\n",
    "Update the status of an emergency incident with tracking capabilities.\n",
    "\n",
    "Parameters:\n",
    "- incident_id: ID of incident to update (available: {incidents})\n",
    "- status: New status ('active', 'assigned', 'in_progress', 'resolved')\n",
    "- reason: Reason for status change\n",
    "\n",
    "Returns success/failure status.\n",
    "\"\"\""
   ]
  },
  {
   "cell_type": "code",
   "execution_count": 38,
   "id": "c56a589d",
   "metadata": {
    "lines_to_next_cell": 1
   },
   "outputs": [],
   "source": [
    "@weave.op\n",
    "def create_drone_assignment_tool(tool_description: str):\n",
    "    \"\"\"\n",
    "    Create DroneAssignmentTool with the provided description.\n",
    "    \n",
    "    Args:\n",
    "        tool_description: Description for the tool that explains its purpose,\n",
    "                         parameters, and return values.\n",
    "    \"\"\"\n",
    "    actual_ids = get_actual_service_ids()\n",
    "    available_drones = actual_ids.get('drones', ['D001', 'D002', 'D003', 'D004'])\n",
    "    available_incidents = actual_ids.get('incidents', \n",
    "                                        ['E-1001', 'E-1002', 'E-1003', 'E-1004'])\n",
    "\n",
    "    description = tool_description.format(\n",
    "        drones=', '.join(available_drones),\n",
    "        incidents=', '.join(available_incidents)\n",
    "    )\n",
    "    weave.publish(weave.StringPrompt(description), name=\"drone_assignment_tool_prompt\")\n",
    "    \n",
    "    class DroneAssignmentTool(BaseTool):\n",
    "        name: str = \"assign_emergency_drone\"\n",
    "        description: str = \"\"\n",
    "        \n",
    "        def __init__(self, description):\n",
    "            super().__init__()\n",
    "            self._execution_results = []\n",
    "            self.description = description\n",
    "        \n",
    "        def _run(self, drone_id: str, incident_id: str, reason: str) -> str:\n",
    "            cmd = Command(\n",
    "                service=ServiceType.EMERGENCY,\n",
    "                action=\"assign_drone\",\n",
    "                parameters={\"drone_id\": drone_id, \"incident_id\": incident_id}\n",
    "            )\n",
    "            \n",
    "            executor = CommandExecutor()\n",
    "            result = executor.execute(cmd)\n",
    "            \n",
    "            # Track execution result\n",
    "            self._execution_results.append(result.success)\n",
    "            \n",
    "            status = \"SUCCESS\" if result.success else \"FAILED\"\n",
    "            console.print(f\"🚁 Drone: {drone_id} → {incident_id} ({reason}) - {status}\")\n",
    "            \n",
    "            return f\"Drone {drone_id} assignment: {status}\"\n",
    "\n",
    "    return DroneAssignmentTool(description=description)"
   ]
  },
  {
   "cell_type": "code",
   "execution_count": 39,
   "id": "2d906fa0",
   "metadata": {
    "lines_to_next_cell": 1
   },
   "outputs": [],
   "source": [
    "@weave.op\n",
    "def create_incident_update_tool(tool_description: str):\n",
    "    \"\"\"\n",
    "    Create IncidentUpdateTool with the provided description.\n",
    "    \n",
    "    Args:\n",
    "        tool_description: Description for the tool that explains its purpose,\n",
    "                         parameters, and return values.\n",
    "    \"\"\"\n",
    "    actual_ids = get_actual_service_ids()\n",
    "    available_incidents = actual_ids.get('incidents', \n",
    "                                        ['E-1001', 'E-1002', 'E-1003', 'E-1004'])\n",
    "\n",
    "    description = tool_description.format(\n",
    "        incidents=', '.join(available_incidents)\n",
    "    )\n",
    "    weave.publish(weave.StringPrompt(description), name=\"incident_update_tool_prompt\")\n",
    "    \n",
    "    class IncidentUpdateTool(BaseTool):\n",
    "        name: str = \"update_incident_status\"\n",
    "        description: str = \"\"\n",
    "        \n",
    "        def __init__(self, description):\n",
    "            super().__init__()\n",
    "            self._execution_results = []\n",
    "            self.description = description\n",
    "        \n",
    "        def _run(self, incident_id: str, status: str, reason: str) -> str:\n",
    "            cmd = Command(\n",
    "                service=ServiceType.EMERGENCY,\n",
    "                action=\"update_incident\",\n",
    "                parameters={\"incident_id\": incident_id, \"status\": status}\n",
    "            )\n",
    "            \n",
    "            executor = CommandExecutor()\n",
    "            result = executor.execute(cmd)\n",
    "            \n",
    "            # Track execution result\n",
    "            self._execution_results.append(result.success)\n",
    "            \n",
    "            status_result = \"SUCCESS\" if result.success else \"FAILED\"\n",
    "            console.print(f\"🚨 Incident: {incident_id} → {status} ({reason}) - {status_result}\")\n",
    "            \n",
    "            return f\"Incident {incident_id} update: {status_result}\"\n",
    "\n",
    "    return IncidentUpdateTool(description=description)"
   ]
  },
  {
   "cell_type": "code",
   "execution_count": 40,
   "id": "57fc0e74",
   "metadata": {
    "lines_to_next_cell": 1
   },
   "outputs": [],
   "source": [
    "class EmergencyAgentConfig(BaseModel):\n",
    "    \"\"\"Configuration for creating an emergency agent with its role, goal, and backstory.\"\"\"\n",
    "    role: str = Field(..., description=\"The role/title of the agent\")\n",
    "    goal: str = Field(..., description=\"The primary objective of the agent\")\n",
    "    backstory: str = Field(..., description=\"The agent's background and context\")"
   ]
  },
  {
   "cell_type": "code",
   "execution_count": 41,
   "id": "8f523af5",
   "metadata": {
    "lines_to_next_cell": 1
   },
   "outputs": [],
   "source": [
    "@weave.op\n",
    "def create_emergency_agent(config: EmergencyAgentConfig):\n",
    "    \"\"\"\n",
    "    Create the Emergency Response Coordinator Agent with dynamic context.\n",
    "    \n",
    "    Args:\n",
    "        config: EmergencyAgentConfig containing the base agent configuration\n",
    "    \"\"\"\n",
    "    actual_ids = get_actual_service_ids()\n",
    "    available_drones = actual_ids.get('drones', ['D001', 'D002', 'D003', 'D004'])\n",
    "    available_incidents = actual_ids.get('incidents', \n",
    "                                        ['E-1001', 'E-1002', 'E-1003', 'E-1004'])\n",
    "    \n",
    "    # Format the backstory with dynamic content\n",
    "    formatted_backstory = config.backstory.format(\n",
    "        drones=', '.join(available_drones),\n",
    "        incidents=', '.join(available_incidents),\n",
    "        drone_count=len(available_drones),\n",
    "        incident_count=len(available_incidents)\n",
    "    )\n",
    "    \n",
    "    # Format the goal with dynamic content\n",
    "    formatted_goal = config.goal.format(\n",
    "        drone_count=len(available_drones),\n",
    "        incident_count=len(available_incidents)\n",
    "    )\n",
    "    \n",
    "    emergency_specialist = Agent(\n",
    "        role=config.role,\n",
    "        goal=formatted_goal,\n",
    "        backstory=formatted_backstory,\n",
    "        tools=[create_drone_assignment_tool(drone_assignment_tool_description), \n",
    "               create_incident_update_tool(incident_update_tool_description)],\n",
    "        verbose=False,\n",
    "        allow_delegation=False\n",
    "    )\n",
    "    \n",
    "    return emergency_specialist"
   ]
  },
  {
   "cell_type": "code",
   "execution_count": 42,
   "id": "d38723fe",
   "metadata": {
    "lines_to_next_cell": 1
   },
   "outputs": [],
   "source": [
    "# Define the base emergency configuration\n",
    "emergency_agent_config = EmergencyAgentConfig(\n",
    "    role=\"Emergency Response Coordinator\",\n",
    "    goal=\"Optimize drone deployment and incident management across {drone_count} drones and {incident_count} incidents\",\n",
    "    backstory=(\n",
    "        \"Emergency coordinator specializing in resource allocation and incident response.\\n\\n\"\n",
    "        \"Available resources:\\n\"\n",
    "        \"• Drones: {drones}\\n\"\n",
    "        \"• Incidents: {incidents}\\n\\n\"\n",
    "        \"Decision criteria:\\n\"\n",
    "        \"• Assign all drones to incidents based on urgency\\n\"\n",
    "        \"• Update incident statuses to track progress\\n\"\n",
    "        \"• Take 6+ actions total (assignments + status updates)\\n\"\n",
    "        \"• Use actual resource IDs only\"\n",
    "    )\n",
    ")"
   ]
  },
  {
   "cell_type": "code",
   "execution_count": 43,
   "id": "9cc448a9",
   "metadata": {
    "lines_to_next_cell": 1
   },
   "outputs": [],
   "source": [
    "class EmergencyResponsePlan(BaseModel):\n",
    "    \"\"\"Structured output for emergency response actions during heat wave.\"\"\"\n",
    "    drone_assignments: List[DroneAssignment] = Field(\n",
    "        description=\"Drone to incident assignments prioritized by urgency\"\n",
    "    )\n",
    "    incident_updates: List[IncidentUpdate] = Field(\n",
    "        description=\"Incident status updates to track response progress\"\n",
    "    )\n",
    "    resource_allocation: str = Field(\n",
    "        description=\"Summary of how limited resources are being allocated\"\n",
    "    )\n",
    "    coordination_notes: str = Field(\n",
    "        description=\"Notes for other agents about emergency operations and \"\n",
    "                   \"priorities\"\n",
    "    )"
   ]
  },
  {
   "cell_type": "code",
   "execution_count": 44,
   "id": "f5729ba2",
   "metadata": {
    "lines_to_next_cell": 1
   },
   "outputs": [],
   "source": [
    "class EmergencyTaskConfig(BaseModel):\n",
    "    \"\"\"Configuration for creating an emergency task with its description, expected output, and output schema.\"\"\"\n",
    "    description: str = Field(..., description=\"The task description\")\n",
    "    expected_output: str = Field(..., description=\"The expected output\")\n",
    "    output_pydantic: Type[BaseModel] = Field(..., description=\"The output schema\")"
   ]
  },
  {
   "cell_type": "code",
   "execution_count": 45,
   "id": "9a2f2011",
   "metadata": {
    "lines_to_next_cell": 1
   },
   "outputs": [],
   "source": [
    "@weave.op\n",
    "def create_emergency_task(emergency_agent: Agent, config: EmergencyTaskConfig):\n",
    "    \"\"\"\n",
    "    Create a task specifically for the Emergency agent with dynamic context.\n",
    "    \n",
    "    Args:\n",
    "        config: EmergencyTaskConfig containing the base task configuration\n",
    "        emergency_agent: The Emergency Response Coordinator Agent\n",
    "    \"\"\"\n",
    "    actual_ids = get_actual_service_ids()\n",
    "    available_drones = actual_ids.get('drones', ['D001', 'D002', 'D003', 'D004'])\n",
    "    available_incidents = actual_ids.get('incidents', ['E-1001', 'E-1002', 'E-1003', 'E-1004'])\n",
    "    \n",
    "    # Format the description with dynamic content\n",
    "    formatted_description = config.description.format(\n",
    "        drones=', '.join(available_drones),\n",
    "        incidents=', '.join(available_incidents)\n",
    "    )\n",
    "    \n",
    "    emergency_task = Task(\n",
    "        description=formatted_description,\n",
    "        agent=emergency_agent,\n",
    "        expected_output=config.expected_output,\n",
    "        output_pydantic=config.output_pydantic\n",
    "    )\n",
    "    return emergency_task"
   ]
  },
  {
   "cell_type": "code",
   "execution_count": 46,
   "id": "f8dabb94",
   "metadata": {},
   "outputs": [],
   "source": [
    "# Define the base emergency task configuration\n",
    "emergency_task_config = EmergencyTaskConfig(\n",
    "    description=(\n",
    "        \"Heat wave emergency with multiple casualties requiring drone response.\\n\\n\"\n",
    "        \"Available resources:\\n\"\n",
    "        \"• Drones: {drones}\\n\"\n",
    "        \"• Incidents: {incidents}\\n\\n\"\n",
    "        \"Required actions:\\n\"\n",
    "        \"1. Assign all drones to incidents by urgency priority\\n\"\n",
    "        \"2. Update incident statuses to 'assigned' or 'in_progress'\\n\\n\"\n",
    "        \"Success criteria: Execute 6+ total actions minimum\\n\"\n",
    "        \"Use only the resource IDs listed above\"\n",
    "    ),\n",
    "    expected_output=\"Emergency response plan with drone assignments and incident tracking\",\n",
    "    output_pydantic=EmergencyResponsePlan\n",
    ")"
   ]
  },
  {
   "cell_type": "code",
   "execution_count": 47,
   "id": "0e1b9b09",
   "metadata": {},
   "outputs": [
    {
     "data": {
      "text/html": [
       "<pre style=\"white-space:pre;overflow-x:auto;line-height:normal;font-family:Menlo,'DejaVu Sans Mono',consolas,'Courier New',monospace\">\n",
       "🤖 Testing Emergency Agent-Based Management\n",
       "</pre>\n"
      ],
      "text/plain": [
       "\n",
       "🤖 Testing Emergency Agent-Based Management\n"
      ]
     },
     "metadata": {},
     "output_type": "display_data"
    },
    {
     "data": {
      "text/html": [
       "<pre style=\"white-space:pre;overflow-x:auto;line-height:normal;font-family:Menlo,'DejaVu Sans Mono',consolas,'Courier New',monospace\">🎯 Activating scenario: Heat Wave Crisis - Emergency Agent Test\n",
       "</pre>\n"
      ],
      "text/plain": [
       "🎯 Activating scenario: Heat Wave Crisis - Emergency Agent Test\n"
      ]
     },
     "metadata": {},
     "output_type": "display_data"
    },
    {
     "data": {
      "text/html": [
       "<pre style=\"white-space:pre;overflow-x:auto;line-height:normal;font-family:Menlo,'DejaVu Sans Mono',consolas,'Courier New',monospace\">🔄 Resetting all service states<span style=\"color: #808000; text-decoration-color: #808000\">...</span>\n",
       "</pre>\n"
      ],
      "text/plain": [
       "🔄 Resetting all service states\u001b[33m...\u001b[0m\n"
      ]
     },
     "metadata": {},
     "output_type": "display_data"
    },
    {
     "data": {
      "text/html": [
       "<pre style=\"white-space:pre;overflow-x:auto;line-height:normal;font-family:Menlo,'DejaVu Sans Mono',consolas,'Courier New',monospace\">  ✅ GRID state reset\n",
       "</pre>\n"
      ],
      "text/plain": [
       "  ✅ GRID state reset\n"
      ]
     },
     "metadata": {},
     "output_type": "display_data"
    },
    {
     "data": {
      "text/html": [
       "<pre style=\"white-space:pre;overflow-x:auto;line-height:normal;font-family:Menlo,'DejaVu Sans Mono',consolas,'Courier New',monospace\">  ✅ EMERGENCY state reset\n",
       "</pre>\n"
      ],
      "text/plain": [
       "  ✅ EMERGENCY state reset\n"
      ]
     },
     "metadata": {},
     "output_type": "display_data"
    },
    {
     "data": {
      "text/html": [
       "<pre style=\"white-space:pre;overflow-x:auto;line-height:normal;font-family:Menlo,'DejaVu Sans Mono',consolas,'Courier New',monospace\">  ✅ TRAFFIC state reset\n",
       "</pre>\n"
      ],
      "text/plain": [
       "  ✅ TRAFFIC state reset\n"
      ]
     },
     "metadata": {},
     "output_type": "display_data"
    },
    {
     "data": {
      "text/html": [
       "<pre style=\"white-space:pre;overflow-x:auto;line-height:normal;font-family:Menlo,'DejaVu Sans Mono',consolas,'Courier New',monospace\">  ✅ SCENARIO state reset\n",
       "</pre>\n"
      ],
      "text/plain": [
       "  ✅ SCENARIO state reset\n"
      ]
     },
     "metadata": {},
     "output_type": "display_data"
    },
    {
     "data": {
      "text/html": [
       "<pre style=\"white-space:pre;overflow-x:auto;line-height:normal;font-family:Menlo,'DejaVu Sans Mono',consolas,'Courier New',monospace\">  📋 Scenario created with ID: <span style=\"color: #ffff00; text-decoration-color: #ffff00\">77f7964c-76c2-453c-b991-0f6b4b06feb9</span>\n",
       "</pre>\n"
      ],
      "text/plain": [
       "  📋 Scenario created with ID: \u001b[93m77f7964c-76c2-453c-b991-0f6b4b06feb9\u001b[0m\n"
      ]
     },
     "metadata": {},
     "output_type": "display_data"
    },
    {
     "data": {
      "text/html": [
       "<pre style=\"white-space:pre;overflow-x:auto;line-height:normal;font-family:Menlo,'DejaVu Sans Mono',consolas,'Courier New',monospace\">  ✅ Scenario <span style=\"color: #008000; text-decoration-color: #008000\">'Heat Wave Crisis - Emergency Agent Test'</span> activated successfully\n",
       "</pre>\n"
      ],
      "text/plain": [
       "  ✅ Scenario \u001b[32m'Heat Wave Crisis - Emergency Agent Test'\u001b[0m activated successfully\n"
      ]
     },
     "metadata": {},
     "output_type": "display_data"
    },
    {
     "data": {
      "text/html": [
       "<pre style=\"white-space:pre;overflow-x:auto;line-height:normal;font-family:Menlo,'DejaVu Sans Mono',consolas,'Courier New',monospace\">    ✅ GRID: State initialized\n",
       "</pre>\n"
      ],
      "text/plain": [
       "    ✅ GRID: State initialized\n"
      ]
     },
     "metadata": {},
     "output_type": "display_data"
    },
    {
     "data": {
      "text/html": [
       "<pre style=\"white-space:pre;overflow-x:auto;line-height:normal;font-family:Menlo,'DejaVu Sans Mono',consolas,'Courier New',monospace\">    ✅ EMERGENCY: State initialized\n",
       "</pre>\n"
      ],
      "text/plain": [
       "    ✅ EMERGENCY: State initialized\n"
      ]
     },
     "metadata": {},
     "output_type": "display_data"
    },
    {
     "data": {
      "text/html": [
       "<pre style=\"white-space:pre;overflow-x:auto;line-height:normal;font-family:Menlo,'DejaVu Sans Mono',consolas,'Courier New',monospace\">    ✅ TRAFFIC: State initialized\n",
       "</pre>\n"
      ],
      "text/plain": [
       "    ✅ TRAFFIC: State initialized\n"
      ]
     },
     "metadata": {},
     "output_type": "display_data"
    },
    {
     "name": "stderr",
     "output_type": "stream",
     "text": [
      "INFO:command:Executing assign_drone on ServiceType.EMERGENCY service\n"
     ]
    },
    {
     "data": {
      "text/html": [
       "<pre style=\"white-space:pre;overflow-x:auto;line-height:normal;font-family:Menlo,'DejaVu Sans Mono',consolas,'Courier New',monospace\">🚁 Drone: D001 → E-<span style=\"color: #008080; text-decoration-color: #008080; font-weight: bold\">1001</span> <span style=\"font-weight: bold\">(</span>Critical incident with multiple casualties requiring immediate drone assistance.<span style=\"font-weight: bold\">)</span> - \n",
       "SUCCESS\n",
       "</pre>\n"
      ],
      "text/plain": [
       "🚁 Drone: D001 → E-\u001b[1;36m1001\u001b[0m \u001b[1m(\u001b[0mCritical incident with multiple casualties requiring immediate drone assistance.\u001b[1m)\u001b[0m - \n",
       "SUCCESS\n"
      ]
     },
     "metadata": {},
     "output_type": "display_data"
    },
    {
     "name": "stderr",
     "output_type": "stream",
     "text": [
      "INFO:command:Executing assign_drone on ServiceType.EMERGENCY service\n"
     ]
    },
    {
     "data": {
      "text/html": [
       "<pre style=\"white-space:pre;overflow-x:auto;line-height:normal;font-family:Menlo,'DejaVu Sans Mono',consolas,'Courier New',monospace\">🚁 Drone: D002 → E-<span style=\"color: #008080; text-decoration-color: #008080; font-weight: bold\">1002</span> <span style=\"font-weight: bold\">(</span>High priority incident where immediate response is essential to manage the heat wave \n",
       "effects.<span style=\"font-weight: bold\">)</span> - SUCCESS\n",
       "</pre>\n"
      ],
      "text/plain": [
       "🚁 Drone: D002 → E-\u001b[1;36m1002\u001b[0m \u001b[1m(\u001b[0mHigh priority incident where immediate response is essential to manage the heat wave \n",
       "effects.\u001b[1m)\u001b[0m - SUCCESS\n"
      ]
     },
     "metadata": {},
     "output_type": "display_data"
    },
    {
     "name": "stderr",
     "output_type": "stream",
     "text": [
      "INFO:command:Executing assign_drone on ServiceType.EMERGENCY service\n"
     ]
    },
    {
     "data": {
      "text/html": [
       "<pre style=\"white-space:pre;overflow-x:auto;line-height:normal;font-family:Menlo,'DejaVu Sans Mono',consolas,'Courier New',monospace\">🚁 Drone: D003 → E-<span style=\"color: #008080; text-decoration-color: #008080; font-weight: bold\">1003</span> <span style=\"font-weight: bold\">(</span>Medium priority incident that requires drone support for monitoring and assistance.<span style=\"font-weight: bold\">)</span> - \n",
       "SUCCESS\n",
       "</pre>\n"
      ],
      "text/plain": [
       "🚁 Drone: D003 → E-\u001b[1;36m1003\u001b[0m \u001b[1m(\u001b[0mMedium priority incident that requires drone support for monitoring and assistance.\u001b[1m)\u001b[0m - \n",
       "SUCCESS\n"
      ]
     },
     "metadata": {},
     "output_type": "display_data"
    },
    {
     "name": "stderr",
     "output_type": "stream",
     "text": [
      "INFO:command:Executing assign_drone on ServiceType.EMERGENCY service\n"
     ]
    },
    {
     "data": {
      "text/html": [
       "<pre style=\"white-space:pre;overflow-x:auto;line-height:normal;font-family:Menlo,'DejaVu Sans Mono',consolas,'Courier New',monospace\">🚁 Drone: D004 → E-<span style=\"color: #008080; text-decoration-color: #008080; font-weight: bold\">1004</span> <span style=\"font-weight: bold\">(</span>Lower priority incident, still requiring drone assistance to monitor for developing \n",
       "situations.<span style=\"font-weight: bold\">)</span> - SUCCESS\n",
       "</pre>\n"
      ],
      "text/plain": [
       "🚁 Drone: D004 → E-\u001b[1;36m1004\u001b[0m \u001b[1m(\u001b[0mLower priority incident, still requiring drone assistance to monitor for developing \n",
       "situations.\u001b[1m)\u001b[0m - SUCCESS\n"
      ]
     },
     "metadata": {},
     "output_type": "display_data"
    },
    {
     "name": "stderr",
     "output_type": "stream",
     "text": [
      "INFO:command:Executing update_incident on ServiceType.EMERGENCY service\n"
     ]
    },
    {
     "data": {
      "text/html": [
       "<pre style=\"white-space:pre;overflow-x:auto;line-height:normal;font-family:Menlo,'DejaVu Sans Mono',consolas,'Courier New',monospace\">🚨 Incident: E-<span style=\"color: #008080; text-decoration-color: #008080; font-weight: bold\">1001</span> → assigned <span style=\"font-weight: bold\">(</span>Drone D001 has been assigned to this critical incident for immediate assistance.<span style=\"font-weight: bold\">)</span> -\n",
       "SUCCESS\n",
       "</pre>\n"
      ],
      "text/plain": [
       "🚨 Incident: E-\u001b[1;36m1001\u001b[0m → assigned \u001b[1m(\u001b[0mDrone D001 has been assigned to this critical incident for immediate assistance.\u001b[1m)\u001b[0m -\n",
       "SUCCESS\n"
      ]
     },
     "metadata": {},
     "output_type": "display_data"
    },
    {
     "name": "stderr",
     "output_type": "stream",
     "text": [
      "INFO:command:Executing update_incident on ServiceType.EMERGENCY service\n"
     ]
    },
    {
     "data": {
      "text/html": [
       "<pre style=\"white-space:pre;overflow-x:auto;line-height:normal;font-family:Menlo,'DejaVu Sans Mono',consolas,'Courier New',monospace\">🚨 Incident: E-<span style=\"color: #008080; text-decoration-color: #008080; font-weight: bold\">1002</span> → assigned <span style=\"font-weight: bold\">(</span>Drone D002 has been assigned to this high priority incident for prompt response.<span style=\"font-weight: bold\">)</span> -\n",
       "SUCCESS\n",
       "</pre>\n"
      ],
      "text/plain": [
       "🚨 Incident: E-\u001b[1;36m1002\u001b[0m → assigned \u001b[1m(\u001b[0mDrone D002 has been assigned to this high priority incident for prompt response.\u001b[1m)\u001b[0m -\n",
       "SUCCESS\n"
      ]
     },
     "metadata": {},
     "output_type": "display_data"
    },
    {
     "name": "stderr",
     "output_type": "stream",
     "text": [
      "INFO:command:Executing update_incident on ServiceType.EMERGENCY service\n"
     ]
    },
    {
     "data": {
      "text/html": [
       "<pre style=\"white-space:pre;overflow-x:auto;line-height:normal;font-family:Menlo,'DejaVu Sans Mono',consolas,'Courier New',monospace\">🚨 Incident: E-<span style=\"color: #008080; text-decoration-color: #008080; font-weight: bold\">1003</span> → assigned <span style=\"font-weight: bold\">(</span>Drone D003 has been assigned to provide support for this medium priority incident.<span style=\"font-weight: bold\">)</span>\n",
       "- SUCCESS\n",
       "</pre>\n"
      ],
      "text/plain": [
       "🚨 Incident: E-\u001b[1;36m1003\u001b[0m → assigned \u001b[1m(\u001b[0mDrone D003 has been assigned to provide support for this medium priority incident.\u001b[1m)\u001b[0m\n",
       "- SUCCESS\n"
      ]
     },
     "metadata": {},
     "output_type": "display_data"
    },
    {
     "name": "stderr",
     "output_type": "stream",
     "text": [
      "INFO:command:Executing update_incident on ServiceType.EMERGENCY service\n"
     ]
    },
    {
     "data": {
      "text/html": [
       "<pre style=\"white-space:pre;overflow-x:auto;line-height:normal;font-family:Menlo,'DejaVu Sans Mono',consolas,'Courier New',monospace\">🚨 Incident: E-<span style=\"color: #008080; text-decoration-color: #008080; font-weight: bold\">1004</span> → assigned <span style=\"font-weight: bold\">(</span>Drone D004 has been assigned for monitoring this lower priority incident.<span style=\"font-weight: bold\">)</span> - \n",
       "SUCCESS\n",
       "</pre>\n"
      ],
      "text/plain": [
       "🚨 Incident: E-\u001b[1;36m1004\u001b[0m → assigned \u001b[1m(\u001b[0mDrone D004 has been assigned for monitoring this lower priority incident.\u001b[1m)\u001b[0m - \n",
       "SUCCESS\n"
      ]
     },
     "metadata": {},
     "output_type": "display_data"
    },
    {
     "data": {
      "text/html": [
       "<pre style=\"white-space:pre;overflow-x:auto;line-height:normal;font-family:Menlo,'DejaVu Sans Mono',consolas,'Courier New',monospace\">📊 Evaluating emergency agent with proper agent converter<span style=\"color: #808000; text-decoration-color: #808000\">...</span>\n",
       "</pre>\n"
      ],
      "text/plain": [
       "📊 Evaluating emergency agent with proper agent converter\u001b[33m...\u001b[0m\n"
      ]
     },
     "metadata": {},
     "output_type": "display_data"
    },
    {
     "data": {
      "text/html": [
       "<pre style=\"white-space:pre;overflow-x:auto;line-height:normal;font-family:Menlo,'DejaVu Sans Mono',consolas,'Courier New',monospace\">🔍 Converting <span style=\"color: #008080; text-decoration-color: #008080; font-weight: bold\">1</span> task outputs\n",
       "</pre>\n"
      ],
      "text/plain": [
       "🔍 Converting \u001b[1;36m1\u001b[0m task outputs\n"
      ]
     },
     "metadata": {},
     "output_type": "display_data"
    },
    {
     "data": {
      "text/html": [
       "<pre style=\"white-space:pre;overflow-x:auto;line-height:normal;font-family:Menlo,'DejaVu Sans Mono',consolas,'Courier New',monospace\">📋 Processing Task <span style=\"color: #008080; text-decoration-color: #008080; font-weight: bold\">0</span>\n",
       "</pre>\n"
      ],
      "text/plain": [
       "📋 Processing Task \u001b[1;36m0\u001b[0m\n"
      ]
     },
     "metadata": {},
     "output_type": "display_data"
    },
    {
     "data": {
      "text/html": [
       "<pre style=\"white-space:pre;overflow-x:auto;line-height:normal;font-family:Menlo,'DejaVu Sans Mono',consolas,'Courier New',monospace\">📋 Task <span style=\"color: #008080; text-decoration-color: #008080; font-weight: bold\">0</span> dict keys: <span style=\"font-weight: bold\">[</span><span style=\"color: #008000; text-decoration-color: #008000\">'drone_assignments'</span>, <span style=\"color: #008000; text-decoration-color: #008000\">'incident_updates'</span>, <span style=\"color: #008000; text-decoration-color: #008000\">'resource_allocation'</span>, <span style=\"color: #008000; text-decoration-color: #008000\">'coordination_notes'</span><span style=\"font-weight: bold\">]</span>\n",
       "</pre>\n"
      ],
      "text/plain": [
       "📋 Task \u001b[1;36m0\u001b[0m dict keys: \u001b[1m[\u001b[0m\u001b[32m'drone_assignments'\u001b[0m, \u001b[32m'incident_updates'\u001b[0m, \u001b[32m'resource_allocation'\u001b[0m, \u001b[32m'coordination_notes'\u001b[0m\u001b[1m]\u001b[0m\n"
      ]
     },
     "metadata": {},
     "output_type": "display_data"
    },
    {
     "data": {
      "text/html": [
       "<pre style=\"white-space:pre;overflow-x:auto;line-height:normal;font-family:Menlo,'DejaVu Sans Mono',consolas,'Courier New',monospace\">📋 Task <span style=\"color: #008080; text-decoration-color: #008080; font-weight: bold\">0</span>: Processing Emergency Plan\n",
       "</pre>\n"
      ],
      "text/plain": [
       "📋 Task \u001b[1;36m0\u001b[0m: Processing Emergency Plan\n"
      ]
     },
     "metadata": {},
     "output_type": "display_data"
    },
    {
     "data": {
      "text/html": [
       "<pre style=\"white-space:pre;overflow-x:auto;line-height:normal;font-family:Menlo,'DejaVu Sans Mono',consolas,'Courier New',monospace\">  🚁 Emergency: assign_drone D001 → E-<span style=\"color: #008080; text-decoration-color: #008080; font-weight: bold\">1001</span>\n",
       "</pre>\n"
      ],
      "text/plain": [
       "  🚁 Emergency: assign_drone D001 → E-\u001b[1;36m1001\u001b[0m\n"
      ]
     },
     "metadata": {},
     "output_type": "display_data"
    },
    {
     "data": {
      "text/html": [
       "<pre style=\"white-space:pre;overflow-x:auto;line-height:normal;font-family:Menlo,'DejaVu Sans Mono',consolas,'Courier New',monospace\">  🚁 Emergency: assign_drone D002 → E-<span style=\"color: #008080; text-decoration-color: #008080; font-weight: bold\">1002</span>\n",
       "</pre>\n"
      ],
      "text/plain": [
       "  🚁 Emergency: assign_drone D002 → E-\u001b[1;36m1002\u001b[0m\n"
      ]
     },
     "metadata": {},
     "output_type": "display_data"
    },
    {
     "data": {
      "text/html": [
       "<pre style=\"white-space:pre;overflow-x:auto;line-height:normal;font-family:Menlo,'DejaVu Sans Mono',consolas,'Courier New',monospace\">  🚁 Emergency: assign_drone D003 → E-<span style=\"color: #008080; text-decoration-color: #008080; font-weight: bold\">1003</span>\n",
       "</pre>\n"
      ],
      "text/plain": [
       "  🚁 Emergency: assign_drone D003 → E-\u001b[1;36m1003\u001b[0m\n"
      ]
     },
     "metadata": {},
     "output_type": "display_data"
    },
    {
     "data": {
      "text/html": [
       "<pre style=\"white-space:pre;overflow-x:auto;line-height:normal;font-family:Menlo,'DejaVu Sans Mono',consolas,'Courier New',monospace\">  🚁 Emergency: assign_drone D004 → E-<span style=\"color: #008080; text-decoration-color: #008080; font-weight: bold\">1004</span>\n",
       "</pre>\n"
      ],
      "text/plain": [
       "  🚁 Emergency: assign_drone D004 → E-\u001b[1;36m1004\u001b[0m\n"
      ]
     },
     "metadata": {},
     "output_type": "display_data"
    },
    {
     "data": {
      "text/html": [
       "<pre style=\"white-space:pre;overflow-x:auto;line-height:normal;font-family:Menlo,'DejaVu Sans Mono',consolas,'Courier New',monospace\">  🚨 Emergency: update_incident E-<span style=\"color: #008080; text-decoration-color: #008080; font-weight: bold\">1001</span> → assigned\n",
       "</pre>\n"
      ],
      "text/plain": [
       "  🚨 Emergency: update_incident E-\u001b[1;36m1001\u001b[0m → assigned\n"
      ]
     },
     "metadata": {},
     "output_type": "display_data"
    },
    {
     "data": {
      "text/html": [
       "<pre style=\"white-space:pre;overflow-x:auto;line-height:normal;font-family:Menlo,'DejaVu Sans Mono',consolas,'Courier New',monospace\">  🚨 Emergency: update_incident E-<span style=\"color: #008080; text-decoration-color: #008080; font-weight: bold\">1002</span> → assigned\n",
       "</pre>\n"
      ],
      "text/plain": [
       "  🚨 Emergency: update_incident E-\u001b[1;36m1002\u001b[0m → assigned\n"
      ]
     },
     "metadata": {},
     "output_type": "display_data"
    },
    {
     "data": {
      "text/html": [
       "<pre style=\"white-space:pre;overflow-x:auto;line-height:normal;font-family:Menlo,'DejaVu Sans Mono',consolas,'Courier New',monospace\">  🚨 Emergency: update_incident E-<span style=\"color: #008080; text-decoration-color: #008080; font-weight: bold\">1003</span> → assigned\n",
       "</pre>\n"
      ],
      "text/plain": [
       "  🚨 Emergency: update_incident E-\u001b[1;36m1003\u001b[0m → assigned\n"
      ]
     },
     "metadata": {},
     "output_type": "display_data"
    },
    {
     "data": {
      "text/html": [
       "<pre style=\"white-space:pre;overflow-x:auto;line-height:normal;font-family:Menlo,'DejaVu Sans Mono',consolas,'Courier New',monospace\">  🚨 Emergency: update_incident E-<span style=\"color: #008080; text-decoration-color: #008080; font-weight: bold\">1004</span> → assigned\n",
       "</pre>\n"
      ],
      "text/plain": [
       "  🚨 Emergency: update_incident E-\u001b[1;36m1004\u001b[0m → assigned\n"
      ]
     },
     "metadata": {},
     "output_type": "display_data"
    },
    {
     "data": {
      "text/html": [
       "<pre style=\"white-space:pre;overflow-x:auto;line-height:normal;font-family:Menlo,'DejaVu Sans Mono',consolas,'Courier New',monospace\">✅ Converted <span style=\"color: #008080; text-decoration-color: #008080; font-weight: bold\">8</span> commands from agent results\n",
       "</pre>\n"
      ],
      "text/plain": [
       "✅ Converted \u001b[1;36m8\u001b[0m commands from agent results\n"
      ]
     },
     "metadata": {},
     "output_type": "display_data"
    },
    {
     "data": {
      "text/html": [
       "<pre style=\"white-space:pre;overflow-x:auto;line-height:normal;font-family:Menlo,'DejaVu Sans Mono',consolas,'Courier New',monospace\">📊 Converted <span style=\"color: #008080; text-decoration-color: #008080; font-weight: bold\">8</span> commands for evaluation\n",
       "</pre>\n"
      ],
      "text/plain": [
       "📊 Converted \u001b[1;36m8\u001b[0m commands for evaluation\n"
      ]
     },
     "metadata": {},
     "output_type": "display_data"
    },
    {
     "name": "stderr",
     "output_type": "stream",
     "text": [
      "INFO:command_evaluator:Command emergency.assign_drone matches optimal command\n",
      "INFO:command_evaluator:Evaluation complete - Overall score: 0.72\n"
     ]
    },
    {
     "data": {
      "text/html": [
       "<pre style=\"white-space:pre;overflow-x:auto;line-height:normal;font-family:Menlo,'DejaVu Sans Mono',consolas,'Courier New',monospace\">📊 Command evaluator score: <span style=\"color: #008080; text-decoration-color: #008080; font-weight: bold\">72.5</span>%\n",
       "</pre>\n"
      ],
      "text/plain": [
       "📊 Command evaluator score: \u001b[1;36m72.5\u001b[0m%\n"
      ]
     },
     "metadata": {},
     "output_type": "display_data"
    },
    {
     "data": {
      "text/html": [
       "<pre style=\"white-space:pre;overflow-x:auto;line-height:normal;font-family:Menlo,'DejaVu Sans Mono',consolas,'Courier New',monospace\">📊 Emergency Rules: <span style=\"color: #008080; text-decoration-color: #008080; font-weight: bold\">37.7</span>%\n",
       "</pre>\n"
      ],
      "text/plain": [
       "📊 Emergency Rules: \u001b[1;36m37.7\u001b[0m%\n"
      ]
     },
     "metadata": {},
     "output_type": "display_data"
    },
    {
     "data": {
      "text/html": [
       "<pre style=\"white-space:pre;overflow-x:auto;line-height:normal;font-family:Menlo,'DejaVu Sans Mono',consolas,'Courier New',monospace\">📊 Emergency Agent: <span style=\"color: #008080; text-decoration-color: #008080; font-weight: bold\">72.5</span>%\n",
       "</pre>\n"
      ],
      "text/plain": [
       "📊 Emergency Agent: \u001b[1;36m72.5\u001b[0m%\n"
      ]
     },
     "metadata": {},
     "output_type": "display_data"
    }
   ],
   "source": [
    "# Test Emergency Agent - use proper agent evaluation\n",
    "console.print(\"\\n🤖 Testing Emergency Agent-Based Management\")\n",
    "activate_scenario(HEAT_WAVE_SCENARIO, \"Heat Wave Crisis - Emergency Agent Test\")\n",
    "\n",
    "emergency_agent = create_emergency_agent(emergency_agent_config)\n",
    "emergency_task = create_emergency_task(emergency_agent, emergency_task_config)\n",
    "emergency_crew = Crew(\n",
    "    agents=[emergency_agent],\n",
    "    tasks=[emergency_task],\n",
    "    process=Process.sequential,\n",
    "    verbose=False\n",
    ")\n",
    "\n",
    "emergency_agent_result = emergency_crew.kickoff(inputs={\n",
    "    \"scenario_name\": HEAT_WAVE_SCENARIO.name,\n",
    "    \"scenario_description\": HEAT_WAVE_SCENARIO.description\n",
    "})\n",
    "\n",
    "# Use agent converter to properly evaluate emergency agent results\n",
    "console.print(\"📊 Evaluating emergency agent with proper agent converter...\")\n",
    "emergency_agent_success_rate, emergency_agent_commands, emergency_agent_evaluation = convert_and_evaluate_agent_commands(\n",
    "    crew_result=emergency_agent_result,\n",
    "    scenario_definition=HEAT_WAVE_SCENARIO,\n",
    "    scenario_type=ScenarioType.GRID_SURGE\n",
    ")\n",
    "\n",
    "console.print(f\"📊 Emergency Rules: {emergency_rule_success_rate:.1%}\")\n",
    "console.print(f\"📊 Emergency Agent: {emergency_agent_success_rate:.1%}\")"
   ]
  },
  {
   "cell_type": "code",
   "execution_count": 48,
   "id": "cdf17895",
   "metadata": {
    "lines_to_next_cell": 1
   },
   "outputs": [
    {
     "data": {
      "text/html": [
       "<pre style=\"white-space:pre;overflow-x:auto;line-height:normal;font-family:Menlo,'DejaVu Sans Mono',consolas,'Courier New',monospace\"><span style=\"color: #800000; text-decoration-color: #800000\">╭──────────────────────────────────── Emergency Service Investigation Results ────────────────────────────────────╮</span>\n",
       "<span style=\"color: #800000; text-decoration-color: #800000\">│</span> ⚖️ **Emergency Service: Rules vs Agent Comparison**                                                              <span style=\"color: #800000; text-decoration-color: #800000\">│</span>\n",
       "<span style=\"color: #800000; text-decoration-color: #800000\">│</span>                                                                                                                 <span style=\"color: #800000; text-decoration-color: #800000\">│</span>\n",
       "<span style=\"color: #800000; text-decoration-color: #800000\">│</span> **Emergency Rules**: 37.7% success rate                                                                         <span style=\"color: #800000; text-decoration-color: #800000\">│</span>\n",
       "<span style=\"color: #800000; text-decoration-color: #800000\">│</span> • 🚁 Simple urgency-based assignment                                                                            <span style=\"color: #800000; text-decoration-color: #800000\">│</span>\n",
       "<span style=\"color: #800000; text-decoration-color: #800000\">│</span> • ❌ No conflict checking                                                                                       <span style=\"color: #800000; text-decoration-color: #800000\">│</span>\n",
       "<span style=\"color: #800000; text-decoration-color: #800000\">│</span>                                                                                                                 <span style=\"color: #800000; text-decoration-color: #800000\">│</span>\n",
       "<span style=\"color: #800000; text-decoration-color: #800000\">│</span> **Emergency Agent**: 72.5% success rate                                                                         <span style=\"color: #800000; text-decoration-color: #800000\">│</span>\n",
       "<span style=\"color: #800000; text-decoration-color: #800000\">│</span> • 🧠 Intelligent resource allocation                                                                            <span style=\"color: #800000; text-decoration-color: #800000\">│</span>\n",
       "<span style=\"color: #800000; text-decoration-color: #800000\">│</span> • ✅ Handles assignment conflicts gracefully                                                                    <span style=\"color: #800000; text-decoration-color: #800000\">│</span>\n",
       "<span style=\"color: #800000; text-decoration-color: #800000\">╰─────────────────────────────────────────────────────────────────────────────────────────────────────────────────╯</span>\n",
       "</pre>\n"
      ],
      "text/plain": [
       "\u001b[31m╭─\u001b[0m\u001b[31m───────────────────────────────────\u001b[0m\u001b[31m Emergency Service Investigation Results \u001b[0m\u001b[31m───────────────────────────────────\u001b[0m\u001b[31m─╮\u001b[0m\n",
       "\u001b[31m│\u001b[0m ⚖️ **Emergency Service: Rules vs Agent Comparison**                                                              \u001b[31m│\u001b[0m\n",
       "\u001b[31m│\u001b[0m                                                                                                                 \u001b[31m│\u001b[0m\n",
       "\u001b[31m│\u001b[0m **Emergency Rules**: 37.7% success rate                                                                         \u001b[31m│\u001b[0m\n",
       "\u001b[31m│\u001b[0m • 🚁 Simple urgency-based assignment                                                                            \u001b[31m│\u001b[0m\n",
       "\u001b[31m│\u001b[0m • ❌ No conflict checking                                                                                       \u001b[31m│\u001b[0m\n",
       "\u001b[31m│\u001b[0m                                                                                                                 \u001b[31m│\u001b[0m\n",
       "\u001b[31m│\u001b[0m **Emergency Agent**: 72.5% success rate                                                                         \u001b[31m│\u001b[0m\n",
       "\u001b[31m│\u001b[0m • 🧠 Intelligent resource allocation                                                                            \u001b[31m│\u001b[0m\n",
       "\u001b[31m│\u001b[0m • ✅ Handles assignment conflicts gracefully                                                                    \u001b[31m│\u001b[0m\n",
       "\u001b[31m╰─────────────────────────────────────────────────────────────────────────────────────────────────────────────────╯\u001b[0m\n"
      ]
     },
     "metadata": {},
     "output_type": "display_data"
    },
    {
     "data": {
      "text/html": [
       "<pre style=\"white-space:pre;overflow-x:auto;line-height:normal;font-family:Menlo,'DejaVu Sans Mono',consolas,'Courier New',monospace\">✅ Phase 3B Complete: Emergency service investigation finished\n",
       "</pre>\n"
      ],
      "text/plain": [
       "✅ Phase 3B Complete: Emergency service investigation finished\n"
      ]
     },
     "metadata": {},
     "output_type": "display_data"
    }
   ],
   "source": [
    "# Store Emergency results\n",
    "workshop_results[\"service_investigation\"][\"emergency\"] = {\n",
    "    \"rule_success_rate\": emergency_rule_success_rate,\n",
    "    \"agent_success_rate\": emergency_agent_success_rate,\n",
    "    \"rule_commands\": emergency_rule_commands,\n",
    "    \"agent_commands\": [\n",
    "        {\n",
    "            \"service\": cmd.service.value,\n",
    "            \"action\": cmd.action,\n",
    "            \"parameters\": cmd.parameters\n",
    "        } for cmd in emergency_agent_commands\n",
    "    ] if emergency_agent_commands else []\n",
    "}\n",
    "\n",
    "console.print(Panel(\n",
    "    f\"⚖️ **Emergency Service: Rules vs Agent Comparison**\\n\\n\"\n",
    "    f\"**Emergency Rules**: {emergency_rule_success_rate:.1%} success rate\\n\"\n",
    "    f\"• 🚁 Simple urgency-based assignment\\n\"\n",
    "    f\"• ❌ No conflict checking\\n\\n\"\n",
    "    f\"**Emergency Agent**: {emergency_agent_success_rate:.1%} success rate\\n\"\n",
    "    f\"• 🧠 Intelligent resource allocation\\n\"\n",
    "    f\"• ✅ Handles assignment conflicts gracefully\",\n",
    "    title=\"Emergency Service Investigation Results\",\n",
    "    border_style=\"red\"\n",
    "))\n",
    "\n",
    "console.print(\"✅ Phase 3B Complete: Emergency service investigation finished\")"
   ]
  },
  {
   "cell_type": "markdown",
   "id": "674a0f84",
   "metadata": {},
   "source": [
    "### 🚦 **Phase 3C: Traffic Service Investigation**\n",
    "Final service investigation following the same pattern"
   ]
  },
  {
   "cell_type": "code",
   "execution_count": 49,
   "id": "bab4666a",
   "metadata": {
    "lines_to_next_cell": 1
   },
   "outputs": [],
   "source": [
    "# Traffic Service\n",
    "class TrafficRuleBasedManager(weave.Model):\n",
    "    \"\"\"Rule-based traffic management for heat wave scenarios.\"\"\"\n",
    "    name: str = \"Traffic Rule-Based Manager\"\n",
    "        \n",
    "    @weave.op\n",
    "    def analyze_heat_wave_rules(self, scenario_state):\n",
    "        \"\"\"Apply heat wave specific traffic rules.\"\"\"\n",
    "        commands = []\n",
    "        traffic_data = (scenario_state.traffic \n",
    "                       if hasattr(scenario_state, 'traffic') else {})\n",
    "        \n",
    "        console.print(\"🎯 Applying Simple Traffic Heat Wave Rules...\")\n",
    "        \n",
    "        # Simplified Rule: Only redirect extremely congested sectors (>85% instead of >70%)\n",
    "        for sector_id, traffic_state in traffic_data.items():\n",
    "            congestion = getattr(traffic_state, 'congestion', 0)\n",
    "            \n",
    "            # Much more restrictive threshold - only act on extreme congestion\n",
    "            if congestion > 0.85:\n",
    "                target_reduction = 0.3  # Smaller reduction (30% instead of 50%)\n",
    "                commands.append({\n",
    "                    \"service\": \"traffic\",\n",
    "                    \"action\": \"redirect\",\n",
    "                    \"parameters\": {\"sector_id\": sector_id, \n",
    "                                 \"target_reduction\": target_reduction},\n",
    "                    \"rule\": f\"Simple Rule: Redirect {sector_id} due to extreme \"\n",
    "                           f\"congestion ({congestion:.1%})\"\n",
    "                })\n",
    "                console.print(f\"  🚦 Simple Rule: Redirect {sector_id} \"\n",
    "                             f\"(congestion: {congestion:.1%})\")\n",
    "        \n",
    "        return commands"
   ]
  },
  {
   "cell_type": "code",
   "execution_count": 50,
   "id": "b273abeb",
   "metadata": {},
   "outputs": [
    {
     "data": {
      "text/html": [
       "<pre style=\"white-space:pre;overflow-x:auto;line-height:normal;font-family:Menlo,'DejaVu Sans Mono',consolas,'Courier New',monospace\"><span style=\"color: #008080; text-decoration-color: #008080\">╭─────────────────────────────────────────────────────────────────────────────────────────────────────────────────╮</span>\n",
       "<span style=\"color: #008080; text-decoration-color: #008080\">│</span> 🚦 Phase 3C: Traffic Service Investigation                                                                      <span style=\"color: #008080; text-decoration-color: #008080\">│</span>\n",
       "<span style=\"color: #008080; text-decoration-color: #008080\">╰─────────────────────────────────────────────────────────────────────────────────────────────────────────────────╯</span>\n",
       "</pre>\n"
      ],
      "text/plain": [
       "\u001b[36m╭─────────────────────────────────────────────────────────────────────────────────────────────────────────────────╮\u001b[0m\n",
       "\u001b[36m│\u001b[0m 🚦 Phase 3C: Traffic Service Investigation                                                                      \u001b[36m│\u001b[0m\n",
       "\u001b[36m╰─────────────────────────────────────────────────────────────────────────────────────────────────────────────────╯\u001b[0m\n"
      ]
     },
     "metadata": {},
     "output_type": "display_data"
    },
    {
     "data": {
      "text/html": [
       "<pre style=\"white-space:pre;overflow-x:auto;line-height:normal;font-family:Menlo,'DejaVu Sans Mono',consolas,'Courier New',monospace\">🎯 Applying Simple Traffic Heat Wave Rules<span style=\"color: #808000; text-decoration-color: #808000\">...</span>\n",
       "</pre>\n"
      ],
      "text/plain": [
       "🎯 Applying Simple Traffic Heat Wave Rules\u001b[33m...\u001b[0m\n"
      ]
     },
     "metadata": {},
     "output_type": "display_data"
    },
    {
     "data": {
      "text/html": [
       "<pre style=\"white-space:pre;overflow-x:auto;line-height:normal;font-family:Menlo,'DejaVu Sans Mono',consolas,'Courier New',monospace\">  🚦 Simple Rule: Redirect S001 <span style=\"font-weight: bold\">(</span>congestion: <span style=\"color: #008080; text-decoration-color: #008080; font-weight: bold\">90.0</span>%<span style=\"font-weight: bold\">)</span>\n",
       "</pre>\n"
      ],
      "text/plain": [
       "  🚦 Simple Rule: Redirect S001 \u001b[1m(\u001b[0mcongestion: \u001b[1;36m90.0\u001b[0m%\u001b[1m)\u001b[0m\n"
      ]
     },
     "metadata": {},
     "output_type": "display_data"
    },
    {
     "data": {
      "text/html": [
       "<pre style=\"white-space:pre;overflow-x:auto;line-height:normal;font-family:Menlo,'DejaVu Sans Mono',consolas,'Courier New',monospace\">\n",
       "📏 Command <span style=\"color: #008080; text-decoration-color: #008080; font-weight: bold\">1</span>: Simple Rule: Redirect S001 due to extreme congestion <span style=\"font-weight: bold\">(</span><span style=\"color: #008080; text-decoration-color: #008080; font-weight: bold\">90.0</span>%<span style=\"font-weight: bold\">)</span>\n",
       "</pre>\n"
      ],
      "text/plain": [
       "\n",
       "📏 Command \u001b[1;36m1\u001b[0m: Simple Rule: Redirect S001 due to extreme congestion \u001b[1m(\u001b[0m\u001b[1;36m90.0\u001b[0m%\u001b[1m)\u001b[0m\n"
      ]
     },
     "metadata": {},
     "output_type": "display_data"
    },
    {
     "name": "stderr",
     "output_type": "stream",
     "text": [
      "INFO:command:Executing redirect on ServiceType.TRAFFIC service\n"
     ]
    },
    {
     "data": {
      "text/html": [
       "<pre style=\"white-space:pre;overflow-x:auto;line-height:normal;font-family:Menlo,'DejaVu Sans Mono',consolas,'Courier New',monospace\">  ✅ SUCCESS: traffic.redirect\n",
       "</pre>\n"
      ],
      "text/plain": [
       "  ✅ SUCCESS: traffic.redirect\n"
      ]
     },
     "metadata": {},
     "output_type": "display_data"
    }
   ],
   "source": [
    "# Test Traffic Service: Rules vs Agent \n",
    "console.print(Panel(\"🚦 Phase 3C: Traffic Service Investigation\", border_style=\"cyan\"))\n",
    "\n",
    "traffic_rule_manager = TrafficRuleBasedManager()\n",
    "traffic_rule_commands = traffic_rule_manager.analyze_heat_wave_rules(\n",
    "    HEAT_WAVE_SCENARIO.initial_state\n",
    ")\n",
    "# Actually execute traffic rule commands\n",
    "traffic_rule_success_rate = execute_rule_commands(traffic_rule_commands)"
   ]
  },
  {
   "cell_type": "code",
   "execution_count": 51,
   "id": "eae20829",
   "metadata": {
    "lines_to_next_cell": 1
   },
   "outputs": [
    {
     "data": {
      "text/html": [
       "<pre style=\"white-space:pre;overflow-x:auto;line-height:normal;font-family:Menlo,'DejaVu Sans Mono',consolas,'Courier New',monospace\">📊 Evaluating traffic rules with scenario-based method<span style=\"color: #808000; text-decoration-color: #808000\">...</span>\n",
       "</pre>\n"
      ],
      "text/plain": [
       "📊 Evaluating traffic rules with scenario-based method\u001b[33m...\u001b[0m\n"
      ]
     },
     "metadata": {},
     "output_type": "display_data"
    },
    {
     "name": "stderr",
     "output_type": "stream",
     "text": [
      "INFO:command_evaluator:Evaluation complete - Overall score: 0.69\n"
     ]
    }
   ],
   "source": [
    "# Use same evaluation method as agents for fair comparison\n",
    "console.print(\"📊 Evaluating traffic rules with scenario-based method...\")\n",
    "traffic_rule_command_dicts = []\n",
    "for cmd in traffic_rule_commands:\n",
    "    traffic_rule_command_dicts.append({\n",
    "        \"service\": cmd[\"service\"],\n",
    "        \"action\": cmd[\"action\"],\n",
    "        \"parameters\": cmd.get(\"parameters\", {}),\n",
    "        \"success\": True  # Assume executed successfully (like agents)\n",
    "    })\n",
    "\n",
    "traffic_rule_evaluation = evaluate_scenario_commands(\n",
    "    commands=traffic_rule_command_dicts,\n",
    "    scenario_type=ScenarioType.GRID_SURGE,\n",
    "    current_state=get_system_status(),\n",
    "    scenario_definition=HEAT_WAVE_SCENARIO\n",
    ")\n",
    "traffic_rule_success_rate = traffic_rule_evaluation.get('overall_score', traffic_rule_success_rate)"
   ]
  },
  {
   "cell_type": "code",
   "execution_count": 52,
   "id": "57882578",
   "metadata": {
    "lines_to_next_cell": 1
   },
   "outputs": [],
   "source": [
    "class TrafficRedirection(BaseModel):\n",
    "    \"\"\"Traffic redirection action.\"\"\"\n",
    "    sector_id: str = Field(description=\"ID of the traffic sector to redirect\")\n",
    "    target_reduction: float = Field(description=\"Target congestion reduction \"\n",
    "                                               \"(0.0-1.0)\")\n",
    "    reason: str = Field(description=\"Reason for redirection\")\n",
    "\n",
    "\n",
    "class RouteBlocking(BaseModel):\n",
    "    \"\"\"Route blocking action.\"\"\"\n",
    "    sector_id: str = Field(description=\"ID of the sector to block\")\n",
    "    duration_minutes: int = Field(description=\"Duration to block in minutes\")\n",
    "    reason: str = Field(description=\"Reason for blocking\")"
   ]
  },
  {
   "cell_type": "code",
   "execution_count": 53,
   "id": "a9c05db9",
   "metadata": {},
   "outputs": [],
   "source": [
    "traffic_redirection_tool_description = \"\"\"\n",
    "Redirect traffic in congested sectors to alleviate congestion and improve flow.\n",
    "\n",
    "Parameters:\n",
    "- sector_id: ID of the traffic sector to redirect (available: {sectors})\n",
    "- target_reduction: Target congestion reduction percentage (0.0-1.0)\n",
    "- reason: Justification for the redirection\n",
    "\n",
    "Returns execution status with detailed feedback.\n",
    "\"\"\""
   ]
  },
  {
   "cell_type": "code",
   "execution_count": 54,
   "id": "ed6e7b14",
   "metadata": {
    "lines_to_next_cell": 1
   },
   "outputs": [],
   "source": [
    "route_blocking_tool_description = \"\"\"\n",
    "Block a route for emergency access to ensure safe passage for emergency vehicles.\n",
    "\n",
    "Parameters:\n",
    "- sector_id: ID of the sector to block (available: {sectors})\n",
    "- duration_minutes: Duration to block the route in minutes\n",
    "- reason: Reason for blocking the route\n",
    "\n",
    "Returns success/failure status.\n",
    "\"\"\""
   ]
  },
  {
   "cell_type": "code",
   "execution_count": 55,
   "id": "943d4377",
   "metadata": {
    "lines_to_next_cell": 1
   },
   "outputs": [],
   "source": [
    "@weave.op\n",
    "def create_traffic_redirection_tool(tool_description: str):\n",
    "    \"\"\"\n",
    "    Create TrafficRedirectionTool with the provided description.\n",
    "    \n",
    "    Args:\n",
    "        tool_description: Description for the tool that explains its purpose,\n",
    "                         parameters, and return values.\n",
    "    \"\"\"\n",
    "    actual_ids = get_actual_service_ids()\n",
    "    available_sectors = actual_ids.get('traffic_sectors', ['S001', 'S002', 'S003'])\n",
    "\n",
    "    description = tool_description.format(\n",
    "        sectors=', '.join(available_sectors)\n",
    "    )\n",
    "    weave.publish(weave.StringPrompt(description), name=\"traffic_redirection_tool_prompt\")\n",
    "    \n",
    "    class TrafficRedirectionTool(BaseTool):\n",
    "        name: str = \"redirect_traffic\"\n",
    "        description: str = \"\"\n",
    "        \n",
    "        def __init__(self, description):\n",
    "            super().__init__()\n",
    "            self._execution_results = []\n",
    "            self.description = description\n",
    "        \n",
    "        def _run(self, sector_id: str, target_reduction: float, reason: str) -> str:\n",
    "            cmd = Command(\n",
    "                service=ServiceType.TRAFFIC,\n",
    "                action=\"redirect\",\n",
    "                parameters={\"sector_id\": sector_id, \"target_reduction\": target_reduction}\n",
    "            )\n",
    "            \n",
    "            executor = CommandExecutor()\n",
    "            result = executor.execute(cmd)\n",
    "            \n",
    "            # Track execution result\n",
    "            self._execution_results.append(result.success)\n",
    "            \n",
    "            status = \"SUCCESS\" if result.success else \"FAILED\"\n",
    "            console.print(f\"🚦 Traffic: {sector_id} → {target_reduction:.1%} reduction ({reason}) - {status}\")\n",
    "            \n",
    "            return f\"Traffic redirection in sector {sector_id}: {status}\"\n",
    "\n",
    "    return TrafficRedirectionTool(description=description)"
   ]
  },
  {
   "cell_type": "code",
   "execution_count": 56,
   "id": "56b998c4",
   "metadata": {
    "lines_to_next_cell": 1
   },
   "outputs": [],
   "source": [
    "@weave.op\n",
    "def create_route_blocking_tool(tool_description: str):\n",
    "    \"\"\"\n",
    "    Create RouteBlockingTool with the provided description.\n",
    "    \n",
    "    Args:\n",
    "        tool_description: Description for the tool that explains its purpose,\n",
    "                         parameters, and return values.\n",
    "    \"\"\"\n",
    "    actual_ids = get_actual_service_ids()\n",
    "    available_sectors = actual_ids.get('traffic_sectors', ['S001', 'S002', 'S003'])\n",
    "\n",
    "    description = tool_description.format(\n",
    "        sectors=', '.join(available_sectors)\n",
    "    )\n",
    "    weave.publish(weave.StringPrompt(description), name=\"route_blocking_tool_prompt\")\n",
    "    \n",
    "    class RouteBlockingTool(BaseTool):\n",
    "        name: str = \"block_route\"\n",
    "        description: str = \"\"\n",
    "        \n",
    "        def __init__(self, description):\n",
    "            super().__init__()\n",
    "            self._execution_results = []\n",
    "            self.description = description\n",
    "        \n",
    "        def _run(self, sector_id: str, duration_minutes: int, reason: str) -> str:\n",
    "            cmd = Command(\n",
    "                service=ServiceType.TRAFFIC,\n",
    "                action=\"block_route\",\n",
    "                parameters={\n",
    "                    \"sector\": sector_id,\n",
    "                    \"reason\": reason,\n",
    "                    \"duration_minutes\": duration_minutes\n",
    "                }\n",
    "            )\n",
    "            \n",
    "            executor = CommandExecutor()\n",
    "            result = executor.execute(cmd)\n",
    "            \n",
    "            # Track execution result\n",
    "            self._execution_results.append(result.success)\n",
    "            \n",
    "            status = \"SUCCESS\" if result.success else \"FAILED\"\n",
    "            console.print(f\"🚧 Route: {sector_id} blocked for {duration_minutes}min ({reason}) - {status}\")\n",
    "            \n",
    "            return f\"Route blocking in sector {sector_id}: {status}\"\n",
    "    \n",
    "    return RouteBlockingTool(description=description)"
   ]
  },
  {
   "cell_type": "code",
   "execution_count": 57,
   "id": "f2c2efb2",
   "metadata": {
    "lines_to_next_cell": 1
   },
   "outputs": [],
   "source": [
    "class TrafficAgentConfig(BaseModel):\n",
    "    \"\"\"Configuration for creating a traffic agent with its role, goal, and backstory.\"\"\"\n",
    "    role: str = Field(..., description=\"The role/title of the agent\")\n",
    "    goal: str = Field(..., description=\"The primary objective of the agent\")\n",
    "    backstory: str = Field(..., description=\"The agent's background and context\")"
   ]
  },
  {
   "cell_type": "code",
   "execution_count": 58,
   "id": "4a54221f",
   "metadata": {
    "lines_to_next_cell": 1
   },
   "outputs": [],
   "source": [
    "@weave.op\n",
    "def create_traffic_agent(config: TrafficAgentConfig):\n",
    "    \"\"\"\n",
    "    Create the Traffic Management Specialist Agent with dynamic context.\n",
    "    \n",
    "    Args:\n",
    "        config: TrafficAgentConfig containing the base agent configuration\n",
    "    \"\"\"\n",
    "    actual_ids = get_actual_service_ids()\n",
    "    available_sectors = actual_ids.get('traffic_sectors', ['S001', 'S002', 'S003'])\n",
    "    \n",
    "    # Format the backstory with dynamic content\n",
    "    formatted_backstory = config.backstory.format(\n",
    "        sectors=', '.join(available_sectors),\n",
    "        sector_count=len(available_sectors)\n",
    "    )\n",
    "    \n",
    "    # Format the goal with dynamic content\n",
    "    formatted_goal = config.goal.format(\n",
    "        sector_count=len(available_sectors)\n",
    "    )\n",
    "    \n",
    "    traffic_specialist = Agent(\n",
    "        role=config.role,\n",
    "        goal=formatted_goal,\n",
    "        backstory=formatted_backstory,\n",
    "        tools=[create_traffic_redirection_tool(traffic_redirection_tool_description), \n",
    "               create_route_blocking_tool(route_blocking_tool_description)],\n",
    "        verbose=False,\n",
    "        allow_delegation=False\n",
    "    )\n",
    "    \n",
    "    return traffic_specialist"
   ]
  },
  {
   "cell_type": "code",
   "execution_count": 59,
   "id": "fe0042ec",
   "metadata": {
    "lines_to_next_cell": 1
   },
   "outputs": [],
   "source": [
    "# Define the base traffic configuration\n",
    "traffic_agent_config = TrafficAgentConfig(\n",
    "    role=\"Traffic Management Specialist\",\n",
    "    goal=\"Optimize traffic flow and emergency access across {sector_count} sectors\",\n",
    "    backstory=(\n",
    "        \"Traffic engineer specializing in congestion management and emergency routing.\\n\\n\"\n",
    "        \"Available resources:\\n\"\n",
    "        \"• Traffic sectors: {sectors}\\n\\n\"\n",
    "        \"Decision criteria:\\n\"\n",
    "        \"• Redirect traffic in sectors >70% congestion\\n\"\n",
    "        \"• Block routes for emergency corridor creation\\n\"\n",
    "        \"• Take 4+ actions total (redirections + blockings)\\n\"\n",
    "        \"• Use actual resource IDs only\"\n",
    "    )\n",
    ")"
   ]
  },
  {
   "cell_type": "code",
   "execution_count": 60,
   "id": "8c362ff2",
   "metadata": {
    "lines_to_next_cell": 1
   },
   "outputs": [],
   "source": [
    "\n",
    "class TrafficManagementPlan(BaseModel):\n",
    "    \"\"\"Structured output for traffic management actions during heat wave.\"\"\"\n",
    "    traffic_redirections: List[TrafficRedirection] = Field(\n",
    "        description=\"Traffic redirection actions to reduce congestion\"\n",
    "    )\n",
    "    route_blocks: List[RouteBlocking] = Field(\n",
    "        description=\"Route blocking actions for emergency access\"\n",
    "    )\n",
    "    emergency_corridors: str = Field(\n",
    "        description=\"Description of maintained emergency vehicle access routes\"\n",
    "    )\n",
    "    coordination_notes: str = Field(\n",
    "        description=\"Notes for other agents about traffic impacts and \"\n",
    "                   \"emergency access\"\n",
    "    )"
   ]
  },
  {
   "cell_type": "code",
   "execution_count": 61,
   "id": "0804143b",
   "metadata": {
    "lines_to_next_cell": 1
   },
   "outputs": [],
   "source": [
    "class TrafficTaskConfig(BaseModel):\n",
    "    \"\"\"Configuration for creating a traffic task with its description, expected output, and output schema.\"\"\"\n",
    "    description: str = Field(..., description=\"The task description\")\n",
    "    expected_output: str = Field(..., description=\"The expected output\")\n",
    "    output_pydantic: Type[BaseModel] = Field(..., description=\"The output schema\")"
   ]
  },
  {
   "cell_type": "code",
   "execution_count": 62,
   "id": "29ea7eba",
   "metadata": {
    "lines_to_next_cell": 1
   },
   "outputs": [],
   "source": [
    "@weave.op\n",
    "def create_traffic_task(traffic_agent: Agent, config: TrafficTaskConfig):\n",
    "    \"\"\"\n",
    "    Create a task specifically for the Traffic agent with dynamic context.\n",
    "    \n",
    "    Args:\n",
    "        config: TrafficTaskConfig containing the base task configuration\n",
    "        traffic_agent: The Traffic Management Specialist Agent\n",
    "    \"\"\"\n",
    "    actual_ids = get_actual_service_ids()\n",
    "    available_sectors = actual_ids.get('traffic_sectors', ['S001', 'S002', 'S003'])\n",
    "    \n",
    "    # Format the description with dynamic content\n",
    "    formatted_description = config.description.format(\n",
    "        sectors=', '.join(available_sectors)\n",
    "    )\n",
    "    \n",
    "    traffic_task = Task(\n",
    "        description=formatted_description,\n",
    "        agent=traffic_agent,\n",
    "        expected_output=config.expected_output,\n",
    "        output_pydantic=config.output_pydantic\n",
    "    )\n",
    "    return traffic_task"
   ]
  },
  {
   "cell_type": "code",
   "execution_count": 63,
   "id": "3a50d073",
   "metadata": {},
   "outputs": [],
   "source": [
    "# Define the base traffic task configuration\n",
    "traffic_task_config = TrafficTaskConfig(\n",
    "    description=(\n",
    "        \"Heat wave crisis: Traffic congestion blocking emergency vehicle access.\\n\\n\"\n",
    "        \"Available sectors: {sectors}\\n\\n\"\n",
    "        \"Required actions:\\n\"\n",
    "        \"1. Redirect traffic in sectors >70% congestion (reduce by 40-50%)\\n\"\n",
    "        \"2. Block 1-2 routes for dedicated emergency corridors (30-60 min)\\n\\n\"\n",
    "        \"Success criteria: Execute 4+ total actions minimum\\n\"\n",
    "        \"Use only the sector IDs listed above\"\n",
    "    ),\n",
    "    expected_output=\"Traffic management plan with redirections and route blocks\",\n",
    "    output_pydantic=TrafficManagementPlan\n",
    ")"
   ]
  },
  {
   "cell_type": "code",
   "execution_count": 64,
   "id": "00362bfe",
   "metadata": {},
   "outputs": [
    {
     "data": {
      "text/html": [
       "<pre style=\"white-space:pre;overflow-x:auto;line-height:normal;font-family:Menlo,'DejaVu Sans Mono',consolas,'Courier New',monospace\">\n",
       "🤖 Testing Traffic Agent-Based Management\n",
       "</pre>\n"
      ],
      "text/plain": [
       "\n",
       "🤖 Testing Traffic Agent-Based Management\n"
      ]
     },
     "metadata": {},
     "output_type": "display_data"
    },
    {
     "data": {
      "text/html": [
       "<pre style=\"white-space:pre;overflow-x:auto;line-height:normal;font-family:Menlo,'DejaVu Sans Mono',consolas,'Courier New',monospace\">🎯 Activating scenario: Heat Wave Crisis - Traffic Agent Test\n",
       "</pre>\n"
      ],
      "text/plain": [
       "🎯 Activating scenario: Heat Wave Crisis - Traffic Agent Test\n"
      ]
     },
     "metadata": {},
     "output_type": "display_data"
    },
    {
     "data": {
      "text/html": [
       "<pre style=\"white-space:pre;overflow-x:auto;line-height:normal;font-family:Menlo,'DejaVu Sans Mono',consolas,'Courier New',monospace\">🔄 Resetting all service states<span style=\"color: #808000; text-decoration-color: #808000\">...</span>\n",
       "</pre>\n"
      ],
      "text/plain": [
       "🔄 Resetting all service states\u001b[33m...\u001b[0m\n"
      ]
     },
     "metadata": {},
     "output_type": "display_data"
    },
    {
     "data": {
      "text/html": [
       "<pre style=\"white-space:pre;overflow-x:auto;line-height:normal;font-family:Menlo,'DejaVu Sans Mono',consolas,'Courier New',monospace\">  ✅ GRID state reset\n",
       "</pre>\n"
      ],
      "text/plain": [
       "  ✅ GRID state reset\n"
      ]
     },
     "metadata": {},
     "output_type": "display_data"
    },
    {
     "data": {
      "text/html": [
       "<pre style=\"white-space:pre;overflow-x:auto;line-height:normal;font-family:Menlo,'DejaVu Sans Mono',consolas,'Courier New',monospace\">  ✅ EMERGENCY state reset\n",
       "</pre>\n"
      ],
      "text/plain": [
       "  ✅ EMERGENCY state reset\n"
      ]
     },
     "metadata": {},
     "output_type": "display_data"
    },
    {
     "data": {
      "text/html": [
       "<pre style=\"white-space:pre;overflow-x:auto;line-height:normal;font-family:Menlo,'DejaVu Sans Mono',consolas,'Courier New',monospace\">  ✅ TRAFFIC state reset\n",
       "</pre>\n"
      ],
      "text/plain": [
       "  ✅ TRAFFIC state reset\n"
      ]
     },
     "metadata": {},
     "output_type": "display_data"
    },
    {
     "data": {
      "text/html": [
       "<pre style=\"white-space:pre;overflow-x:auto;line-height:normal;font-family:Menlo,'DejaVu Sans Mono',consolas,'Courier New',monospace\">  ✅ SCENARIO state reset\n",
       "</pre>\n"
      ],
      "text/plain": [
       "  ✅ SCENARIO state reset\n"
      ]
     },
     "metadata": {},
     "output_type": "display_data"
    },
    {
     "data": {
      "text/html": [
       "<pre style=\"white-space:pre;overflow-x:auto;line-height:normal;font-family:Menlo,'DejaVu Sans Mono',consolas,'Courier New',monospace\">  📋 Scenario created with ID: <span style=\"color: #ffff00; text-decoration-color: #ffff00\">51b38b54-e59c-49b3-8633-160b1628d57c</span>\n",
       "</pre>\n"
      ],
      "text/plain": [
       "  📋 Scenario created with ID: \u001b[93m51b38b54-e59c-49b3-8633-160b1628d57c\u001b[0m\n"
      ]
     },
     "metadata": {},
     "output_type": "display_data"
    },
    {
     "data": {
      "text/html": [
       "<pre style=\"white-space:pre;overflow-x:auto;line-height:normal;font-family:Menlo,'DejaVu Sans Mono',consolas,'Courier New',monospace\">  ✅ Scenario <span style=\"color: #008000; text-decoration-color: #008000\">'Heat Wave Crisis - Traffic Agent Test'</span> activated successfully\n",
       "</pre>\n"
      ],
      "text/plain": [
       "  ✅ Scenario \u001b[32m'Heat Wave Crisis - Traffic Agent Test'\u001b[0m activated successfully\n"
      ]
     },
     "metadata": {},
     "output_type": "display_data"
    },
    {
     "data": {
      "text/html": [
       "<pre style=\"white-space:pre;overflow-x:auto;line-height:normal;font-family:Menlo,'DejaVu Sans Mono',consolas,'Courier New',monospace\">    ✅ GRID: State initialized\n",
       "</pre>\n"
      ],
      "text/plain": [
       "    ✅ GRID: State initialized\n"
      ]
     },
     "metadata": {},
     "output_type": "display_data"
    },
    {
     "data": {
      "text/html": [
       "<pre style=\"white-space:pre;overflow-x:auto;line-height:normal;font-family:Menlo,'DejaVu Sans Mono',consolas,'Courier New',monospace\">    ✅ EMERGENCY: State initialized\n",
       "</pre>\n"
      ],
      "text/plain": [
       "    ✅ EMERGENCY: State initialized\n"
      ]
     },
     "metadata": {},
     "output_type": "display_data"
    },
    {
     "data": {
      "text/html": [
       "<pre style=\"white-space:pre;overflow-x:auto;line-height:normal;font-family:Menlo,'DejaVu Sans Mono',consolas,'Courier New',monospace\">    ✅ TRAFFIC: State initialized\n",
       "</pre>\n"
      ],
      "text/plain": [
       "    ✅ TRAFFIC: State initialized\n"
      ]
     },
     "metadata": {},
     "output_type": "display_data"
    },
    {
     "name": "stderr",
     "output_type": "stream",
     "text": [
      "INFO:command:Executing redirect on ServiceType.TRAFFIC service\n"
     ]
    },
    {
     "data": {
      "text/html": [
       "<pre style=\"white-space:pre;overflow-x:auto;line-height:normal;font-family:Menlo,'DejaVu Sans Mono',consolas,'Courier New',monospace\">🚦 Traffic: S001 → <span style=\"color: #008080; text-decoration-color: #008080; font-weight: bold\">45.0</span>% reduction <span style=\"font-weight: bold\">(</span>Alleviating congestion over <span style=\"color: #008080; text-decoration-color: #008080; font-weight: bold\">70</span>% to improve emergency access.<span style=\"font-weight: bold\">)</span> - SUCCESS\n",
       "</pre>\n"
      ],
      "text/plain": [
       "🚦 Traffic: S001 → \u001b[1;36m45.0\u001b[0m% reduction \u001b[1m(\u001b[0mAlleviating congestion over \u001b[1;36m70\u001b[0m% to improve emergency access.\u001b[1m)\u001b[0m - SUCCESS\n"
      ]
     },
     "metadata": {},
     "output_type": "display_data"
    },
    {
     "name": "stderr",
     "output_type": "stream",
     "text": [
      "INFO:command:Executing redirect on ServiceType.TRAFFIC service\n"
     ]
    },
    {
     "data": {
      "text/html": [
       "<pre style=\"white-space:pre;overflow-x:auto;line-height:normal;font-family:Menlo,'DejaVu Sans Mono',consolas,'Courier New',monospace\">🚦 Traffic: S002 → <span style=\"color: #008080; text-decoration-color: #008080; font-weight: bold\">40.0</span>% reduction <span style=\"font-weight: bold\">(</span>Alleviating congestion over <span style=\"color: #008080; text-decoration-color: #008080; font-weight: bold\">70</span>% to improve emergency access.<span style=\"font-weight: bold\">)</span> - SUCCESS\n",
       "</pre>\n"
      ],
      "text/plain": [
       "🚦 Traffic: S002 → \u001b[1;36m40.0\u001b[0m% reduction \u001b[1m(\u001b[0mAlleviating congestion over \u001b[1;36m70\u001b[0m% to improve emergency access.\u001b[1m)\u001b[0m - SUCCESS\n"
      ]
     },
     "metadata": {},
     "output_type": "display_data"
    },
    {
     "name": "stderr",
     "output_type": "stream",
     "text": [
      "INFO:command:Executing block_route on ServiceType.TRAFFIC service\n"
     ]
    },
    {
     "data": {
      "text/html": [
       "<pre style=\"white-space:pre;overflow-x:auto;line-height:normal;font-family:Menlo,'DejaVu Sans Mono',consolas,'Courier New',monospace\">🚧 Route: S003 blocked for 45min <span style=\"font-weight: bold\">(</span>Creating an emergency corridor for vehicles during heat wave.<span style=\"font-weight: bold\">)</span> - SUCCESS\n",
       "</pre>\n"
      ],
      "text/plain": [
       "🚧 Route: S003 blocked for 45min \u001b[1m(\u001b[0mCreating an emergency corridor for vehicles during heat wave.\u001b[1m)\u001b[0m - SUCCESS\n"
      ]
     },
     "metadata": {},
     "output_type": "display_data"
    },
    {
     "name": "stderr",
     "output_type": "stream",
     "text": [
      "INFO:command:Executing block_route on ServiceType.TRAFFIC service\n",
      "ERROR:command:Command failed: 404 - {'detail': 'Sector S004 not found'}\n",
      "ERROR:command:Request details: POST http://localhost:8004/traffic/block_route\n",
      "ERROR:command:Request data: {'sector': 'S004', 'reason': 'Creating an emergency corridor for vehicles during heat wave.', 'duration_minutes': 30}\n"
     ]
    },
    {
     "data": {
      "text/html": [
       "<pre style=\"white-space:pre;overflow-x:auto;line-height:normal;font-family:Menlo,'DejaVu Sans Mono',consolas,'Courier New',monospace\">🚧 Route: S004 blocked for 30min <span style=\"font-weight: bold\">(</span>Creating an emergency corridor for vehicles during heat wave.<span style=\"font-weight: bold\">)</span> - FAILED\n",
       "</pre>\n"
      ],
      "text/plain": [
       "🚧 Route: S004 blocked for 30min \u001b[1m(\u001b[0mCreating an emergency corridor for vehicles during heat wave.\u001b[1m)\u001b[0m - FAILED\n"
      ]
     },
     "metadata": {},
     "output_type": "display_data"
    },
    {
     "name": "stderr",
     "output_type": "stream",
     "text": [
      "INFO:command:Executing block_route on ServiceType.TRAFFIC service\n",
      "ERROR:command:Command failed: 404 - {'detail': 'Sector S005 not found'}\n",
      "ERROR:command:Request details: POST http://localhost:8004/traffic/block_route\n",
      "ERROR:command:Request data: {'sector': 'S005', 'reason': 'Creating an emergency corridor for vehicles during heat wave.', 'duration_minutes': 60}\n"
     ]
    },
    {
     "data": {
      "text/html": [
       "<pre style=\"white-space:pre;overflow-x:auto;line-height:normal;font-family:Menlo,'DejaVu Sans Mono',consolas,'Courier New',monospace\">🚧 Route: S005 blocked for 60min <span style=\"font-weight: bold\">(</span>Creating an emergency corridor for vehicles during heat wave.<span style=\"font-weight: bold\">)</span> - FAILED\n",
       "</pre>\n"
      ],
      "text/plain": [
       "🚧 Route: S005 blocked for 60min \u001b[1m(\u001b[0mCreating an emergency corridor for vehicles during heat wave.\u001b[1m)\u001b[0m - FAILED\n"
      ]
     },
     "metadata": {},
     "output_type": "display_data"
    },
    {
     "name": "stderr",
     "output_type": "stream",
     "text": [
      "INFO:command:Executing block_route on ServiceType.TRAFFIC service\n"
     ]
    },
    {
     "data": {
      "text/html": [
       "<pre style=\"white-space:pre;overflow-x:auto;line-height:normal;font-family:Menlo,'DejaVu Sans Mono',consolas,'Courier New',monospace\">🚧 Route: S001 blocked for 30min <span style=\"font-weight: bold\">(</span>Creating an emergency corridor for vehicles during heat wave.<span style=\"font-weight: bold\">)</span> - SUCCESS\n",
       "</pre>\n"
      ],
      "text/plain": [
       "🚧 Route: S001 blocked for 30min \u001b[1m(\u001b[0mCreating an emergency corridor for vehicles during heat wave.\u001b[1m)\u001b[0m - SUCCESS\n"
      ]
     },
     "metadata": {},
     "output_type": "display_data"
    },
    {
     "data": {
      "text/html": [
       "<pre style=\"white-space:pre;overflow-x:auto;line-height:normal;font-family:Menlo,'DejaVu Sans Mono',consolas,'Courier New',monospace\">📊 Evaluating traffic agent with proper agent converter<span style=\"color: #808000; text-decoration-color: #808000\">...</span>\n",
       "</pre>\n"
      ],
      "text/plain": [
       "📊 Evaluating traffic agent with proper agent converter\u001b[33m...\u001b[0m\n"
      ]
     },
     "metadata": {},
     "output_type": "display_data"
    },
    {
     "data": {
      "text/html": [
       "<pre style=\"white-space:pre;overflow-x:auto;line-height:normal;font-family:Menlo,'DejaVu Sans Mono',consolas,'Courier New',monospace\">🔍 Converting <span style=\"color: #008080; text-decoration-color: #008080; font-weight: bold\">1</span> task outputs\n",
       "</pre>\n"
      ],
      "text/plain": [
       "🔍 Converting \u001b[1;36m1\u001b[0m task outputs\n"
      ]
     },
     "metadata": {},
     "output_type": "display_data"
    },
    {
     "data": {
      "text/html": [
       "<pre style=\"white-space:pre;overflow-x:auto;line-height:normal;font-family:Menlo,'DejaVu Sans Mono',consolas,'Courier New',monospace\">📋 Processing Task <span style=\"color: #008080; text-decoration-color: #008080; font-weight: bold\">0</span>\n",
       "</pre>\n"
      ],
      "text/plain": [
       "📋 Processing Task \u001b[1;36m0\u001b[0m\n"
      ]
     },
     "metadata": {},
     "output_type": "display_data"
    },
    {
     "data": {
      "text/html": [
       "<pre style=\"white-space:pre;overflow-x:auto;line-height:normal;font-family:Menlo,'DejaVu Sans Mono',consolas,'Courier New',monospace\">📋 Task <span style=\"color: #008080; text-decoration-color: #008080; font-weight: bold\">0</span> dict keys: <span style=\"font-weight: bold\">[</span><span style=\"color: #008000; text-decoration-color: #008000\">'traffic_redirections'</span>, <span style=\"color: #008000; text-decoration-color: #008000\">'route_blocks'</span>, <span style=\"color: #008000; text-decoration-color: #008000\">'emergency_corridors'</span>, <span style=\"color: #008000; text-decoration-color: #008000\">'coordination_notes'</span><span style=\"font-weight: bold\">]</span>\n",
       "</pre>\n"
      ],
      "text/plain": [
       "📋 Task \u001b[1;36m0\u001b[0m dict keys: \u001b[1m[\u001b[0m\u001b[32m'traffic_redirections'\u001b[0m, \u001b[32m'route_blocks'\u001b[0m, \u001b[32m'emergency_corridors'\u001b[0m, \u001b[32m'coordination_notes'\u001b[0m\u001b[1m]\u001b[0m\n"
      ]
     },
     "metadata": {},
     "output_type": "display_data"
    },
    {
     "data": {
      "text/html": [
       "<pre style=\"white-space:pre;overflow-x:auto;line-height:normal;font-family:Menlo,'DejaVu Sans Mono',consolas,'Courier New',monospace\">📋 Task <span style=\"color: #008080; text-decoration-color: #008080; font-weight: bold\">0</span>: Processing Traffic Plan\n",
       "</pre>\n"
      ],
      "text/plain": [
       "📋 Task \u001b[1;36m0\u001b[0m: Processing Traffic Plan\n"
      ]
     },
     "metadata": {},
     "output_type": "display_data"
    },
    {
     "data": {
      "text/html": [
       "<pre style=\"white-space:pre;overflow-x:auto;line-height:normal;font-family:Menlo,'DejaVu Sans Mono',consolas,'Courier New',monospace\">  🚦 Traffic: redirect S001 → <span style=\"color: #008080; text-decoration-color: #008080; font-weight: bold\">0.45</span>\n",
       "</pre>\n"
      ],
      "text/plain": [
       "  🚦 Traffic: redirect S001 → \u001b[1;36m0.45\u001b[0m\n"
      ]
     },
     "metadata": {},
     "output_type": "display_data"
    },
    {
     "data": {
      "text/html": [
       "<pre style=\"white-space:pre;overflow-x:auto;line-height:normal;font-family:Menlo,'DejaVu Sans Mono',consolas,'Courier New',monospace\">  🚦 Traffic: redirect S002 → <span style=\"color: #008080; text-decoration-color: #008080; font-weight: bold\">0.4</span>\n",
       "</pre>\n"
      ],
      "text/plain": [
       "  🚦 Traffic: redirect S002 → \u001b[1;36m0.4\u001b[0m\n"
      ]
     },
     "metadata": {},
     "output_type": "display_data"
    },
    {
     "data": {
      "text/html": [
       "<pre style=\"white-space:pre;overflow-x:auto;line-height:normal;font-family:Menlo,'DejaVu Sans Mono',consolas,'Courier New',monospace\">  🚧 Traffic: block_route S003 → 45min\n",
       "</pre>\n"
      ],
      "text/plain": [
       "  🚧 Traffic: block_route S003 → 45min\n"
      ]
     },
     "metadata": {},
     "output_type": "display_data"
    },
    {
     "data": {
      "text/html": [
       "<pre style=\"white-space:pre;overflow-x:auto;line-height:normal;font-family:Menlo,'DejaVu Sans Mono',consolas,'Courier New',monospace\">  🚧 Traffic: block_route S001 → 30min\n",
       "</pre>\n"
      ],
      "text/plain": [
       "  🚧 Traffic: block_route S001 → 30min\n"
      ]
     },
     "metadata": {},
     "output_type": "display_data"
    },
    {
     "data": {
      "text/html": [
       "<pre style=\"white-space:pre;overflow-x:auto;line-height:normal;font-family:Menlo,'DejaVu Sans Mono',consolas,'Courier New',monospace\">✅ Converted <span style=\"color: #008080; text-decoration-color: #008080; font-weight: bold\">4</span> commands from agent results\n",
       "</pre>\n"
      ],
      "text/plain": [
       "✅ Converted \u001b[1;36m4\u001b[0m commands from agent results\n"
      ]
     },
     "metadata": {},
     "output_type": "display_data"
    },
    {
     "data": {
      "text/html": [
       "<pre style=\"white-space:pre;overflow-x:auto;line-height:normal;font-family:Menlo,'DejaVu Sans Mono',consolas,'Courier New',monospace\">📊 Converted <span style=\"color: #008080; text-decoration-color: #008080; font-weight: bold\">4</span> commands for evaluation\n",
       "</pre>\n"
      ],
      "text/plain": [
       "📊 Converted \u001b[1;36m4\u001b[0m commands for evaluation\n"
      ]
     },
     "metadata": {},
     "output_type": "display_data"
    },
    {
     "name": "stderr",
     "output_type": "stream",
     "text": [
      "INFO:command_evaluator:Evaluation complete - Overall score: 0.31\n"
     ]
    },
    {
     "data": {
      "text/html": [
       "<pre style=\"white-space:pre;overflow-x:auto;line-height:normal;font-family:Menlo,'DejaVu Sans Mono',consolas,'Courier New',monospace\">📊 Command evaluator score: <span style=\"color: #008080; text-decoration-color: #008080; font-weight: bold\">31.2</span>%\n",
       "</pre>\n"
      ],
      "text/plain": [
       "📊 Command evaluator score: \u001b[1;36m31.2\u001b[0m%\n"
      ]
     },
     "metadata": {},
     "output_type": "display_data"
    },
    {
     "data": {
      "text/html": [
       "<pre style=\"white-space:pre;overflow-x:auto;line-height:normal;font-family:Menlo,'DejaVu Sans Mono',consolas,'Courier New',monospace\">📊 Traffic Rules: <span style=\"color: #008080; text-decoration-color: #008080; font-weight: bold\">69.5</span>%\n",
       "</pre>\n"
      ],
      "text/plain": [
       "📊 Traffic Rules: \u001b[1;36m69.5\u001b[0m%\n"
      ]
     },
     "metadata": {},
     "output_type": "display_data"
    },
    {
     "data": {
      "text/html": [
       "<pre style=\"white-space:pre;overflow-x:auto;line-height:normal;font-family:Menlo,'DejaVu Sans Mono',consolas,'Courier New',monospace\">📊 Traffic Agent: <span style=\"color: #008080; text-decoration-color: #008080; font-weight: bold\">31.2</span>%\n",
       "</pre>\n"
      ],
      "text/plain": [
       "📊 Traffic Agent: \u001b[1;36m31.2\u001b[0m%\n"
      ]
     },
     "metadata": {},
     "output_type": "display_data"
    }
   ],
   "source": [
    "console.print(\"\\n🤖 Testing Traffic Agent-Based Management\")\n",
    "activate_scenario(HEAT_WAVE_SCENARIO, \"Heat Wave Crisis - Traffic Agent Test\")\n",
    "\n",
    "traffic_agent = create_traffic_agent(traffic_agent_config)\n",
    "traffic_task = create_traffic_task(traffic_agent, traffic_task_config)\n",
    "traffic_crew = Crew(\n",
    "    agents=[traffic_agent],\n",
    "    tasks=[traffic_task],\n",
    "    process=Process.sequential,\n",
    "    verbose=False\n",
    ")\n",
    "\n",
    "traffic_agent_result = traffic_crew.kickoff(inputs={\n",
    "    \"scenario_name\": HEAT_WAVE_SCENARIO.name,\n",
    "    \"scenario_description\": HEAT_WAVE_SCENARIO.description\n",
    "})\n",
    "# Use agent converter to properly evaluate traffic agent results\n",
    "console.print(\"📊 Evaluating traffic agent with proper agent converter...\")\n",
    "traffic_agent_success_rate, traffic_agent_commands, traffic_agent_evaluation = convert_and_evaluate_agent_commands(\n",
    "    crew_result=traffic_agent_result,\n",
    "    scenario_definition=HEAT_WAVE_SCENARIO,\n",
    "    scenario_type=ScenarioType.GRID_SURGE\n",
    ")\n",
    "\n",
    "console.print(f\"📊 Traffic Rules: {traffic_rule_success_rate:.1%}\")\n",
    "console.print(f\"📊 Traffic Agent: {traffic_agent_success_rate:.1%}\")"
   ]
  },
  {
   "cell_type": "code",
   "execution_count": 65,
   "id": "b83e2475",
   "metadata": {},
   "outputs": [
    {
     "data": {
      "text/html": [
       "<pre style=\"white-space:pre;overflow-x:auto;line-height:normal;font-family:Menlo,'DejaVu Sans Mono',consolas,'Courier New',monospace\"><span style=\"color: #008080; text-decoration-color: #008080\">╭───────────────────────────────────── Traffic Service Investigation Results ─────────────────────────────────────╮</span>\n",
       "<span style=\"color: #008080; text-decoration-color: #008080\">│</span> ⚖️ **Traffic Service: Rules vs Agent Comparison**                                                                <span style=\"color: #008080; text-decoration-color: #008080\">│</span>\n",
       "<span style=\"color: #008080; text-decoration-color: #008080\">│</span>                                                                                                                 <span style=\"color: #008080; text-decoration-color: #008080\">│</span>\n",
       "<span style=\"color: #008080; text-decoration-color: #008080\">│</span> **Traffic Rules**: 69.5% success rate                                                                           <span style=\"color: #008080; text-decoration-color: #008080\">│</span>\n",
       "<span style=\"color: #008080; text-decoration-color: #008080\">│</span> • 🚦 Simple congestion threshold (&gt;70%)                                                                         <span style=\"color: #008080; text-decoration-color: #008080\">│</span>\n",
       "<span style=\"color: #008080; text-decoration-color: #008080\">│</span> • ❌ No emergency access consideration                                                                          <span style=\"color: #008080; text-decoration-color: #008080\">│</span>\n",
       "<span style=\"color: #008080; text-decoration-color: #008080\">│</span>                                                                                                                 <span style=\"color: #008080; text-decoration-color: #008080\">│</span>\n",
       "<span style=\"color: #008080; text-decoration-color: #008080\">│</span> **Traffic Agent**: 31.2% success rate                                                                           <span style=\"color: #008080; text-decoration-color: #008080\">│</span>\n",
       "<span style=\"color: #008080; text-decoration-color: #008080\">│</span> • 🧠 Emergency-aware optimization                                                                               <span style=\"color: #008080; text-decoration-color: #008080\">│</span>\n",
       "<span style=\"color: #008080; text-decoration-color: #008080\">│</span> • ✅ Balances civilian impact vs emergency needs                                                                <span style=\"color: #008080; text-decoration-color: #008080\">│</span>\n",
       "<span style=\"color: #008080; text-decoration-color: #008080\">╰─────────────────────────────────────────────────────────────────────────────────────────────────────────────────╯</span>\n",
       "</pre>\n"
      ],
      "text/plain": [
       "\u001b[36m╭─\u001b[0m\u001b[36m────────────────────────────────────\u001b[0m\u001b[36m Traffic Service Investigation Results \u001b[0m\u001b[36m────────────────────────────────────\u001b[0m\u001b[36m─╮\u001b[0m\n",
       "\u001b[36m│\u001b[0m ⚖️ **Traffic Service: Rules vs Agent Comparison**                                                                \u001b[36m│\u001b[0m\n",
       "\u001b[36m│\u001b[0m                                                                                                                 \u001b[36m│\u001b[0m\n",
       "\u001b[36m│\u001b[0m **Traffic Rules**: 69.5% success rate                                                                           \u001b[36m│\u001b[0m\n",
       "\u001b[36m│\u001b[0m • 🚦 Simple congestion threshold (>70%)                                                                         \u001b[36m│\u001b[0m\n",
       "\u001b[36m│\u001b[0m • ❌ No emergency access consideration                                                                          \u001b[36m│\u001b[0m\n",
       "\u001b[36m│\u001b[0m                                                                                                                 \u001b[36m│\u001b[0m\n",
       "\u001b[36m│\u001b[0m **Traffic Agent**: 31.2% success rate                                                                           \u001b[36m│\u001b[0m\n",
       "\u001b[36m│\u001b[0m • 🧠 Emergency-aware optimization                                                                               \u001b[36m│\u001b[0m\n",
       "\u001b[36m│\u001b[0m • ✅ Balances civilian impact vs emergency needs                                                                \u001b[36m│\u001b[0m\n",
       "\u001b[36m╰─────────────────────────────────────────────────────────────────────────────────────────────────────────────────╯\u001b[0m\n"
      ]
     },
     "metadata": {},
     "output_type": "display_data"
    },
    {
     "data": {
      "text/html": [
       "<pre style=\"white-space:pre;overflow-x:auto;line-height:normal;font-family:Menlo,'DejaVu Sans Mono',consolas,'Courier New',monospace\">✅ Phase 3C Complete: Traffic service investigation finished\n",
       "</pre>\n"
      ],
      "text/plain": [
       "✅ Phase 3C Complete: Traffic service investigation finished\n"
      ]
     },
     "metadata": {},
     "output_type": "display_data"
    },
    {
     "data": {
      "text/html": [
       "<pre style=\"white-space:pre;overflow-x:auto;line-height:normal;font-family:Menlo,'DejaVu Sans Mono',consolas,'Courier New',monospace\">📊 Results saved to workshop_experiment_results.json\n",
       "</pre>\n"
      ],
      "text/plain": [
       "📊 Results saved to workshop_experiment_results.json\n"
      ]
     },
     "metadata": {},
     "output_type": "display_data"
    },
    {
     "data": {
      "text/html": [
       "<pre style=\"white-space:pre;overflow-x:auto;line-height:normal;font-family:Menlo,'DejaVu Sans Mono',consolas,'Courier New',monospace\">    Service Investigation Progress:\n",
       "</pre>\n"
      ],
      "text/plain": [
       "    Service Investigation Progress:\n"
      ]
     },
     "metadata": {},
     "output_type": "display_data"
    }
   ],
   "source": [
    "# Store Traffic results\n",
    "workshop_results[\"service_investigation\"][\"traffic\"] = {\n",
    "    \"rule_success_rate\": traffic_rule_success_rate,\n",
    "    \"agent_success_rate\": traffic_agent_success_rate,\n",
    "    \"rule_commands\": traffic_rule_commands,\n",
    "    \"agent_commands\": [\n",
    "        {\n",
    "            \"service\": cmd.service.value,\n",
    "            \"action\": cmd.action,\n",
    "            \"parameters\": cmd.parameters\n",
    "        } for cmd in traffic_agent_commands\n",
    "    ] if traffic_agent_commands else []\n",
    "}\n",
    "\n",
    "\n",
    "console.print(Panel(\n",
    "    f\"⚖️ **Traffic Service: Rules vs Agent Comparison**\\n\\n\"\n",
    "    f\"**Traffic Rules**: {traffic_rule_success_rate:.1%} success rate\\n\"\n",
    "    f\"• 🚦 Simple congestion threshold (>70%)\\n\"\n",
    "    f\"• ❌ No emergency access consideration\\n\\n\"\n",
    "    f\"**Traffic Agent**: {traffic_agent_success_rate:.1%} success rate\\n\"\n",
    "    f\"• 🧠 Emergency-aware optimization\\n\"\n",
    "    f\"• ✅ Balances civilian impact vs emergency needs\",\n",
    "    title=\"Traffic Service Investigation Results\",\n",
    "    border_style=\"cyan\"\n",
    "))\n",
    "\n",
    "console.print(\"✅ Phase 3C Complete: Traffic service investigation finished\")\n",
    "save_experiment_results(workshop_results)"
   ]
  },
  {
   "cell_type": "markdown",
   "id": "a0975c39",
   "metadata": {},
   "source": [
    "## 🤝 **PHASE 4: Full System Comparison**\n",
    "\n",
    "**🎓 Educational Goal**: Compare complete rule-based system vs complete agent system\n",
    "\n",
    "Now that we understand each service individually, let's test complete systems:\n",
    "1. **Full Rule-Based System**: All rules coordinated\n",
    "2. **Full Agent System**: Manager + Specialists coordination"
   ]
  },
  {
   "cell_type": "code",
   "execution_count": 66,
   "id": "b1b02301",
   "metadata": {
    "lines_to_next_cell": 1
   },
   "outputs": [],
   "source": [
    "from weave import EvaluationLogger"
   ]
  },
  {
   "cell_type": "code",
   "execution_count": 67,
   "id": "e3f0e7d6",
   "metadata": {
    "lines_to_next_cell": 1
   },
   "outputs": [],
   "source": [
    "# Complete Rule-Based System\n",
    "class HeatWaveRuleBasedSystem(weave.Model):\n",
    "    \"\"\"Complete rule-based system for heat wave crisis management.\"\"\"\n",
    "    name: str = \"Heat Wave Rule-Based Crisis Management System\"\n",
    "    grid_manager: GridRuleBasedManager = GridRuleBasedManager()\n",
    "    emergency_manager: EmergencyRuleBasedManager = EmergencyRuleBasedManager()\n",
    "    traffic_manager: TrafficRuleBasedManager = TrafficRuleBasedManager()\n",
    "    scenario_definition: ScenarioDefinition = HEAT_WAVE_SCENARIO\n",
    "\n",
    "    @weave.op\n",
    "    def solve_heat_wave_crisis(self, scenario_state: Any = None):\n",
    "        \"\"\"Apply all heat wave rules across all services.\"\"\"\n",
    "        console.print(\"🎯 Applying Complete Heat Wave Rule-Based System...\")\n",
    "        \n",
    "        # Get current scenario state\n",
    "        if scenario_state is None:\n",
    "            scenario_state = self.scenario_definition.initial_state\n",
    "        \n",
    "        all_commands = []\n",
    "        \n",
    "        # Apply all service rules\n",
    "        all_commands.extend(self.grid_manager.analyze_heat_wave_rules(scenario_state))\n",
    "        all_commands.extend(self.emergency_manager.analyze_heat_wave_rules(scenario_state))\n",
    "        all_commands.extend(self.traffic_manager.analyze_heat_wave_rules(scenario_state))\n",
    "        \n",
    "        # Execute all commands\n",
    "        executor = CommandExecutor()\n",
    "        results = []\n",
    "        \n",
    "        for i, command in enumerate(all_commands, 1):\n",
    "            try:\n",
    "                cmd = Command(\n",
    "                    service=ServiceType(command[\"service\"]),\n",
    "                    action=command[\"action\"],\n",
    "                    parameters=command.get(\"parameters\", {})\n",
    "                )\n",
    "                result = executor.execute(cmd)\n",
    "                results.append(result.success)\n",
    "                \n",
    "                status = \"✅ SUCCESS\" if result.success else \"❌ FAILED\"\n",
    "                console.print(f\"  {status}: {command['service']}.{command['action']}\")\n",
    "                \n",
    "            except Exception as e:\n",
    "                console.print(f\"  ❌ EXECUTION ERROR: {e}\")\n",
    "                results.append(False)\n",
    "        \n",
    "        success_rate = sum(results) / len(results) if results else 0\n",
    "        \n",
    "        # Store results for comparison\n",
    "        workshop_results[\"rule_based\"][\"success_rate\"] = success_rate\n",
    "        workshop_results[\"rule_based\"][\"commands\"] = all_commands\n",
    "        \n",
    "        return all_commands, success_rate\n",
    "\n",
    "@weave.op\n",
    "def create_crisis_manager_agent():\n",
    "    \"\"\"Create a manager agent that coordinates specialist agents.\"\"\"\n",
    "    crisis_manager = Agent(\n",
    "        role=\"Crisis Management Coordinator\",\n",
    "        goal=\"Coordinate specialist agents to achieve comprehensive crisis response with 15+ total actions\",\n",
    "        backstory=\"\"\"Senior crisis management coordinator with expertise in multi-agent coordination.\n",
    "        \n",
    "        Team specialists:\n",
    "        - Grid Management: Handles power grid stability and infrastructure priorities\n",
    "        - Emergency Response: Manages drone assignments and incident response  \n",
    "        - Traffic Management: Optimizes traffic flow and emergency access\n",
    "        \n",
    "        Coordination requirements:\n",
    "        • Grid team: Execute 6+ actions (zone adjustments + infrastructure priorities)\n",
    "        • Emergency team: Execute 6+ actions (drone assignments + status updates)\n",
    "        • Traffic team: Execute 4+ actions (redirections + route blocks)\n",
    "        • Total target: 15+ coordinated actions across all services\"\"\",\n",
    "        tools=[],  # Manager agents cannot have tools in hierarchical process\n",
    "        verbose=False,\n",
    "        allow_delegation=True,  # Key: Enables hierarchical management\n",
    "        llm=\"gpt-4o\"  # Use high-capability model for manager as per CrewAI docs\n",
    "    )\n",
    "    \n",
    "    return crisis_manager\n",
    "\n",
    "class AgentBasedSystem(weave.Model):\n",
    "    \"\"\"Complete agent-based system for heat wave crisis management.\"\"\"\n",
    "    name: str = \"Heat Wave Agent-Based Crisis Management System\"\n",
    "    grid_agent: Agent = None\n",
    "    emergency_agent: Agent = None\n",
    "    traffic_agent: Agent = None\n",
    "    crisis_manager: Agent = None\n",
    "    scenario_definition: ScenarioDefinition = HEAT_WAVE_SCENARIO\n",
    "\n",
    "    def __init__(self):\n",
    "        super().__init__()\n",
    "        # Create the crisis manager for coordination\n",
    "        self.crisis_manager = create_crisis_manager_agent()\n",
    "        \n",
    "        # Create specialist agents\n",
    "        self.grid_agent = create_grid_agent(grid_agent_config)\n",
    "        self.emergency_agent = create_emergency_agent(emergency_agent_config)\n",
    "        self.traffic_agent = create_traffic_agent(traffic_agent_config)\n",
    "\n",
    "    @weave.op\n",
    "    def solve_heat_wave_crisis(self, scenario_state: Any = None):\n",
    "        \"\"\"Execute the complete agent system to solve the heat wave crisis.\"\"\"\n",
    "        # Get current scenario state\n",
    "        if scenario_state is None:\n",
    "            scenario_state = self.scenario_definition.initial_state\n",
    "        # Create manager coordination task\n",
    "        coordination_task = Task(\n",
    "            description=f\"\"\"Heat wave crisis requiring coordinated multi-service response.\n",
    "            Scenario: {scenario_state}\n",
    "\n",
    "            Delegate tasks to specialist agents:\n",
    "            \n",
    "            1. Grid Management Specialist:\n",
    "               - Reduce capacity in zones >90% load to 0.8 or lower\n",
    "               - Set all critical infrastructure to 'critical' priority\n",
    "               - Target: 6+ total actions\n",
    "            \n",
    "            2. Emergency Response Coordinator:\n",
    "               - Assign all drones to incidents by urgency priority\n",
    "               - Update incident statuses to track progress\n",
    "               - Target: 6+ total actions\n",
    "            \n",
    "            3. Traffic Management Specialist:\n",
    "               - Redirect traffic in sectors >70% congestion\n",
    "               - Block routes for emergency corridors\n",
    "               - Target: 4+ total actions\n",
    "            \n",
    "            Overall target: 15+ coordinated actions across all services\"\"\",\n",
    "            agent=self.crisis_manager,\n",
    "            expected_output=\"Coordination plan with specific action targets for each specialist\"\n",
    "        )\n",
    "        \n",
    "        # Create specialist tasks\n",
    "        grid_task = create_grid_task(self.grid_agent, grid_task_config)\n",
    "        emergency_task = create_emergency_task(self.emergency_agent, emergency_task_config)\n",
    "        traffic_task = create_traffic_task(self.traffic_agent, traffic_task_config)\n",
    "        \n",
    "        # Create crew with hierarchical process and manager\n",
    "        agent_crew = Crew(\n",
    "            agents=[self.grid_agent, self.emergency_agent, self.traffic_agent],\n",
    "            tasks=[coordination_task, grid_task, emergency_task, traffic_task],\n",
    "            process=Process.hierarchical,\n",
    "            manager_agent=self.crisis_manager,\n",
    "            verbose=False,\n",
    "            max_iter=10,\n",
    "            memory=True\n",
    "        )\n",
    "        \n",
    "        # Execute the crew\n",
    "        return agent_crew.kickoff(inputs={\n",
    "            \"scenario_name\": self.scenario_definition.name,\n",
    "            \"scenario_description\": self.scenario_definition.description\n",
    "        })"
   ]
  },
  {
   "cell_type": "code",
   "execution_count": 68,
   "id": "b945b22a",
   "metadata": {},
   "outputs": [
    {
     "data": {
      "text/html": [
       "<pre style=\"white-space:pre;overflow-x:auto;line-height:normal;font-family:Menlo,'DejaVu Sans Mono',consolas,'Courier New',monospace\"><span style=\"color: #808000; text-decoration-color: #808000\">╭─────────────────────────────────────────────────────────────────────────────────────────────────────────────────╮</span>\n",
       "<span style=\"color: #808000; text-decoration-color: #808000\">│</span> 🤝 Phase 4: Full System Comparison                                                                              <span style=\"color: #808000; text-decoration-color: #808000\">│</span>\n",
       "<span style=\"color: #808000; text-decoration-color: #808000\">╰─────────────────────────────────────────────────────────────────────────────────────────────────────────────────╯</span>\n",
       "</pre>\n"
      ],
      "text/plain": [
       "\u001b[33m╭─────────────────────────────────────────────────────────────────────────────────────────────────────────────────╮\u001b[0m\n",
       "\u001b[33m│\u001b[0m 🤝 Phase 4: Full System Comparison                                                                              \u001b[33m│\u001b[0m\n",
       "\u001b[33m╰─────────────────────────────────────────────────────────────────────────────────────────────────────────────────╯\u001b[0m\n"
      ]
     },
     "metadata": {},
     "output_type": "display_data"
    },
    {
     "data": {
      "text/html": [
       "<pre style=\"white-space:pre;overflow-x:auto;line-height:normal;font-family:Menlo,'DejaVu Sans Mono',consolas,'Courier New',monospace\">\n",
       "📏 Testing Complete Rule-Based System\n",
       "</pre>\n"
      ],
      "text/plain": [
       "\n",
       "📏 Testing Complete Rule-Based System\n"
      ]
     },
     "metadata": {},
     "output_type": "display_data"
    },
    {
     "data": {
      "text/html": [
       "<pre style=\"white-space:pre;overflow-x:auto;line-height:normal;font-family:Menlo,'DejaVu Sans Mono',consolas,'Courier New',monospace\">🎯 Activating scenario: Heat Wave Crisis - Full Rules Test\n",
       "</pre>\n"
      ],
      "text/plain": [
       "🎯 Activating scenario: Heat Wave Crisis - Full Rules Test\n"
      ]
     },
     "metadata": {},
     "output_type": "display_data"
    },
    {
     "data": {
      "text/html": [
       "<pre style=\"white-space:pre;overflow-x:auto;line-height:normal;font-family:Menlo,'DejaVu Sans Mono',consolas,'Courier New',monospace\">🔄 Resetting all service states<span style=\"color: #808000; text-decoration-color: #808000\">...</span>\n",
       "</pre>\n"
      ],
      "text/plain": [
       "🔄 Resetting all service states\u001b[33m...\u001b[0m\n"
      ]
     },
     "metadata": {},
     "output_type": "display_data"
    },
    {
     "data": {
      "text/html": [
       "<pre style=\"white-space:pre;overflow-x:auto;line-height:normal;font-family:Menlo,'DejaVu Sans Mono',consolas,'Courier New',monospace\">  ✅ GRID state reset\n",
       "</pre>\n"
      ],
      "text/plain": [
       "  ✅ GRID state reset\n"
      ]
     },
     "metadata": {},
     "output_type": "display_data"
    },
    {
     "data": {
      "text/html": [
       "<pre style=\"white-space:pre;overflow-x:auto;line-height:normal;font-family:Menlo,'DejaVu Sans Mono',consolas,'Courier New',monospace\">  ✅ EMERGENCY state reset\n",
       "</pre>\n"
      ],
      "text/plain": [
       "  ✅ EMERGENCY state reset\n"
      ]
     },
     "metadata": {},
     "output_type": "display_data"
    },
    {
     "data": {
      "text/html": [
       "<pre style=\"white-space:pre;overflow-x:auto;line-height:normal;font-family:Menlo,'DejaVu Sans Mono',consolas,'Courier New',monospace\">  ✅ TRAFFIC state reset\n",
       "</pre>\n"
      ],
      "text/plain": [
       "  ✅ TRAFFIC state reset\n"
      ]
     },
     "metadata": {},
     "output_type": "display_data"
    },
    {
     "data": {
      "text/html": [
       "<pre style=\"white-space:pre;overflow-x:auto;line-height:normal;font-family:Menlo,'DejaVu Sans Mono',consolas,'Courier New',monospace\">  ✅ SCENARIO state reset\n",
       "</pre>\n"
      ],
      "text/plain": [
       "  ✅ SCENARIO state reset\n"
      ]
     },
     "metadata": {},
     "output_type": "display_data"
    },
    {
     "data": {
      "text/html": [
       "<pre style=\"white-space:pre;overflow-x:auto;line-height:normal;font-family:Menlo,'DejaVu Sans Mono',consolas,'Courier New',monospace\">  📋 Scenario created with ID: <span style=\"color: #ffff00; text-decoration-color: #ffff00\">076d40e0-4b9a-442a-afa0-2de0b112cf39</span>\n",
       "</pre>\n"
      ],
      "text/plain": [
       "  📋 Scenario created with ID: \u001b[93m076d40e0-4b9a-442a-afa0-2de0b112cf39\u001b[0m\n"
      ]
     },
     "metadata": {},
     "output_type": "display_data"
    },
    {
     "data": {
      "text/html": [
       "<pre style=\"white-space:pre;overflow-x:auto;line-height:normal;font-family:Menlo,'DejaVu Sans Mono',consolas,'Courier New',monospace\">  ✅ Scenario <span style=\"color: #008000; text-decoration-color: #008000\">'Heat Wave Crisis - Full Rules Test'</span> activated successfully\n",
       "</pre>\n"
      ],
      "text/plain": [
       "  ✅ Scenario \u001b[32m'Heat Wave Crisis - Full Rules Test'\u001b[0m activated successfully\n"
      ]
     },
     "metadata": {},
     "output_type": "display_data"
    },
    {
     "data": {
      "text/html": [
       "<pre style=\"white-space:pre;overflow-x:auto;line-height:normal;font-family:Menlo,'DejaVu Sans Mono',consolas,'Courier New',monospace\">    ✅ GRID: State initialized\n",
       "</pre>\n"
      ],
      "text/plain": [
       "    ✅ GRID: State initialized\n"
      ]
     },
     "metadata": {},
     "output_type": "display_data"
    },
    {
     "data": {
      "text/html": [
       "<pre style=\"white-space:pre;overflow-x:auto;line-height:normal;font-family:Menlo,'DejaVu Sans Mono',consolas,'Courier New',monospace\">    ✅ EMERGENCY: State initialized\n",
       "</pre>\n"
      ],
      "text/plain": [
       "    ✅ EMERGENCY: State initialized\n"
      ]
     },
     "metadata": {},
     "output_type": "display_data"
    },
    {
     "data": {
      "text/html": [
       "<pre style=\"white-space:pre;overflow-x:auto;line-height:normal;font-family:Menlo,'DejaVu Sans Mono',consolas,'Courier New',monospace\">    ✅ TRAFFIC: State initialized\n",
       "</pre>\n"
      ],
      "text/plain": [
       "    ✅ TRAFFIC: State initialized\n"
      ]
     },
     "metadata": {},
     "output_type": "display_data"
    },
    {
     "data": {
      "text/html": [
       "<pre style=\"white-space:pre;overflow-x:auto;line-height:normal;font-family:Menlo,'DejaVu Sans Mono',consolas,'Courier New',monospace\">🎯 Applying Complete Heat Wave Rule-Based System<span style=\"color: #808000; text-decoration-color: #808000\">...</span>\n",
       "</pre>\n"
      ],
      "text/plain": [
       "🎯 Applying Complete Heat Wave Rule-Based System\u001b[33m...\u001b[0m\n"
      ]
     },
     "metadata": {},
     "output_type": "display_data"
    },
    {
     "data": {
      "text/html": [
       "<pre style=\"white-space:pre;overflow-x:auto;line-height:normal;font-family:Menlo,'DejaVu Sans Mono',consolas,'Courier New',monospace\">🎯 Applying Simple Grid Heat Wave Rules<span style=\"color: #808000; text-decoration-color: #808000\">...</span>\n",
       "</pre>\n"
      ],
      "text/plain": [
       "🎯 Applying Simple Grid Heat Wave Rules\u001b[33m...\u001b[0m\n"
      ]
     },
     "metadata": {},
     "output_type": "display_data"
    },
    {
     "data": {
      "text/html": [
       "<pre style=\"white-space:pre;overflow-x:auto;line-height:normal;font-family:Menlo,'DejaVu Sans Mono',consolas,'Courier New',monospace\">  ⚡ Simple Rule: Reducing Z001 capacity <span style=\"font-weight: bold\">(</span>load: <span style=\"color: #008080; text-decoration-color: #008080; font-weight: bold\">98.0</span>%<span style=\"font-weight: bold\">)</span>\n",
       "</pre>\n"
      ],
      "text/plain": [
       "  ⚡ Simple Rule: Reducing Z001 capacity \u001b[1m(\u001b[0mload: \u001b[1;36m98.0\u001b[0m%\u001b[1m)\u001b[0m\n"
      ]
     },
     "metadata": {},
     "output_type": "display_data"
    },
    {
     "data": {
      "text/html": [
       "<pre style=\"white-space:pre;overflow-x:auto;line-height:normal;font-family:Menlo,'DejaVu Sans Mono',consolas,'Courier New',monospace\">🎯 Applying Simple Emergency Heat Wave Rules<span style=\"color: #808000; text-decoration-color: #808000\">...</span>\n",
       "</pre>\n"
      ],
      "text/plain": [
       "🎯 Applying Simple Emergency Heat Wave Rules\u001b[33m...\u001b[0m\n"
      ]
     },
     "metadata": {},
     "output_type": "display_data"
    },
    {
     "data": {
      "text/html": [
       "<pre style=\"white-space:pre;overflow-x:auto;line-height:normal;font-family:Menlo,'DejaVu Sans Mono',consolas,'Courier New',monospace\">  🚁 Simple Rule: D001 → E-<span style=\"color: #008080; text-decoration-color: #008080; font-weight: bold\">1001</span> <span style=\"font-weight: bold\">(</span>urgency: <span style=\"color: #008080; text-decoration-color: #008080; font-weight: bold\">99.0</span>%<span style=\"font-weight: bold\">)</span>\n",
       "</pre>\n"
      ],
      "text/plain": [
       "  🚁 Simple Rule: D001 → E-\u001b[1;36m1001\u001b[0m \u001b[1m(\u001b[0murgency: \u001b[1;36m99.0\u001b[0m%\u001b[1m)\u001b[0m\n"
      ]
     },
     "metadata": {},
     "output_type": "display_data"
    },
    {
     "data": {
      "text/html": [
       "<pre style=\"white-space:pre;overflow-x:auto;line-height:normal;font-family:Menlo,'DejaVu Sans Mono',consolas,'Courier New',monospace\">🎯 Applying Simple Traffic Heat Wave Rules<span style=\"color: #808000; text-decoration-color: #808000\">...</span>\n",
       "</pre>\n"
      ],
      "text/plain": [
       "🎯 Applying Simple Traffic Heat Wave Rules\u001b[33m...\u001b[0m\n"
      ]
     },
     "metadata": {},
     "output_type": "display_data"
    },
    {
     "data": {
      "text/html": [
       "<pre style=\"white-space:pre;overflow-x:auto;line-height:normal;font-family:Menlo,'DejaVu Sans Mono',consolas,'Courier New',monospace\">  🚦 Simple Rule: Redirect S001 <span style=\"font-weight: bold\">(</span>congestion: <span style=\"color: #008080; text-decoration-color: #008080; font-weight: bold\">90.0</span>%<span style=\"font-weight: bold\">)</span>\n",
       "</pre>\n"
      ],
      "text/plain": [
       "  🚦 Simple Rule: Redirect S001 \u001b[1m(\u001b[0mcongestion: \u001b[1;36m90.0\u001b[0m%\u001b[1m)\u001b[0m\n"
      ]
     },
     "metadata": {},
     "output_type": "display_data"
    },
    {
     "name": "stderr",
     "output_type": "stream",
     "text": [
      "INFO:command:Executing adjust_zone on ServiceType.GRID service\n"
     ]
    },
    {
     "data": {
      "text/html": [
       "<pre style=\"white-space:pre;overflow-x:auto;line-height:normal;font-family:Menlo,'DejaVu Sans Mono',consolas,'Courier New',monospace\">  ✅ SUCCESS: grid.adjust_zone\n",
       "</pre>\n"
      ],
      "text/plain": [
       "  ✅ SUCCESS: grid.adjust_zone\n"
      ]
     },
     "metadata": {},
     "output_type": "display_data"
    },
    {
     "name": "stderr",
     "output_type": "stream",
     "text": [
      "INFO:command:Executing assign_drone on ServiceType.EMERGENCY service\n"
     ]
    },
    {
     "data": {
      "text/html": [
       "<pre style=\"white-space:pre;overflow-x:auto;line-height:normal;font-family:Menlo,'DejaVu Sans Mono',consolas,'Courier New',monospace\">  ✅ SUCCESS: emergency.assign_drone\n",
       "</pre>\n"
      ],
      "text/plain": [
       "  ✅ SUCCESS: emergency.assign_drone\n"
      ]
     },
     "metadata": {},
     "output_type": "display_data"
    },
    {
     "name": "stderr",
     "output_type": "stream",
     "text": [
      "INFO:command:Executing redirect on ServiceType.TRAFFIC service\n"
     ]
    },
    {
     "data": {
      "text/html": [
       "<pre style=\"white-space:pre;overflow-x:auto;line-height:normal;font-family:Menlo,'DejaVu Sans Mono',consolas,'Courier New',monospace\">  ✅ SUCCESS: traffic.redirect\n",
       "</pre>\n"
      ],
      "text/plain": [
       "  ✅ SUCCESS: traffic.redirect\n"
      ]
     },
     "metadata": {},
     "output_type": "display_data"
    },
    {
     "data": {
      "text/html": [
       "<pre style=\"white-space:pre;overflow-x:auto;line-height:normal;font-family:Menlo,'DejaVu Sans Mono',consolas,'Courier New',monospace\">\n",
       "📏 Command <span style=\"color: #008080; text-decoration-color: #008080; font-weight: bold\">1</span>: Simple Rule: Reduce Z001 capacity slightly for extreme overload <span style=\"font-weight: bold\">(</span>current: <span style=\"color: #008080; text-decoration-color: #008080; font-weight: bold\">98.0</span>%<span style=\"font-weight: bold\">)</span>\n",
       "</pre>\n"
      ],
      "text/plain": [
       "\n",
       "📏 Command \u001b[1;36m1\u001b[0m: Simple Rule: Reduce Z001 capacity slightly for extreme overload \u001b[1m(\u001b[0mcurrent: \u001b[1;36m98.0\u001b[0m%\u001b[1m)\u001b[0m\n"
      ]
     },
     "metadata": {},
     "output_type": "display_data"
    },
    {
     "name": "stderr",
     "output_type": "stream",
     "text": [
      "INFO:command:Executing adjust_zone on ServiceType.GRID service\n"
     ]
    },
    {
     "data": {
      "text/html": [
       "<pre style=\"white-space:pre;overflow-x:auto;line-height:normal;font-family:Menlo,'DejaVu Sans Mono',consolas,'Courier New',monospace\">  ✅ SUCCESS: grid.adjust_zone\n",
       "</pre>\n"
      ],
      "text/plain": [
       "  ✅ SUCCESS: grid.adjust_zone\n"
      ]
     },
     "metadata": {},
     "output_type": "display_data"
    },
    {
     "data": {
      "text/html": [
       "<pre style=\"white-space:pre;overflow-x:auto;line-height:normal;font-family:Menlo,'DejaVu Sans Mono',consolas,'Courier New',monospace\">\n",
       "📏 Command <span style=\"color: #008080; text-decoration-color: #008080; font-weight: bold\">2</span>: Simple Rule: Assign D001 to most urgent incident E-<span style=\"color: #008080; text-decoration-color: #008080; font-weight: bold\">1001</span> <span style=\"font-weight: bold\">(</span>urgency: <span style=\"color: #008080; text-decoration-color: #008080; font-weight: bold\">99.0</span>%<span style=\"font-weight: bold\">)</span>\n",
       "</pre>\n"
      ],
      "text/plain": [
       "\n",
       "📏 Command \u001b[1;36m2\u001b[0m: Simple Rule: Assign D001 to most urgent incident E-\u001b[1;36m1001\u001b[0m \u001b[1m(\u001b[0murgency: \u001b[1;36m99.0\u001b[0m%\u001b[1m)\u001b[0m\n"
      ]
     },
     "metadata": {},
     "output_type": "display_data"
    },
    {
     "name": "stderr",
     "output_type": "stream",
     "text": [
      "INFO:command:Executing assign_drone on ServiceType.EMERGENCY service\n",
      "ERROR:command:Command failed: 400 - {'detail': 'Drone D001 is not available (current status: DroneStatus.ASSIGNED)'}\n",
      "ERROR:command:Request details: POST http://localhost:8003/emergency/drones/D001/assign\n",
      "ERROR:command:Request data: {'incident_id': 'E-1001'}\n"
     ]
    },
    {
     "data": {
      "text/html": [
       "<pre style=\"white-space:pre;overflow-x:auto;line-height:normal;font-family:Menlo,'DejaVu Sans Mono',consolas,'Courier New',monospace\">  ❌ FAILED: emergency.assign_drone\n",
       "</pre>\n"
      ],
      "text/plain": [
       "  ❌ FAILED: emergency.assign_drone\n"
      ]
     },
     "metadata": {},
     "output_type": "display_data"
    },
    {
     "data": {
      "text/html": [
       "<pre style=\"white-space:pre;overflow-x:auto;line-height:normal;font-family:Menlo,'DejaVu Sans Mono',consolas,'Courier New',monospace\">    Error: <span style=\"color: #008080; text-decoration-color: #008080; font-weight: bold\">400</span> - <span style=\"font-weight: bold\">{</span><span style=\"color: #008000; text-decoration-color: #008000\">'detail'</span>: <span style=\"color: #008000; text-decoration-color: #008000\">'Drone D001 is not available (current status: DroneStatus.ASSIGNED)'</span><span style=\"font-weight: bold\">}</span>\n",
       "</pre>\n"
      ],
      "text/plain": [
       "    Error: \u001b[1;36m400\u001b[0m - \u001b[1m{\u001b[0m\u001b[32m'detail'\u001b[0m: \u001b[32m'Drone D001 is not available \u001b[0m\u001b[32m(\u001b[0m\u001b[32mcurrent status: DroneStatus.ASSIGNED\u001b[0m\u001b[32m)\u001b[0m\u001b[32m'\u001b[0m\u001b[1m}\u001b[0m\n"
      ]
     },
     "metadata": {},
     "output_type": "display_data"
    },
    {
     "data": {
      "text/html": [
       "<pre style=\"white-space:pre;overflow-x:auto;line-height:normal;font-family:Menlo,'DejaVu Sans Mono',consolas,'Courier New',monospace\">\n",
       "📏 Command <span style=\"color: #008080; text-decoration-color: #008080; font-weight: bold\">3</span>: Simple Rule: Redirect S001 due to extreme congestion <span style=\"font-weight: bold\">(</span><span style=\"color: #008080; text-decoration-color: #008080; font-weight: bold\">90.0</span>%<span style=\"font-weight: bold\">)</span>\n",
       "</pre>\n"
      ],
      "text/plain": [
       "\n",
       "📏 Command \u001b[1;36m3\u001b[0m: Simple Rule: Redirect S001 due to extreme congestion \u001b[1m(\u001b[0m\u001b[1;36m90.0\u001b[0m%\u001b[1m)\u001b[0m\n"
      ]
     },
     "metadata": {},
     "output_type": "display_data"
    },
    {
     "name": "stderr",
     "output_type": "stream",
     "text": [
      "INFO:command:Executing redirect on ServiceType.TRAFFIC service\n"
     ]
    },
    {
     "data": {
      "text/html": [
       "<pre style=\"white-space:pre;overflow-x:auto;line-height:normal;font-family:Menlo,'DejaVu Sans Mono',consolas,'Courier New',monospace\">  ✅ SUCCESS: traffic.redirect\n",
       "</pre>\n"
      ],
      "text/plain": [
       "  ✅ SUCCESS: traffic.redirect\n"
      ]
     },
     "metadata": {},
     "output_type": "display_data"
    },
    {
     "data": {
      "text/html": [
       "<pre style=\"white-space:pre;overflow-x:auto;line-height:normal;font-family:Menlo,'DejaVu Sans Mono',consolas,'Courier New',monospace\">📊 Evaluating rule-based system with same method as agents<span style=\"color: #808000; text-decoration-color: #808000\">...</span>\n",
       "</pre>\n"
      ],
      "text/plain": [
       "📊 Evaluating rule-based system with same method as agents\u001b[33m...\u001b[0m\n"
      ]
     },
     "metadata": {},
     "output_type": "display_data"
    },
    {
     "name": "stderr",
     "output_type": "stream",
     "text": [
      "INFO:command_evaluator:Command grid.adjust_zone matches optimal command\n",
      "INFO:command_evaluator:Command emergency.assign_drone matches optimal command\n",
      "INFO:command_evaluator:Evaluation complete - Overall score: 0.41\n"
     ]
    },
    {
     "data": {
      "text/html": [
       "<pre style=\"white-space:pre;overflow-x:auto;line-height:normal;font-family:Menlo,'DejaVu Sans Mono',consolas,'Courier New',monospace\"><span style=\"color: #000080; text-decoration-color: #000080\">╭───────────────────────────────────────── Rule-Based System Performance ─────────────────────────────────────────╮</span>\n",
       "<span style=\"color: #000080; text-decoration-color: #000080\">│</span> 📏 **Complete Rule-Based System Results**                                                                       <span style=\"color: #000080; text-decoration-color: #000080\">│</span>\n",
       "<span style=\"color: #000080; text-decoration-color: #000080\">│</span>                                                                                                                 <span style=\"color: #000080; text-decoration-color: #000080\">│</span>\n",
       "<span style=\"color: #000080; text-decoration-color: #000080\">│</span> Success Rate: 40.7% (using same evaluator as agents)                                                            <span style=\"color: #000080; text-decoration-color: #000080\">│</span>\n",
       "<span style=\"color: #000080; text-decoration-color: #000080\">│</span> Total Commands: 3                                                                                               <span style=\"color: #000080; text-decoration-color: #000080\">│</span>\n",
       "<span style=\"color: #000080; text-decoration-color: #000080\">│</span> Characteristics: Fast, deterministic, heat wave specific                                                        <span style=\"color: #000080; text-decoration-color: #000080\">│</span>\n",
       "<span style=\"color: #000080; text-decoration-color: #000080\">╰─────────────────────────────────────────────────────────────────────────────────────────────────────────────────╯</span>\n",
       "</pre>\n"
      ],
      "text/plain": [
       "\u001b[34m╭─\u001b[0m\u001b[34m────────────────────────────────────────\u001b[0m\u001b[34m Rule-Based System Performance \u001b[0m\u001b[34m────────────────────────────────────────\u001b[0m\u001b[34m─╮\u001b[0m\n",
       "\u001b[34m│\u001b[0m 📏 **Complete Rule-Based System Results**                                                                       \u001b[34m│\u001b[0m\n",
       "\u001b[34m│\u001b[0m                                                                                                                 \u001b[34m│\u001b[0m\n",
       "\u001b[34m│\u001b[0m Success Rate: 40.7% (using same evaluator as agents)                                                            \u001b[34m│\u001b[0m\n",
       "\u001b[34m│\u001b[0m Total Commands: 3                                                                                               \u001b[34m│\u001b[0m\n",
       "\u001b[34m│\u001b[0m Characteristics: Fast, deterministic, heat wave specific                                                        \u001b[34m│\u001b[0m\n",
       "\u001b[34m╰─────────────────────────────────────────────────────────────────────────────────────────────────────────────────╯\u001b[0m\n"
      ]
     },
     "metadata": {},
     "output_type": "display_data"
    }
   ],
   "source": [
    "# Test Complete Systems\n",
    "console.print(Panel(\"🤝 Phase 4: Full System Comparison\", border_style=\"yellow\"))\n",
    "\n",
    "# Test 1: Complete Rule-Based System\n",
    "console.print(\"\\n📏 Testing Complete Rule-Based System\")\n",
    "activate_scenario(HEAT_WAVE_SCENARIO, \"Heat Wave Crisis - Full Rules Test\")\n",
    "\n",
    "rule_based_system = HeatWaveRuleBasedSystem()\n",
    "rule_commands, rule_success_rate = rule_based_system.solve_heat_wave_crisis()\n",
    "rule_success_rate = execute_rule_commands(rule_commands)\n",
    "\n",
    "console.print(\"📊 Evaluating rule-based system with same method as agents...\")\n",
    "rule_command_dicts = []\n",
    "for cmd in rule_commands:\n",
    "    rule_command_dicts.append({\n",
    "        \"service\": cmd[\"service\"],\n",
    "        \"action\": cmd[\"action\"],\n",
    "        \"parameters\": cmd.get(\"parameters\", {}),\n",
    "        \"success\": True  # Assume executed successfully (like agents)\n",
    "    })\n",
    "\n",
    "rule_evaluation = evaluate_scenario_commands(\n",
    "    commands=rule_command_dicts,\n",
    "    scenario_type=ScenarioType.GRID_SURGE,\n",
    "    current_state=get_system_status(),\n",
    "    scenario_definition=HEAT_WAVE_SCENARIO\n",
    ")\n",
    "rule_success_rate = rule_evaluation.get('overall_score', rule_success_rate)\n",
    "\n",
    "console.print(Panel(\n",
    "    f\"📏 **Complete Rule-Based System Results**\\n\\n\"\n",
    "    f\"Success Rate: {rule_success_rate:.1%} (using same evaluator as agents)\\n\"\n",
    "    f\"Total Commands: {len(rule_commands)}\\n\"\n",
    "    f\"Characteristics: Fast, deterministic, heat wave specific\",\n",
    "    title=\"Rule-Based System Performance\",\n",
    "    border_style=\"blue\"\n",
    "))"
   ]
  },
  {
   "cell_type": "code",
   "execution_count": 69,
   "id": "738ccf94",
   "metadata": {
    "lines_to_next_cell": 1
   },
   "outputs": [
    {
     "data": {
      "text/html": [
       "<pre style=\"white-space:pre;overflow-x:auto;line-height:normal;font-family:Menlo,'DejaVu Sans Mono',consolas,'Courier New',monospace\">\n",
       "🤖 Testing Complete Agent System\n",
       "</pre>\n"
      ],
      "text/plain": [
       "\n",
       "🤖 Testing Complete Agent System\n"
      ]
     },
     "metadata": {},
     "output_type": "display_data"
    },
    {
     "data": {
      "text/html": [
       "<pre style=\"white-space:pre;overflow-x:auto;line-height:normal;font-family:Menlo,'DejaVu Sans Mono',consolas,'Courier New',monospace\">🎯 Activating scenario: Heat Wave Crisis - Full Agent Test\n",
       "</pre>\n"
      ],
      "text/plain": [
       "🎯 Activating scenario: Heat Wave Crisis - Full Agent Test\n"
      ]
     },
     "metadata": {},
     "output_type": "display_data"
    },
    {
     "data": {
      "text/html": [
       "<pre style=\"white-space:pre;overflow-x:auto;line-height:normal;font-family:Menlo,'DejaVu Sans Mono',consolas,'Courier New',monospace\">🔄 Resetting all service states<span style=\"color: #808000; text-decoration-color: #808000\">...</span>\n",
       "</pre>\n"
      ],
      "text/plain": [
       "🔄 Resetting all service states\u001b[33m...\u001b[0m\n"
      ]
     },
     "metadata": {},
     "output_type": "display_data"
    },
    {
     "data": {
      "text/html": [
       "<pre style=\"white-space:pre;overflow-x:auto;line-height:normal;font-family:Menlo,'DejaVu Sans Mono',consolas,'Courier New',monospace\">  ✅ GRID state reset\n",
       "</pre>\n"
      ],
      "text/plain": [
       "  ✅ GRID state reset\n"
      ]
     },
     "metadata": {},
     "output_type": "display_data"
    },
    {
     "data": {
      "text/html": [
       "<pre style=\"white-space:pre;overflow-x:auto;line-height:normal;font-family:Menlo,'DejaVu Sans Mono',consolas,'Courier New',monospace\">  ✅ EMERGENCY state reset\n",
       "</pre>\n"
      ],
      "text/plain": [
       "  ✅ EMERGENCY state reset\n"
      ]
     },
     "metadata": {},
     "output_type": "display_data"
    },
    {
     "data": {
      "text/html": [
       "<pre style=\"white-space:pre;overflow-x:auto;line-height:normal;font-family:Menlo,'DejaVu Sans Mono',consolas,'Courier New',monospace\">  ✅ TRAFFIC state reset\n",
       "</pre>\n"
      ],
      "text/plain": [
       "  ✅ TRAFFIC state reset\n"
      ]
     },
     "metadata": {},
     "output_type": "display_data"
    },
    {
     "data": {
      "text/html": [
       "<pre style=\"white-space:pre;overflow-x:auto;line-height:normal;font-family:Menlo,'DejaVu Sans Mono',consolas,'Courier New',monospace\">  ✅ SCENARIO state reset\n",
       "</pre>\n"
      ],
      "text/plain": [
       "  ✅ SCENARIO state reset\n"
      ]
     },
     "metadata": {},
     "output_type": "display_data"
    },
    {
     "data": {
      "text/html": [
       "<pre style=\"white-space:pre;overflow-x:auto;line-height:normal;font-family:Menlo,'DejaVu Sans Mono',consolas,'Courier New',monospace\">  📋 Scenario created with ID: <span style=\"color: #ffff00; text-decoration-color: #ffff00\">25a433b4-ec2c-4cb8-943c-4d00b2e989f3</span>\n",
       "</pre>\n"
      ],
      "text/plain": [
       "  📋 Scenario created with ID: \u001b[93m25a433b4-ec2c-4cb8-943c-4d00b2e989f3\u001b[0m\n"
      ]
     },
     "metadata": {},
     "output_type": "display_data"
    },
    {
     "data": {
      "text/html": [
       "<pre style=\"white-space:pre;overflow-x:auto;line-height:normal;font-family:Menlo,'DejaVu Sans Mono',consolas,'Courier New',monospace\">  ✅ Scenario <span style=\"color: #008000; text-decoration-color: #008000\">'Heat Wave Crisis - Full Agent Test'</span> activated successfully\n",
       "</pre>\n"
      ],
      "text/plain": [
       "  ✅ Scenario \u001b[32m'Heat Wave Crisis - Full Agent Test'\u001b[0m activated successfully\n"
      ]
     },
     "metadata": {},
     "output_type": "display_data"
    },
    {
     "data": {
      "text/html": [
       "<pre style=\"white-space:pre;overflow-x:auto;line-height:normal;font-family:Menlo,'DejaVu Sans Mono',consolas,'Courier New',monospace\">    ✅ GRID: State initialized\n",
       "</pre>\n"
      ],
      "text/plain": [
       "    ✅ GRID: State initialized\n"
      ]
     },
     "metadata": {},
     "output_type": "display_data"
    },
    {
     "data": {
      "text/html": [
       "<pre style=\"white-space:pre;overflow-x:auto;line-height:normal;font-family:Menlo,'DejaVu Sans Mono',consolas,'Courier New',monospace\">    ✅ EMERGENCY: State initialized\n",
       "</pre>\n"
      ],
      "text/plain": [
       "    ✅ EMERGENCY: State initialized\n"
      ]
     },
     "metadata": {},
     "output_type": "display_data"
    },
    {
     "data": {
      "text/html": [
       "<pre style=\"white-space:pre;overflow-x:auto;line-height:normal;font-family:Menlo,'DejaVu Sans Mono',consolas,'Courier New',monospace\">    ✅ TRAFFIC: State initialized\n",
       "</pre>\n"
      ],
      "text/plain": [
       "    ✅ TRAFFIC: State initialized\n"
      ]
     },
     "metadata": {},
     "output_type": "display_data"
    },
    {
     "name": "stderr",
     "output_type": "stream",
     "text": [
      "INFO:chromadb.telemetry.product.posthog:Anonymized telemetry enabled. See                     https://docs.trychroma.com/telemetry for more information.\n",
      "INFO:chromadb.telemetry.product.posthog:Anonymized telemetry enabled. See                     https://docs.trychroma.com/telemetry for more information.\n",
      "/Users/anishshah/Documents/Manual Library/GitHub/fc-workshop-track-2/.venv/lib/python3.11/site-packages/httpx/_urls.py:408: UserWarning: URL.raw is deprecated.\n",
      "  warnings.warn(\"URL.raw is deprecated.\")\n",
      "/Users/anishshah/Documents/Manual Library/GitHub/fc-workshop-track-2/.venv/lib/python3.11/site-packages/httpx/_urls.py:408: UserWarning: URL.raw is deprecated.\n",
      "  warnings.warn(\"URL.raw is deprecated.\")\n",
      "/Users/anishshah/Documents/Manual Library/GitHub/fc-workshop-track-2/.venv/lib/python3.11/site-packages/httpx/_urls.py:408: UserWarning: URL.raw is deprecated.\n",
      "  warnings.warn(\"URL.raw is deprecated.\")\n",
      "/Users/anishshah/Documents/Manual Library/GitHub/fc-workshop-track-2/.venv/lib/python3.11/site-packages/httpx/_urls.py:408: UserWarning: URL.raw is deprecated.\n",
      "  warnings.warn(\"URL.raw is deprecated.\")\n",
      "INFO:command:Executing assign_drone on ServiceType.EMERGENCY service\n"
     ]
    },
    {
     "data": {
      "text/html": [
       "<pre style=\"white-space:pre;overflow-x:auto;line-height:normal;font-family:Menlo,'DejaVu Sans Mono',consolas,'Courier New',monospace\">🚁 Drone: D001 → E-<span style=\"color: #008080; text-decoration-color: #008080; font-weight: bold\">1001</span> <span style=\"font-weight: bold\">(</span>High priority hospital incident in Zone Z001<span style=\"font-weight: bold\">)</span> - SUCCESS\n",
       "</pre>\n"
      ],
      "text/plain": [
       "🚁 Drone: D001 → E-\u001b[1;36m1001\u001b[0m \u001b[1m(\u001b[0mHigh priority hospital incident in Zone Z001\u001b[1m)\u001b[0m - SUCCESS\n"
      ]
     },
     "metadata": {},
     "output_type": "display_data"
    },
    {
     "name": "stderr",
     "output_type": "stream",
     "text": [
      "INFO:command:Executing assign_drone on ServiceType.EMERGENCY service\n"
     ]
    },
    {
     "data": {
      "text/html": [
       "<pre style=\"white-space:pre;overflow-x:auto;line-height:normal;font-family:Menlo,'DejaVu Sans Mono',consolas,'Courier New',monospace\">🚁 Drone: D002 → E-<span style=\"color: #008080; text-decoration-color: #008080; font-weight: bold\">1002</span> <span style=\"font-weight: bold\">(</span>Heat strokes emergency in Zone Z002<span style=\"font-weight: bold\">)</span> - SUCCESS\n",
       "</pre>\n"
      ],
      "text/plain": [
       "🚁 Drone: D002 → E-\u001b[1;36m1002\u001b[0m \u001b[1m(\u001b[0mHeat strokes emergency in Zone Z002\u001b[1m)\u001b[0m - SUCCESS\n"
      ]
     },
     "metadata": {},
     "output_type": "display_data"
    },
    {
     "name": "stderr",
     "output_type": "stream",
     "text": [
      "INFO:command:Executing assign_drone on ServiceType.EMERGENCY service\n"
     ]
    },
    {
     "data": {
      "text/html": [
       "<pre style=\"white-space:pre;overflow-x:auto;line-height:normal;font-family:Menlo,'DejaVu Sans Mono',consolas,'Courier New',monospace\">🚁 Drone: D003 → E-<span style=\"color: #008080; text-decoration-color: #008080; font-weight: bold\">1003</span> <span style=\"font-weight: bold\">(</span>Electrical fire in Zone Z001<span style=\"font-weight: bold\">)</span> - SUCCESS\n",
       "</pre>\n"
      ],
      "text/plain": [
       "🚁 Drone: D003 → E-\u001b[1;36m1003\u001b[0m \u001b[1m(\u001b[0mElectrical fire in Zone Z001\u001b[1m)\u001b[0m - SUCCESS\n"
      ]
     },
     "metadata": {},
     "output_type": "display_data"
    },
    {
     "name": "stderr",
     "output_type": "stream",
     "text": [
      "INFO:command:Executing assign_drone on ServiceType.EMERGENCY service\n"
     ]
    },
    {
     "data": {
      "text/html": [
       "<pre style=\"white-space:pre;overflow-x:auto;line-height:normal;font-family:Menlo,'DejaVu Sans Mono',consolas,'Courier New',monospace\">🚁 Drone: D004 → E-<span style=\"color: #008080; text-decoration-color: #008080; font-weight: bold\">1004</span> <span style=\"font-weight: bold\">(</span>AC failure in Zone Z002 impacting multiple victims<span style=\"font-weight: bold\">)</span> - SUCCESS\n",
       "</pre>\n"
      ],
      "text/plain": [
       "🚁 Drone: D004 → E-\u001b[1;36m1004\u001b[0m \u001b[1m(\u001b[0mAC failure in Zone Z002 impacting multiple victims\u001b[1m)\u001b[0m - SUCCESS\n"
      ]
     },
     "metadata": {},
     "output_type": "display_data"
    },
    {
     "name": "stderr",
     "output_type": "stream",
     "text": [
      "INFO:command:Executing update_incident on ServiceType.EMERGENCY service\n"
     ]
    },
    {
     "data": {
      "text/html": [
       "<pre style=\"white-space:pre;overflow-x:auto;line-height:normal;font-family:Menlo,'DejaVu Sans Mono',consolas,'Courier New',monospace\">🚨 Incident: E-<span style=\"color: #008080; text-decoration-color: #008080; font-weight: bold\">1001</span> → assigned <span style=\"font-weight: bold\">(</span>Drone D001 assigned to assist hospital under heat wave pressure<span style=\"font-weight: bold\">)</span> - SUCCESS\n",
       "</pre>\n"
      ],
      "text/plain": [
       "🚨 Incident: E-\u001b[1;36m1001\u001b[0m → assigned \u001b[1m(\u001b[0mDrone D001 assigned to assist hospital under heat wave pressure\u001b[1m)\u001b[0m - SUCCESS\n"
      ]
     },
     "metadata": {},
     "output_type": "display_data"
    },
    {
     "name": "stderr",
     "output_type": "stream",
     "text": [
      "INFO:command:Executing update_incident on ServiceType.EMERGENCY service\n"
     ]
    },
    {
     "data": {
      "text/html": [
       "<pre style=\"white-space:pre;overflow-x:auto;line-height:normal;font-family:Menlo,'DejaVu Sans Mono',consolas,'Courier New',monospace\">🚨 Incident: E-<span style=\"color: #008080; text-decoration-color: #008080; font-weight: bold\">1002</span> → assigned <span style=\"font-weight: bold\">(</span>Drone D002 en route for heat stroke emergencies<span style=\"font-weight: bold\">)</span> - SUCCESS\n",
       "</pre>\n"
      ],
      "text/plain": [
       "🚨 Incident: E-\u001b[1;36m1002\u001b[0m → assigned \u001b[1m(\u001b[0mDrone D002 en route for heat stroke emergencies\u001b[1m)\u001b[0m - SUCCESS\n"
      ]
     },
     "metadata": {},
     "output_type": "display_data"
    },
    {
     "name": "stderr",
     "output_type": "stream",
     "text": [
      "INFO:command:Executing update_incident on ServiceType.EMERGENCY service\n"
     ]
    },
    {
     "data": {
      "text/html": [
       "<pre style=\"white-space:pre;overflow-x:auto;line-height:normal;font-family:Menlo,'DejaVu Sans Mono',consolas,'Courier New',monospace\">🚨 Incident: E-<span style=\"color: #008080; text-decoration-color: #008080; font-weight: bold\">1003</span> → assigned <span style=\"font-weight: bold\">(</span>Drone D003 dispatched to electrical fire<span style=\"font-weight: bold\">)</span> - SUCCESS\n",
       "</pre>\n"
      ],
      "text/plain": [
       "🚨 Incident: E-\u001b[1;36m1003\u001b[0m → assigned \u001b[1m(\u001b[0mDrone D003 dispatched to electrical fire\u001b[1m)\u001b[0m - SUCCESS\n"
      ]
     },
     "metadata": {},
     "output_type": "display_data"
    },
    {
     "name": "stderr",
     "output_type": "stream",
     "text": [
      "INFO:command:Executing update_incident on ServiceType.EMERGENCY service\n"
     ]
    },
    {
     "data": {
      "text/html": [
       "<pre style=\"white-space:pre;overflow-x:auto;line-height:normal;font-family:Menlo,'DejaVu Sans Mono',consolas,'Courier New',monospace\">🚨 Incident: E-<span style=\"color: #008080; text-decoration-color: #008080; font-weight: bold\">1004</span> → assigned <span style=\"font-weight: bold\">(</span>Drone D004 assigned to manage AC failure effects<span style=\"font-weight: bold\">)</span> - SUCCESS\n",
       "</pre>\n"
      ],
      "text/plain": [
       "🚨 Incident: E-\u001b[1;36m1004\u001b[0m → assigned \u001b[1m(\u001b[0mDrone D004 assigned to manage AC failure effects\u001b[1m)\u001b[0m - SUCCESS\n"
      ]
     },
     "metadata": {},
     "output_type": "display_data"
    },
    {
     "name": "stderr",
     "output_type": "stream",
     "text": [
      "/Users/anishshah/Documents/Manual Library/GitHub/fc-workshop-track-2/.venv/lib/python3.11/site-packages/httpx/_urls.py:408: UserWarning: URL.raw is deprecated.\n",
      "  warnings.warn(\"URL.raw is deprecated.\")\n",
      "/Users/anishshah/Documents/Manual Library/GitHub/fc-workshop-track-2/.venv/lib/python3.11/site-packages/httpx/_urls.py:408: UserWarning: URL.raw is deprecated.\n",
      "  warnings.warn(\"URL.raw is deprecated.\")\n",
      "INFO:command:Executing redirect on ServiceType.TRAFFIC service\n"
     ]
    },
    {
     "data": {
      "text/html": [
       "<pre style=\"white-space:pre;overflow-x:auto;line-height:normal;font-family:Menlo,'DejaVu Sans Mono',consolas,'Courier New',monospace\">🚦 Traffic: S001 → <span style=\"color: #008080; text-decoration-color: #008080; font-weight: bold\">45.0</span>% reduction <span style=\"font-weight: bold\">(</span>Reduce congestion for emergency vehicle access during heat wave<span style=\"font-weight: bold\">)</span> - SUCCESS\n",
       "</pre>\n"
      ],
      "text/plain": [
       "🚦 Traffic: S001 → \u001b[1;36m45.0\u001b[0m% reduction \u001b[1m(\u001b[0mReduce congestion for emergency vehicle access during heat wave\u001b[1m)\u001b[0m - SUCCESS\n"
      ]
     },
     "metadata": {},
     "output_type": "display_data"
    },
    {
     "name": "stderr",
     "output_type": "stream",
     "text": [
      "INFO:command:Executing redirect on ServiceType.TRAFFIC service\n"
     ]
    },
    {
     "data": {
      "text/html": [
       "<pre style=\"white-space:pre;overflow-x:auto;line-height:normal;font-family:Menlo,'DejaVu Sans Mono',consolas,'Courier New',monospace\">🚦 Traffic: S002 → <span style=\"color: #008080; text-decoration-color: #008080; font-weight: bold\">40.0</span>% reduction <span style=\"font-weight: bold\">(</span>Alleviate congestion for emergency vehicles access amid heat wave<span style=\"font-weight: bold\">)</span> - SUCCESS\n",
       "</pre>\n"
      ],
      "text/plain": [
       "🚦 Traffic: S002 → \u001b[1;36m40.0\u001b[0m% reduction \u001b[1m(\u001b[0mAlleviate congestion for emergency vehicles access amid heat wave\u001b[1m)\u001b[0m - SUCCESS\n"
      ]
     },
     "metadata": {},
     "output_type": "display_data"
    },
    {
     "name": "stderr",
     "output_type": "stream",
     "text": [
      "INFO:command:Executing block_route on ServiceType.TRAFFIC service\n"
     ]
    },
    {
     "data": {
      "text/html": [
       "<pre style=\"white-space:pre;overflow-x:auto;line-height:normal;font-family:Menlo,'DejaVu Sans Mono',consolas,'Courier New',monospace\">🚧 Route: S003 blocked for 45min <span style=\"font-weight: bold\">(</span>Dedicated emergency corridor to enhance emergency vehicle access during high \n",
       "traffic load<span style=\"font-weight: bold\">)</span> - SUCCESS\n",
       "</pre>\n"
      ],
      "text/plain": [
       "🚧 Route: S003 blocked for 45min \u001b[1m(\u001b[0mDedicated emergency corridor to enhance emergency vehicle access during high \n",
       "traffic load\u001b[1m)\u001b[0m - SUCCESS\n"
      ]
     },
     "metadata": {},
     "output_type": "display_data"
    },
    {
     "name": "stderr",
     "output_type": "stream",
     "text": [
      "INFO:command:Executing block_route on ServiceType.TRAFFIC service\n",
      "ERROR:command:Command failed: 404 - {'detail': 'Sector S004 not found'}\n",
      "ERROR:command:Request details: POST http://localhost:8004/traffic/block_route\n",
      "ERROR:command:Request data: {'sector': 'S004', 'reason': 'Enhance emergency vehicle passage during congested periods', 'duration_minutes': 30}\n"
     ]
    },
    {
     "data": {
      "text/html": [
       "<pre style=\"white-space:pre;overflow-x:auto;line-height:normal;font-family:Menlo,'DejaVu Sans Mono',consolas,'Courier New',monospace\">🚧 Route: S004 blocked for 30min <span style=\"font-weight: bold\">(</span>Enhance emergency vehicle passage during congested periods<span style=\"font-weight: bold\">)</span> - FAILED\n",
       "</pre>\n"
      ],
      "text/plain": [
       "🚧 Route: S004 blocked for 30min \u001b[1m(\u001b[0mEnhance emergency vehicle passage during congested periods\u001b[1m)\u001b[0m - FAILED\n"
      ]
     },
     "metadata": {},
     "output_type": "display_data"
    },
    {
     "name": "stderr",
     "output_type": "stream",
     "text": [
      "INFO:command:Executing block_route on ServiceType.TRAFFIC service\n",
      "ERROR:command:Command failed: 404 - {'detail': 'Sector S005 not found'}\n",
      "ERROR:command:Request details: POST http://localhost:8004/traffic/block_route\n",
      "ERROR:command:Request data: {'sector': 'S005', 'reason': 'Support emergency corridor to ensure access to critical services', 'duration_minutes': 30}\n"
     ]
    },
    {
     "data": {
      "text/html": [
       "<pre style=\"white-space:pre;overflow-x:auto;line-height:normal;font-family:Menlo,'DejaVu Sans Mono',consolas,'Courier New',monospace\">🚧 Route: S005 blocked for 30min <span style=\"font-weight: bold\">(</span>Support emergency corridor to ensure access to critical services<span style=\"font-weight: bold\">)</span> - FAILED\n",
       "</pre>\n"
      ],
      "text/plain": [
       "🚧 Route: S005 blocked for 30min \u001b[1m(\u001b[0mSupport emergency corridor to ensure access to critical services\u001b[1m)\u001b[0m - FAILED\n"
      ]
     },
     "metadata": {},
     "output_type": "display_data"
    },
    {
     "name": "stderr",
     "output_type": "stream",
     "text": [
      "INFO:command:Executing redirect on ServiceType.TRAFFIC service\n",
      "ERROR:command:Command failed: 400 - {'detail': 'Cannot redirect traffic in blocked sector S003'}\n",
      "ERROR:command:Request details: POST http://localhost:8004/traffic/redirect\n",
      "ERROR:command:Request data: {'sector_id': 'S003', 'target_reduction': 0.45}\n"
     ]
    },
    {
     "data": {
      "text/html": [
       "<pre style=\"white-space:pre;overflow-x:auto;line-height:normal;font-family:Menlo,'DejaVu Sans Mono',consolas,'Courier New',monospace\">🚦 Traffic: S003 → <span style=\"color: #008080; text-decoration-color: #008080; font-weight: bold\">45.0</span>% reduction <span style=\"font-weight: bold\">(</span>Emergency vehicle access needs during the heat wave crisis.<span style=\"font-weight: bold\">)</span> - FAILED\n",
       "</pre>\n"
      ],
      "text/plain": [
       "🚦 Traffic: S003 → \u001b[1;36m45.0\u001b[0m% reduction \u001b[1m(\u001b[0mEmergency vehicle access needs during the heat wave crisis.\u001b[1m)\u001b[0m - FAILED\n"
      ]
     },
     "metadata": {},
     "output_type": "display_data"
    },
    {
     "name": "stderr",
     "output_type": "stream",
     "text": [
      "INFO:command:Executing redirect on ServiceType.TRAFFIC service\n"
     ]
    },
    {
     "data": {
      "text/html": [
       "<pre style=\"white-space:pre;overflow-x:auto;line-height:normal;font-family:Menlo,'DejaVu Sans Mono',consolas,'Courier New',monospace\">🚦 Traffic: S001 → <span style=\"color: #008080; text-decoration-color: #008080; font-weight: bold\">20.0</span>% reduction <span style=\"font-weight: bold\">(</span>High congestion expected due to heat wave; reduce traffic to ensure emergency \n",
       "access.<span style=\"font-weight: bold\">)</span> - SUCCESS\n",
       "</pre>\n"
      ],
      "text/plain": [
       "🚦 Traffic: S001 → \u001b[1;36m20.0\u001b[0m% reduction \u001b[1m(\u001b[0mHigh congestion expected due to heat wave; reduce traffic to ensure emergency \n",
       "access.\u001b[1m)\u001b[0m - SUCCESS\n"
      ]
     },
     "metadata": {},
     "output_type": "display_data"
    },
    {
     "name": "stderr",
     "output_type": "stream",
     "text": [
      "INFO:command:Executing redirect on ServiceType.TRAFFIC service\n"
     ]
    },
    {
     "data": {
      "text/html": [
       "<pre style=\"white-space:pre;overflow-x:auto;line-height:normal;font-family:Menlo,'DejaVu Sans Mono',consolas,'Courier New',monospace\">🚦 Traffic: S002 → <span style=\"color: #008080; text-decoration-color: #008080; font-weight: bold\">20.0</span>% reduction <span style=\"font-weight: bold\">(</span>Moderate congestion anticipated; reduce traffic for improved emergency vehicle \n",
       "access.<span style=\"font-weight: bold\">)</span> - SUCCESS\n",
       "</pre>\n"
      ],
      "text/plain": [
       "🚦 Traffic: S002 → \u001b[1;36m20.0\u001b[0m% reduction \u001b[1m(\u001b[0mModerate congestion anticipated; reduce traffic for improved emergency vehicle \n",
       "access.\u001b[1m)\u001b[0m - SUCCESS\n"
      ]
     },
     "metadata": {},
     "output_type": "display_data"
    },
    {
     "name": "stderr",
     "output_type": "stream",
     "text": [
      "INFO:command:Executing block_route on ServiceType.TRAFFIC service\n"
     ]
    },
    {
     "data": {
      "text/html": [
       "<pre style=\"white-space:pre;overflow-x:auto;line-height:normal;font-family:Menlo,'DejaVu Sans Mono',consolas,'Courier New',monospace\">🚧 Route: S003 blocked for 120min <span style=\"font-weight: bold\">(</span>Create an emergency vehicle corridor for rapid response during peak heat wave \n",
       "times.<span style=\"font-weight: bold\">)</span> - SUCCESS\n",
       "</pre>\n"
      ],
      "text/plain": [
       "🚧 Route: S003 blocked for 120min \u001b[1m(\u001b[0mCreate an emergency vehicle corridor for rapid response during peak heat wave \n",
       "times.\u001b[1m)\u001b[0m - SUCCESS\n"
      ]
     },
     "metadata": {},
     "output_type": "display_data"
    },
    {
     "data": {
      "text/html": [
       "<pre style=\"white-space:pre;overflow-x:auto;line-height:normal;font-family:Menlo,'DejaVu Sans Mono',consolas,'Courier New',monospace\">🔄 Converting agent results to commands for evaluation<span style=\"color: #808000; text-decoration-color: #808000\">...</span>\n",
       "</pre>\n"
      ],
      "text/plain": [
       "🔄 Converting agent results to commands for evaluation\u001b[33m...\u001b[0m\n"
      ]
     },
     "metadata": {},
     "output_type": "display_data"
    },
    {
     "data": {
      "text/html": [
       "<pre style=\"white-space:pre;overflow-x:auto;line-height:normal;font-family:Menlo,'DejaVu Sans Mono',consolas,'Courier New',monospace\">🔍 Converting <span style=\"color: #008080; text-decoration-color: #008080; font-weight: bold\">4</span> task outputs\n",
       "</pre>\n"
      ],
      "text/plain": [
       "🔍 Converting \u001b[1;36m4\u001b[0m task outputs\n"
      ]
     },
     "metadata": {},
     "output_type": "display_data"
    },
    {
     "data": {
      "text/html": [
       "<pre style=\"white-space:pre;overflow-x:auto;line-height:normal;font-family:Menlo,'DejaVu Sans Mono',consolas,'Courier New',monospace\">📋 Processing Task <span style=\"color: #008080; text-decoration-color: #008080; font-weight: bold\">0</span>\n",
       "</pre>\n"
      ],
      "text/plain": [
       "📋 Processing Task \u001b[1;36m0\u001b[0m\n"
      ]
     },
     "metadata": {},
     "output_type": "display_data"
    },
    {
     "data": {
      "text/html": [
       "<pre style=\"white-space:pre;overflow-x:auto;line-height:normal;font-family:Menlo,'DejaVu Sans Mono',consolas,'Courier New',monospace\">📋 Task <span style=\"color: #008080; text-decoration-color: #008080; font-weight: bold\">0</span> dict keys: <span style=\"font-weight: bold\">[]</span>\n",
       "</pre>\n"
      ],
      "text/plain": [
       "📋 Task \u001b[1;36m0\u001b[0m dict keys: \u001b[1m[\u001b[0m\u001b[1m]\u001b[0m\n"
      ]
     },
     "metadata": {},
     "output_type": "display_data"
    },
    {
     "data": {
      "text/html": [
       "<pre style=\"white-space:pre;overflow-x:auto;line-height:normal;font-family:Menlo,'DejaVu Sans Mono',consolas,'Courier New',monospace\">📋 Task <span style=\"color: #008080; text-decoration-color: #008080; font-weight: bold\">0</span>: Skipping coordination task\n",
       "</pre>\n"
      ],
      "text/plain": [
       "📋 Task \u001b[1;36m0\u001b[0m: Skipping coordination task\n"
      ]
     },
     "metadata": {},
     "output_type": "display_data"
    },
    {
     "data": {
      "text/html": [
       "<pre style=\"white-space:pre;overflow-x:auto;line-height:normal;font-family:Menlo,'DejaVu Sans Mono',consolas,'Courier New',monospace\">📋 Processing Task <span style=\"color: #008080; text-decoration-color: #008080; font-weight: bold\">1</span>\n",
       "</pre>\n"
      ],
      "text/plain": [
       "📋 Processing Task \u001b[1;36m1\u001b[0m\n"
      ]
     },
     "metadata": {},
     "output_type": "display_data"
    },
    {
     "data": {
      "text/html": [
       "<pre style=\"white-space:pre;overflow-x:auto;line-height:normal;font-family:Menlo,'DejaVu Sans Mono',consolas,'Courier New',monospace\">📋 Task <span style=\"color: #008080; text-decoration-color: #008080; font-weight: bold\">1</span> dict keys: <span style=\"font-weight: bold\">[</span><span style=\"color: #008000; text-decoration-color: #008000\">'zone_adjustments'</span>, <span style=\"color: #008000; text-decoration-color: #008000\">'priority_settings'</span>, <span style=\"color: #008000; text-decoration-color: #008000\">'stability_forecast'</span>, <span style=\"color: #008000; text-decoration-color: #008000\">'coordination_notes'</span><span style=\"font-weight: bold\">]</span>\n",
       "</pre>\n"
      ],
      "text/plain": [
       "📋 Task \u001b[1;36m1\u001b[0m dict keys: \u001b[1m[\u001b[0m\u001b[32m'zone_adjustments'\u001b[0m, \u001b[32m'priority_settings'\u001b[0m, \u001b[32m'stability_forecast'\u001b[0m, \u001b[32m'coordination_notes'\u001b[0m\u001b[1m]\u001b[0m\n"
      ]
     },
     "metadata": {},
     "output_type": "display_data"
    },
    {
     "data": {
      "text/html": [
       "<pre style=\"white-space:pre;overflow-x:auto;line-height:normal;font-family:Menlo,'DejaVu Sans Mono',consolas,'Courier New',monospace\">📋 Task <span style=\"color: #008080; text-decoration-color: #008080; font-weight: bold\">1</span>: Processing Grid Plan\n",
       "</pre>\n"
      ],
      "text/plain": [
       "📋 Task \u001b[1;36m1\u001b[0m: Processing Grid Plan\n"
      ]
     },
     "metadata": {},
     "output_type": "display_data"
    },
    {
     "data": {
      "text/html": [
       "<pre style=\"white-space:pre;overflow-x:auto;line-height:normal;font-family:Menlo,'DejaVu Sans Mono',consolas,'Courier New',monospace\">  🔧 Grid: adjust_zone Z001 → <span style=\"color: #008080; text-decoration-color: #008080; font-weight: bold\">0.8</span>\n",
       "</pre>\n"
      ],
      "text/plain": [
       "  🔧 Grid: adjust_zone Z001 → \u001b[1;36m0.8\u001b[0m\n"
      ]
     },
     "metadata": {},
     "output_type": "display_data"
    },
    {
     "data": {
      "text/html": [
       "<pre style=\"white-space:pre;overflow-x:auto;line-height:normal;font-family:Menlo,'DejaVu Sans Mono',consolas,'Courier New',monospace\">  🔧 Grid: adjust_zone Z002 → <span style=\"color: #008080; text-decoration-color: #008080; font-weight: bold\">0.8</span>\n",
       "</pre>\n"
      ],
      "text/plain": [
       "  🔧 Grid: adjust_zone Z002 → \u001b[1;36m0.8\u001b[0m\n"
      ]
     },
     "metadata": {},
     "output_type": "display_data"
    },
    {
     "data": {
      "text/html": [
       "<pre style=\"white-space:pre;overflow-x:auto;line-height:normal;font-family:Menlo,'DejaVu Sans Mono',consolas,'Courier New',monospace\">  🔧 Grid: adjust_zone Z003 → <span style=\"color: #008080; text-decoration-color: #008080; font-weight: bold\">0.8</span>\n",
       "</pre>\n"
      ],
      "text/plain": [
       "  🔧 Grid: adjust_zone Z003 → \u001b[1;36m0.8\u001b[0m\n"
      ]
     },
     "metadata": {},
     "output_type": "display_data"
    },
    {
     "data": {
      "text/html": [
       "<pre style=\"white-space:pre;overflow-x:auto;line-height:normal;font-family:Menlo,'DejaVu Sans Mono',consolas,'Courier New',monospace\">  ⚡ Grid: set_priority hospital → critical\n",
       "</pre>\n"
      ],
      "text/plain": [
       "  ⚡ Grid: set_priority hospital → critical\n"
      ]
     },
     "metadata": {},
     "output_type": "display_data"
    },
    {
     "data": {
      "text/html": [
       "<pre style=\"white-space:pre;overflow-x:auto;line-height:normal;font-family:Menlo,'DejaVu Sans Mono',consolas,'Courier New',monospace\">  ⚡ Grid: set_priority police → high\n",
       "</pre>\n"
      ],
      "text/plain": [
       "  ⚡ Grid: set_priority police → high\n"
      ]
     },
     "metadata": {},
     "output_type": "display_data"
    },
    {
     "data": {
      "text/html": [
       "<pre style=\"white-space:pre;overflow-x:auto;line-height:normal;font-family:Menlo,'DejaVu Sans Mono',consolas,'Courier New',monospace\">  ⚡ Grid: set_priority emergency_services → critical\n",
       "</pre>\n"
      ],
      "text/plain": [
       "  ⚡ Grid: set_priority emergency_services → critical\n"
      ]
     },
     "metadata": {},
     "output_type": "display_data"
    },
    {
     "data": {
      "text/html": [
       "<pre style=\"white-space:pre;overflow-x:auto;line-height:normal;font-family:Menlo,'DejaVu Sans Mono',consolas,'Courier New',monospace\">📋 Processing Task <span style=\"color: #008080; text-decoration-color: #008080; font-weight: bold\">2</span>\n",
       "</pre>\n"
      ],
      "text/plain": [
       "📋 Processing Task \u001b[1;36m2\u001b[0m\n"
      ]
     },
     "metadata": {},
     "output_type": "display_data"
    },
    {
     "data": {
      "text/html": [
       "<pre style=\"white-space:pre;overflow-x:auto;line-height:normal;font-family:Menlo,'DejaVu Sans Mono',consolas,'Courier New',monospace\">📋 Task <span style=\"color: #008080; text-decoration-color: #008080; font-weight: bold\">2</span> dict keys: <span style=\"font-weight: bold\">[</span><span style=\"color: #008000; text-decoration-color: #008000\">'drone_assignments'</span>, <span style=\"color: #008000; text-decoration-color: #008000\">'incident_updates'</span>, <span style=\"color: #008000; text-decoration-color: #008000\">'resource_allocation'</span>, <span style=\"color: #008000; text-decoration-color: #008000\">'coordination_notes'</span><span style=\"font-weight: bold\">]</span>\n",
       "</pre>\n"
      ],
      "text/plain": [
       "📋 Task \u001b[1;36m2\u001b[0m dict keys: \u001b[1m[\u001b[0m\u001b[32m'drone_assignments'\u001b[0m, \u001b[32m'incident_updates'\u001b[0m, \u001b[32m'resource_allocation'\u001b[0m, \u001b[32m'coordination_notes'\u001b[0m\u001b[1m]\u001b[0m\n"
      ]
     },
     "metadata": {},
     "output_type": "display_data"
    },
    {
     "data": {
      "text/html": [
       "<pre style=\"white-space:pre;overflow-x:auto;line-height:normal;font-family:Menlo,'DejaVu Sans Mono',consolas,'Courier New',monospace\">📋 Task <span style=\"color: #008080; text-decoration-color: #008080; font-weight: bold\">2</span>: Processing Emergency Plan\n",
       "</pre>\n"
      ],
      "text/plain": [
       "📋 Task \u001b[1;36m2\u001b[0m: Processing Emergency Plan\n"
      ]
     },
     "metadata": {},
     "output_type": "display_data"
    },
    {
     "data": {
      "text/html": [
       "<pre style=\"white-space:pre;overflow-x:auto;line-height:normal;font-family:Menlo,'DejaVu Sans Mono',consolas,'Courier New',monospace\">  🚁 Emergency: assign_drone D001 → E-<span style=\"color: #008080; text-decoration-color: #008080; font-weight: bold\">1001</span>\n",
       "</pre>\n"
      ],
      "text/plain": [
       "  🚁 Emergency: assign_drone D001 → E-\u001b[1;36m1001\u001b[0m\n"
      ]
     },
     "metadata": {},
     "output_type": "display_data"
    },
    {
     "data": {
      "text/html": [
       "<pre style=\"white-space:pre;overflow-x:auto;line-height:normal;font-family:Menlo,'DejaVu Sans Mono',consolas,'Courier New',monospace\">  🚁 Emergency: assign_drone D002 → E-<span style=\"color: #008080; text-decoration-color: #008080; font-weight: bold\">1002</span>\n",
       "</pre>\n"
      ],
      "text/plain": [
       "  🚁 Emergency: assign_drone D002 → E-\u001b[1;36m1002\u001b[0m\n"
      ]
     },
     "metadata": {},
     "output_type": "display_data"
    },
    {
     "data": {
      "text/html": [
       "<pre style=\"white-space:pre;overflow-x:auto;line-height:normal;font-family:Menlo,'DejaVu Sans Mono',consolas,'Courier New',monospace\">  🚁 Emergency: assign_drone D003 → E-<span style=\"color: #008080; text-decoration-color: #008080; font-weight: bold\">1003</span>\n",
       "</pre>\n"
      ],
      "text/plain": [
       "  🚁 Emergency: assign_drone D003 → E-\u001b[1;36m1003\u001b[0m\n"
      ]
     },
     "metadata": {},
     "output_type": "display_data"
    },
    {
     "data": {
      "text/html": [
       "<pre style=\"white-space:pre;overflow-x:auto;line-height:normal;font-family:Menlo,'DejaVu Sans Mono',consolas,'Courier New',monospace\">  🚁 Emergency: assign_drone D004 → E-<span style=\"color: #008080; text-decoration-color: #008080; font-weight: bold\">1004</span>\n",
       "</pre>\n"
      ],
      "text/plain": [
       "  🚁 Emergency: assign_drone D004 → E-\u001b[1;36m1004\u001b[0m\n"
      ]
     },
     "metadata": {},
     "output_type": "display_data"
    },
    {
     "data": {
      "text/html": [
       "<pre style=\"white-space:pre;overflow-x:auto;line-height:normal;font-family:Menlo,'DejaVu Sans Mono',consolas,'Courier New',monospace\">  🚨 Emergency: update_incident E-<span style=\"color: #008080; text-decoration-color: #008080; font-weight: bold\">1001</span> → assigned\n",
       "</pre>\n"
      ],
      "text/plain": [
       "  🚨 Emergency: update_incident E-\u001b[1;36m1001\u001b[0m → assigned\n"
      ]
     },
     "metadata": {},
     "output_type": "display_data"
    },
    {
     "data": {
      "text/html": [
       "<pre style=\"white-space:pre;overflow-x:auto;line-height:normal;font-family:Menlo,'DejaVu Sans Mono',consolas,'Courier New',monospace\">  🚨 Emergency: update_incident E-<span style=\"color: #008080; text-decoration-color: #008080; font-weight: bold\">1002</span> → assigned\n",
       "</pre>\n"
      ],
      "text/plain": [
       "  🚨 Emergency: update_incident E-\u001b[1;36m1002\u001b[0m → assigned\n"
      ]
     },
     "metadata": {},
     "output_type": "display_data"
    },
    {
     "data": {
      "text/html": [
       "<pre style=\"white-space:pre;overflow-x:auto;line-height:normal;font-family:Menlo,'DejaVu Sans Mono',consolas,'Courier New',monospace\">  🚨 Emergency: update_incident E-<span style=\"color: #008080; text-decoration-color: #008080; font-weight: bold\">1003</span> → assigned\n",
       "</pre>\n"
      ],
      "text/plain": [
       "  🚨 Emergency: update_incident E-\u001b[1;36m1003\u001b[0m → assigned\n"
      ]
     },
     "metadata": {},
     "output_type": "display_data"
    },
    {
     "data": {
      "text/html": [
       "<pre style=\"white-space:pre;overflow-x:auto;line-height:normal;font-family:Menlo,'DejaVu Sans Mono',consolas,'Courier New',monospace\">  🚨 Emergency: update_incident E-<span style=\"color: #008080; text-decoration-color: #008080; font-weight: bold\">1004</span> → assigned\n",
       "</pre>\n"
      ],
      "text/plain": [
       "  🚨 Emergency: update_incident E-\u001b[1;36m1004\u001b[0m → assigned\n"
      ]
     },
     "metadata": {},
     "output_type": "display_data"
    },
    {
     "data": {
      "text/html": [
       "<pre style=\"white-space:pre;overflow-x:auto;line-height:normal;font-family:Menlo,'DejaVu Sans Mono',consolas,'Courier New',monospace\">📋 Processing Task <span style=\"color: #008080; text-decoration-color: #008080; font-weight: bold\">3</span>\n",
       "</pre>\n"
      ],
      "text/plain": [
       "📋 Processing Task \u001b[1;36m3\u001b[0m\n"
      ]
     },
     "metadata": {},
     "output_type": "display_data"
    },
    {
     "data": {
      "text/html": [
       "<pre style=\"white-space:pre;overflow-x:auto;line-height:normal;font-family:Menlo,'DejaVu Sans Mono',consolas,'Courier New',monospace\">📋 Task <span style=\"color: #008080; text-decoration-color: #008080; font-weight: bold\">3</span> dict keys: <span style=\"font-weight: bold\">[</span><span style=\"color: #008000; text-decoration-color: #008000\">'traffic_redirections'</span>, <span style=\"color: #008000; text-decoration-color: #008000\">'route_blocks'</span>, <span style=\"color: #008000; text-decoration-color: #008000\">'emergency_corridors'</span>, <span style=\"color: #008000; text-decoration-color: #008000\">'coordination_notes'</span><span style=\"font-weight: bold\">]</span>\n",
       "</pre>\n"
      ],
      "text/plain": [
       "📋 Task \u001b[1;36m3\u001b[0m dict keys: \u001b[1m[\u001b[0m\u001b[32m'traffic_redirections'\u001b[0m, \u001b[32m'route_blocks'\u001b[0m, \u001b[32m'emergency_corridors'\u001b[0m, \u001b[32m'coordination_notes'\u001b[0m\u001b[1m]\u001b[0m\n"
      ]
     },
     "metadata": {},
     "output_type": "display_data"
    },
    {
     "data": {
      "text/html": [
       "<pre style=\"white-space:pre;overflow-x:auto;line-height:normal;font-family:Menlo,'DejaVu Sans Mono',consolas,'Courier New',monospace\">📋 Task <span style=\"color: #008080; text-decoration-color: #008080; font-weight: bold\">3</span>: Processing Traffic Plan\n",
       "</pre>\n"
      ],
      "text/plain": [
       "📋 Task \u001b[1;36m3\u001b[0m: Processing Traffic Plan\n"
      ]
     },
     "metadata": {},
     "output_type": "display_data"
    },
    {
     "data": {
      "text/html": [
       "<pre style=\"white-space:pre;overflow-x:auto;line-height:normal;font-family:Menlo,'DejaVu Sans Mono',consolas,'Courier New',monospace\">  🚦 Traffic: redirect S001 → <span style=\"color: #008080; text-decoration-color: #008080; font-weight: bold\">0.45</span>\n",
       "</pre>\n"
      ],
      "text/plain": [
       "  🚦 Traffic: redirect S001 → \u001b[1;36m0.45\u001b[0m\n"
      ]
     },
     "metadata": {},
     "output_type": "display_data"
    },
    {
     "data": {
      "text/html": [
       "<pre style=\"white-space:pre;overflow-x:auto;line-height:normal;font-family:Menlo,'DejaVu Sans Mono',consolas,'Courier New',monospace\">  🚦 Traffic: redirect S002 → <span style=\"color: #008080; text-decoration-color: #008080; font-weight: bold\">0.4</span>\n",
       "</pre>\n"
      ],
      "text/plain": [
       "  🚦 Traffic: redirect S002 → \u001b[1;36m0.4\u001b[0m\n"
      ]
     },
     "metadata": {},
     "output_type": "display_data"
    },
    {
     "data": {
      "text/html": [
       "<pre style=\"white-space:pre;overflow-x:auto;line-height:normal;font-family:Menlo,'DejaVu Sans Mono',consolas,'Courier New',monospace\">  🚧 Traffic: block_route S003 → 45min\n",
       "</pre>\n"
      ],
      "text/plain": [
       "  🚧 Traffic: block_route S003 → 45min\n"
      ]
     },
     "metadata": {},
     "output_type": "display_data"
    },
    {
     "data": {
      "text/html": [
       "<pre style=\"white-space:pre;overflow-x:auto;line-height:normal;font-family:Menlo,'DejaVu Sans Mono',consolas,'Courier New',monospace\">✅ Converted <span style=\"color: #008080; text-decoration-color: #008080; font-weight: bold\">17</span> commands from agent results\n",
       "</pre>\n"
      ],
      "text/plain": [
       "✅ Converted \u001b[1;36m17\u001b[0m commands from agent results\n"
      ]
     },
     "metadata": {},
     "output_type": "display_data"
    },
    {
     "data": {
      "text/html": [
       "<pre style=\"white-space:pre;overflow-x:auto;line-height:normal;font-family:Menlo,'DejaVu Sans Mono',consolas,'Courier New',monospace\">📊 Converted <span style=\"color: #008080; text-decoration-color: #008080; font-weight: bold\">17</span> commands for evaluation\n",
       "</pre>\n"
      ],
      "text/plain": [
       "📊 Converted \u001b[1;36m17\u001b[0m commands for evaluation\n"
      ]
     },
     "metadata": {},
     "output_type": "display_data"
    },
    {
     "name": "stderr",
     "output_type": "stream",
     "text": [
      "INFO:command_evaluator:Command grid.adjust_zone matches optimal command\n",
      "INFO:command_evaluator:Command grid.set_priority matches optimal command\n",
      "INFO:command_evaluator:Command emergency.assign_drone matches optimal command\n",
      "INFO:command_evaluator:Evaluation complete - Overall score: 0.78\n"
     ]
    },
    {
     "data": {
      "text/html": [
       "<pre style=\"white-space:pre;overflow-x:auto;line-height:normal;font-family:Menlo,'DejaVu Sans Mono',consolas,'Courier New',monospace\">📊 Command evaluator score: <span style=\"color: #008080; text-decoration-color: #008080; font-weight: bold\">78.5</span>%\n",
       "</pre>\n"
      ],
      "text/plain": [
       "📊 Command evaluator score: \u001b[1;36m78.5\u001b[0m%\n"
      ]
     },
     "metadata": {},
     "output_type": "display_data"
    },
    {
     "data": {
      "text/html": [
       "<pre style=\"white-space:pre;overflow-x:auto;line-height:normal;font-family:Menlo,'DejaVu Sans Mono',consolas,'Courier New',monospace\"><span style=\"color: #008000; text-decoration-color: #008000\">╭─────────────────────────────────────────── Agent System Performance ────────────────────────────────────────────╮</span>\n",
       "<span style=\"color: #008000; text-decoration-color: #008000\">│</span> 🤖 **Complete Agent System Results**                                                                            <span style=\"color: #008000; text-decoration-color: #008000\">│</span>\n",
       "<span style=\"color: #008000; text-decoration-color: #008000\">│</span>                                                                                                                 <span style=\"color: #008000; text-decoration-color: #008000\">│</span>\n",
       "<span style=\"color: #008000; text-decoration-color: #008000\">│</span> Success Rate: 78.5%                                                                                             <span style=\"color: #008000; text-decoration-color: #008000\">│</span>\n",
       "<span style=\"color: #008000; text-decoration-color: #008000\">│</span> Total Commands: 17                                                                                              <span style=\"color: #008000; text-decoration-color: #008000\">│</span>\n",
       "<span style=\"color: #008000; text-decoration-color: #008000\">│</span> Characteristics: Adaptive, reasoning-capable, coordinated                                                       <span style=\"color: #008000; text-decoration-color: #008000\">│</span>\n",
       "<span style=\"color: #008000; text-decoration-color: #008000\">╰─────────────────────────────────────────────────────────────────────────────────────────────────────────────────╯</span>\n",
       "</pre>\n"
      ],
      "text/plain": [
       "\u001b[32m╭─\u001b[0m\u001b[32m──────────────────────────────────────────\u001b[0m\u001b[32m Agent System Performance \u001b[0m\u001b[32m───────────────────────────────────────────\u001b[0m\u001b[32m─╮\u001b[0m\n",
       "\u001b[32m│\u001b[0m 🤖 **Complete Agent System Results**                                                                            \u001b[32m│\u001b[0m\n",
       "\u001b[32m│\u001b[0m                                                                                                                 \u001b[32m│\u001b[0m\n",
       "\u001b[32m│\u001b[0m Success Rate: 78.5%                                                                                             \u001b[32m│\u001b[0m\n",
       "\u001b[32m│\u001b[0m Total Commands: 17                                                                                              \u001b[32m│\u001b[0m\n",
       "\u001b[32m│\u001b[0m Characteristics: Adaptive, reasoning-capable, coordinated                                                       \u001b[32m│\u001b[0m\n",
       "\u001b[32m╰─────────────────────────────────────────────────────────────────────────────────────────────────────────────────╯\u001b[0m\n"
      ]
     },
     "metadata": {},
     "output_type": "display_data"
    },
    {
     "data": {
      "text/html": [
       "<pre style=\"white-space:pre;overflow-x:auto;line-height:normal;font-family:Menlo,'DejaVu Sans Mono',consolas,'Courier New',monospace\"><span style=\"color: #808000; text-decoration-color: #808000\">╭──────────────────────────────────── Phase 4 Results: Full System Comparison ────────────────────────────────────╮</span>\n",
       "<span style=\"color: #808000; text-decoration-color: #808000\">│</span> 🏆 **Full System Comparison: Heat Wave Scenario**                                                               <span style=\"color: #808000; text-decoration-color: #808000\">│</span>\n",
       "<span style=\"color: #808000; text-decoration-color: #808000\">│</span>                                                                                                                 <span style=\"color: #808000; text-decoration-color: #808000\">│</span>\n",
       "<span style=\"color: #808000; text-decoration-color: #808000\">│</span> **Complete Rule-Based System**: 40.7% success rate                                                              <span style=\"color: #808000; text-decoration-color: #808000\">│</span>\n",
       "<span style=\"color: #808000; text-decoration-color: #808000\">│</span> • Fast execution                                                                                                <span style=\"color: #808000; text-decoration-color: #808000\">│</span>\n",
       "<span style=\"color: #808000; text-decoration-color: #808000\">│</span> • Scenario-specific optimization                                                                                <span style=\"color: #808000; text-decoration-color: #808000\">│</span>\n",
       "<span style=\"color: #808000; text-decoration-color: #808000\">│</span> • Rigid, non-adaptive                                                                                           <span style=\"color: #808000; text-decoration-color: #808000\">│</span>\n",
       "<span style=\"color: #808000; text-decoration-color: #808000\">│</span>                                                                                                                 <span style=\"color: #808000; text-decoration-color: #808000\">│</span>\n",
       "<span style=\"color: #808000; text-decoration-color: #808000\">│</span> **Complete Agent System**: 78.5% success rate                                                                   <span style=\"color: #808000; text-decoration-color: #808000\">│</span>\n",
       "<span style=\"color: #808000; text-decoration-color: #808000\">│</span> • Manager coordination                                                                                          <span style=\"color: #808000; text-decoration-color: #808000\">│</span>\n",
       "<span style=\"color: #808000; text-decoration-color: #808000\">│</span> • Specialist expertise                                                                                          <span style=\"color: #808000; text-decoration-color: #808000\">│</span>\n",
       "<span style=\"color: #808000; text-decoration-color: #808000\">│</span> • Adaptive reasoning                                                                                            <span style=\"color: #808000; text-decoration-color: #808000\">│</span>\n",
       "<span style=\"color: #808000; text-decoration-color: #808000\">│</span>                                                                                                                 <span style=\"color: #808000; text-decoration-color: #808000\">│</span>\n",
       "<span style=\"color: #808000; text-decoration-color: #808000\">│</span> **🔑 Winner**: Agent System (+37.8% advantage)                                                                  <span style=\"color: #808000; text-decoration-color: #808000\">│</span>\n",
       "<span style=\"color: #808000; text-decoration-color: #808000\">╰─────────────────────────────────────────────────────────────────────────────────────────────────────────────────╯</span>\n",
       "</pre>\n"
      ],
      "text/plain": [
       "\u001b[33m╭─\u001b[0m\u001b[33m───────────────────────────────────\u001b[0m\u001b[33m Phase 4 Results: Full System Comparison \u001b[0m\u001b[33m───────────────────────────────────\u001b[0m\u001b[33m─╮\u001b[0m\n",
       "\u001b[33m│\u001b[0m 🏆 **Full System Comparison: Heat Wave Scenario**                                                               \u001b[33m│\u001b[0m\n",
       "\u001b[33m│\u001b[0m                                                                                                                 \u001b[33m│\u001b[0m\n",
       "\u001b[33m│\u001b[0m **Complete Rule-Based System**: 40.7% success rate                                                              \u001b[33m│\u001b[0m\n",
       "\u001b[33m│\u001b[0m • Fast execution                                                                                                \u001b[33m│\u001b[0m\n",
       "\u001b[33m│\u001b[0m • Scenario-specific optimization                                                                                \u001b[33m│\u001b[0m\n",
       "\u001b[33m│\u001b[0m • Rigid, non-adaptive                                                                                           \u001b[33m│\u001b[0m\n",
       "\u001b[33m│\u001b[0m                                                                                                                 \u001b[33m│\u001b[0m\n",
       "\u001b[33m│\u001b[0m **Complete Agent System**: 78.5% success rate                                                                   \u001b[33m│\u001b[0m\n",
       "\u001b[33m│\u001b[0m • Manager coordination                                                                                          \u001b[33m│\u001b[0m\n",
       "\u001b[33m│\u001b[0m • Specialist expertise                                                                                          \u001b[33m│\u001b[0m\n",
       "\u001b[33m│\u001b[0m • Adaptive reasoning                                                                                            \u001b[33m│\u001b[0m\n",
       "\u001b[33m│\u001b[0m                                                                                                                 \u001b[33m│\u001b[0m\n",
       "\u001b[33m│\u001b[0m **🔑 Winner**: Agent System (+37.8% advantage)                                                                  \u001b[33m│\u001b[0m\n",
       "\u001b[33m╰─────────────────────────────────────────────────────────────────────────────────────────────────────────────────╯\u001b[0m\n"
      ]
     },
     "metadata": {},
     "output_type": "display_data"
    },
    {
     "data": {
      "text/html": [
       "<pre style=\"white-space:pre;overflow-x:auto;line-height:normal;font-family:Menlo,'DejaVu Sans Mono',consolas,'Courier New',monospace\">✅ Phase <span style=\"color: #008080; text-decoration-color: #008080; font-weight: bold\">4</span> Complete: Full system comparison finished\n",
       "</pre>\n"
      ],
      "text/plain": [
       "✅ Phase \u001b[1;36m4\u001b[0m Complete: Full system comparison finished\n"
      ]
     },
     "metadata": {},
     "output_type": "display_data"
    },
    {
     "data": {
      "text/html": [
       "<pre style=\"white-space:pre;overflow-x:auto;line-height:normal;font-family:Menlo,'DejaVu Sans Mono',consolas,'Courier New',monospace\">📊 Results saved to workshop_experiment_results.json\n",
       "</pre>\n"
      ],
      "text/plain": [
       "📊 Results saved to workshop_experiment_results.json\n"
      ]
     },
     "metadata": {},
     "output_type": "display_data"
    },
    {
     "data": {
      "text/html": [
       "<pre style=\"white-space:pre;overflow-x:auto;line-height:normal;font-family:Menlo,'DejaVu Sans Mono',consolas,'Courier New',monospace\">    Service Investigation Progress:\n",
       "</pre>\n"
      ],
      "text/plain": [
       "    Service Investigation Progress:\n"
      ]
     },
     "metadata": {},
     "output_type": "display_data"
    }
   ],
   "source": [
    "# Test 2: Complete Agent System\n",
    "console.print(\"\\n🤖 Testing Complete Agent System\")\n",
    "activate_scenario(HEAT_WAVE_SCENARIO, \"Heat Wave Crisis - Full Agent Test\")\n",
    "\n",
    "agent_system = AgentBasedSystem()\n",
    "agent_result = agent_system.solve_heat_wave_crisis()\n",
    "\n",
    "\n",
    "# Use agent converter to properly evaluate agent results\n",
    "console.print(\"🔄 Converting agent results to commands for evaluation...\")\n",
    "agent_success_rate, agent_commands, agent_evaluation = convert_and_evaluate_agent_commands(\n",
    "    crew_result=agent_result,\n",
    "    scenario_definition=HEAT_WAVE_SCENARIO,\n",
    "    scenario_type=ScenarioType.GRID_SURGE\n",
    ")\n",
    "\n",
    "# Store agent system results\n",
    "workshop_results[\"agent_system\"][\"success_rate\"] = agent_success_rate\n",
    "workshop_results[\"agent_system\"][\"commands\"] = [cmd.__dict__ for cmd in agent_commands]\n",
    "\n",
    "console.print(Panel(\n",
    "    f\"🤖 **Complete Agent System Results**\\n\\n\"\n",
    "    f\"Success Rate: {agent_success_rate:.1%}\\n\"\n",
    "    f\"Total Commands: {len(agent_commands)}\\n\"\n",
    "    f\"Characteristics: Adaptive, reasoning-capable, coordinated\",\n",
    "    title=\"Agent System Performance\",\n",
    "    border_style=\"green\"\n",
    "))\n",
    "\n",
    "# Full System Comparison\n",
    "console.print(Panel(\n",
    "    f\"🏆 **Full System Comparison: Heat Wave Scenario**\\n\\n\"\n",
    "    f\"**Complete Rule-Based System**: {rule_success_rate:.1%} success rate\\n\"\n",
    "    f\"• Fast execution\\n\"\n",
    "    f\"• Scenario-specific optimization\\n\"\n",
    "    f\"• Rigid, non-adaptive\\n\\n\"\n",
    "    f\"**Complete Agent System**: {agent_success_rate:.1%} success rate\\n\"\n",
    "    f\"• Manager coordination\\n\"\n",
    "    f\"• Specialist expertise\\n\"\n",
    "    f\"• Adaptive reasoning\\n\\n\"\n",
    "    f\"**🔑 Winner**: {'Agent System' if agent_success_rate > rule_success_rate else 'Rule-Based System'} \"\n",
    "    f\"(+{abs(agent_success_rate - rule_success_rate):.1%} advantage)\",\n",
    "    title=\"Phase 4 Results: Full System Comparison\",\n",
    "    border_style=\"yellow\"\n",
    "))\n",
    "\n",
    "console.print(\"✅ Phase 4 Complete: Full system comparison finished\")\n",
    "save_experiment_results(workshop_results)"
   ]
  },
  {
   "cell_type": "markdown",
   "id": "b1a5b781",
   "metadata": {},
   "source": [
    "## 🎯 **PHASE 5: Adaptability Challenge**\n",
    "\n",
    "**🎓 Educational Goal**: Test system adaptability with a completely different scenario\n",
    "\n",
    "Now let's test the critical difference: **adaptability**. We'll create a medical emergency \n",
    "scenario that's very different from our heat wave training.\n",
    "\n",
    "- **Rule-based systems**: Should fail (designed only for heat waves)\n",
    "- **Agent systems**: Should adapt (reasoning capabilities)"
   ]
  },
  {
   "cell_type": "code",
   "execution_count": 70,
   "id": "a085c818",
   "metadata": {
    "lines_to_next_cell": 1
   },
   "outputs": [],
   "source": [
    "@weave.op\n",
    "def create_medical_emergency_scenario():\n",
    "    \"\"\"Create medical emergency scenario to test adaptability.\"\"\"\n",
    "    medical_emergency_scenario = ScenarioDefinition(\n",
    "        name=\"Festival Medical Emergency\",\n",
    "        description=\"Large festival with multiple medical incidents requiring coordinated response\",\n",
    "        initial_state=ServiceState(\n",
    "            zones={\n",
    "                \"festival_main\": ZoneState(\n",
    "                    id=\"festival_main\",\n",
    "                    name=\"Main Festival Grounds\",\n",
    "                    capacity=1.0,\n",
    "                    current_load=0.85,\n",
    "                    stability=0.7,\n",
    "                    is_critical=False\n",
    "                )\n",
    "            },\n",
    "            incidents=[\n",
    "                IncidentState(\n",
    "                    id=\"cardiac_arrest_1\",\n",
    "                    description=\"Cardiac arrest at main stage\",\n",
    "                    location=\"festival_main\",\n",
    "                    urgency=0.99\n",
    "                ),\n",
    "                IncidentState(\n",
    "                    id=\"heat_exhaustion_1\",\n",
    "                    description=\"Multiple heat exhaustion cases\",\n",
    "                    location=\"festival_main\",\n",
    "                    urgency=0.85\n",
    "                ),\n",
    "                IncidentState(\n",
    "                    id=\"crowd_crush_1\",\n",
    "                    description=\"Crowd crush near exit\",\n",
    "                    location=\"festival_main\",\n",
    "                    urgency=0.95\n",
    "                )\n",
    "            ],\n",
    "            drones=[\n",
    "                DroneState(\n",
    "                    id=\"medical_drone_1\",\n",
    "                    name=\"MedEvac Alpha\",\n",
    "                    capabilities=[\"medical\", \"transport\"],\n",
    "                    speed=1.8\n",
    "                ),\n",
    "                DroneState(\n",
    "                    id=\"medical_drone_2\",\n",
    "                    name=\"MedEvac Beta\",\n",
    "                    capabilities=[\"medical\", \"surveillance\"],\n",
    "                    speed=1.6\n",
    "                )\n",
    "            ],\n",
    "            traffic={\n",
    "                \"festival_access\": TrafficState(\n",
    "                    zone_id=\"festival_access\",\n",
    "                    congestion=0.95,\n",
    "                    blocked=False,\n",
    "                    description=\"Severe congestion at festival access points\"\n",
    "                )\n",
    "            }\n",
    "        ),\n",
    "        success_criteria=SuccessCriteria(\n",
    "            name=\"Festival Emergency Response\",\n",
    "            description=\"Respond to all medical emergencies efficiently\",\n",
    "            metrics={\n",
    "                \"incident_response\": 0.95,\n",
    "                \"emergency_routing\": 0.85\n",
    "            },\n",
    "            thresholds={\n",
    "                \"max_response_time\": 300\n",
    "            }\n",
    "        ),\n",
    "        optimal_commands=[],\n",
    "        command_weights={\"emergency\": 0.8, \"traffic\": 0.2}\n",
    "    )\n",
    "    \n",
    "    return medical_emergency_scenario\n",
    "\n",
    "def test_adaptability():\n",
    "    \"\"\"Test both systems on a new, different scenario using EvaluationLogger.\"\"\"\n",
    "    console.print(Panel(\n",
    "        \"🎯 Phase 5: Adaptability Challenge with EvaluationLogger\", \n",
    "        border_style=\"red\"\n",
    "    ))\n",
    "    \n",
    "    # 🆕 NEW: Initialize separate EvaluationLoggers for rule-based vs agent comparison\n",
    "    rule_based_medical_logger = EvaluationLogger(\n",
    "        model=\"rule_based_system\",\n",
    "        dataset=\"festival_medical_emergency_scenario\"\n",
    "    )\n",
    "    \n",
    "    agent_based_medical_logger = EvaluationLogger(\n",
    "        model=\"agent_based_system\",\n",
    "        dataset=\"festival_medical_emergency_scenario\"\n",
    "    )\n",
    "    \n",
    "    # Create medical emergency scenario\n",
    "    medical_scenario = create_medical_emergency_scenario()\n",
    "    \n",
    "    console.print(Panel(\n",
    "        medical_scenario.description, \n",
    "        title=\"Medical Emergency Scenario\", \n",
    "        border_style=\"red\"\n",
    "    ))\n",
    "    \n",
    "    # CRITICAL: Reset state and activate the medical scenario properly\n",
    "    console.print(\"🔄 Activating medical emergency scenario...\")\n",
    "    scenario_activated = activate_scenario(\n",
    "        medical_scenario, \n",
    "        \"Medical Emergency Test\"\n",
    "    )\n",
    "    if not scenario_activated:\n",
    "        console.print(\n",
    "            \"[yellow]⚠️ Medical scenario activation had issues, \"\n",
    "            \"but continuing...[/yellow]\"\n",
    "        )\n",
    "    \n",
    "    # Test 1: Rule-based system (should fail - applying heat wave rules to medical scenario)\n",
    "    console.print(\"\\n📏 Testing Rule-Based System on Medical Emergency\")\n",
    "    \n",
    "    try:\n",
    "        rule_based_system = HeatWaveRuleBasedSystem()\n",
    "        \n",
    "        # Get the actual medical scenario state\n",
    "        medical_scenario_state = medical_scenario.initial_state\n",
    "        \n",
    "        # Try to apply heat wave rules to medical scenario (this should fail/be ineffective)\n",
    "        all_commands = rule_based_system.solve_heat_wave_crisis(\n",
    "            medical_scenario_state\n",
    "        )\n",
    "\n",
    "        console.print(\n",
    "            f\"📋 Heat wave rules generated {len(all_commands)} commands \"\n",
    "            f\"for medical scenario\"\n",
    "        )\n",
    "        \n",
    "        # Execute commands against medical scenario\n",
    "        executor = CommandExecutor()\n",
    "        results = []\n",
    "        valid_commands = []  # Only valid commands will be added here\n",
    "\n",
    "        for i, command in enumerate(all_commands, 1):\n",
    "            try:\n",
    "                # Defensive: ensure command is a dict with required keys\n",
    "                if not isinstance(command, dict):\n",
    "                    console.print(f\"  ❌ Skipping invalid command: {command}\")\n",
    "                    results.append(False)\n",
    "                    continue\n",
    "                cmd = Command(\n",
    "                    service=ServiceType(command.get(\"service\", \"\")),\n",
    "                    action=command.get(\"action\", \"\"),\n",
    "                    parameters=command.get(\"parameters\", {})\n",
    "                )\n",
    "                result = executor.execute(cmd)\n",
    "                results.append(result.success)\n",
    "                valid_commands.append(command)  # Only add if valid and executed\n",
    "\n",
    "                status = \"✅ SUCCESS\" if result.success else \"❌ FAILED\"\n",
    "                console.print(\n",
    "                    f\"  {status}: {command.get('service', '')}.{command.get('action', '')}\"\n",
    "                )\n",
    "\n",
    "            except Exception as e:\n",
    "                console.print(f\"  ❌ EXECUTION ERROR: {e}\")\n",
    "                results.append(False)\n",
    "\n",
    "        medical_rule_success = sum(results) / len(results) if results else 0\n",
    "\n",
    "        # Evaluate against medical scenario criteria\n",
    "        rule_evaluation = evaluate_scenario_commands(\n",
    "            commands=valid_commands,  # Only pass valid commands\n",
    "            scenario_type=ScenarioType.MEDICAL_EMERGENCY,\n",
    "            current_state=get_system_status(),\n",
    "            scenario_definition=medical_scenario\n",
    "        )\n",
    "        medical_rule_success = rule_evaluation.get(\n",
    "            'overall_score', \n",
    "            medical_rule_success\n",
    "        )\n",
    "        \n",
    "        # 🆕 NEW: Log rule-based system prediction on medical scenario\n",
    "        # Input: The medical scenario details\n",
    "        medical_rule_inputs = {\n",
    "            \"scenario_name\": medical_scenario.name,\n",
    "            \"scenario_description\": medical_scenario.description,\n",
    "            \"scenario_type\": \"medical_emergency\",\n",
    "            \"system_state\": get_system_status(),\n",
    "            \"adaptability_test\": True\n",
    "        }\n",
    "        \n",
    "        # Output: Commands (inappropriate heat wave rules applied to medical scenario)\n",
    "        medical_rule_output = all_commands\n",
    "\n",
    "        medical_rule_pred = rule_based_medical_logger.log_prediction(\n",
    "            inputs=medical_rule_inputs,\n",
    "            output=medical_rule_output\n",
    "        )\n",
    "        \n",
    "        # 🆕 NEW: Log all individual metric scores from current_metrics\n",
    "        current_metrics = rule_evaluation.get('current_metrics', {})\n",
    "        for metric_name, metric_score in current_metrics.items():\n",
    "            medical_rule_pred.log_score(\n",
    "                scorer=metric_name,\n",
    "                score=metric_score\n",
    "            )\n",
    "        \n",
    "        # Also log overall score if available\n",
    "        if 'overall_score' in rule_evaluation:\n",
    "            medical_rule_pred.log_score(\n",
    "                scorer=\"overall_score\",\n",
    "                score=rule_evaluation['overall_score']\n",
    "            )\n",
    "        \n",
    "        medical_rule_pred.finish()\n",
    "        rule_based_medical_logger.log_summary()\n",
    "        \n",
    "        console.print(Panel(\n",
    "            f\"❌ **Rule-Based System Failed on Medical Emergency**\\n\\n\"\n",
    "            f\"Success Rate: {medical_rule_success:.1%}\\n\"\n",
    "            f\"Commands Generated: {len(all_commands)}\\n\"\n",
    "            f\"**Why it failed:**\\n\"\n",
    "            f\"• Heat wave rules applied to medical emergency scenario\\n\"\n",
    "            f\"• Rules designed for grid stress, not festival medical incidents\\n\"\n",
    "            f\"• No logic for crowd control or medical triage\\n\"\n",
    "            f\"• Rigid, scenario-specific approach cannot adapt\",\n",
    "            title=\"Rule-Based System: Medical Emergency\",\n",
    "            border_style=\"red\"\n",
    "        ))\n",
    "    except Exception as e:\n",
    "        console.print(\n",
    "            f\"[red]Rule-based system error on medical scenario: {e}[/red]\"\n",
    "        )\n",
    "        medical_rule_success = 0\n",
    "    \n",
    "    # Test 2: Agent system (should adapt successfully)\n",
    "    console.print(\"\\n🤖 Testing Agent System on Medical Emergency\")\n",
    "    reset_all_service_states()\n",
    "    \n",
    "    try:\n",
    "        # Create fresh agent system for medical scenario\n",
    "        agent_system = AgentBasedSystem()\n",
    "        \n",
    "        # Provide medical scenario context to agents\n",
    "        console.print(\"🎭 Providing medical emergency context to agents...\")\n",
    "        \n",
    "        result = agent_system.solve_heat_wave_crisis(\n",
    "            scenario_state=medical_scenario.initial_state\n",
    "        )\n",
    "        \n",
    "        # Use agent converter to properly evaluate agent results for medical scenario\n",
    "        console.print(\n",
    "            \"🔄 Converting agent results to commands \"\n",
    "            \"for medical scenario evaluation...\"\n",
    "        )\n",
    "        final_score, commands, evaluation = convert_and_evaluate_agent_commands(\n",
    "            crew_result=result,\n",
    "            scenario_definition=medical_scenario,\n",
    "            scenario_type=ScenarioType.MEDICAL_EMERGENCY\n",
    "        )\n",
    "        \n",
    "        # 🆕 NEW: Log agent system prediction on medical scenario\n",
    "        # Input: The medical scenario details (same as rule-based for comparison)\n",
    "        medical_agent_inputs = {\n",
    "            \"scenario_name\": medical_scenario.name,\n",
    "            \"scenario_description\": medical_scenario.description,\n",
    "            \"scenario_type\": \"medical_emergency\",\n",
    "            \"system_state\": get_system_status(),\n",
    "            \"adaptability_test\": True\n",
    "        }\n",
    "        \n",
    "        # Output: Commands generated by adaptive agents\n",
    "        medical_agent_output = [\n",
    "            cmd.__dict__ for cmd in commands\n",
    "        ] if commands else []\n",
    "\n",
    "        medical_agent_pred = agent_based_medical_logger.log_prediction(\n",
    "            inputs=medical_agent_inputs,\n",
    "            output=medical_agent_output\n",
    "        )\n",
    "        \n",
    "        # 🆕 NEW: Log all individual metric scores from current_metrics\n",
    "        if evaluation:\n",
    "            current_metrics = evaluation.get('current_metrics', {})\n",
    "            for metric_name, metric_score in current_metrics.items():\n",
    "                medical_agent_pred.log_score(\n",
    "                    scorer=metric_name,\n",
    "                    score=metric_score\n",
    "                )\n",
    "            \n",
    "            # Also log overall score if available\n",
    "            if 'overall_score' in evaluation:\n",
    "                medical_agent_pred.log_score(\n",
    "                    scorer=\"overall_score\",\n",
    "                    score=evaluation['overall_score']\n",
    "                )\n",
    "        \n",
    "        medical_agent_pred.finish()\n",
    "        agent_based_medical_logger.log_summary()\n",
    "        \n",
    "        console.print(Panel(\n",
    "            f\"✅ **Agent System Succeeded on Medical Emergency**\\n\\n\"\n",
    "            f\"Success Rate: {final_score:.1%}\\n\"\n",
    "            f\"Commands Executed: {len(commands)}\\n\"\n",
    "            f\"**Why it succeeded:**\\n\"\n",
    "            f\"• Agents reasoned about medical emergency vs heat wave context\\n\"\n",
    "            f\"• Manager coordinated appropriate medical response priorities\\n\"\n",
    "            f\"• Specialists adapted their expertise to festival environment\\n\"\n",
    "            f\"• Flexible coordination without rigid scenario-specific rules\\n\"\n",
    "            f\"• Dynamic tool usage based on actual scenario needs\",\n",
    "            title=\"Agent System: Medical Emergency Success\",\n",
    "            border_style=\"green\"\n",
    "        ))\n",
    "        \n",
    "    except Exception as e:\n",
    "        console.print(f\"[red]Agent system error on medical scenario: {e}[/red]\")\n",
    "        final_score = 0\n",
    "    \n",
    "    # Store adaptability test results\n",
    "    workshop_results[\"adaptability_test\"] = {\n",
    "        \"medical_scenario\": medical_scenario.name,\n",
    "        \"rule_based_success\": medical_rule_success,\n",
    "        \"agent_system_success\": final_score,\n",
    "        \"rule_commands_count\": len(all_commands) if 'all_commands' in locals() else 0,\n",
    "        \"agent_commands_count\": len(commands) if 'commands' in locals() else 0\n",
    "    }\n",
    "    \n",
    "    # Final comparison\n",
    "    console.print(Panel(\n",
    "        f\"🏆 **Adaptability Test Results**\\n\\n\"\n",
    "        f\"**Heat Wave Scenario (Designed For):**\\n\"\n",
    "        f\"• Rule-Based System: {rule_success_rate:.1%}\\n\"\n",
    "        f\"• Agent System: {agent_success_rate:.1%}\\n\\n\"\n",
    "        f\"**Medical Emergency Scenario (New/Unseen):**\\n\"\n",
    "        f\"• Rule-Based System: {medical_rule_success:.1%} ❌ \"\n",
    "        f\"(Failed - heat wave rules inappropriate for medical emergency)\\n\"\n",
    "        f\"• Agent System: {final_score:.1%} ✅ \"\n",
    "        f\"(Succeeded - adapted reasoning to medical context)\\n\\n\"\n",
    "        f\"**🎯 Key Insight: Adaptability**\\n\"\n",
    "        f\"Rule-based systems fail when encountering scenarios they weren't \"\n",
    "        f\"designed for,\\neven when individual commands execute successfully. \"\n",
    "        f\"The logic is inappropriate.\\n\"\n",
    "        f\"Agent systems can reason about and adapt to new situations \"\n",
    "        f\"dynamically.\\n\\n\"\n",
    "        f\"**🚀 Winner: Agent Systems**\\n\"\n",
    "        f\"Superior performance + adaptability = Production ready!\",\n",
    "        title=\"Phase 5 Results: Adaptability Challenge\",\n",
    "        border_style=\"yellow\"\n",
    "    ))\n",
    "    \n",
    "    return final_score, medical_rule_success"
   ]
  },
  {
   "cell_type": "code",
   "execution_count": 71,
   "id": "7a3f4d13",
   "metadata": {
    "lines_to_next_cell": 1
   },
   "outputs": [
    {
     "data": {
      "text/html": [
       "<pre style=\"white-space:pre;overflow-x:auto;line-height:normal;font-family:Menlo,'DejaVu Sans Mono',consolas,'Courier New',monospace\">🔍 Running adaptability challenge with EvaluationLogger<span style=\"color: #808000; text-decoration-color: #808000\">...</span>\n",
       "</pre>\n"
      ],
      "text/plain": [
       "🔍 Running adaptability challenge with EvaluationLogger\u001b[33m...\u001b[0m\n"
      ]
     },
     "metadata": {},
     "output_type": "display_data"
    },
    {
     "data": {
      "text/html": [
       "<pre style=\"white-space:pre;overflow-x:auto;line-height:normal;font-family:Menlo,'DejaVu Sans Mono',consolas,'Courier New',monospace\"><span style=\"color: #800000; text-decoration-color: #800000\">╭─────────────────────────────────────────────────────────────────────────────────────────────────────────────────╮</span>\n",
       "<span style=\"color: #800000; text-decoration-color: #800000\">│</span> 🎯 Phase 5: Adaptability Challenge with EvaluationLogger                                                        <span style=\"color: #800000; text-decoration-color: #800000\">│</span>\n",
       "<span style=\"color: #800000; text-decoration-color: #800000\">╰─────────────────────────────────────────────────────────────────────────────────────────────────────────────────╯</span>\n",
       "</pre>\n"
      ],
      "text/plain": [
       "\u001b[31m╭─────────────────────────────────────────────────────────────────────────────────────────────────────────────────╮\u001b[0m\n",
       "\u001b[31m│\u001b[0m 🎯 Phase 5: Adaptability Challenge with EvaluationLogger                                                        \u001b[31m│\u001b[0m\n",
       "\u001b[31m╰─────────────────────────────────────────────────────────────────────────────────────────────────────────────────╯\u001b[0m\n"
      ]
     },
     "metadata": {},
     "output_type": "display_data"
    },
    {
     "data": {
      "text/html": [
       "<pre style=\"white-space:pre;overflow-x:auto;line-height:normal;font-family:Menlo,'DejaVu Sans Mono',consolas,'Courier New',monospace\"><span style=\"color: #800000; text-decoration-color: #800000\">╭────────────────────────────────────────── Medical Emergency Scenario ───────────────────────────────────────────╮</span>\n",
       "<span style=\"color: #800000; text-decoration-color: #800000\">│</span> Large festival with multiple medical incidents requiring coordinated response                                   <span style=\"color: #800000; text-decoration-color: #800000\">│</span>\n",
       "<span style=\"color: #800000; text-decoration-color: #800000\">╰─────────────────────────────────────────────────────────────────────────────────────────────────────────────────╯</span>\n",
       "</pre>\n"
      ],
      "text/plain": [
       "\u001b[31m╭─\u001b[0m\u001b[31m─────────────────────────────────────────\u001b[0m\u001b[31m Medical Emergency Scenario \u001b[0m\u001b[31m──────────────────────────────────────────\u001b[0m\u001b[31m─╮\u001b[0m\n",
       "\u001b[31m│\u001b[0m Large festival with multiple medical incidents requiring coordinated response                                   \u001b[31m│\u001b[0m\n",
       "\u001b[31m╰─────────────────────────────────────────────────────────────────────────────────────────────────────────────────╯\u001b[0m\n"
      ]
     },
     "metadata": {},
     "output_type": "display_data"
    },
    {
     "data": {
      "text/html": [
       "<pre style=\"white-space:pre;overflow-x:auto;line-height:normal;font-family:Menlo,'DejaVu Sans Mono',consolas,'Courier New',monospace\">🔄 Activating medical emergency scenario<span style=\"color: #808000; text-decoration-color: #808000\">...</span>\n",
       "</pre>\n"
      ],
      "text/plain": [
       "🔄 Activating medical emergency scenario\u001b[33m...\u001b[0m\n"
      ]
     },
     "metadata": {},
     "output_type": "display_data"
    },
    {
     "data": {
      "text/html": [
       "<pre style=\"white-space:pre;overflow-x:auto;line-height:normal;font-family:Menlo,'DejaVu Sans Mono',consolas,'Courier New',monospace\">🎯 Activating scenario: Medical Emergency Test\n",
       "</pre>\n"
      ],
      "text/plain": [
       "🎯 Activating scenario: Medical Emergency Test\n"
      ]
     },
     "metadata": {},
     "output_type": "display_data"
    },
    {
     "data": {
      "text/html": [
       "<pre style=\"white-space:pre;overflow-x:auto;line-height:normal;font-family:Menlo,'DejaVu Sans Mono',consolas,'Courier New',monospace\">🔄 Resetting all service states<span style=\"color: #808000; text-decoration-color: #808000\">...</span>\n",
       "</pre>\n"
      ],
      "text/plain": [
       "🔄 Resetting all service states\u001b[33m...\u001b[0m\n"
      ]
     },
     "metadata": {},
     "output_type": "display_data"
    },
    {
     "data": {
      "text/html": [
       "<pre style=\"white-space:pre;overflow-x:auto;line-height:normal;font-family:Menlo,'DejaVu Sans Mono',consolas,'Courier New',monospace\">  ✅ GRID state reset\n",
       "</pre>\n"
      ],
      "text/plain": [
       "  ✅ GRID state reset\n"
      ]
     },
     "metadata": {},
     "output_type": "display_data"
    },
    {
     "data": {
      "text/html": [
       "<pre style=\"white-space:pre;overflow-x:auto;line-height:normal;font-family:Menlo,'DejaVu Sans Mono',consolas,'Courier New',monospace\">  ✅ EMERGENCY state reset\n",
       "</pre>\n"
      ],
      "text/plain": [
       "  ✅ EMERGENCY state reset\n"
      ]
     },
     "metadata": {},
     "output_type": "display_data"
    },
    {
     "data": {
      "text/html": [
       "<pre style=\"white-space:pre;overflow-x:auto;line-height:normal;font-family:Menlo,'DejaVu Sans Mono',consolas,'Courier New',monospace\">  ✅ TRAFFIC state reset\n",
       "</pre>\n"
      ],
      "text/plain": [
       "  ✅ TRAFFIC state reset\n"
      ]
     },
     "metadata": {},
     "output_type": "display_data"
    },
    {
     "data": {
      "text/html": [
       "<pre style=\"white-space:pre;overflow-x:auto;line-height:normal;font-family:Menlo,'DejaVu Sans Mono',consolas,'Courier New',monospace\">  ✅ SCENARIO state reset\n",
       "</pre>\n"
      ],
      "text/plain": [
       "  ✅ SCENARIO state reset\n"
      ]
     },
     "metadata": {},
     "output_type": "display_data"
    },
    {
     "data": {
      "text/html": [
       "<pre style=\"white-space:pre;overflow-x:auto;line-height:normal;font-family:Menlo,'DejaVu Sans Mono',consolas,'Courier New',monospace\">  📋 Scenario created with ID: <span style=\"color: #ffff00; text-decoration-color: #ffff00\">254229fa-4b67-40ee-b2ed-391c604223fb</span>\n",
       "</pre>\n"
      ],
      "text/plain": [
       "  📋 Scenario created with ID: \u001b[93m254229fa-4b67-40ee-b2ed-391c604223fb\u001b[0m\n"
      ]
     },
     "metadata": {},
     "output_type": "display_data"
    },
    {
     "data": {
      "text/html": [
       "<pre style=\"white-space:pre;overflow-x:auto;line-height:normal;font-family:Menlo,'DejaVu Sans Mono',consolas,'Courier New',monospace\">  ✅ Scenario <span style=\"color: #008000; text-decoration-color: #008000\">'Medical Emergency Test'</span> activated successfully\n",
       "</pre>\n"
      ],
      "text/plain": [
       "  ✅ Scenario \u001b[32m'Medical Emergency Test'\u001b[0m activated successfully\n"
      ]
     },
     "metadata": {},
     "output_type": "display_data"
    },
    {
     "data": {
      "text/html": [
       "<pre style=\"white-space:pre;overflow-x:auto;line-height:normal;font-family:Menlo,'DejaVu Sans Mono',consolas,'Courier New',monospace\">    ✅ GRID: State initialized\n",
       "</pre>\n"
      ],
      "text/plain": [
       "    ✅ GRID: State initialized\n"
      ]
     },
     "metadata": {},
     "output_type": "display_data"
    },
    {
     "data": {
      "text/html": [
       "<pre style=\"white-space:pre;overflow-x:auto;line-height:normal;font-family:Menlo,'DejaVu Sans Mono',consolas,'Courier New',monospace\">    ✅ EMERGENCY: State initialized\n",
       "</pre>\n"
      ],
      "text/plain": [
       "    ✅ EMERGENCY: State initialized\n"
      ]
     },
     "metadata": {},
     "output_type": "display_data"
    },
    {
     "data": {
      "text/html": [
       "<pre style=\"white-space:pre;overflow-x:auto;line-height:normal;font-family:Menlo,'DejaVu Sans Mono',consolas,'Courier New',monospace\">    ✅ TRAFFIC: State initialized\n",
       "</pre>\n"
      ],
      "text/plain": [
       "    ✅ TRAFFIC: State initialized\n"
      ]
     },
     "metadata": {},
     "output_type": "display_data"
    },
    {
     "data": {
      "text/html": [
       "<pre style=\"white-space:pre;overflow-x:auto;line-height:normal;font-family:Menlo,'DejaVu Sans Mono',consolas,'Courier New',monospace\">\n",
       "📏 Testing Rule-Based System on Medical Emergency\n",
       "</pre>\n"
      ],
      "text/plain": [
       "\n",
       "📏 Testing Rule-Based System on Medical Emergency\n"
      ]
     },
     "metadata": {},
     "output_type": "display_data"
    },
    {
     "data": {
      "text/html": [
       "<pre style=\"white-space:pre;overflow-x:auto;line-height:normal;font-family:Menlo,'DejaVu Sans Mono',consolas,'Courier New',monospace\">🎯 Applying Complete Heat Wave Rule-Based System<span style=\"color: #808000; text-decoration-color: #808000\">...</span>\n",
       "</pre>\n"
      ],
      "text/plain": [
       "🎯 Applying Complete Heat Wave Rule-Based System\u001b[33m...\u001b[0m\n"
      ]
     },
     "metadata": {},
     "output_type": "display_data"
    },
    {
     "data": {
      "text/html": [
       "<pre style=\"white-space:pre;overflow-x:auto;line-height:normal;font-family:Menlo,'DejaVu Sans Mono',consolas,'Courier New',monospace\">🎯 Applying Simple Grid Heat Wave Rules<span style=\"color: #808000; text-decoration-color: #808000\">...</span>\n",
       "</pre>\n"
      ],
      "text/plain": [
       "🎯 Applying Simple Grid Heat Wave Rules\u001b[33m...\u001b[0m\n"
      ]
     },
     "metadata": {},
     "output_type": "display_data"
    },
    {
     "data": {
      "text/html": [
       "<pre style=\"white-space:pre;overflow-x:auto;line-height:normal;font-family:Menlo,'DejaVu Sans Mono',consolas,'Courier New',monospace\">🎯 Applying Simple Emergency Heat Wave Rules<span style=\"color: #808000; text-decoration-color: #808000\">...</span>\n",
       "</pre>\n"
      ],
      "text/plain": [
       "🎯 Applying Simple Emergency Heat Wave Rules\u001b[33m...\u001b[0m\n"
      ]
     },
     "metadata": {},
     "output_type": "display_data"
    },
    {
     "data": {
      "text/html": [
       "<pre style=\"white-space:pre;overflow-x:auto;line-height:normal;font-family:Menlo,'DejaVu Sans Mono',consolas,'Courier New',monospace\">  🚁 Simple Rule: medical_drone_1 → cardiac_arrest_1 <span style=\"font-weight: bold\">(</span>urgency: <span style=\"color: #008080; text-decoration-color: #008080; font-weight: bold\">99.0</span>%<span style=\"font-weight: bold\">)</span>\n",
       "</pre>\n"
      ],
      "text/plain": [
       "  🚁 Simple Rule: medical_drone_1 → cardiac_arrest_1 \u001b[1m(\u001b[0murgency: \u001b[1;36m99.0\u001b[0m%\u001b[1m)\u001b[0m\n"
      ]
     },
     "metadata": {},
     "output_type": "display_data"
    },
    {
     "data": {
      "text/html": [
       "<pre style=\"white-space:pre;overflow-x:auto;line-height:normal;font-family:Menlo,'DejaVu Sans Mono',consolas,'Courier New',monospace\">🎯 Applying Simple Traffic Heat Wave Rules<span style=\"color: #808000; text-decoration-color: #808000\">...</span>\n",
       "</pre>\n"
      ],
      "text/plain": [
       "🎯 Applying Simple Traffic Heat Wave Rules\u001b[33m...\u001b[0m\n"
      ]
     },
     "metadata": {},
     "output_type": "display_data"
    },
    {
     "data": {
      "text/html": [
       "<pre style=\"white-space:pre;overflow-x:auto;line-height:normal;font-family:Menlo,'DejaVu Sans Mono',consolas,'Courier New',monospace\">  🚦 Simple Rule: Redirect festival_access <span style=\"font-weight: bold\">(</span>congestion: <span style=\"color: #008080; text-decoration-color: #008080; font-weight: bold\">95.0</span>%<span style=\"font-weight: bold\">)</span>\n",
       "</pre>\n"
      ],
      "text/plain": [
       "  🚦 Simple Rule: Redirect festival_access \u001b[1m(\u001b[0mcongestion: \u001b[1;36m95.0\u001b[0m%\u001b[1m)\u001b[0m\n"
      ]
     },
     "metadata": {},
     "output_type": "display_data"
    },
    {
     "name": "stderr",
     "output_type": "stream",
     "text": [
      "INFO:command:Executing assign_drone on ServiceType.EMERGENCY service\n"
     ]
    },
    {
     "data": {
      "text/html": [
       "<pre style=\"white-space:pre;overflow-x:auto;line-height:normal;font-family:Menlo,'DejaVu Sans Mono',consolas,'Courier New',monospace\">  ✅ SUCCESS: emergency.assign_drone\n",
       "</pre>\n"
      ],
      "text/plain": [
       "  ✅ SUCCESS: emergency.assign_drone\n"
      ]
     },
     "metadata": {},
     "output_type": "display_data"
    },
    {
     "name": "stderr",
     "output_type": "stream",
     "text": [
      "INFO:command:Executing redirect on ServiceType.TRAFFIC service\n"
     ]
    },
    {
     "data": {
      "text/html": [
       "<pre style=\"white-space:pre;overflow-x:auto;line-height:normal;font-family:Menlo,'DejaVu Sans Mono',consolas,'Courier New',monospace\">  ✅ SUCCESS: traffic.redirect\n",
       "</pre>\n"
      ],
      "text/plain": [
       "  ✅ SUCCESS: traffic.redirect\n"
      ]
     },
     "metadata": {},
     "output_type": "display_data"
    },
    {
     "data": {
      "text/html": [
       "<pre style=\"white-space:pre;overflow-x:auto;line-height:normal;font-family:Menlo,'DejaVu Sans Mono',consolas,'Courier New',monospace\">📋 Heat wave rules generated <span style=\"color: #008080; text-decoration-color: #008080; font-weight: bold\">2</span> commands for medical scenario\n",
       "</pre>\n"
      ],
      "text/plain": [
       "📋 Heat wave rules generated \u001b[1;36m2\u001b[0m commands for medical scenario\n"
      ]
     },
     "metadata": {},
     "output_type": "display_data"
    },
    {
     "data": {
      "text/html": [
       "<pre style=\"white-space:pre;overflow-x:auto;line-height:normal;font-family:Menlo,'DejaVu Sans Mono',consolas,'Courier New',monospace\">  ❌ Skipping invalid command: <span style=\"font-weight: bold\">[{</span><span style=\"color: #008000; text-decoration-color: #008000\">'service'</span>: <span style=\"color: #008000; text-decoration-color: #008000\">'emergency'</span>, <span style=\"color: #008000; text-decoration-color: #008000\">'action'</span>: <span style=\"color: #008000; text-decoration-color: #008000\">'assign_drone'</span>, <span style=\"color: #008000; text-decoration-color: #008000\">'parameters'</span>: <span style=\"font-weight: bold\">{</span><span style=\"color: #008000; text-decoration-color: #008000\">'drone_id'</span>: \n",
       "<span style=\"color: #008000; text-decoration-color: #008000\">'medical_drone_1'</span>, <span style=\"color: #008000; text-decoration-color: #008000\">'incident_id'</span>: <span style=\"color: #008000; text-decoration-color: #008000\">'cardiac_arrest_1'</span><span style=\"font-weight: bold\">}</span>, <span style=\"color: #008000; text-decoration-color: #008000\">'rule'</span>: <span style=\"color: #008000; text-decoration-color: #008000\">'Simple Rule: Assign medical_drone_1 to most urgent </span>\n",
       "<span style=\"color: #008000; text-decoration-color: #008000\">incident cardiac_arrest_1 (urgency: 99.0%)'</span><span style=\"font-weight: bold\">}</span>, <span style=\"font-weight: bold\">{</span><span style=\"color: #008000; text-decoration-color: #008000\">'service'</span>: <span style=\"color: #008000; text-decoration-color: #008000\">'traffic'</span>, <span style=\"color: #008000; text-decoration-color: #008000\">'action'</span>: <span style=\"color: #008000; text-decoration-color: #008000\">'redirect'</span>, <span style=\"color: #008000; text-decoration-color: #008000\">'parameters'</span>: \n",
       "<span style=\"font-weight: bold\">{</span><span style=\"color: #008000; text-decoration-color: #008000\">'sector_id'</span>: <span style=\"color: #008000; text-decoration-color: #008000\">'festival_access'</span>, <span style=\"color: #008000; text-decoration-color: #008000\">'target_reduction'</span>: <span style=\"color: #008080; text-decoration-color: #008080; font-weight: bold\">0.3</span><span style=\"font-weight: bold\">}</span>, <span style=\"color: #008000; text-decoration-color: #008000\">'rule'</span>: <span style=\"color: #008000; text-decoration-color: #008000\">'Simple Rule: Redirect festival_access due to </span>\n",
       "<span style=\"color: #008000; text-decoration-color: #008000\">extreme congestion (95.0%)'</span><span style=\"font-weight: bold\">}]</span>\n",
       "</pre>\n"
      ],
      "text/plain": [
       "  ❌ Skipping invalid command: \u001b[1m[\u001b[0m\u001b[1m{\u001b[0m\u001b[32m'service'\u001b[0m: \u001b[32m'emergency'\u001b[0m, \u001b[32m'action'\u001b[0m: \u001b[32m'assign_drone'\u001b[0m, \u001b[32m'parameters'\u001b[0m: \u001b[1m{\u001b[0m\u001b[32m'drone_id'\u001b[0m: \n",
       "\u001b[32m'medical_drone_1'\u001b[0m, \u001b[32m'incident_id'\u001b[0m: \u001b[32m'cardiac_arrest_1'\u001b[0m\u001b[1m}\u001b[0m, \u001b[32m'rule'\u001b[0m: \u001b[32m'Simple Rule: Assign medical_drone_1 to most urgent \u001b[0m\n",
       "\u001b[32mincident cardiac_arrest_1 \u001b[0m\u001b[32m(\u001b[0m\u001b[32murgency: 99.0%\u001b[0m\u001b[32m)\u001b[0m\u001b[32m'\u001b[0m\u001b[1m}\u001b[0m, \u001b[1m{\u001b[0m\u001b[32m'service'\u001b[0m: \u001b[32m'traffic'\u001b[0m, \u001b[32m'action'\u001b[0m: \u001b[32m'redirect'\u001b[0m, \u001b[32m'parameters'\u001b[0m: \n",
       "\u001b[1m{\u001b[0m\u001b[32m'sector_id'\u001b[0m: \u001b[32m'festival_access'\u001b[0m, \u001b[32m'target_reduction'\u001b[0m: \u001b[1;36m0.3\u001b[0m\u001b[1m}\u001b[0m, \u001b[32m'rule'\u001b[0m: \u001b[32m'Simple Rule: Redirect festival_access due to \u001b[0m\n",
       "\u001b[32mextreme congestion \u001b[0m\u001b[32m(\u001b[0m\u001b[32m95.0%\u001b[0m\u001b[32m)\u001b[0m\u001b[32m'\u001b[0m\u001b[1m}\u001b[0m\u001b[1m]\u001b[0m\n"
      ]
     },
     "metadata": {},
     "output_type": "display_data"
    },
    {
     "data": {
      "text/html": [
       "<pre style=\"white-space:pre;overflow-x:auto;line-height:normal;font-family:Menlo,'DejaVu Sans Mono',consolas,'Courier New',monospace\">  ❌ Skipping invalid command: <span style=\"color: #008080; text-decoration-color: #008080; font-weight: bold\">1.0</span>\n",
       "</pre>\n"
      ],
      "text/plain": [
       "  ❌ Skipping invalid command: \u001b[1;36m1.0\u001b[0m\n"
      ]
     },
     "metadata": {},
     "output_type": "display_data"
    },
    {
     "name": "stderr",
     "output_type": "stream",
     "text": [
      "INFO:command_evaluator:Evaluation complete - Overall score: 0.57\n"
     ]
    },
    {
     "data": {
      "text/html": [
       "<pre style=\"white-space:pre;overflow-x:auto;line-height:normal;font-family:Menlo,'DejaVu Sans Mono',consolas,'Courier New',monospace\"><span style=\"color: #800000; text-decoration-color: #800000\">╭───────────────────────────────────── Rule-Based System: Medical Emergency ──────────────────────────────────────╮</span>\n",
       "<span style=\"color: #800000; text-decoration-color: #800000\">│</span> ❌ **Rule-Based System Failed on Medical Emergency**                                                            <span style=\"color: #800000; text-decoration-color: #800000\">│</span>\n",
       "<span style=\"color: #800000; text-decoration-color: #800000\">│</span>                                                                                                                 <span style=\"color: #800000; text-decoration-color: #800000\">│</span>\n",
       "<span style=\"color: #800000; text-decoration-color: #800000\">│</span> Success Rate: 57.4%                                                                                             <span style=\"color: #800000; text-decoration-color: #800000\">│</span>\n",
       "<span style=\"color: #800000; text-decoration-color: #800000\">│</span> Commands Generated: 2                                                                                           <span style=\"color: #800000; text-decoration-color: #800000\">│</span>\n",
       "<span style=\"color: #800000; text-decoration-color: #800000\">│</span> **Why it failed:**                                                                                              <span style=\"color: #800000; text-decoration-color: #800000\">│</span>\n",
       "<span style=\"color: #800000; text-decoration-color: #800000\">│</span> • Heat wave rules applied to medical emergency scenario                                                         <span style=\"color: #800000; text-decoration-color: #800000\">│</span>\n",
       "<span style=\"color: #800000; text-decoration-color: #800000\">│</span> • Rules designed for grid stress, not festival medical incidents                                                <span style=\"color: #800000; text-decoration-color: #800000\">│</span>\n",
       "<span style=\"color: #800000; text-decoration-color: #800000\">│</span> • No logic for crowd control or medical triage                                                                  <span style=\"color: #800000; text-decoration-color: #800000\">│</span>\n",
       "<span style=\"color: #800000; text-decoration-color: #800000\">│</span> • Rigid, scenario-specific approach cannot adapt                                                                <span style=\"color: #800000; text-decoration-color: #800000\">│</span>\n",
       "<span style=\"color: #800000; text-decoration-color: #800000\">╰─────────────────────────────────────────────────────────────────────────────────────────────────────────────────╯</span>\n",
       "</pre>\n"
      ],
      "text/plain": [
       "\u001b[31m╭─\u001b[0m\u001b[31m────────────────────────────────────\u001b[0m\u001b[31m Rule-Based System: Medical Emergency \u001b[0m\u001b[31m─────────────────────────────────────\u001b[0m\u001b[31m─╮\u001b[0m\n",
       "\u001b[31m│\u001b[0m ❌ **Rule-Based System Failed on Medical Emergency**                                                            \u001b[31m│\u001b[0m\n",
       "\u001b[31m│\u001b[0m                                                                                                                 \u001b[31m│\u001b[0m\n",
       "\u001b[31m│\u001b[0m Success Rate: 57.4%                                                                                             \u001b[31m│\u001b[0m\n",
       "\u001b[31m│\u001b[0m Commands Generated: 2                                                                                           \u001b[31m│\u001b[0m\n",
       "\u001b[31m│\u001b[0m **Why it failed:**                                                                                              \u001b[31m│\u001b[0m\n",
       "\u001b[31m│\u001b[0m • Heat wave rules applied to medical emergency scenario                                                         \u001b[31m│\u001b[0m\n",
       "\u001b[31m│\u001b[0m • Rules designed for grid stress, not festival medical incidents                                                \u001b[31m│\u001b[0m\n",
       "\u001b[31m│\u001b[0m • No logic for crowd control or medical triage                                                                  \u001b[31m│\u001b[0m\n",
       "\u001b[31m│\u001b[0m • Rigid, scenario-specific approach cannot adapt                                                                \u001b[31m│\u001b[0m\n",
       "\u001b[31m╰─────────────────────────────────────────────────────────────────────────────────────────────────────────────────╯\u001b[0m\n"
      ]
     },
     "metadata": {},
     "output_type": "display_data"
    },
    {
     "data": {
      "text/html": [
       "<pre style=\"white-space:pre;overflow-x:auto;line-height:normal;font-family:Menlo,'DejaVu Sans Mono',consolas,'Courier New',monospace\">\n",
       "🤖 Testing Agent System on Medical Emergency\n",
       "</pre>\n"
      ],
      "text/plain": [
       "\n",
       "🤖 Testing Agent System on Medical Emergency\n"
      ]
     },
     "metadata": {},
     "output_type": "display_data"
    },
    {
     "data": {
      "text/html": [
       "<pre style=\"white-space:pre;overflow-x:auto;line-height:normal;font-family:Menlo,'DejaVu Sans Mono',consolas,'Courier New',monospace\">🔄 Resetting all service states<span style=\"color: #808000; text-decoration-color: #808000\">...</span>\n",
       "</pre>\n"
      ],
      "text/plain": [
       "🔄 Resetting all service states\u001b[33m...\u001b[0m\n"
      ]
     },
     "metadata": {},
     "output_type": "display_data"
    },
    {
     "data": {
      "text/html": [
       "<pre style=\"white-space:pre;overflow-x:auto;line-height:normal;font-family:Menlo,'DejaVu Sans Mono',consolas,'Courier New',monospace\">  ✅ GRID state reset\n",
       "</pre>\n"
      ],
      "text/plain": [
       "  ✅ GRID state reset\n"
      ]
     },
     "metadata": {},
     "output_type": "display_data"
    },
    {
     "data": {
      "text/html": [
       "<pre style=\"white-space:pre;overflow-x:auto;line-height:normal;font-family:Menlo,'DejaVu Sans Mono',consolas,'Courier New',monospace\">  ✅ EMERGENCY state reset\n",
       "</pre>\n"
      ],
      "text/plain": [
       "  ✅ EMERGENCY state reset\n"
      ]
     },
     "metadata": {},
     "output_type": "display_data"
    },
    {
     "data": {
      "text/html": [
       "<pre style=\"white-space:pre;overflow-x:auto;line-height:normal;font-family:Menlo,'DejaVu Sans Mono',consolas,'Courier New',monospace\">  ✅ TRAFFIC state reset\n",
       "</pre>\n"
      ],
      "text/plain": [
       "  ✅ TRAFFIC state reset\n"
      ]
     },
     "metadata": {},
     "output_type": "display_data"
    },
    {
     "data": {
      "text/html": [
       "<pre style=\"white-space:pre;overflow-x:auto;line-height:normal;font-family:Menlo,'DejaVu Sans Mono',consolas,'Courier New',monospace\">  ✅ SCENARIO state reset\n",
       "</pre>\n"
      ],
      "text/plain": [
       "  ✅ SCENARIO state reset\n"
      ]
     },
     "metadata": {},
     "output_type": "display_data"
    },
    {
     "data": {
      "text/html": [
       "<pre style=\"white-space:pre;overflow-x:auto;line-height:normal;font-family:Menlo,'DejaVu Sans Mono',consolas,'Courier New',monospace\">🎭 Providing medical emergency context to agents<span style=\"color: #808000; text-decoration-color: #808000\">...</span>\n",
       "</pre>\n"
      ],
      "text/plain": [
       "🎭 Providing medical emergency context to agents\u001b[33m...\u001b[0m\n"
      ]
     },
     "metadata": {},
     "output_type": "display_data"
    },
    {
     "name": "stderr",
     "output_type": "stream",
     "text": [
      "/Users/anishshah/Documents/Manual Library/GitHub/fc-workshop-track-2/.venv/lib/python3.11/site-packages/httpx/_urls.py:408: UserWarning: URL.raw is deprecated.\n",
      "  warnings.warn(\"URL.raw is deprecated.\")\n",
      "/Users/anishshah/Documents/Manual Library/GitHub/fc-workshop-track-2/.venv/lib/python3.11/site-packages/httpx/_urls.py:408: UserWarning: URL.raw is deprecated.\n",
      "  warnings.warn(\"URL.raw is deprecated.\")\n",
      "/Users/anishshah/Documents/Manual Library/GitHub/fc-workshop-track-2/.venv/lib/python3.11/site-packages/httpx/_urls.py:408: UserWarning: URL.raw is deprecated.\n",
      "  warnings.warn(\"URL.raw is deprecated.\")\n",
      "/Users/anishshah/Documents/Manual Library/GitHub/fc-workshop-track-2/.venv/lib/python3.11/site-packages/httpx/_urls.py:408: UserWarning: URL.raw is deprecated.\n",
      "  warnings.warn(\"URL.raw is deprecated.\")\n",
      "INFO:command:Executing adjust_zone on ServiceType.GRID service\n"
     ]
    },
    {
     "data": {
      "text/html": [
       "<pre style=\"white-space:pre;overflow-x:auto;line-height:normal;font-family:Menlo,'DejaVu Sans Mono',consolas,'Courier New',monospace\">🔧 Grid: Z001 → <span style=\"color: #008080; text-decoration-color: #008080; font-weight: bold\">80.0</span>% <span style=\"font-weight: bold\">(</span>To reduce overload and improve stability due to high demand.<span style=\"font-weight: bold\">)</span> - SUCCESS\n",
       "</pre>\n"
      ],
      "text/plain": [
       "🔧 Grid: Z001 → \u001b[1;36m80.0\u001b[0m% \u001b[1m(\u001b[0mTo reduce overload and improve stability due to high demand.\u001b[1m)\u001b[0m - SUCCESS\n"
      ]
     },
     "metadata": {},
     "output_type": "display_data"
    },
    {
     "name": "stderr",
     "output_type": "stream",
     "text": [
      "INFO:command:Executing set_priority on ServiceType.GRID service\n"
     ]
    },
    {
     "data": {
      "text/html": [
       "<pre style=\"white-space:pre;overflow-x:auto;line-height:normal;font-family:Menlo,'DejaVu Sans Mono',consolas,'Courier New',monospace\">⚡ Priority: hospital → critical <span style=\"font-weight: bold\">(</span>Ensuring uninterrupted power supply for essential medical services.<span style=\"font-weight: bold\">)</span> - SUCCESS\n",
       "</pre>\n"
      ],
      "text/plain": [
       "⚡ Priority: hospital → critical \u001b[1m(\u001b[0mEnsuring uninterrupted power supply for essential medical services.\u001b[1m)\u001b[0m - SUCCESS\n"
      ]
     },
     "metadata": {},
     "output_type": "display_data"
    },
    {
     "name": "stderr",
     "output_type": "stream",
     "text": [
      "INFO:command:Executing set_priority on ServiceType.GRID service\n"
     ]
    },
    {
     "data": {
      "text/html": [
       "<pre style=\"white-space:pre;overflow-x:auto;line-height:normal;font-family:Menlo,'DejaVu Sans Mono',consolas,'Courier New',monospace\">⚡ Priority: emergency_services → critical <span style=\"font-weight: bold\">(</span>Supporting emergency operations amidst increased demand.<span style=\"font-weight: bold\">)</span> - SUCCESS\n",
       "</pre>\n"
      ],
      "text/plain": [
       "⚡ Priority: emergency_services → critical \u001b[1m(\u001b[0mSupporting emergency operations amidst increased demand.\u001b[1m)\u001b[0m - SUCCESS\n"
      ]
     },
     "metadata": {},
     "output_type": "display_data"
    },
    {
     "name": "stderr",
     "output_type": "stream",
     "text": [
      "INFO:command:Executing set_priority on ServiceType.GRID service\n"
     ]
    },
    {
     "data": {
      "text/html": [
       "<pre style=\"white-space:pre;overflow-x:auto;line-height:normal;font-family:Menlo,'DejaVu Sans Mono',consolas,'Courier New',monospace\">⚡ Priority: police → critical <span style=\"font-weight: bold\">(</span>Ensuring operational capabilities during the heat wave.<span style=\"font-weight: bold\">)</span> - SUCCESS\n",
       "</pre>\n"
      ],
      "text/plain": [
       "⚡ Priority: police → critical \u001b[1m(\u001b[0mEnsuring operational capabilities during the heat wave.\u001b[1m)\u001b[0m - SUCCESS\n"
      ]
     },
     "metadata": {},
     "output_type": "display_data"
    },
    {
     "name": "stderr",
     "output_type": "stream",
     "text": [
      "INFO:command:Executing adjust_zone on ServiceType.GRID service\n"
     ]
    },
    {
     "data": {
      "text/html": [
       "<pre style=\"white-space:pre;overflow-x:auto;line-height:normal;font-family:Menlo,'DejaVu Sans Mono',consolas,'Courier New',monospace\">🔧 Grid: Z002 → <span style=\"color: #008080; text-decoration-color: #008080; font-weight: bold\">75.0</span>% <span style=\"font-weight: bold\">(</span>To prevent potential overload as demand increases during the heat wave.<span style=\"font-weight: bold\">)</span> - SUCCESS\n",
       "</pre>\n"
      ],
      "text/plain": [
       "🔧 Grid: Z002 → \u001b[1;36m75.0\u001b[0m% \u001b[1m(\u001b[0mTo prevent potential overload as demand increases during the heat wave.\u001b[1m)\u001b[0m - SUCCESS\n"
      ]
     },
     "metadata": {},
     "output_type": "display_data"
    },
    {
     "name": "stderr",
     "output_type": "stream",
     "text": [
      "INFO:command:Executing adjust_zone on ServiceType.GRID service\n"
     ]
    },
    {
     "data": {
      "text/html": [
       "<pre style=\"white-space:pre;overflow-x:auto;line-height:normal;font-family:Menlo,'DejaVu Sans Mono',consolas,'Courier New',monospace\">🔧 Grid: Z003 → <span style=\"color: #008080; text-decoration-color: #008080; font-weight: bold\">70.0</span>% <span style=\"font-weight: bold\">(</span>To ensure stability and anticipate potential load increase.<span style=\"font-weight: bold\">)</span> - SUCCESS\n",
       "</pre>\n"
      ],
      "text/plain": [
       "🔧 Grid: Z003 → \u001b[1;36m70.0\u001b[0m% \u001b[1m(\u001b[0mTo ensure stability and anticipate potential load increase.\u001b[1m)\u001b[0m - SUCCESS\n"
      ]
     },
     "metadata": {},
     "output_type": "display_data"
    },
    {
     "name": "stderr",
     "output_type": "stream",
     "text": [
      "INFO:command:Executing adjust_zone on ServiceType.GRID service\n"
     ]
    },
    {
     "data": {
      "text/html": [
       "<pre style=\"white-space:pre;overflow-x:auto;line-height:normal;font-family:Menlo,'DejaVu Sans Mono',consolas,'Courier New',monospace\">🔧 Grid: Z004 → <span style=\"color: #008080; text-decoration-color: #008080; font-weight: bold\">60.0</span>% <span style=\"font-weight: bold\">(</span>To support overall grid management and avoid overload in case of sudden demand spikes.<span style=\"font-weight: bold\">)</span> - \n",
       "SUCCESS\n",
       "</pre>\n"
      ],
      "text/plain": [
       "🔧 Grid: Z004 → \u001b[1;36m60.0\u001b[0m% \u001b[1m(\u001b[0mTo support overall grid management and avoid overload in case of sudden demand spikes.\u001b[1m)\u001b[0m - \n",
       "SUCCESS\n"
      ]
     },
     "metadata": {},
     "output_type": "display_data"
    },
    {
     "name": "stderr",
     "output_type": "stream",
     "text": [
      "INFO:command:Executing set_priority on ServiceType.GRID service\n"
     ]
    },
    {
     "data": {
      "text/html": [
       "<pre style=\"white-space:pre;overflow-x:auto;line-height:normal;font-family:Menlo,'DejaVu Sans Mono',consolas,'Courier New',monospace\">⚡ Priority: hospital → critical <span style=\"font-weight: bold\">(</span>To ensure continuous operation during the heat wave.<span style=\"font-weight: bold\">)</span> - SUCCESS\n",
       "</pre>\n"
      ],
      "text/plain": [
       "⚡ Priority: hospital → critical \u001b[1m(\u001b[0mTo ensure continuous operation during the heat wave.\u001b[1m)\u001b[0m - SUCCESS\n"
      ]
     },
     "metadata": {},
     "output_type": "display_data"
    },
    {
     "name": "stderr",
     "output_type": "stream",
     "text": [
      "INFO:command:Executing set_priority on ServiceType.GRID service\n"
     ]
    },
    {
     "data": {
      "text/html": [
       "<pre style=\"white-space:pre;overflow-x:auto;line-height:normal;font-family:Menlo,'DejaVu Sans Mono',consolas,'Courier New',monospace\">⚡ Priority: emergency_services → critical <span style=\"font-weight: bold\">(</span>To support emergency response operations effectively during the heat \n",
       "wave crisis.<span style=\"font-weight: bold\">)</span> - SUCCESS\n",
       "</pre>\n"
      ],
      "text/plain": [
       "⚡ Priority: emergency_services → critical \u001b[1m(\u001b[0mTo support emergency response operations effectively during the heat \n",
       "wave crisis.\u001b[1m)\u001b[0m - SUCCESS\n"
      ]
     },
     "metadata": {},
     "output_type": "display_data"
    },
    {
     "name": "stderr",
     "output_type": "stream",
     "text": [
      "INFO:command:Executing set_priority on ServiceType.GRID service\n"
     ]
    },
    {
     "data": {
      "text/html": [
       "<pre style=\"white-space:pre;overflow-x:auto;line-height:normal;font-family:Menlo,'DejaVu Sans Mono',consolas,'Courier New',monospace\">⚡ Priority: police → critical <span style=\"font-weight: bold\">(</span>To guarantee law enforcement operations are unaffected during the crisis scenario.<span style=\"font-weight: bold\">)</span>\n",
       "- SUCCESS\n",
       "</pre>\n"
      ],
      "text/plain": [
       "⚡ Priority: police → critical \u001b[1m(\u001b[0mTo guarantee law enforcement operations are unaffected during the crisis scenario.\u001b[1m)\u001b[0m\n",
       "- SUCCESS\n"
      ]
     },
     "metadata": {},
     "output_type": "display_data"
    },
    {
     "name": "stderr",
     "output_type": "stream",
     "text": [
      "INFO:command:Executing adjust_zone on ServiceType.GRID service\n"
     ]
    },
    {
     "data": {
      "text/html": [
       "<pre style=\"white-space:pre;overflow-x:auto;line-height:normal;font-family:Menlo,'DejaVu Sans Mono',consolas,'Courier New',monospace\">🔧 Grid: Z001 → <span style=\"color: #008080; text-decoration-color: #008080; font-weight: bold\">80.0</span>% <span style=\"font-weight: bold\">(</span>Reducing capacity to prevent overload and maintain stability due to high load.<span style=\"font-weight: bold\">)</span> - SUCCESS\n",
       "</pre>\n"
      ],
      "text/plain": [
       "🔧 Grid: Z001 → \u001b[1;36m80.0\u001b[0m% \u001b[1m(\u001b[0mReducing capacity to prevent overload and maintain stability due to high load.\u001b[1m)\u001b[0m - SUCCESS\n"
      ]
     },
     "metadata": {},
     "output_type": "display_data"
    },
    {
     "name": "stderr",
     "output_type": "stream",
     "text": [
      "INFO:command:Executing adjust_zone on ServiceType.GRID service\n"
     ]
    },
    {
     "data": {
      "text/html": [
       "<pre style=\"white-space:pre;overflow-x:auto;line-height:normal;font-family:Menlo,'DejaVu Sans Mono',consolas,'Courier New',monospace\">🔧 Grid: Z002 → <span style=\"color: #008080; text-decoration-color: #008080; font-weight: bold\">75.0</span>% <span style=\"font-weight: bold\">(</span>Adjusting capacity to manage potential overload due to increasing load.<span style=\"font-weight: bold\">)</span> - SUCCESS\n",
       "</pre>\n"
      ],
      "text/plain": [
       "🔧 Grid: Z002 → \u001b[1;36m75.0\u001b[0m% \u001b[1m(\u001b[0mAdjusting capacity to manage potential overload due to increasing load.\u001b[1m)\u001b[0m - SUCCESS\n"
      ]
     },
     "metadata": {},
     "output_type": "display_data"
    },
    {
     "name": "stderr",
     "output_type": "stream",
     "text": [
      "INFO:command:Executing adjust_zone on ServiceType.GRID service\n"
     ]
    },
    {
     "data": {
      "text/html": [
       "<pre style=\"white-space:pre;overflow-x:auto;line-height:normal;font-family:Menlo,'DejaVu Sans Mono',consolas,'Courier New',monospace\">🔧 Grid: Z003 → <span style=\"color: #008080; text-decoration-color: #008080; font-weight: bold\">70.0</span>% <span style=\"font-weight: bold\">(</span>Capacity reduction to balance grid demand and preserve stability.<span style=\"font-weight: bold\">)</span> - SUCCESS\n",
       "</pre>\n"
      ],
      "text/plain": [
       "🔧 Grid: Z003 → \u001b[1;36m70.0\u001b[0m% \u001b[1m(\u001b[0mCapacity reduction to balance grid demand and preserve stability.\u001b[1m)\u001b[0m - SUCCESS\n"
      ]
     },
     "metadata": {},
     "output_type": "display_data"
    },
    {
     "name": "stderr",
     "output_type": "stream",
     "text": [
      "INFO:command:Executing adjust_zone on ServiceType.GRID service\n"
     ]
    },
    {
     "data": {
      "text/html": [
       "<pre style=\"white-space:pre;overflow-x:auto;line-height:normal;font-family:Menlo,'DejaVu Sans Mono',consolas,'Courier New',monospace\">🔧 Grid: Z004 → <span style=\"color: #008080; text-decoration-color: #008080; font-weight: bold\">60.0</span>% <span style=\"font-weight: bold\">(</span>Adjustment needed to manage stability and potential demand surge during the heat wave.<span style=\"font-weight: bold\">)</span> - \n",
       "SUCCESS\n",
       "</pre>\n"
      ],
      "text/plain": [
       "🔧 Grid: Z004 → \u001b[1;36m60.0\u001b[0m% \u001b[1m(\u001b[0mAdjustment needed to manage stability and potential demand surge during the heat wave.\u001b[1m)\u001b[0m - \n",
       "SUCCESS\n"
      ]
     },
     "metadata": {},
     "output_type": "display_data"
    },
    {
     "name": "stderr",
     "output_type": "stream",
     "text": [
      "/Users/anishshah/Documents/Manual Library/GitHub/fc-workshop-track-2/.venv/lib/python3.11/site-packages/httpx/_urls.py:408: UserWarning: URL.raw is deprecated.\n",
      "  warnings.warn(\"URL.raw is deprecated.\")\n",
      "/Users/anishshah/Documents/Manual Library/GitHub/fc-workshop-track-2/.venv/lib/python3.11/site-packages/httpx/_urls.py:408: UserWarning: URL.raw is deprecated.\n",
      "  warnings.warn(\"URL.raw is deprecated.\")\n",
      "INFO:command:Executing assign_drone on ServiceType.EMERGENCY service\n"
     ]
    },
    {
     "data": {
      "text/html": [
       "<pre style=\"white-space:pre;overflow-x:auto;line-height:normal;font-family:Menlo,'DejaVu Sans Mono',consolas,'Courier New',monospace\">🚁 Drone: D001 → E-<span style=\"color: #008080; text-decoration-color: #008080; font-weight: bold\">1001</span> <span style=\"font-weight: bold\">(</span>High urgency incident requiring immediate drone assistance.<span style=\"font-weight: bold\">)</span> - SUCCESS\n",
       "</pre>\n"
      ],
      "text/plain": [
       "🚁 Drone: D001 → E-\u001b[1;36m1001\u001b[0m \u001b[1m(\u001b[0mHigh urgency incident requiring immediate drone assistance.\u001b[1m)\u001b[0m - SUCCESS\n"
      ]
     },
     "metadata": {},
     "output_type": "display_data"
    },
    {
     "name": "stderr",
     "output_type": "stream",
     "text": [
      "INFO:command:Executing assign_drone on ServiceType.EMERGENCY service\n"
     ]
    },
    {
     "data": {
      "text/html": [
       "<pre style=\"white-space:pre;overflow-x:auto;line-height:normal;font-family:Menlo,'DejaVu Sans Mono',consolas,'Courier New',monospace\">🚁 Drone: D002 → E-<span style=\"color: #008080; text-decoration-color: #008080; font-weight: bold\">1002</span> <span style=\"font-weight: bold\">(</span>High urgency incident requiring immediate drone assistance.<span style=\"font-weight: bold\">)</span> - SUCCESS\n",
       "</pre>\n"
      ],
      "text/plain": [
       "🚁 Drone: D002 → E-\u001b[1;36m1002\u001b[0m \u001b[1m(\u001b[0mHigh urgency incident requiring immediate drone assistance.\u001b[1m)\u001b[0m - SUCCESS\n"
      ]
     },
     "metadata": {},
     "output_type": "display_data"
    },
    {
     "name": "stderr",
     "output_type": "stream",
     "text": [
      "INFO:command:Executing assign_drone on ServiceType.EMERGENCY service\n"
     ]
    },
    {
     "data": {
      "text/html": [
       "<pre style=\"white-space:pre;overflow-x:auto;line-height:normal;font-family:Menlo,'DejaVu Sans Mono',consolas,'Courier New',monospace\">🚁 Drone: D003 → E-<span style=\"color: #008080; text-decoration-color: #008080; font-weight: bold\">1003</span> <span style=\"font-weight: bold\">(</span>High urgency incident necessitating rapid drone response.<span style=\"font-weight: bold\">)</span> - SUCCESS\n",
       "</pre>\n"
      ],
      "text/plain": [
       "🚁 Drone: D003 → E-\u001b[1;36m1003\u001b[0m \u001b[1m(\u001b[0mHigh urgency incident necessitating rapid drone response.\u001b[1m)\u001b[0m - SUCCESS\n"
      ]
     },
     "metadata": {},
     "output_type": "display_data"
    },
    {
     "name": "stderr",
     "output_type": "stream",
     "text": [
      "INFO:command:Executing assign_drone on ServiceType.EMERGENCY service\n"
     ]
    },
    {
     "data": {
      "text/html": [
       "<pre style=\"white-space:pre;overflow-x:auto;line-height:normal;font-family:Menlo,'DejaVu Sans Mono',consolas,'Courier New',monospace\">🚁 Drone: D004 → E-<span style=\"color: #008080; text-decoration-color: #008080; font-weight: bold\">1004</span> <span style=\"font-weight: bold\">(</span>Urgent situation demanding quick drone intervention.<span style=\"font-weight: bold\">)</span> - SUCCESS\n",
       "</pre>\n"
      ],
      "text/plain": [
       "🚁 Drone: D004 → E-\u001b[1;36m1004\u001b[0m \u001b[1m(\u001b[0mUrgent situation demanding quick drone intervention.\u001b[1m)\u001b[0m - SUCCESS\n"
      ]
     },
     "metadata": {},
     "output_type": "display_data"
    },
    {
     "name": "stderr",
     "output_type": "stream",
     "text": [
      "INFO:command:Executing assign_drone on ServiceType.EMERGENCY service\n"
     ]
    },
    {
     "data": {
      "text/html": [
       "<pre style=\"white-space:pre;overflow-x:auto;line-height:normal;font-family:Menlo,'DejaVu Sans Mono',consolas,'Courier New',monospace\">🚁 Drone: D005 → E-<span style=\"color: #008080; text-decoration-color: #008080; font-weight: bold\">1005</span> <span style=\"font-weight: bold\">(</span>High urgency event requiring drone deployment.<span style=\"font-weight: bold\">)</span> - SUCCESS\n",
       "</pre>\n"
      ],
      "text/plain": [
       "🚁 Drone: D005 → E-\u001b[1;36m1005\u001b[0m \u001b[1m(\u001b[0mHigh urgency event requiring drone deployment.\u001b[1m)\u001b[0m - SUCCESS\n"
      ]
     },
     "metadata": {},
     "output_type": "display_data"
    },
    {
     "name": "stderr",
     "output_type": "stream",
     "text": [
      "INFO:command:Executing update_incident on ServiceType.EMERGENCY service\n"
     ]
    },
    {
     "data": {
      "text/html": [
       "<pre style=\"white-space:pre;overflow-x:auto;line-height:normal;font-family:Menlo,'DejaVu Sans Mono',consolas,'Courier New',monospace\">🚨 Incident: E-<span style=\"color: #008080; text-decoration-color: #008080; font-weight: bold\">1001</span> → in_progress <span style=\"font-weight: bold\">(</span>Drone D001 has been dispatched and is currently engaged with the incident.<span style=\"font-weight: bold\">)</span> - \n",
       "SUCCESS\n",
       "</pre>\n"
      ],
      "text/plain": [
       "🚨 Incident: E-\u001b[1;36m1001\u001b[0m → in_progress \u001b[1m(\u001b[0mDrone D001 has been dispatched and is currently engaged with the incident.\u001b[1m)\u001b[0m - \n",
       "SUCCESS\n"
      ]
     },
     "metadata": {},
     "output_type": "display_data"
    },
    {
     "name": "stderr",
     "output_type": "stream",
     "text": [
      "INFO:command:Executing update_incident on ServiceType.EMERGENCY service\n"
     ]
    },
    {
     "data": {
      "text/html": [
       "<pre style=\"white-space:pre;overflow-x:auto;line-height:normal;font-family:Menlo,'DejaVu Sans Mono',consolas,'Courier New',monospace\">🚨 Incident: E-<span style=\"color: #008080; text-decoration-color: #008080; font-weight: bold\">1002</span> → in_progress <span style=\"font-weight: bold\">(</span>Drone D002 is actively managing the incident.<span style=\"font-weight: bold\">)</span> - SUCCESS\n",
       "</pre>\n"
      ],
      "text/plain": [
       "🚨 Incident: E-\u001b[1;36m1002\u001b[0m → in_progress \u001b[1m(\u001b[0mDrone D002 is actively managing the incident.\u001b[1m)\u001b[0m - SUCCESS\n"
      ]
     },
     "metadata": {},
     "output_type": "display_data"
    },
    {
     "name": "stderr",
     "output_type": "stream",
     "text": [
      "INFO:command:Executing update_incident on ServiceType.EMERGENCY service\n"
     ]
    },
    {
     "data": {
      "text/html": [
       "<pre style=\"white-space:pre;overflow-x:auto;line-height:normal;font-family:Menlo,'DejaVu Sans Mono',consolas,'Courier New',monospace\">🚨 Incident: E-<span style=\"color: #008080; text-decoration-color: #008080; font-weight: bold\">1003</span> → in_progress <span style=\"font-weight: bold\">(</span>Drone D003 is attending to the situation.<span style=\"font-weight: bold\">)</span> - SUCCESS\n",
       "</pre>\n"
      ],
      "text/plain": [
       "🚨 Incident: E-\u001b[1;36m1003\u001b[0m → in_progress \u001b[1m(\u001b[0mDrone D003 is attending to the situation.\u001b[1m)\u001b[0m - SUCCESS\n"
      ]
     },
     "metadata": {},
     "output_type": "display_data"
    },
    {
     "name": "stderr",
     "output_type": "stream",
     "text": [
      "INFO:command:Executing update_incident on ServiceType.EMERGENCY service\n"
     ]
    },
    {
     "data": {
      "text/html": [
       "<pre style=\"white-space:pre;overflow-x:auto;line-height:normal;font-family:Menlo,'DejaVu Sans Mono',consolas,'Courier New',monospace\">🚨 Incident: E-<span style=\"color: #008080; text-decoration-color: #008080; font-weight: bold\">1004</span> → in_progress <span style=\"font-weight: bold\">(</span>Drone D004 is engaged with the incident response.<span style=\"font-weight: bold\">)</span> - SUCCESS\n",
       "</pre>\n"
      ],
      "text/plain": [
       "🚨 Incident: E-\u001b[1;36m1004\u001b[0m → in_progress \u001b[1m(\u001b[0mDrone D004 is engaged with the incident response.\u001b[1m)\u001b[0m - SUCCESS\n"
      ]
     },
     "metadata": {},
     "output_type": "display_data"
    },
    {
     "name": "stderr",
     "output_type": "stream",
     "text": [
      "INFO:command:Executing update_incident on ServiceType.EMERGENCY service\n"
     ]
    },
    {
     "data": {
      "text/html": [
       "<pre style=\"white-space:pre;overflow-x:auto;line-height:normal;font-family:Menlo,'DejaVu Sans Mono',consolas,'Courier New',monospace\">🚨 Incident: E-<span style=\"color: #008080; text-decoration-color: #008080; font-weight: bold\">1005</span> → in_progress <span style=\"font-weight: bold\">(</span>Drone D005 is actively involved in managing the incident.<span style=\"font-weight: bold\">)</span> - SUCCESS\n",
       "</pre>\n"
      ],
      "text/plain": [
       "🚨 Incident: E-\u001b[1;36m1005\u001b[0m → in_progress \u001b[1m(\u001b[0mDrone D005 is actively involved in managing the incident.\u001b[1m)\u001b[0m - SUCCESS\n"
      ]
     },
     "metadata": {},
     "output_type": "display_data"
    },
    {
     "name": "stderr",
     "output_type": "stream",
     "text": [
      "/Users/anishshah/Documents/Manual Library/GitHub/fc-workshop-track-2/.venv/lib/python3.11/site-packages/httpx/_urls.py:408: UserWarning: URL.raw is deprecated.\n",
      "  warnings.warn(\"URL.raw is deprecated.\")\n",
      "/Users/anishshah/Documents/Manual Library/GitHub/fc-workshop-track-2/.venv/lib/python3.11/site-packages/httpx/_urls.py:408: UserWarning: URL.raw is deprecated.\n",
      "  warnings.warn(\"URL.raw is deprecated.\")\n",
      "INFO:command:Executing block_route on ServiceType.TRAFFIC service\n"
     ]
    },
    {
     "data": {
      "text/html": [
       "<pre style=\"white-space:pre;overflow-x:auto;line-height:normal;font-family:Menlo,'DejaVu Sans Mono',consolas,'Courier New',monospace\">🚧 Route: S003 blocked for 120min <span style=\"font-weight: bold\">(</span>Enable an emergency vehicle corridor for rapid response during peak heat wave \n",
       "times.<span style=\"font-weight: bold\">)</span> - SUCCESS\n",
       "</pre>\n"
      ],
      "text/plain": [
       "🚧 Route: S003 blocked for 120min \u001b[1m(\u001b[0mEnable an emergency vehicle corridor for rapid response during peak heat wave \n",
       "times.\u001b[1m)\u001b[0m - SUCCESS\n"
      ]
     },
     "metadata": {},
     "output_type": "display_data"
    },
    {
     "name": "stderr",
     "output_type": "stream",
     "text": [
      "INFO:command:Executing redirect on ServiceType.TRAFFIC service\n"
     ]
    },
    {
     "data": {
      "text/html": [
       "<pre style=\"white-space:pre;overflow-x:auto;line-height:normal;font-family:Menlo,'DejaVu Sans Mono',consolas,'Courier New',monospace\">🚦 Traffic: S001 → <span style=\"color: #008080; text-decoration-color: #008080; font-weight: bold\">20.0</span>% reduction <span style=\"font-weight: bold\">(</span>High congestion expected due to heat wave; reduce traffic to ensure emergency \n",
       "access.<span style=\"font-weight: bold\">)</span> - SUCCESS\n",
       "</pre>\n"
      ],
      "text/plain": [
       "🚦 Traffic: S001 → \u001b[1;36m20.0\u001b[0m% reduction \u001b[1m(\u001b[0mHigh congestion expected due to heat wave; reduce traffic to ensure emergency \n",
       "access.\u001b[1m)\u001b[0m - SUCCESS\n"
      ]
     },
     "metadata": {},
     "output_type": "display_data"
    },
    {
     "name": "stderr",
     "output_type": "stream",
     "text": [
      "INFO:command:Executing redirect on ServiceType.TRAFFIC service\n"
     ]
    },
    {
     "data": {
      "text/html": [
       "<pre style=\"white-space:pre;overflow-x:auto;line-height:normal;font-family:Menlo,'DejaVu Sans Mono',consolas,'Courier New',monospace\">🚦 Traffic: S002 → <span style=\"color: #008080; text-decoration-color: #008080; font-weight: bold\">15.0</span>% reduction <span style=\"font-weight: bold\">(</span>Moderate congestion anticipated; reduce traffic for improved emergency vehicle \n",
       "access.<span style=\"font-weight: bold\">)</span> - SUCCESS\n",
       "</pre>\n"
      ],
      "text/plain": [
       "🚦 Traffic: S002 → \u001b[1;36m15.0\u001b[0m% reduction \u001b[1m(\u001b[0mModerate congestion anticipated; reduce traffic for improved emergency vehicle \n",
       "access.\u001b[1m)\u001b[0m - SUCCESS\n"
      ]
     },
     "metadata": {},
     "output_type": "display_data"
    },
    {
     "data": {
      "text/html": [
       "<pre style=\"white-space:pre;overflow-x:auto;line-height:normal;font-family:Menlo,'DejaVu Sans Mono',consolas,'Courier New',monospace\">🔄 Converting agent results to commands for medical scenario evaluation<span style=\"color: #808000; text-decoration-color: #808000\">...</span>\n",
       "</pre>\n"
      ],
      "text/plain": [
       "🔄 Converting agent results to commands for medical scenario evaluation\u001b[33m...\u001b[0m\n"
      ]
     },
     "metadata": {},
     "output_type": "display_data"
    },
    {
     "data": {
      "text/html": [
       "<pre style=\"white-space:pre;overflow-x:auto;line-height:normal;font-family:Menlo,'DejaVu Sans Mono',consolas,'Courier New',monospace\">🔍 Converting <span style=\"color: #008080; text-decoration-color: #008080; font-weight: bold\">4</span> task outputs\n",
       "</pre>\n"
      ],
      "text/plain": [
       "🔍 Converting \u001b[1;36m4\u001b[0m task outputs\n"
      ]
     },
     "metadata": {},
     "output_type": "display_data"
    },
    {
     "data": {
      "text/html": [
       "<pre style=\"white-space:pre;overflow-x:auto;line-height:normal;font-family:Menlo,'DejaVu Sans Mono',consolas,'Courier New',monospace\">📋 Processing Task <span style=\"color: #008080; text-decoration-color: #008080; font-weight: bold\">0</span>\n",
       "</pre>\n"
      ],
      "text/plain": [
       "📋 Processing Task \u001b[1;36m0\u001b[0m\n"
      ]
     },
     "metadata": {},
     "output_type": "display_data"
    },
    {
     "data": {
      "text/html": [
       "<pre style=\"white-space:pre;overflow-x:auto;line-height:normal;font-family:Menlo,'DejaVu Sans Mono',consolas,'Courier New',monospace\">📋 Task <span style=\"color: #008080; text-decoration-color: #008080; font-weight: bold\">0</span> dict keys: <span style=\"font-weight: bold\">[]</span>\n",
       "</pre>\n"
      ],
      "text/plain": [
       "📋 Task \u001b[1;36m0\u001b[0m dict keys: \u001b[1m[\u001b[0m\u001b[1m]\u001b[0m\n"
      ]
     },
     "metadata": {},
     "output_type": "display_data"
    },
    {
     "data": {
      "text/html": [
       "<pre style=\"white-space:pre;overflow-x:auto;line-height:normal;font-family:Menlo,'DejaVu Sans Mono',consolas,'Courier New',monospace\">📋 Task <span style=\"color: #008080; text-decoration-color: #008080; font-weight: bold\">0</span>: Skipping coordination task\n",
       "</pre>\n"
      ],
      "text/plain": [
       "📋 Task \u001b[1;36m0\u001b[0m: Skipping coordination task\n"
      ]
     },
     "metadata": {},
     "output_type": "display_data"
    },
    {
     "data": {
      "text/html": [
       "<pre style=\"white-space:pre;overflow-x:auto;line-height:normal;font-family:Menlo,'DejaVu Sans Mono',consolas,'Courier New',monospace\">📋 Processing Task <span style=\"color: #008080; text-decoration-color: #008080; font-weight: bold\">1</span>\n",
       "</pre>\n"
      ],
      "text/plain": [
       "📋 Processing Task \u001b[1;36m1\u001b[0m\n"
      ]
     },
     "metadata": {},
     "output_type": "display_data"
    },
    {
     "data": {
      "text/html": [
       "<pre style=\"white-space:pre;overflow-x:auto;line-height:normal;font-family:Menlo,'DejaVu Sans Mono',consolas,'Courier New',monospace\">📋 Task <span style=\"color: #008080; text-decoration-color: #008080; font-weight: bold\">1</span> dict keys: <span style=\"font-weight: bold\">[</span><span style=\"color: #008000; text-decoration-color: #008000\">'zone_adjustments'</span>, <span style=\"color: #008000; text-decoration-color: #008000\">'priority_settings'</span>, <span style=\"color: #008000; text-decoration-color: #008000\">'stability_forecast'</span>, <span style=\"color: #008000; text-decoration-color: #008000\">'coordination_notes'</span><span style=\"font-weight: bold\">]</span>\n",
       "</pre>\n"
      ],
      "text/plain": [
       "📋 Task \u001b[1;36m1\u001b[0m dict keys: \u001b[1m[\u001b[0m\u001b[32m'zone_adjustments'\u001b[0m, \u001b[32m'priority_settings'\u001b[0m, \u001b[32m'stability_forecast'\u001b[0m, \u001b[32m'coordination_notes'\u001b[0m\u001b[1m]\u001b[0m\n"
      ]
     },
     "metadata": {},
     "output_type": "display_data"
    },
    {
     "data": {
      "text/html": [
       "<pre style=\"white-space:pre;overflow-x:auto;line-height:normal;font-family:Menlo,'DejaVu Sans Mono',consolas,'Courier New',monospace\">📋 Task <span style=\"color: #008080; text-decoration-color: #008080; font-weight: bold\">1</span>: Processing Grid Plan\n",
       "</pre>\n"
      ],
      "text/plain": [
       "📋 Task \u001b[1;36m1\u001b[0m: Processing Grid Plan\n"
      ]
     },
     "metadata": {},
     "output_type": "display_data"
    },
    {
     "data": {
      "text/html": [
       "<pre style=\"white-space:pre;overflow-x:auto;line-height:normal;font-family:Menlo,'DejaVu Sans Mono',consolas,'Courier New',monospace\">  🔧 Grid: adjust_zone Z001 → <span style=\"color: #008080; text-decoration-color: #008080; font-weight: bold\">0.8</span>\n",
       "</pre>\n"
      ],
      "text/plain": [
       "  🔧 Grid: adjust_zone Z001 → \u001b[1;36m0.8\u001b[0m\n"
      ]
     },
     "metadata": {},
     "output_type": "display_data"
    },
    {
     "data": {
      "text/html": [
       "<pre style=\"white-space:pre;overflow-x:auto;line-height:normal;font-family:Menlo,'DejaVu Sans Mono',consolas,'Courier New',monospace\">  🔧 Grid: adjust_zone Z002 → <span style=\"color: #008080; text-decoration-color: #008080; font-weight: bold\">0.75</span>\n",
       "</pre>\n"
      ],
      "text/plain": [
       "  🔧 Grid: adjust_zone Z002 → \u001b[1;36m0.75\u001b[0m\n"
      ]
     },
     "metadata": {},
     "output_type": "display_data"
    },
    {
     "data": {
      "text/html": [
       "<pre style=\"white-space:pre;overflow-x:auto;line-height:normal;font-family:Menlo,'DejaVu Sans Mono',consolas,'Courier New',monospace\">  🔧 Grid: adjust_zone Z003 → <span style=\"color: #008080; text-decoration-color: #008080; font-weight: bold\">0.7</span>\n",
       "</pre>\n"
      ],
      "text/plain": [
       "  🔧 Grid: adjust_zone Z003 → \u001b[1;36m0.7\u001b[0m\n"
      ]
     },
     "metadata": {},
     "output_type": "display_data"
    },
    {
     "data": {
      "text/html": [
       "<pre style=\"white-space:pre;overflow-x:auto;line-height:normal;font-family:Menlo,'DejaVu Sans Mono',consolas,'Courier New',monospace\">  🔧 Grid: adjust_zone Z004 → <span style=\"color: #008080; text-decoration-color: #008080; font-weight: bold\">0.6</span>\n",
       "</pre>\n"
      ],
      "text/plain": [
       "  🔧 Grid: adjust_zone Z004 → \u001b[1;36m0.6\u001b[0m\n"
      ]
     },
     "metadata": {},
     "output_type": "display_data"
    },
    {
     "data": {
      "text/html": [
       "<pre style=\"white-space:pre;overflow-x:auto;line-height:normal;font-family:Menlo,'DejaVu Sans Mono',consolas,'Courier New',monospace\">  ⚡ Grid: set_priority hospital → critical\n",
       "</pre>\n"
      ],
      "text/plain": [
       "  ⚡ Grid: set_priority hospital → critical\n"
      ]
     },
     "metadata": {},
     "output_type": "display_data"
    },
    {
     "data": {
      "text/html": [
       "<pre style=\"white-space:pre;overflow-x:auto;line-height:normal;font-family:Menlo,'DejaVu Sans Mono',consolas,'Courier New',monospace\">  ⚡ Grid: set_priority emergency_services → critical\n",
       "</pre>\n"
      ],
      "text/plain": [
       "  ⚡ Grid: set_priority emergency_services → critical\n"
      ]
     },
     "metadata": {},
     "output_type": "display_data"
    },
    {
     "data": {
      "text/html": [
       "<pre style=\"white-space:pre;overflow-x:auto;line-height:normal;font-family:Menlo,'DejaVu Sans Mono',consolas,'Courier New',monospace\">  ⚡ Grid: set_priority police → critical\n",
       "</pre>\n"
      ],
      "text/plain": [
       "  ⚡ Grid: set_priority police → critical\n"
      ]
     },
     "metadata": {},
     "output_type": "display_data"
    },
    {
     "data": {
      "text/html": [
       "<pre style=\"white-space:pre;overflow-x:auto;line-height:normal;font-family:Menlo,'DejaVu Sans Mono',consolas,'Courier New',monospace\">📋 Processing Task <span style=\"color: #008080; text-decoration-color: #008080; font-weight: bold\">2</span>\n",
       "</pre>\n"
      ],
      "text/plain": [
       "📋 Processing Task \u001b[1;36m2\u001b[0m\n"
      ]
     },
     "metadata": {},
     "output_type": "display_data"
    },
    {
     "data": {
      "text/html": [
       "<pre style=\"white-space:pre;overflow-x:auto;line-height:normal;font-family:Menlo,'DejaVu Sans Mono',consolas,'Courier New',monospace\">📋 Task <span style=\"color: #008080; text-decoration-color: #008080; font-weight: bold\">2</span> dict keys: <span style=\"font-weight: bold\">[</span><span style=\"color: #008000; text-decoration-color: #008000\">'drone_assignments'</span>, <span style=\"color: #008000; text-decoration-color: #008000\">'incident_updates'</span>, <span style=\"color: #008000; text-decoration-color: #008000\">'resource_allocation'</span>, <span style=\"color: #008000; text-decoration-color: #008000\">'coordination_notes'</span><span style=\"font-weight: bold\">]</span>\n",
       "</pre>\n"
      ],
      "text/plain": [
       "📋 Task \u001b[1;36m2\u001b[0m dict keys: \u001b[1m[\u001b[0m\u001b[32m'drone_assignments'\u001b[0m, \u001b[32m'incident_updates'\u001b[0m, \u001b[32m'resource_allocation'\u001b[0m, \u001b[32m'coordination_notes'\u001b[0m\u001b[1m]\u001b[0m\n"
      ]
     },
     "metadata": {},
     "output_type": "display_data"
    },
    {
     "data": {
      "text/html": [
       "<pre style=\"white-space:pre;overflow-x:auto;line-height:normal;font-family:Menlo,'DejaVu Sans Mono',consolas,'Courier New',monospace\">📋 Task <span style=\"color: #008080; text-decoration-color: #008080; font-weight: bold\">2</span>: Processing Emergency Plan\n",
       "</pre>\n"
      ],
      "text/plain": [
       "📋 Task \u001b[1;36m2\u001b[0m: Processing Emergency Plan\n"
      ]
     },
     "metadata": {},
     "output_type": "display_data"
    },
    {
     "data": {
      "text/html": [
       "<pre style=\"white-space:pre;overflow-x:auto;line-height:normal;font-family:Menlo,'DejaVu Sans Mono',consolas,'Courier New',monospace\">  🚁 Emergency: assign_drone D001 → E-<span style=\"color: #008080; text-decoration-color: #008080; font-weight: bold\">1001</span>\n",
       "</pre>\n"
      ],
      "text/plain": [
       "  🚁 Emergency: assign_drone D001 → E-\u001b[1;36m1001\u001b[0m\n"
      ]
     },
     "metadata": {},
     "output_type": "display_data"
    },
    {
     "data": {
      "text/html": [
       "<pre style=\"white-space:pre;overflow-x:auto;line-height:normal;font-family:Menlo,'DejaVu Sans Mono',consolas,'Courier New',monospace\">  🚁 Emergency: assign_drone D002 → E-<span style=\"color: #008080; text-decoration-color: #008080; font-weight: bold\">1002</span>\n",
       "</pre>\n"
      ],
      "text/plain": [
       "  🚁 Emergency: assign_drone D002 → E-\u001b[1;36m1002\u001b[0m\n"
      ]
     },
     "metadata": {},
     "output_type": "display_data"
    },
    {
     "data": {
      "text/html": [
       "<pre style=\"white-space:pre;overflow-x:auto;line-height:normal;font-family:Menlo,'DejaVu Sans Mono',consolas,'Courier New',monospace\">  🚁 Emergency: assign_drone D003 → E-<span style=\"color: #008080; text-decoration-color: #008080; font-weight: bold\">1003</span>\n",
       "</pre>\n"
      ],
      "text/plain": [
       "  🚁 Emergency: assign_drone D003 → E-\u001b[1;36m1003\u001b[0m\n"
      ]
     },
     "metadata": {},
     "output_type": "display_data"
    },
    {
     "data": {
      "text/html": [
       "<pre style=\"white-space:pre;overflow-x:auto;line-height:normal;font-family:Menlo,'DejaVu Sans Mono',consolas,'Courier New',monospace\">  🚁 Emergency: assign_drone D004 → E-<span style=\"color: #008080; text-decoration-color: #008080; font-weight: bold\">1004</span>\n",
       "</pre>\n"
      ],
      "text/plain": [
       "  🚁 Emergency: assign_drone D004 → E-\u001b[1;36m1004\u001b[0m\n"
      ]
     },
     "metadata": {},
     "output_type": "display_data"
    },
    {
     "data": {
      "text/html": [
       "<pre style=\"white-space:pre;overflow-x:auto;line-height:normal;font-family:Menlo,'DejaVu Sans Mono',consolas,'Courier New',monospace\">  🚁 Emergency: assign_drone D005 → E-<span style=\"color: #008080; text-decoration-color: #008080; font-weight: bold\">1005</span>\n",
       "</pre>\n"
      ],
      "text/plain": [
       "  🚁 Emergency: assign_drone D005 → E-\u001b[1;36m1005\u001b[0m\n"
      ]
     },
     "metadata": {},
     "output_type": "display_data"
    },
    {
     "data": {
      "text/html": [
       "<pre style=\"white-space:pre;overflow-x:auto;line-height:normal;font-family:Menlo,'DejaVu Sans Mono',consolas,'Courier New',monospace\">  🚨 Emergency: update_incident E-<span style=\"color: #008080; text-decoration-color: #008080; font-weight: bold\">1001</span> → in_progress\n",
       "</pre>\n"
      ],
      "text/plain": [
       "  🚨 Emergency: update_incident E-\u001b[1;36m1001\u001b[0m → in_progress\n"
      ]
     },
     "metadata": {},
     "output_type": "display_data"
    },
    {
     "data": {
      "text/html": [
       "<pre style=\"white-space:pre;overflow-x:auto;line-height:normal;font-family:Menlo,'DejaVu Sans Mono',consolas,'Courier New',monospace\">  🚨 Emergency: update_incident E-<span style=\"color: #008080; text-decoration-color: #008080; font-weight: bold\">1002</span> → in_progress\n",
       "</pre>\n"
      ],
      "text/plain": [
       "  🚨 Emergency: update_incident E-\u001b[1;36m1002\u001b[0m → in_progress\n"
      ]
     },
     "metadata": {},
     "output_type": "display_data"
    },
    {
     "data": {
      "text/html": [
       "<pre style=\"white-space:pre;overflow-x:auto;line-height:normal;font-family:Menlo,'DejaVu Sans Mono',consolas,'Courier New',monospace\">  🚨 Emergency: update_incident E-<span style=\"color: #008080; text-decoration-color: #008080; font-weight: bold\">1003</span> → in_progress\n",
       "</pre>\n"
      ],
      "text/plain": [
       "  🚨 Emergency: update_incident E-\u001b[1;36m1003\u001b[0m → in_progress\n"
      ]
     },
     "metadata": {},
     "output_type": "display_data"
    },
    {
     "data": {
      "text/html": [
       "<pre style=\"white-space:pre;overflow-x:auto;line-height:normal;font-family:Menlo,'DejaVu Sans Mono',consolas,'Courier New',monospace\">  🚨 Emergency: update_incident E-<span style=\"color: #008080; text-decoration-color: #008080; font-weight: bold\">1004</span> → in_progress\n",
       "</pre>\n"
      ],
      "text/plain": [
       "  🚨 Emergency: update_incident E-\u001b[1;36m1004\u001b[0m → in_progress\n"
      ]
     },
     "metadata": {},
     "output_type": "display_data"
    },
    {
     "data": {
      "text/html": [
       "<pre style=\"white-space:pre;overflow-x:auto;line-height:normal;font-family:Menlo,'DejaVu Sans Mono',consolas,'Courier New',monospace\">  🚨 Emergency: update_incident E-<span style=\"color: #008080; text-decoration-color: #008080; font-weight: bold\">1005</span> → in_progress\n",
       "</pre>\n"
      ],
      "text/plain": [
       "  🚨 Emergency: update_incident E-\u001b[1;36m1005\u001b[0m → in_progress\n"
      ]
     },
     "metadata": {},
     "output_type": "display_data"
    },
    {
     "data": {
      "text/html": [
       "<pre style=\"white-space:pre;overflow-x:auto;line-height:normal;font-family:Menlo,'DejaVu Sans Mono',consolas,'Courier New',monospace\">📋 Processing Task <span style=\"color: #008080; text-decoration-color: #008080; font-weight: bold\">3</span>\n",
       "</pre>\n"
      ],
      "text/plain": [
       "📋 Processing Task \u001b[1;36m3\u001b[0m\n"
      ]
     },
     "metadata": {},
     "output_type": "display_data"
    },
    {
     "data": {
      "text/html": [
       "<pre style=\"white-space:pre;overflow-x:auto;line-height:normal;font-family:Menlo,'DejaVu Sans Mono',consolas,'Courier New',monospace\">📋 Task <span style=\"color: #008080; text-decoration-color: #008080; font-weight: bold\">3</span> dict keys: <span style=\"font-weight: bold\">[</span><span style=\"color: #008000; text-decoration-color: #008000\">'traffic_redirections'</span>, <span style=\"color: #008000; text-decoration-color: #008000\">'route_blocks'</span>, <span style=\"color: #008000; text-decoration-color: #008000\">'emergency_corridors'</span>, <span style=\"color: #008000; text-decoration-color: #008000\">'coordination_notes'</span><span style=\"font-weight: bold\">]</span>\n",
       "</pre>\n"
      ],
      "text/plain": [
       "📋 Task \u001b[1;36m3\u001b[0m dict keys: \u001b[1m[\u001b[0m\u001b[32m'traffic_redirections'\u001b[0m, \u001b[32m'route_blocks'\u001b[0m, \u001b[32m'emergency_corridors'\u001b[0m, \u001b[32m'coordination_notes'\u001b[0m\u001b[1m]\u001b[0m\n"
      ]
     },
     "metadata": {},
     "output_type": "display_data"
    },
    {
     "data": {
      "text/html": [
       "<pre style=\"white-space:pre;overflow-x:auto;line-height:normal;font-family:Menlo,'DejaVu Sans Mono',consolas,'Courier New',monospace\">📋 Task <span style=\"color: #008080; text-decoration-color: #008080; font-weight: bold\">3</span>: Processing Traffic Plan\n",
       "</pre>\n"
      ],
      "text/plain": [
       "📋 Task \u001b[1;36m3\u001b[0m: Processing Traffic Plan\n"
      ]
     },
     "metadata": {},
     "output_type": "display_data"
    },
    {
     "data": {
      "text/html": [
       "<pre style=\"white-space:pre;overflow-x:auto;line-height:normal;font-family:Menlo,'DejaVu Sans Mono',consolas,'Courier New',monospace\">  🚦 Traffic: redirect S001 → <span style=\"color: #008080; text-decoration-color: #008080; font-weight: bold\">0.45</span>\n",
       "</pre>\n"
      ],
      "text/plain": [
       "  🚦 Traffic: redirect S001 → \u001b[1;36m0.45\u001b[0m\n"
      ]
     },
     "metadata": {},
     "output_type": "display_data"
    },
    {
     "data": {
      "text/html": [
       "<pre style=\"white-space:pre;overflow-x:auto;line-height:normal;font-family:Menlo,'DejaVu Sans Mono',consolas,'Courier New',monospace\">  🚦 Traffic: redirect S002 → <span style=\"color: #008080; text-decoration-color: #008080; font-weight: bold\">0.4</span>\n",
       "</pre>\n"
      ],
      "text/plain": [
       "  🚦 Traffic: redirect S002 → \u001b[1;36m0.4\u001b[0m\n"
      ]
     },
     "metadata": {},
     "output_type": "display_data"
    },
    {
     "data": {
      "text/html": [
       "<pre style=\"white-space:pre;overflow-x:auto;line-height:normal;font-family:Menlo,'DejaVu Sans Mono',consolas,'Courier New',monospace\">  🚧 Traffic: block_route S003 → 60min\n",
       "</pre>\n"
      ],
      "text/plain": [
       "  🚧 Traffic: block_route S003 → 60min\n"
      ]
     },
     "metadata": {},
     "output_type": "display_data"
    },
    {
     "data": {
      "text/html": [
       "<pre style=\"white-space:pre;overflow-x:auto;line-height:normal;font-family:Menlo,'DejaVu Sans Mono',consolas,'Courier New',monospace\">  🚧 Traffic: block_route S004 → 45min\n",
       "</pre>\n"
      ],
      "text/plain": [
       "  🚧 Traffic: block_route S004 → 45min\n"
      ]
     },
     "metadata": {},
     "output_type": "display_data"
    },
    {
     "data": {
      "text/html": [
       "<pre style=\"white-space:pre;overflow-x:auto;line-height:normal;font-family:Menlo,'DejaVu Sans Mono',consolas,'Courier New',monospace\">✅ Converted <span style=\"color: #008080; text-decoration-color: #008080; font-weight: bold\">21</span> commands from agent results\n",
       "</pre>\n"
      ],
      "text/plain": [
       "✅ Converted \u001b[1;36m21\u001b[0m commands from agent results\n"
      ]
     },
     "metadata": {},
     "output_type": "display_data"
    },
    {
     "data": {
      "text/html": [
       "<pre style=\"white-space:pre;overflow-x:auto;line-height:normal;font-family:Menlo,'DejaVu Sans Mono',consolas,'Courier New',monospace\">📊 Converted <span style=\"color: #008080; text-decoration-color: #008080; font-weight: bold\">21</span> commands for evaluation\n",
       "</pre>\n"
      ],
      "text/plain": [
       "📊 Converted \u001b[1;36m21\u001b[0m commands for evaluation\n"
      ]
     },
     "metadata": {},
     "output_type": "display_data"
    },
    {
     "name": "stderr",
     "output_type": "stream",
     "text": [
      "INFO:command_evaluator:Evaluation complete - Overall score: 0.60\n"
     ]
    },
    {
     "data": {
      "text/html": [
       "<pre style=\"white-space:pre;overflow-x:auto;line-height:normal;font-family:Menlo,'DejaVu Sans Mono',consolas,'Courier New',monospace\">📊 Command evaluator score: <span style=\"color: #008080; text-decoration-color: #008080; font-weight: bold\">60.4</span>%\n",
       "</pre>\n"
      ],
      "text/plain": [
       "📊 Command evaluator score: \u001b[1;36m60.4\u001b[0m%\n"
      ]
     },
     "metadata": {},
     "output_type": "display_data"
    },
    {
     "data": {
      "text/html": [
       "<pre style=\"white-space:pre;overflow-x:auto;line-height:normal;font-family:Menlo,'DejaVu Sans Mono',consolas,'Courier New',monospace\"><span style=\"color: #008000; text-decoration-color: #008000\">╭──────────────────────────────────── Agent System: Medical Emergency Success ────────────────────────────────────╮</span>\n",
       "<span style=\"color: #008000; text-decoration-color: #008000\">│</span> ✅ **Agent System Succeeded on Medical Emergency**                                                              <span style=\"color: #008000; text-decoration-color: #008000\">│</span>\n",
       "<span style=\"color: #008000; text-decoration-color: #008000\">│</span>                                                                                                                 <span style=\"color: #008000; text-decoration-color: #008000\">│</span>\n",
       "<span style=\"color: #008000; text-decoration-color: #008000\">│</span> Success Rate: 60.4%                                                                                             <span style=\"color: #008000; text-decoration-color: #008000\">│</span>\n",
       "<span style=\"color: #008000; text-decoration-color: #008000\">│</span> Commands Executed: 21                                                                                           <span style=\"color: #008000; text-decoration-color: #008000\">│</span>\n",
       "<span style=\"color: #008000; text-decoration-color: #008000\">│</span> **Why it succeeded:**                                                                                           <span style=\"color: #008000; text-decoration-color: #008000\">│</span>\n",
       "<span style=\"color: #008000; text-decoration-color: #008000\">│</span> • Agents reasoned about medical emergency vs heat wave context                                                  <span style=\"color: #008000; text-decoration-color: #008000\">│</span>\n",
       "<span style=\"color: #008000; text-decoration-color: #008000\">│</span> • Manager coordinated appropriate medical response priorities                                                   <span style=\"color: #008000; text-decoration-color: #008000\">│</span>\n",
       "<span style=\"color: #008000; text-decoration-color: #008000\">│</span> • Specialists adapted their expertise to festival environment                                                   <span style=\"color: #008000; text-decoration-color: #008000\">│</span>\n",
       "<span style=\"color: #008000; text-decoration-color: #008000\">│</span> • Flexible coordination without rigid scenario-specific rules                                                   <span style=\"color: #008000; text-decoration-color: #008000\">│</span>\n",
       "<span style=\"color: #008000; text-decoration-color: #008000\">│</span> • Dynamic tool usage based on actual scenario needs                                                             <span style=\"color: #008000; text-decoration-color: #008000\">│</span>\n",
       "<span style=\"color: #008000; text-decoration-color: #008000\">╰─────────────────────────────────────────────────────────────────────────────────────────────────────────────────╯</span>\n",
       "</pre>\n"
      ],
      "text/plain": [
       "\u001b[32m╭─\u001b[0m\u001b[32m───────────────────────────────────\u001b[0m\u001b[32m Agent System: Medical Emergency Success \u001b[0m\u001b[32m───────────────────────────────────\u001b[0m\u001b[32m─╮\u001b[0m\n",
       "\u001b[32m│\u001b[0m ✅ **Agent System Succeeded on Medical Emergency**                                                              \u001b[32m│\u001b[0m\n",
       "\u001b[32m│\u001b[0m                                                                                                                 \u001b[32m│\u001b[0m\n",
       "\u001b[32m│\u001b[0m Success Rate: 60.4%                                                                                             \u001b[32m│\u001b[0m\n",
       "\u001b[32m│\u001b[0m Commands Executed: 21                                                                                           \u001b[32m│\u001b[0m\n",
       "\u001b[32m│\u001b[0m **Why it succeeded:**                                                                                           \u001b[32m│\u001b[0m\n",
       "\u001b[32m│\u001b[0m • Agents reasoned about medical emergency vs heat wave context                                                  \u001b[32m│\u001b[0m\n",
       "\u001b[32m│\u001b[0m • Manager coordinated appropriate medical response priorities                                                   \u001b[32m│\u001b[0m\n",
       "\u001b[32m│\u001b[0m • Specialists adapted their expertise to festival environment                                                   \u001b[32m│\u001b[0m\n",
       "\u001b[32m│\u001b[0m • Flexible coordination without rigid scenario-specific rules                                                   \u001b[32m│\u001b[0m\n",
       "\u001b[32m│\u001b[0m • Dynamic tool usage based on actual scenario needs                                                             \u001b[32m│\u001b[0m\n",
       "\u001b[32m╰─────────────────────────────────────────────────────────────────────────────────────────────────────────────────╯\u001b[0m\n"
      ]
     },
     "metadata": {},
     "output_type": "display_data"
    },
    {
     "data": {
      "text/html": [
       "<pre style=\"white-space:pre;overflow-x:auto;line-height:normal;font-family:Menlo,'DejaVu Sans Mono',consolas,'Courier New',monospace\"><span style=\"color: #808000; text-decoration-color: #808000\">╭──────────────────────────────────── Phase 5 Results: Adaptability Challenge ────────────────────────────────────╮</span>\n",
       "<span style=\"color: #808000; text-decoration-color: #808000\">│</span> 🏆 **Adaptability Test Results**                                                                                <span style=\"color: #808000; text-decoration-color: #808000\">│</span>\n",
       "<span style=\"color: #808000; text-decoration-color: #808000\">│</span>                                                                                                                 <span style=\"color: #808000; text-decoration-color: #808000\">│</span>\n",
       "<span style=\"color: #808000; text-decoration-color: #808000\">│</span> **Heat Wave Scenario (Designed For):**                                                                          <span style=\"color: #808000; text-decoration-color: #808000\">│</span>\n",
       "<span style=\"color: #808000; text-decoration-color: #808000\">│</span> • Rule-Based System: 40.7%                                                                                      <span style=\"color: #808000; text-decoration-color: #808000\">│</span>\n",
       "<span style=\"color: #808000; text-decoration-color: #808000\">│</span> • Agent System: 78.5%                                                                                           <span style=\"color: #808000; text-decoration-color: #808000\">│</span>\n",
       "<span style=\"color: #808000; text-decoration-color: #808000\">│</span>                                                                                                                 <span style=\"color: #808000; text-decoration-color: #808000\">│</span>\n",
       "<span style=\"color: #808000; text-decoration-color: #808000\">│</span> **Medical Emergency Scenario (New/Unseen):**                                                                    <span style=\"color: #808000; text-decoration-color: #808000\">│</span>\n",
       "<span style=\"color: #808000; text-decoration-color: #808000\">│</span> • Rule-Based System: 57.4% ❌ (Failed - heat wave rules inappropriate for medical emergency)                    <span style=\"color: #808000; text-decoration-color: #808000\">│</span>\n",
       "<span style=\"color: #808000; text-decoration-color: #808000\">│</span> • Agent System: 60.4% ✅ (Succeeded - adapted reasoning to medical context)                                     <span style=\"color: #808000; text-decoration-color: #808000\">│</span>\n",
       "<span style=\"color: #808000; text-decoration-color: #808000\">│</span>                                                                                                                 <span style=\"color: #808000; text-decoration-color: #808000\">│</span>\n",
       "<span style=\"color: #808000; text-decoration-color: #808000\">│</span> **🎯 Key Insight: Adaptability**                                                                                <span style=\"color: #808000; text-decoration-color: #808000\">│</span>\n",
       "<span style=\"color: #808000; text-decoration-color: #808000\">│</span> Rule-based systems fail when encountering scenarios they weren't designed for,                                  <span style=\"color: #808000; text-decoration-color: #808000\">│</span>\n",
       "<span style=\"color: #808000; text-decoration-color: #808000\">│</span> even when individual commands execute successfully. The logic is inappropriate.                                 <span style=\"color: #808000; text-decoration-color: #808000\">│</span>\n",
       "<span style=\"color: #808000; text-decoration-color: #808000\">│</span> Agent systems can reason about and adapt to new situations dynamically.                                         <span style=\"color: #808000; text-decoration-color: #808000\">│</span>\n",
       "<span style=\"color: #808000; text-decoration-color: #808000\">│</span>                                                                                                                 <span style=\"color: #808000; text-decoration-color: #808000\">│</span>\n",
       "<span style=\"color: #808000; text-decoration-color: #808000\">│</span> **🚀 Winner: Agent Systems**                                                                                    <span style=\"color: #808000; text-decoration-color: #808000\">│</span>\n",
       "<span style=\"color: #808000; text-decoration-color: #808000\">│</span> Superior performance + adaptability = Production ready!                                                         <span style=\"color: #808000; text-decoration-color: #808000\">│</span>\n",
       "<span style=\"color: #808000; text-decoration-color: #808000\">╰─────────────────────────────────────────────────────────────────────────────────────────────────────────────────╯</span>\n",
       "</pre>\n"
      ],
      "text/plain": [
       "\u001b[33m╭─\u001b[0m\u001b[33m───────────────────────────────────\u001b[0m\u001b[33m Phase 5 Results: Adaptability Challenge \u001b[0m\u001b[33m───────────────────────────────────\u001b[0m\u001b[33m─╮\u001b[0m\n",
       "\u001b[33m│\u001b[0m 🏆 **Adaptability Test Results**                                                                                \u001b[33m│\u001b[0m\n",
       "\u001b[33m│\u001b[0m                                                                                                                 \u001b[33m│\u001b[0m\n",
       "\u001b[33m│\u001b[0m **Heat Wave Scenario (Designed For):**                                                                          \u001b[33m│\u001b[0m\n",
       "\u001b[33m│\u001b[0m • Rule-Based System: 40.7%                                                                                      \u001b[33m│\u001b[0m\n",
       "\u001b[33m│\u001b[0m • Agent System: 78.5%                                                                                           \u001b[33m│\u001b[0m\n",
       "\u001b[33m│\u001b[0m                                                                                                                 \u001b[33m│\u001b[0m\n",
       "\u001b[33m│\u001b[0m **Medical Emergency Scenario (New/Unseen):**                                                                    \u001b[33m│\u001b[0m\n",
       "\u001b[33m│\u001b[0m • Rule-Based System: 57.4% ❌ (Failed - heat wave rules inappropriate for medical emergency)                    \u001b[33m│\u001b[0m\n",
       "\u001b[33m│\u001b[0m • Agent System: 60.4% ✅ (Succeeded - adapted reasoning to medical context)                                     \u001b[33m│\u001b[0m\n",
       "\u001b[33m│\u001b[0m                                                                                                                 \u001b[33m│\u001b[0m\n",
       "\u001b[33m│\u001b[0m **🎯 Key Insight: Adaptability**                                                                                \u001b[33m│\u001b[0m\n",
       "\u001b[33m│\u001b[0m Rule-based systems fail when encountering scenarios they weren't designed for,                                  \u001b[33m│\u001b[0m\n",
       "\u001b[33m│\u001b[0m even when individual commands execute successfully. The logic is inappropriate.                                 \u001b[33m│\u001b[0m\n",
       "\u001b[33m│\u001b[0m Agent systems can reason about and adapt to new situations dynamically.                                         \u001b[33m│\u001b[0m\n",
       "\u001b[33m│\u001b[0m                                                                                                                 \u001b[33m│\u001b[0m\n",
       "\u001b[33m│\u001b[0m **🚀 Winner: Agent Systems**                                                                                    \u001b[33m│\u001b[0m\n",
       "\u001b[33m│\u001b[0m Superior performance + adaptability = Production ready!                                                         \u001b[33m│\u001b[0m\n",
       "\u001b[33m╰─────────────────────────────────────────────────────────────────────────────────────────────────────────────────╯\u001b[0m\n"
      ]
     },
     "metadata": {},
     "output_type": "display_data"
    },
    {
     "data": {
      "text/html": [
       "<pre style=\"white-space:pre;overflow-x:auto;line-height:normal;font-family:Menlo,'DejaVu Sans Mono',consolas,'Courier New',monospace\">✅ Phase <span style=\"color: #008080; text-decoration-color: #008080; font-weight: bold\">5</span> Complete: Adaptability challenge with logging finished\n",
       "</pre>\n"
      ],
      "text/plain": [
       "✅ Phase \u001b[1;36m5\u001b[0m Complete: Adaptability challenge with logging finished\n"
      ]
     },
     "metadata": {},
     "output_type": "display_data"
    },
    {
     "data": {
      "text/html": [
       "<pre style=\"white-space:pre;overflow-x:auto;line-height:normal;font-family:Menlo,'DejaVu Sans Mono',consolas,'Courier New',monospace\">📊 Results saved to workshop_experiment_results.json\n",
       "</pre>\n"
      ],
      "text/plain": [
       "📊 Results saved to workshop_experiment_results.json\n"
      ]
     },
     "metadata": {},
     "output_type": "display_data"
    },
    {
     "data": {
      "text/html": [
       "<pre style=\"white-space:pre;overflow-x:auto;line-height:normal;font-family:Menlo,'DejaVu Sans Mono',consolas,'Courier New',monospace\">    Service Investigation Progress:\n",
       "</pre>\n"
      ],
      "text/plain": [
       "    Service Investigation Progress:\n"
      ]
     },
     "metadata": {},
     "output_type": "display_data"
    }
   ],
   "source": [
    "console.print(\"🔍 Running adaptability challenge with EvaluationLogger...\")\n",
    "agent_medical_score, rule_medical_score = test_adaptability()\n",
    "console.print(\"✅ Phase 5 Complete: Adaptability challenge with logging finished\")\n",
    "save_experiment_results(workshop_results)"
   ]
  },
  {
   "cell_type": "markdown",
   "id": "9b62f1f8",
   "metadata": {},
   "source": [
    "## 🔌 **PHASE 6: Model Context Protocol (MCP) Integration**\n",
    "\n",
    "**🎓 Educational Goal**: Demonstrate production-ready extensibility with dynamic tool discovery\n",
    "\n",
    "**🎯 The Problem with Static Tool Assignment**: Our current agents have hardcoded tools - \n",
    "they can only use what we programmed them with. But what happens when new external \n",
    "services come online during a crisis?\n",
    "\n",
    "**🔑 MCP Solution**: Agents can discover and use new tools dynamically at runtime."
   ]
  },
  {
   "cell_type": "code",
   "execution_count": 72,
   "id": "0179f7e3",
   "metadata": {
    "lines_to_next_cell": 1
   },
   "outputs": [],
   "source": [
    "# Simulate new external services coming online during crisis\n",
    "class WeatherServiceTool(BaseTool):\n",
    "    \"\"\"New weather service that comes online during crisis - static agents can't use this.\"\"\"\n",
    "    name: str = \"get_weather_conditions\"\n",
    "    description: str = \"\"\"Get current weather conditions affecting the crisis.\n",
    "    \n",
    "    Returns weather data including temperature, wind, precipitation that\n",
    "    impacts emergency response and grid stability.\"\"\"\n",
    "    \n",
    "    def _run(self) -> str:\n",
    "        # Simulate weather API call\n",
    "        weather_data = {\n",
    "            \"temperature\": 47.2,  # Extreme heat\n",
    "            \"humidity\": 85,\n",
    "            \"wind_speed\": 25,  # High winds affecting drones\n",
    "            \"precipitation\": 0,\n",
    "            \"air_quality\": \"hazardous\",\n",
    "            \"uv_index\": 11,  # Extreme\n",
    "            \"heat_index\": 52.1  # Dangerous\n",
    "        }\n",
    "        \n",
    "        console.print(\"🌡️ Weather Service: Retrieved current conditions\")\n",
    "        return f\"WEATHER ALERT: Extreme heat wave conditions - Temperature: {weather_data['temperature']}°C, Heat Index: {weather_data['heat_index']}°C, High winds: {weather_data['wind_speed']} mph affecting drone operations\"\n",
    "\n",
    "\n",
    "class SocialMediaMonitoringTool(BaseTool):\n",
    "    \"\"\"Social media monitoring service for real-time crisis intelligence.\"\"\"\n",
    "    name: str = \"monitor_social_media\"\n",
    "    description: str = \"\"\"Monitor social media for real-time crisis updates.\n",
    "    \n",
    "    Returns citizen reports, emergency situations, and public sentiment\n",
    "    that can inform response priorities.\"\"\"\n",
    "    \n",
    "    def _run(self) -> str:\n",
    "        # Simulate social media monitoring\n",
    "        social_data = {\n",
    "            \"trending_topics\": [\"#PowerOutage\", \"#HeatWave\", \"#EmergencyResponse\"],\n",
    "            \"urgent_reports\": [\n",
    "                \"Hospital backup generator failing - Zone A\",\n",
    "                \"Elderly care facility requesting immediate assistance\",\n",
    "                \"Traffic accident blocking emergency route S001\"\n",
    "            ],\n",
    "            \"public_sentiment\": \"high_anxiety\",\n",
    "            \"misinformation_detected\": True\n",
    "        }\n",
    "        \n",
    "        console.print(\"📱 Social Media Monitor: Analyzed 10,000+ posts\")\n",
    "        return f\"SOCIAL INTEL: {len(social_data['urgent_reports'])} urgent citizen reports detected. Key issues: {', '.join(social_data['urgent_reports'])}\"\n",
    "\n",
    "\n",
    "class PredictiveAnalyticsTool(BaseTool):\n",
    "    \"\"\"AI-powered predictive analytics for crisis forecasting.\"\"\"\n",
    "    name: str = \"predict_crisis_evolution\"\n",
    "    description: str = \"\"\"Use AI to predict how the crisis will evolve.\n",
    "    \n",
    "    Returns forecasts for grid stability, emergency incidents, and\n",
    "    resource needs over the next 2-4 hours.\"\"\"\n",
    "    \n",
    "    def _run(self) -> str:\n",
    "        # Simulate predictive analytics\n",
    "        predictions = {\n",
    "            \"grid_stability_forecast\": \"declining - 60% chance of cascading failure in 2 hours\",\n",
    "            \"new_incidents_predicted\": 8,\n",
    "            \"resource_shortage_risk\": \"high - drone fleet will be overwhelmed\",\n",
    "            \"optimal_evacuation_window\": \"next 90 minutes\",\n",
    "            \"weather_impact\": \"conditions will worsen - temperature rising to 49°C\"\n",
    "        }\n",
    "        \n",
    "        console.print(\"🔮 Predictive Analytics: Generated 4-hour forecast\")\n",
    "        return f\"FORECAST: {predictions['grid_stability_forecast']}. Predicted {predictions['new_incidents_predicted']} new incidents. {predictions['resource_shortage_risk']}. Evacuation window: {predictions['optimal_evacuation_window']}\""
   ]
  },
  {
   "cell_type": "code",
   "execution_count": 73,
   "id": "10219bad",
   "metadata": {
    "lines_to_next_cell": 1
   },
   "outputs": [],
   "source": [
    "class DynamicMCPRegistry:\n",
    "    \"\"\"\n",
    "    True MCP registry that discovers external services at runtime.\n",
    "    Demonstrates the real value of MCP vs static tool assignment.\n",
    "    \"\"\"\n",
    "    \n",
    "    def __init__(self):\n",
    "        self.static_tools = {}  # Tools we know about at startup\n",
    "        self.discovered_tools = {}  # Tools discovered at runtime\n",
    "        self.external_services = {}  # External service endpoints\n",
    "        self.discovery_log = []\n",
    "        \n",
    "    def register_static_tool(self, tool_instance, category: str):\n",
    "        \"\"\"Register tools we know about at startup (like our workshop tools).\"\"\"\n",
    "        tool_name = tool_instance.name\n",
    "        self.static_tools[tool_name] = {\n",
    "            \"instance\": tool_instance,\n",
    "            \"category\": category,\n",
    "            \"source\": \"static\"\n",
    "        }\n",
    "        console.print(f\"📦 Static Tool: {tool_name} ({category})\")\n",
    "        \n",
    "    def simulate_external_service_discovery(self):\n",
    "        \"\"\"\n",
    "        Simulate discovering new external services during runtime.\n",
    "        This is what real MCP would do by scanning service registries, APIs, etc.\n",
    "        \"\"\"\n",
    "        console.print(Panel(\"🔍 MCP Discovery: Scanning for new external services...\", \n",
    "                           border_style=\"purple\"))\n",
    "        \n",
    "        # Simulate discovering new services that came online during the crisis\n",
    "        new_services = [\n",
    "            (\"weather_service\", WeatherServiceTool(), \"environmental_monitoring\"),\n",
    "            (\"social_media_monitor\", SocialMediaMonitoringTool(), \"intelligence_gathering\"),\n",
    "            (\"predictive_analytics\", PredictiveAnalyticsTool(), \"decision_support\")\n",
    "        ]\n",
    "        \n",
    "        for service_id, tool_instance, category in new_services:\n",
    "            tool_name = tool_instance.name\n",
    "            self.discovered_tools[tool_name] = {\n",
    "                \"instance\": tool_instance,\n",
    "                \"category\": category,\n",
    "                \"source\": \"discovered\",\n",
    "                \"service_id\": service_id\n",
    "            }\n",
    "            self.discovery_log.append(f\"Discovered {service_id} with capability {tool_name}\")\n",
    "            console.print(f\"🔍 Discovered: {service_id} → {tool_name} ({category})\")\n",
    "            \n",
    "        console.print(f\"✅ MCP Discovery Complete: Found {len(new_services)} new services\")\n",
    "        \n",
    "    def get_all_available_tools(self) -> List[BaseTool]:\n",
    "        \"\"\"Get all tools - both static and discovered.\"\"\"\n",
    "        all_tools = []\n",
    "        for tool_data in self.static_tools.values():\n",
    "            all_tools.append(tool_data[\"instance\"])\n",
    "        for tool_data in self.discovered_tools.values():\n",
    "            all_tools.append(tool_data[\"instance\"])\n",
    "        return all_tools\n",
    "        \n",
    "    def get_static_tools_only(self) -> List[BaseTool]:\n",
    "        \"\"\"Get only static tools (what non-MCP agents are limited to).\"\"\"\n",
    "        return [tool_data[\"instance\"] for tool_data in self.static_tools.values()]\n",
    "        \n",
    "    def get_discovered_tools_only(self) -> List[BaseTool]:\n",
    "        \"\"\"Get only discovered tools (what MCP agents can access).\"\"\"\n",
    "        return [tool_data[\"instance\"] for tool_data in self.discovered_tools.values()]\n",
    "        \n",
    "    @weave.op\n",
    "    def get_discovery_report(self) -> Dict[str, Any]:\n",
    "        \"\"\"Get comprehensive discovery report.\"\"\"\n",
    "        return {\n",
    "            \"static_tools\": len(self.static_tools),\n",
    "            \"discovered_tools\": len(self.discovered_tools),\n",
    "            \"total_tools\": len(self.static_tools) + len(self.discovered_tools),\n",
    "            \"discovery_log\": self.discovery_log,\n",
    "            \"categories\": {\n",
    "                \"static\": list(set(tool[\"category\"] for tool in self.static_tools.values())),\n",
    "                \"discovered\": list(set(tool[\"category\"] for tool in self.discovered_tools.values()))\n",
    "            }\n",
    "        }\n",
    "\n",
    "@weave.op\n",
    "def demonstrate_mcp_value():\n",
    "    \"\"\"Demonstrate the value of MCP for production systems.\"\"\"\n",
    "    console.print(Panel(\"🔌 Phase 6: Model Context Protocol (MCP) Integration\", \n",
    "                       border_style=\"purple\"))\n",
    "    \n",
    "    # Create the dynamic MCP registry\n",
    "    dynamic_mcp = DynamicMCPRegistry()\n",
    "    \n",
    "    # Register our existing workshop tools as \"static\" (known at startup)\n",
    "    console.print(\"📦 Registering Static Tools (Known at Startup)\")\n",
    "    dynamic_mcp.register_static_tool(create_grid_zone_adjustment_tool(grid_zone_adjustment_tool_description), \"power_management\")\n",
    "    dynamic_mcp.register_static_tool(create_infrastructure_priority_tool(infrastructure_priority_tool_description), \"power_management\")\n",
    "    dynamic_mcp.register_static_tool(create_drone_assignment_tool(drone_assignment_tool_description), \"emergency_response\")\n",
    "    dynamic_mcp.register_static_tool(create_incident_update_tool(incident_update_tool_description), \"emergency_response\")\n",
    "    dynamic_mcp.register_static_tool(create_traffic_redirection_tool(traffic_redirection_tool_description), \"traffic_management\")\n",
    "    dynamic_mcp.register_static_tool(create_route_blocking_tool(route_blocking_tool_description), \"traffic_management\")\n",
    "    \n",
    "    # Simulate crisis escalation - new external services come online\n",
    "    console.print(\"\\n🚨 CRISIS ESCALATION: New External Services Coming Online\")\n",
    "    dynamic_mcp.simulate_external_service_discovery()\n",
    "    \n",
    "    # Show discovery report\n",
    "    discovery_report = dynamic_mcp.get_discovery_report()\n",
    "    console.print(Panel(\n",
    "        f\"📊 **MCP Discovery Report**\\n\\n\"\n",
    "        f\"• **Static Tools**: {discovery_report['static_tools']} (hardcoded at startup)\\n\"\n",
    "        f\"• **Discovered Tools**: {discovery_report['discovered_tools']} (found at runtime)\\n\"\n",
    "        f\"• **Total Available**: {discovery_report['total_tools']} tools\\n\\n\"\n",
    "        f\"**New Capabilities Discovered**:\\n\" +\n",
    "        \"\\n\".join([f\"• {log}\" for log in discovery_report['discovery_log']]) + \"\\n\\n\"\n",
    "        f\"**Static Categories**: {', '.join(discovery_report['categories']['static'])}\\n\"\n",
    "        f\"**New Categories**: {', '.join(discovery_report['categories']['discovered'])}\",\n",
    "        title=\"MCP Dynamic Discovery Results\",\n",
    "        border_style=\"purple\"\n",
    "    ))\n",
    "    \n",
    "    # Create agents to demonstrate the difference\n",
    "    def create_static_agent():\n",
    "        \"\"\"Create agent with only static tools (traditional approach).\"\"\"\n",
    "        static_agent = Agent(\n",
    "            role=\"Static Crisis Coordinator\",\n",
    "            goal=\"Coordinate crisis response using only pre-programmed tools\",\n",
    "            backstory=\"\"\"You are a traditional crisis coordinator with a fixed set of tools.\n",
    "            You can only use the tools you were programmed with at startup.\n",
    "            You cannot discover or use new external services that come online.\"\"\",\n",
    "            tools=dynamic_mcp.get_static_tools_only(),  # Only static tools\n",
    "            verbose=False,\n",
    "            allow_delegation=False\n",
    "        )\n",
    "        \n",
    "        return static_agent\n",
    "\n",
    "    # Pydantic models for MCP structured outputs\n",
    "    class StaticCrisisResponse(BaseModel):\n",
    "        \"\"\"Structured output for static agent crisis response.\"\"\"\n",
    "        available_tools: List[str] = Field(description=\"List of available static tools\")\n",
    "        actions_taken: List[str] = Field(description=\"Actions taken with static tools\")\n",
    "        limitations: str = Field(description=\"Limitations faced due to static tool set\")\n",
    "        missing_capabilities: List[str] = Field(description=\"Capabilities that would help but are unavailable\")\n",
    "\n",
    "    class MCPCrisisResponse(BaseModel):\n",
    "        \"\"\"Structured output for MCP-enabled agent crisis response.\"\"\"\n",
    "        static_tools_used: List[str] = Field(description=\"Static tools utilized\")\n",
    "        discovered_tools_used: List[str] = Field(description=\"Newly discovered tools utilized\")\n",
    "        enhanced_capabilities: str = Field(description=\"How discovered tools enhanced response\")\n",
    "        intelligence_gathered: str = Field(description=\"Additional intelligence from new services\")\n",
    "        adaptive_strategy: str = Field(description=\"How strategy adapted based on new capabilities\")\n",
    "\n",
    "    def create_mcp_enabled_agent():\n",
    "        \"\"\"Create agent with MCP capability (can use discovered tools).\"\"\"\n",
    "        mcp_agent = Agent(\n",
    "            role=\"MCP-Enabled Crisis Coordinator\",\n",
    "            goal=\"Coordinate crisis response using both static and dynamically discovered tools\",\n",
    "            backstory=\"\"\"You are an advanced crisis coordinator with MCP integration.\n",
    "            You can discover and use new external services that come online during the crisis.\n",
    "            You adapt your strategy based on newly available capabilities and intelligence.\"\"\",\n",
    "            tools=dynamic_mcp.get_all_available_tools(),  # Static + discovered tools\n",
    "            verbose=False,\n",
    "            allow_delegation=False\n",
    "        )\n",
    "        \n",
    "        return mcp_agent\n",
    "\n",
    "    # Test both approaches on the escalated crisis\n",
    "    console.print(\"\\n🧪 TESTING: Static vs MCP-Enabled Agents\")\n",
    "\n",
    "    # Reset state for MCP testing scenario\n",
    "    console.print(\"🔄 Preparing escalated crisis environment for MCP testing...\")\n",
    "    reset_all_service_states()\n",
    "\n",
    "    # Test 1: Static Agent (Limited to original tools)\n",
    "    console.print(Panel(\"🔒 Testing Static Agent (Traditional Approach)\", border_style=\"red\"))\n",
    "\n",
    "    try:\n",
    "        static_agent = create_static_agent()\n",
    "        \n",
    "        static_task = Task(\n",
    "            description=\"\"\"The crisis has escalated! New external services are now available:\n",
    "            - Weather monitoring showing extreme conditions\n",
    "            - Social media intelligence with citizen reports  \n",
    "            - Predictive analytics forecasting crisis evolution\n",
    "            \n",
    "            Coordinate the response using your available tools. Note: You can only use\n",
    "            the tools you were programmed with - you cannot access new external services.\n",
    "            \n",
    "            Provide structured output showing your limitations and what you accomplished.\"\"\",\n",
    "            agent=static_agent,\n",
    "            expected_output=\"Crisis response plan using only static tools with limitations analysis\",\n",
    "            output_pydantic=StaticCrisisResponse\n",
    "        )\n",
    "        \n",
    "        static_crew = Crew(\n",
    "            agents=[static_agent],\n",
    "            tasks=[static_task],\n",
    "            process=Process.sequential,\n",
    "            verbose=False\n",
    "        )\n",
    "        \n",
    "        console.print(f\"🔒 Static Agent Tools: {len(dynamic_mcp.get_static_tools_only())} tools\")\n",
    "        console.print(\"   Cannot access: Weather data, Social media intel, Predictive analytics\")\n",
    "        \n",
    "        static_result = static_crew.kickoff(inputs={\n",
    "            \"scenario_name\": \"Escalated Heat Wave Crisis\",\n",
    "            \"available_static_tools\": len(dynamic_mcp.get_static_tools_only()),\n",
    "            \"unavailable_services\": \"weather monitoring, social media intelligence, predictive analytics\"\n",
    "        })\n",
    "        \n",
    "        console.print(Panel(\n",
    "            f\"🔒 **Static Agent Result**\\n\\n\"\n",
    "            f\"Tools Available: {len(dynamic_mcp.get_static_tools_only())}\\n\"\n",
    "            f\"New Services: CANNOT ACCESS\\n\\n\"\n",
    "            f\"Result: {str(static_result)[:300]}...\",\n",
    "            title=\"Static Agent Performance\",\n",
    "            border_style=\"red\"\n",
    "        ))\n",
    "            \n",
    "    except Exception as e:\n",
    "        console.print(f\"[red]Static agent error: {e}[/red]\")\n",
    "\n",
    "    # Test 2: MCP-Enabled Agent (Can use discovered tools)\n",
    "    console.print(Panel(\"🔍 Testing MCP-Enabled Agent (Dynamic Discovery)\", border_style=\"green\"))\n",
    "\n",
    "    try:\n",
    "        mcp_agent = create_mcp_enabled_agent()\n",
    "        \n",
    "        mcp_task = Task(\n",
    "            description=\"\"\"The crisis has escalated! You have MCP capabilities to discover and use\n",
    "            new external services that came online:\n",
    "            - Weather monitoring showing extreme conditions\n",
    "            - Social media intelligence with citizen reports\n",
    "            - Predictive analytics forecasting crisis evolution\n",
    "            \n",
    "            Use ALL available tools - both your original tools AND the newly discovered\n",
    "            external services - to coordinate an enhanced response.\n",
    "            \n",
    "            Provide structured output showing how you used both static and discovered tools.\"\"\",\n",
    "            agent=mcp_agent,\n",
    "            expected_output=\"Enhanced crisis response using static + discovered tools with capability analysis\",\n",
    "            output_pydantic=MCPCrisisResponse\n",
    "        )\n",
    "        \n",
    "        mcp_crew = Crew(\n",
    "            agents=[mcp_agent],\n",
    "            tasks=[mcp_task],\n",
    "            process=Process.sequential,\n",
    "            verbose=False\n",
    "        )\n",
    "        \n",
    "        console.print(f\"🔍 MCP Agent Tools: {len(dynamic_mcp.get_all_available_tools())} tools\")\n",
    "        console.print(\"   Can access: Weather data, Social media intel, Predictive analytics\")\n",
    "        \n",
    "        mcp_result = mcp_crew.kickoff(inputs={\n",
    "            \"scenario_name\": \"Escalated Heat Wave Crisis\",\n",
    "            \"total_tools_available\": len(dynamic_mcp.get_all_available_tools()),\n",
    "            \"newly_discovered_services\": len(dynamic_mcp.get_discovered_tools_only()),\n",
    "            \"discovery_log\": str(discovery_report['discovery_log'])  # Convert list to string\n",
    "        })\n",
    "        \n",
    "        console.print(Panel(\n",
    "            f\"🔍 **MCP-Enabled Agent Result**\\n\\n\"\n",
    "            f\"Tools Available: {len(dynamic_mcp.get_all_available_tools())}\\n\"\n",
    "            f\"New Services: DISCOVERED & USED\\n\\n\"\n",
    "            f\"Result: {str(mcp_result)[:300]}...\",\n",
    "            title=\"MCP-Enabled Agent Performance\",\n",
    "            border_style=\"green\"\n",
    "        ))\n",
    "        \n",
    "    except Exception as e:\n",
    "        console.print(f\"[red]MCP agent error: {e}[/red]\")\n",
    "\n",
    "    # Educational summary\n",
    "    console.print(Panel(\n",
    "        f\"\"\"🎓 **Educational Value: Why MCP Matters**\n",
    "\n",
    "**The Problem Demonstrated:**\n",
    "🔒 **Static Agents**: Limited to hardcoded tools, cannot adapt to new services\n",
    "🔍 **MCP Agents**: Discover and use new external services dynamically\n",
    "\n",
    "**Real-World Scenarios Where This Matters:**\n",
    "• **New APIs**: Weather services, traffic APIs, social media feeds come online\n",
    "• **Emergency Services**: New drone fleets, medical services, evacuation resources\n",
    "• **Third-Party Integration**: Partner organizations provide new capabilities\n",
    "• **Evolving Infrastructure**: New sensors, monitoring systems, communication channels\n",
    "\n",
    "**Key MCP Benefits Shown:**\n",
    "✅ **Runtime Discovery**: Find new services without code changes\n",
    "✅ **Dynamic Integration**: Use new capabilities immediately\n",
    "✅ **Adaptive Response**: Enhanced decision-making with more data sources\n",
    "✅ **Future-Proof**: System grows with ecosystem without reprogramming\n",
    "\n",
    "**Production Impact:**\n",
    "• **Reduced Downtime**: No need to redeploy agents for new integrations\n",
    "• **Faster Response**: Immediate access to new intelligence sources\n",
    "• **Better Decisions**: More data sources = more informed responses\n",
    "• **Ecosystem Growth**: Easy integration with partner services\n",
    "\n",
    "**🔑 Key Insight**: MCP transforms agents from static tools to adaptive systems\n",
    "that grow with their environment - essential for production resilience!\"\"\",\n",
    "        title=\"MCP Educational Summary\",\n",
    "        border_style=\"yellow\"\n",
    "    ))\n",
    "    \n",
    "    return dynamic_mcp"
   ]
  },
  {
   "cell_type": "code",
   "execution_count": 74,
   "id": "4926dda7",
   "metadata": {
    "lines_to_next_cell": 1
   },
   "outputs": [
    {
     "data": {
      "text/html": [
       "<pre style=\"white-space:pre;overflow-x:auto;line-height:normal;font-family:Menlo,'DejaVu Sans Mono',consolas,'Courier New',monospace\"><span style=\"color: #af00ff; text-decoration-color: #af00ff\">╭─────────────────────────────────────────────────────────────────────────────────────────────────────────────────╮</span>\n",
       "<span style=\"color: #af00ff; text-decoration-color: #af00ff\">│</span> 🔌 Phase 6: Model Context Protocol (MCP) Integration                                                            <span style=\"color: #af00ff; text-decoration-color: #af00ff\">│</span>\n",
       "<span style=\"color: #af00ff; text-decoration-color: #af00ff\">╰─────────────────────────────────────────────────────────────────────────────────────────────────────────────────╯</span>\n",
       "</pre>\n"
      ],
      "text/plain": [
       "\u001b[38;5;129m╭─────────────────────────────────────────────────────────────────────────────────────────────────────────────────╮\u001b[0m\n",
       "\u001b[38;5;129m│\u001b[0m 🔌 Phase 6: Model Context Protocol (MCP) Integration                                                            \u001b[38;5;129m│\u001b[0m\n",
       "\u001b[38;5;129m╰─────────────────────────────────────────────────────────────────────────────────────────────────────────────────╯\u001b[0m\n"
      ]
     },
     "metadata": {},
     "output_type": "display_data"
    },
    {
     "data": {
      "text/html": [
       "<pre style=\"white-space:pre;overflow-x:auto;line-height:normal;font-family:Menlo,'DejaVu Sans Mono',consolas,'Courier New',monospace\">📦 Registering Static Tools <span style=\"font-weight: bold\">(</span>Known at Startup<span style=\"font-weight: bold\">)</span>\n",
       "</pre>\n"
      ],
      "text/plain": [
       "📦 Registering Static Tools \u001b[1m(\u001b[0mKnown at Startup\u001b[1m)\u001b[0m\n"
      ]
     },
     "metadata": {},
     "output_type": "display_data"
    },
    {
     "data": {
      "text/html": [
       "<pre style=\"white-space:pre;overflow-x:auto;line-height:normal;font-family:Menlo,'DejaVu Sans Mono',consolas,'Courier New',monospace\">📦 Static Tool: adjust_grid_zone <span style=\"font-weight: bold\">(</span>power_management<span style=\"font-weight: bold\">)</span>\n",
       "</pre>\n"
      ],
      "text/plain": [
       "📦 Static Tool: adjust_grid_zone \u001b[1m(\u001b[0mpower_management\u001b[1m)\u001b[0m\n"
      ]
     },
     "metadata": {},
     "output_type": "display_data"
    },
    {
     "data": {
      "text/html": [
       "<pre style=\"white-space:pre;overflow-x:auto;line-height:normal;font-family:Menlo,'DejaVu Sans Mono',consolas,'Courier New',monospace\">📦 Static Tool: set_infrastructure_priority <span style=\"font-weight: bold\">(</span>power_management<span style=\"font-weight: bold\">)</span>\n",
       "</pre>\n"
      ],
      "text/plain": [
       "📦 Static Tool: set_infrastructure_priority \u001b[1m(\u001b[0mpower_management\u001b[1m)\u001b[0m\n"
      ]
     },
     "metadata": {},
     "output_type": "display_data"
    },
    {
     "data": {
      "text/html": [
       "<pre style=\"white-space:pre;overflow-x:auto;line-height:normal;font-family:Menlo,'DejaVu Sans Mono',consolas,'Courier New',monospace\">📦 Static Tool: assign_emergency_drone <span style=\"font-weight: bold\">(</span>emergency_response<span style=\"font-weight: bold\">)</span>\n",
       "</pre>\n"
      ],
      "text/plain": [
       "📦 Static Tool: assign_emergency_drone \u001b[1m(\u001b[0memergency_response\u001b[1m)\u001b[0m\n"
      ]
     },
     "metadata": {},
     "output_type": "display_data"
    },
    {
     "data": {
      "text/html": [
       "<pre style=\"white-space:pre;overflow-x:auto;line-height:normal;font-family:Menlo,'DejaVu Sans Mono',consolas,'Courier New',monospace\">📦 Static Tool: update_incident_status <span style=\"font-weight: bold\">(</span>emergency_response<span style=\"font-weight: bold\">)</span>\n",
       "</pre>\n"
      ],
      "text/plain": [
       "📦 Static Tool: update_incident_status \u001b[1m(\u001b[0memergency_response\u001b[1m)\u001b[0m\n"
      ]
     },
     "metadata": {},
     "output_type": "display_data"
    },
    {
     "data": {
      "text/html": [
       "<pre style=\"white-space:pre;overflow-x:auto;line-height:normal;font-family:Menlo,'DejaVu Sans Mono',consolas,'Courier New',monospace\">📦 Static Tool: redirect_traffic <span style=\"font-weight: bold\">(</span>traffic_management<span style=\"font-weight: bold\">)</span>\n",
       "</pre>\n"
      ],
      "text/plain": [
       "📦 Static Tool: redirect_traffic \u001b[1m(\u001b[0mtraffic_management\u001b[1m)\u001b[0m\n"
      ]
     },
     "metadata": {},
     "output_type": "display_data"
    },
    {
     "data": {
      "text/html": [
       "<pre style=\"white-space:pre;overflow-x:auto;line-height:normal;font-family:Menlo,'DejaVu Sans Mono',consolas,'Courier New',monospace\">📦 Static Tool: block_route <span style=\"font-weight: bold\">(</span>traffic_management<span style=\"font-weight: bold\">)</span>\n",
       "</pre>\n"
      ],
      "text/plain": [
       "📦 Static Tool: block_route \u001b[1m(\u001b[0mtraffic_management\u001b[1m)\u001b[0m\n"
      ]
     },
     "metadata": {},
     "output_type": "display_data"
    },
    {
     "data": {
      "text/html": [
       "<pre style=\"white-space:pre;overflow-x:auto;line-height:normal;font-family:Menlo,'DejaVu Sans Mono',consolas,'Courier New',monospace\">\n",
       "🚨 CRISIS ESCALATION: New External Services Coming Online\n",
       "</pre>\n"
      ],
      "text/plain": [
       "\n",
       "🚨 CRISIS ESCALATION: New External Services Coming Online\n"
      ]
     },
     "metadata": {},
     "output_type": "display_data"
    },
    {
     "data": {
      "text/html": [
       "<pre style=\"white-space:pre;overflow-x:auto;line-height:normal;font-family:Menlo,'DejaVu Sans Mono',consolas,'Courier New',monospace\"><span style=\"color: #af00ff; text-decoration-color: #af00ff\">╭─────────────────────────────────────────────────────────────────────────────────────────────────────────────────╮</span>\n",
       "<span style=\"color: #af00ff; text-decoration-color: #af00ff\">│</span> 🔍 MCP Discovery: Scanning for new external services...                                                         <span style=\"color: #af00ff; text-decoration-color: #af00ff\">│</span>\n",
       "<span style=\"color: #af00ff; text-decoration-color: #af00ff\">╰─────────────────────────────────────────────────────────────────────────────────────────────────────────────────╯</span>\n",
       "</pre>\n"
      ],
      "text/plain": [
       "\u001b[38;5;129m╭─────────────────────────────────────────────────────────────────────────────────────────────────────────────────╮\u001b[0m\n",
       "\u001b[38;5;129m│\u001b[0m 🔍 MCP Discovery: Scanning for new external services...                                                         \u001b[38;5;129m│\u001b[0m\n",
       "\u001b[38;5;129m╰─────────────────────────────────────────────────────────────────────────────────────────────────────────────────╯\u001b[0m\n"
      ]
     },
     "metadata": {},
     "output_type": "display_data"
    },
    {
     "data": {
      "text/html": [
       "<pre style=\"white-space:pre;overflow-x:auto;line-height:normal;font-family:Menlo,'DejaVu Sans Mono',consolas,'Courier New',monospace\">🔍 Discovered: weather_service → get_weather_conditions <span style=\"font-weight: bold\">(</span>environmental_monitoring<span style=\"font-weight: bold\">)</span>\n",
       "</pre>\n"
      ],
      "text/plain": [
       "🔍 Discovered: weather_service → get_weather_conditions \u001b[1m(\u001b[0menvironmental_monitoring\u001b[1m)\u001b[0m\n"
      ]
     },
     "metadata": {},
     "output_type": "display_data"
    },
    {
     "data": {
      "text/html": [
       "<pre style=\"white-space:pre;overflow-x:auto;line-height:normal;font-family:Menlo,'DejaVu Sans Mono',consolas,'Courier New',monospace\">🔍 Discovered: social_media_monitor → monitor_social_media <span style=\"font-weight: bold\">(</span>intelligence_gathering<span style=\"font-weight: bold\">)</span>\n",
       "</pre>\n"
      ],
      "text/plain": [
       "🔍 Discovered: social_media_monitor → monitor_social_media \u001b[1m(\u001b[0mintelligence_gathering\u001b[1m)\u001b[0m\n"
      ]
     },
     "metadata": {},
     "output_type": "display_data"
    },
    {
     "data": {
      "text/html": [
       "<pre style=\"white-space:pre;overflow-x:auto;line-height:normal;font-family:Menlo,'DejaVu Sans Mono',consolas,'Courier New',monospace\">🔍 Discovered: predictive_analytics → predict_crisis_evolution <span style=\"font-weight: bold\">(</span>decision_support<span style=\"font-weight: bold\">)</span>\n",
       "</pre>\n"
      ],
      "text/plain": [
       "🔍 Discovered: predictive_analytics → predict_crisis_evolution \u001b[1m(\u001b[0mdecision_support\u001b[1m)\u001b[0m\n"
      ]
     },
     "metadata": {},
     "output_type": "display_data"
    },
    {
     "data": {
      "text/html": [
       "<pre style=\"white-space:pre;overflow-x:auto;line-height:normal;font-family:Menlo,'DejaVu Sans Mono',consolas,'Courier New',monospace\">✅ MCP Discovery Complete: Found <span style=\"color: #008080; text-decoration-color: #008080; font-weight: bold\">3</span> new services\n",
       "</pre>\n"
      ],
      "text/plain": [
       "✅ MCP Discovery Complete: Found \u001b[1;36m3\u001b[0m new services\n"
      ]
     },
     "metadata": {},
     "output_type": "display_data"
    },
    {
     "data": {
      "text/html": [
       "<pre style=\"white-space:pre;overflow-x:auto;line-height:normal;font-family:Menlo,'DejaVu Sans Mono',consolas,'Courier New',monospace\"><span style=\"color: #af00ff; text-decoration-color: #af00ff\">╭───────────────────────────────────────── MCP Dynamic Discovery Results ─────────────────────────────────────────╮</span>\n",
       "<span style=\"color: #af00ff; text-decoration-color: #af00ff\">│</span> 📊 **MCP Discovery Report**                                                                                     <span style=\"color: #af00ff; text-decoration-color: #af00ff\">│</span>\n",
       "<span style=\"color: #af00ff; text-decoration-color: #af00ff\">│</span>                                                                                                                 <span style=\"color: #af00ff; text-decoration-color: #af00ff\">│</span>\n",
       "<span style=\"color: #af00ff; text-decoration-color: #af00ff\">│</span> • **Static Tools**: 6 (hardcoded at startup)                                                                    <span style=\"color: #af00ff; text-decoration-color: #af00ff\">│</span>\n",
       "<span style=\"color: #af00ff; text-decoration-color: #af00ff\">│</span> • **Discovered Tools**: 3 (found at runtime)                                                                    <span style=\"color: #af00ff; text-decoration-color: #af00ff\">│</span>\n",
       "<span style=\"color: #af00ff; text-decoration-color: #af00ff\">│</span> • **Total Available**: 9 tools                                                                                  <span style=\"color: #af00ff; text-decoration-color: #af00ff\">│</span>\n",
       "<span style=\"color: #af00ff; text-decoration-color: #af00ff\">│</span>                                                                                                                 <span style=\"color: #af00ff; text-decoration-color: #af00ff\">│</span>\n",
       "<span style=\"color: #af00ff; text-decoration-color: #af00ff\">│</span> **New Capabilities Discovered**:                                                                                <span style=\"color: #af00ff; text-decoration-color: #af00ff\">│</span>\n",
       "<span style=\"color: #af00ff; text-decoration-color: #af00ff\">│</span> • Discovered weather_service with capability get_weather_conditions                                             <span style=\"color: #af00ff; text-decoration-color: #af00ff\">│</span>\n",
       "<span style=\"color: #af00ff; text-decoration-color: #af00ff\">│</span> • Discovered social_media_monitor with capability monitor_social_media                                          <span style=\"color: #af00ff; text-decoration-color: #af00ff\">│</span>\n",
       "<span style=\"color: #af00ff; text-decoration-color: #af00ff\">│</span> • Discovered predictive_analytics with capability predict_crisis_evolution                                      <span style=\"color: #af00ff; text-decoration-color: #af00ff\">│</span>\n",
       "<span style=\"color: #af00ff; text-decoration-color: #af00ff\">│</span>                                                                                                                 <span style=\"color: #af00ff; text-decoration-color: #af00ff\">│</span>\n",
       "<span style=\"color: #af00ff; text-decoration-color: #af00ff\">│</span> **Static Categories**: traffic_management, power_management, emergency_response                                 <span style=\"color: #af00ff; text-decoration-color: #af00ff\">│</span>\n",
       "<span style=\"color: #af00ff; text-decoration-color: #af00ff\">│</span> **New Categories**: intelligence_gathering, decision_support, environmental_monitoring                          <span style=\"color: #af00ff; text-decoration-color: #af00ff\">│</span>\n",
       "<span style=\"color: #af00ff; text-decoration-color: #af00ff\">╰─────────────────────────────────────────────────────────────────────────────────────────────────────────────────╯</span>\n",
       "</pre>\n"
      ],
      "text/plain": [
       "\u001b[38;5;129m╭─\u001b[0m\u001b[38;5;129m────────────────────────────────────────\u001b[0m\u001b[38;5;129m MCP Dynamic Discovery Results \u001b[0m\u001b[38;5;129m────────────────────────────────────────\u001b[0m\u001b[38;5;129m─╮\u001b[0m\n",
       "\u001b[38;5;129m│\u001b[0m 📊 **MCP Discovery Report**                                                                                     \u001b[38;5;129m│\u001b[0m\n",
       "\u001b[38;5;129m│\u001b[0m                                                                                                                 \u001b[38;5;129m│\u001b[0m\n",
       "\u001b[38;5;129m│\u001b[0m • **Static Tools**: 6 (hardcoded at startup)                                                                    \u001b[38;5;129m│\u001b[0m\n",
       "\u001b[38;5;129m│\u001b[0m • **Discovered Tools**: 3 (found at runtime)                                                                    \u001b[38;5;129m│\u001b[0m\n",
       "\u001b[38;5;129m│\u001b[0m • **Total Available**: 9 tools                                                                                  \u001b[38;5;129m│\u001b[0m\n",
       "\u001b[38;5;129m│\u001b[0m                                                                                                                 \u001b[38;5;129m│\u001b[0m\n",
       "\u001b[38;5;129m│\u001b[0m **New Capabilities Discovered**:                                                                                \u001b[38;5;129m│\u001b[0m\n",
       "\u001b[38;5;129m│\u001b[0m • Discovered weather_service with capability get_weather_conditions                                             \u001b[38;5;129m│\u001b[0m\n",
       "\u001b[38;5;129m│\u001b[0m • Discovered social_media_monitor with capability monitor_social_media                                          \u001b[38;5;129m│\u001b[0m\n",
       "\u001b[38;5;129m│\u001b[0m • Discovered predictive_analytics with capability predict_crisis_evolution                                      \u001b[38;5;129m│\u001b[0m\n",
       "\u001b[38;5;129m│\u001b[0m                                                                                                                 \u001b[38;5;129m│\u001b[0m\n",
       "\u001b[38;5;129m│\u001b[0m **Static Categories**: traffic_management, power_management, emergency_response                                 \u001b[38;5;129m│\u001b[0m\n",
       "\u001b[38;5;129m│\u001b[0m **New Categories**: intelligence_gathering, decision_support, environmental_monitoring                          \u001b[38;5;129m│\u001b[0m\n",
       "\u001b[38;5;129m╰─────────────────────────────────────────────────────────────────────────────────────────────────────────────────╯\u001b[0m\n"
      ]
     },
     "metadata": {},
     "output_type": "display_data"
    },
    {
     "data": {
      "text/html": [
       "<pre style=\"white-space:pre;overflow-x:auto;line-height:normal;font-family:Menlo,'DejaVu Sans Mono',consolas,'Courier New',monospace\">\n",
       "🧪 TESTING: Static vs MCP-Enabled Agents\n",
       "</pre>\n"
      ],
      "text/plain": [
       "\n",
       "🧪 TESTING: Static vs MCP-Enabled Agents\n"
      ]
     },
     "metadata": {},
     "output_type": "display_data"
    },
    {
     "data": {
      "text/html": [
       "<pre style=\"white-space:pre;overflow-x:auto;line-height:normal;font-family:Menlo,'DejaVu Sans Mono',consolas,'Courier New',monospace\">🔄 Preparing escalated crisis environment for MCP testing<span style=\"color: #808000; text-decoration-color: #808000\">...</span>\n",
       "</pre>\n"
      ],
      "text/plain": [
       "🔄 Preparing escalated crisis environment for MCP testing\u001b[33m...\u001b[0m\n"
      ]
     },
     "metadata": {},
     "output_type": "display_data"
    },
    {
     "data": {
      "text/html": [
       "<pre style=\"white-space:pre;overflow-x:auto;line-height:normal;font-family:Menlo,'DejaVu Sans Mono',consolas,'Courier New',monospace\">🔄 Resetting all service states<span style=\"color: #808000; text-decoration-color: #808000\">...</span>\n",
       "</pre>\n"
      ],
      "text/plain": [
       "🔄 Resetting all service states\u001b[33m...\u001b[0m\n"
      ]
     },
     "metadata": {},
     "output_type": "display_data"
    },
    {
     "data": {
      "text/html": [
       "<pre style=\"white-space:pre;overflow-x:auto;line-height:normal;font-family:Menlo,'DejaVu Sans Mono',consolas,'Courier New',monospace\">  ✅ GRID state reset\n",
       "</pre>\n"
      ],
      "text/plain": [
       "  ✅ GRID state reset\n"
      ]
     },
     "metadata": {},
     "output_type": "display_data"
    },
    {
     "data": {
      "text/html": [
       "<pre style=\"white-space:pre;overflow-x:auto;line-height:normal;font-family:Menlo,'DejaVu Sans Mono',consolas,'Courier New',monospace\">  ✅ EMERGENCY state reset\n",
       "</pre>\n"
      ],
      "text/plain": [
       "  ✅ EMERGENCY state reset\n"
      ]
     },
     "metadata": {},
     "output_type": "display_data"
    },
    {
     "data": {
      "text/html": [
       "<pre style=\"white-space:pre;overflow-x:auto;line-height:normal;font-family:Menlo,'DejaVu Sans Mono',consolas,'Courier New',monospace\">  ✅ TRAFFIC state reset\n",
       "</pre>\n"
      ],
      "text/plain": [
       "  ✅ TRAFFIC state reset\n"
      ]
     },
     "metadata": {},
     "output_type": "display_data"
    },
    {
     "data": {
      "text/html": [
       "<pre style=\"white-space:pre;overflow-x:auto;line-height:normal;font-family:Menlo,'DejaVu Sans Mono',consolas,'Courier New',monospace\">  ✅ SCENARIO state reset\n",
       "</pre>\n"
      ],
      "text/plain": [
       "  ✅ SCENARIO state reset\n"
      ]
     },
     "metadata": {},
     "output_type": "display_data"
    },
    {
     "data": {
      "text/html": [
       "<pre style=\"white-space:pre;overflow-x:auto;line-height:normal;font-family:Menlo,'DejaVu Sans Mono',consolas,'Courier New',monospace\"><span style=\"color: #800000; text-decoration-color: #800000\">╭─────────────────────────────────────────────────────────────────────────────────────────────────────────────────╮</span>\n",
       "<span style=\"color: #800000; text-decoration-color: #800000\">│</span> 🔒 Testing Static Agent (Traditional Approach)                                                                  <span style=\"color: #800000; text-decoration-color: #800000\">│</span>\n",
       "<span style=\"color: #800000; text-decoration-color: #800000\">╰─────────────────────────────────────────────────────────────────────────────────────────────────────────────────╯</span>\n",
       "</pre>\n"
      ],
      "text/plain": [
       "\u001b[31m╭─────────────────────────────────────────────────────────────────────────────────────────────────────────────────╮\u001b[0m\n",
       "\u001b[31m│\u001b[0m 🔒 Testing Static Agent (Traditional Approach)                                                                  \u001b[31m│\u001b[0m\n",
       "\u001b[31m╰─────────────────────────────────────────────────────────────────────────────────────────────────────────────────╯\u001b[0m\n"
      ]
     },
     "metadata": {},
     "output_type": "display_data"
    },
    {
     "data": {
      "text/html": [
       "<pre style=\"white-space:pre;overflow-x:auto;line-height:normal;font-family:Menlo,'DejaVu Sans Mono',consolas,'Courier New',monospace\">🔒 Static Agent Tools: <span style=\"color: #008080; text-decoration-color: #008080; font-weight: bold\">6</span> tools\n",
       "</pre>\n"
      ],
      "text/plain": [
       "🔒 Static Agent Tools: \u001b[1;36m6\u001b[0m tools\n"
      ]
     },
     "metadata": {},
     "output_type": "display_data"
    },
    {
     "data": {
      "text/html": [
       "<pre style=\"white-space:pre;overflow-x:auto;line-height:normal;font-family:Menlo,'DejaVu Sans Mono',consolas,'Courier New',monospace\">   Cannot access: Weather data, Social media intel, Predictive analytics\n",
       "</pre>\n"
      ],
      "text/plain": [
       "   Cannot access: Weather data, Social media intel, Predictive analytics\n"
      ]
     },
     "metadata": {},
     "output_type": "display_data"
    },
    {
     "data": {
      "text/html": [
       "<pre style=\"white-space:pre;overflow-x:auto;line-height:normal;font-family:Menlo,'DejaVu Sans Mono',consolas,'Courier New',monospace\"><span style=\"color: #800000; text-decoration-color: #800000\">╭─────────────────────────────────────────── Static Agent Performance ────────────────────────────────────────────╮</span>\n",
       "<span style=\"color: #800000; text-decoration-color: #800000\">│</span> 🔒 **Static Agent Result**                                                                                      <span style=\"color: #800000; text-decoration-color: #800000\">│</span>\n",
       "<span style=\"color: #800000; text-decoration-color: #800000\">│</span>                                                                                                                 <span style=\"color: #800000; text-decoration-color: #800000\">│</span>\n",
       "<span style=\"color: #800000; text-decoration-color: #800000\">│</span> Tools Available: 6                                                                                              <span style=\"color: #800000; text-decoration-color: #800000\">│</span>\n",
       "<span style=\"color: #800000; text-decoration-color: #800000\">│</span> New Services: CANNOT ACCESS                                                                                     <span style=\"color: #800000; text-decoration-color: #800000\">│</span>\n",
       "<span style=\"color: #800000; text-decoration-color: #800000\">│</span>                                                                                                                 <span style=\"color: #800000; text-decoration-color: #800000\">│</span>\n",
       "<span style=\"color: #800000; text-decoration-color: #800000\">│</span> Result: available_tools=['Adjust the power grid zone capacity', 'Set priority level for critical                <span style=\"color: #800000; text-decoration-color: #800000\">│</span>\n",
       "<span style=\"color: #800000; text-decoration-color: #800000\">│</span> infrastructure', 'Assign an available drone to an emergency incident', 'Update the status of an emergency       <span style=\"color: #800000; text-decoration-color: #800000\">│</span>\n",
       "<span style=\"color: #800000; text-decoration-color: #800000\">│</span> incident', 'Redirect traffic in congested sectors', 'Block a route for emergency access'] actions_taken=[...    <span style=\"color: #800000; text-decoration-color: #800000\">│</span>\n",
       "<span style=\"color: #800000; text-decoration-color: #800000\">╰─────────────────────────────────────────────────────────────────────────────────────────────────────────────────╯</span>\n",
       "</pre>\n"
      ],
      "text/plain": [
       "\u001b[31m╭─\u001b[0m\u001b[31m──────────────────────────────────────────\u001b[0m\u001b[31m Static Agent Performance \u001b[0m\u001b[31m───────────────────────────────────────────\u001b[0m\u001b[31m─╮\u001b[0m\n",
       "\u001b[31m│\u001b[0m 🔒 **Static Agent Result**                                                                                      \u001b[31m│\u001b[0m\n",
       "\u001b[31m│\u001b[0m                                                                                                                 \u001b[31m│\u001b[0m\n",
       "\u001b[31m│\u001b[0m Tools Available: 6                                                                                              \u001b[31m│\u001b[0m\n",
       "\u001b[31m│\u001b[0m New Services: CANNOT ACCESS                                                                                     \u001b[31m│\u001b[0m\n",
       "\u001b[31m│\u001b[0m                                                                                                                 \u001b[31m│\u001b[0m\n",
       "\u001b[31m│\u001b[0m Result: available_tools=['Adjust the power grid zone capacity', 'Set priority level for critical                \u001b[31m│\u001b[0m\n",
       "\u001b[31m│\u001b[0m infrastructure', 'Assign an available drone to an emergency incident', 'Update the status of an emergency       \u001b[31m│\u001b[0m\n",
       "\u001b[31m│\u001b[0m incident', 'Redirect traffic in congested sectors', 'Block a route for emergency access'] actions_taken=[...    \u001b[31m│\u001b[0m\n",
       "\u001b[31m╰─────────────────────────────────────────────────────────────────────────────────────────────────────────────────╯\u001b[0m\n"
      ]
     },
     "metadata": {},
     "output_type": "display_data"
    },
    {
     "data": {
      "text/html": [
       "<pre style=\"white-space:pre;overflow-x:auto;line-height:normal;font-family:Menlo,'DejaVu Sans Mono',consolas,'Courier New',monospace\"><span style=\"color: #008000; text-decoration-color: #008000\">╭─────────────────────────────────────────────────────────────────────────────────────────────────────────────────╮</span>\n",
       "<span style=\"color: #008000; text-decoration-color: #008000\">│</span> 🔍 Testing MCP-Enabled Agent (Dynamic Discovery)                                                                <span style=\"color: #008000; text-decoration-color: #008000\">│</span>\n",
       "<span style=\"color: #008000; text-decoration-color: #008000\">╰─────────────────────────────────────────────────────────────────────────────────────────────────────────────────╯</span>\n",
       "</pre>\n"
      ],
      "text/plain": [
       "\u001b[32m╭─────────────────────────────────────────────────────────────────────────────────────────────────────────────────╮\u001b[0m\n",
       "\u001b[32m│\u001b[0m 🔍 Testing MCP-Enabled Agent (Dynamic Discovery)                                                                \u001b[32m│\u001b[0m\n",
       "\u001b[32m╰─────────────────────────────────────────────────────────────────────────────────────────────────────────────────╯\u001b[0m\n"
      ]
     },
     "metadata": {},
     "output_type": "display_data"
    },
    {
     "data": {
      "text/html": [
       "<pre style=\"white-space:pre;overflow-x:auto;line-height:normal;font-family:Menlo,'DejaVu Sans Mono',consolas,'Courier New',monospace\">🔍 MCP Agent Tools: <span style=\"color: #008080; text-decoration-color: #008080; font-weight: bold\">9</span> tools\n",
       "</pre>\n"
      ],
      "text/plain": [
       "🔍 MCP Agent Tools: \u001b[1;36m9\u001b[0m tools\n"
      ]
     },
     "metadata": {},
     "output_type": "display_data"
    },
    {
     "data": {
      "text/html": [
       "<pre style=\"white-space:pre;overflow-x:auto;line-height:normal;font-family:Menlo,'DejaVu Sans Mono',consolas,'Courier New',monospace\">   Can access: Weather data, Social media intel, Predictive analytics\n",
       "</pre>\n"
      ],
      "text/plain": [
       "   Can access: Weather data, Social media intel, Predictive analytics\n"
      ]
     },
     "metadata": {},
     "output_type": "display_data"
    },
    {
     "data": {
      "text/html": [
       "<pre style=\"white-space:pre;overflow-x:auto;line-height:normal;font-family:Menlo,'DejaVu Sans Mono',consolas,'Courier New',monospace\">🌡️ Weather Service: Retrieved current conditions\n",
       "</pre>\n"
      ],
      "text/plain": [
       "🌡️ Weather Service: Retrieved current conditions\n"
      ]
     },
     "metadata": {},
     "output_type": "display_data"
    },
    {
     "data": {
      "text/html": [
       "<pre style=\"white-space:pre;overflow-x:auto;line-height:normal;font-family:Menlo,'DejaVu Sans Mono',consolas,'Courier New',monospace\">📱 Social Media Monitor: Analyzed <span style=\"color: #008080; text-decoration-color: #008080; font-weight: bold\">10</span>,<span style=\"color: #008080; text-decoration-color: #008080; font-weight: bold\">000</span>+ posts\n",
       "</pre>\n"
      ],
      "text/plain": [
       "📱 Social Media Monitor: Analyzed \u001b[1;36m10\u001b[0m,\u001b[1;36m000\u001b[0m+ posts\n"
      ]
     },
     "metadata": {},
     "output_type": "display_data"
    },
    {
     "name": "stderr",
     "output_type": "stream",
     "text": [
      "INFO:command:Executing set_priority on ServiceType.GRID service\n"
     ]
    },
    {
     "data": {
      "text/html": [
       "<pre style=\"white-space:pre;overflow-x:auto;line-height:normal;font-family:Menlo,'DejaVu Sans Mono',consolas,'Courier New',monospace\">⚡ Priority: hospital → critical <span style=\"font-weight: bold\">(</span>Backup generator failing and urgent need for patient care.<span style=\"font-weight: bold\">)</span> - SUCCESS\n",
       "</pre>\n"
      ],
      "text/plain": [
       "⚡ Priority: hospital → critical \u001b[1m(\u001b[0mBackup generator failing and urgent need for patient care.\u001b[1m)\u001b[0m - SUCCESS\n"
      ]
     },
     "metadata": {},
     "output_type": "display_data"
    },
    {
     "name": "stderr",
     "output_type": "stream",
     "text": [
      "INFO:command:Executing block_route on ServiceType.TRAFFIC service\n"
     ]
    },
    {
     "data": {
      "text/html": [
       "<pre style=\"white-space:pre;overflow-x:auto;line-height:normal;font-family:Menlo,'DejaVu Sans Mono',consolas,'Courier New',monospace\">🚧 Route: S001 blocked for 60min <span style=\"font-weight: bold\">(</span>Traffic accident blocking emergency route.<span style=\"font-weight: bold\">)</span> - SUCCESS\n",
       "</pre>\n"
      ],
      "text/plain": [
       "🚧 Route: S001 blocked for 60min \u001b[1m(\u001b[0mTraffic accident blocking emergency route.\u001b[1m)\u001b[0m - SUCCESS\n"
      ]
     },
     "metadata": {},
     "output_type": "display_data"
    },
    {
     "name": "stderr",
     "output_type": "stream",
     "text": [
      "INFO:command:Executing assign_drone on ServiceType.EMERGENCY service\n"
     ]
    },
    {
     "data": {
      "text/html": [
       "<pre style=\"white-space:pre;overflow-x:auto;line-height:normal;font-family:Menlo,'DejaVu Sans Mono',consolas,'Courier New',monospace\">🚁 Drone: D001 → E-<span style=\"color: #008080; text-decoration-color: #008080; font-weight: bold\">1001</span> <span style=\"font-weight: bold\">(</span>Immediate assistance needed for elderly care facility.<span style=\"font-weight: bold\">)</span> - SUCCESS\n",
       "</pre>\n"
      ],
      "text/plain": [
       "🚁 Drone: D001 → E-\u001b[1;36m1001\u001b[0m \u001b[1m(\u001b[0mImmediate assistance needed for elderly care facility.\u001b[1m)\u001b[0m - SUCCESS\n"
      ]
     },
     "metadata": {},
     "output_type": "display_data"
    },
    {
     "data": {
      "text/html": [
       "<pre style=\"white-space:pre;overflow-x:auto;line-height:normal;font-family:Menlo,'DejaVu Sans Mono',consolas,'Courier New',monospace\">🔮 Predictive Analytics: Generated <span style=\"color: #008080; text-decoration-color: #008080; font-weight: bold\">4</span>-hour forecast\n",
       "</pre>\n"
      ],
      "text/plain": [
       "🔮 Predictive Analytics: Generated \u001b[1;36m4\u001b[0m-hour forecast\n"
      ]
     },
     "metadata": {},
     "output_type": "display_data"
    },
    {
     "data": {
      "text/html": [
       "<pre style=\"white-space:pre;overflow-x:auto;line-height:normal;font-family:Menlo,'DejaVu Sans Mono',consolas,'Courier New',monospace\"><span style=\"color: #008000; text-decoration-color: #008000\">╭───────────────────────────────────────── MCP-Enabled Agent Performance ─────────────────────────────────────────╮</span>\n",
       "<span style=\"color: #008000; text-decoration-color: #008000\">│</span> 🔍 **MCP-Enabled Agent Result**                                                                                 <span style=\"color: #008000; text-decoration-color: #008000\">│</span>\n",
       "<span style=\"color: #008000; text-decoration-color: #008000\">│</span>                                                                                                                 <span style=\"color: #008000; text-decoration-color: #008000\">│</span>\n",
       "<span style=\"color: #008000; text-decoration-color: #008000\">│</span> Tools Available: 9                                                                                              <span style=\"color: #008000; text-decoration-color: #008000\">│</span>\n",
       "<span style=\"color: #008000; text-decoration-color: #008000\">│</span> New Services: DISCOVERED &amp; USED                                                                                 <span style=\"color: #008000; text-decoration-color: #008000\">│</span>\n",
       "<span style=\"color: #008000; text-decoration-color: #008000\">│</span>                                                                                                                 <span style=\"color: #008000; text-decoration-color: #008000\">│</span>\n",
       "<span style=\"color: #008000; text-decoration-color: #008000\">│</span> Result: static_tools_used=['set_infrastructure_priority', 'block_route', 'assign_emergency_drone']              <span style=\"color: #008000; text-decoration-color: #008000\">│</span>\n",
       "<span style=\"color: #008000; text-decoration-color: #008000\">│</span> discovered_tools_used=['get_weather_conditions', 'monitor_social_media', 'predict_crisis_evolution']            <span style=\"color: #008000; text-decoration-color: #008000\">│</span>\n",
       "<span style=\"color: #008000; text-decoration-color: #008000\">│</span> enhanced_capabilities='The response capabilities have been improved by prioritizing critical infrastructure,... <span style=\"color: #008000; text-decoration-color: #008000\">│</span>\n",
       "<span style=\"color: #008000; text-decoration-color: #008000\">╰─────────────────────────────────────────────────────────────────────────────────────────────────────────────────╯</span>\n",
       "</pre>\n"
      ],
      "text/plain": [
       "\u001b[32m╭─\u001b[0m\u001b[32m────────────────────────────────────────\u001b[0m\u001b[32m MCP-Enabled Agent Performance \u001b[0m\u001b[32m────────────────────────────────────────\u001b[0m\u001b[32m─╮\u001b[0m\n",
       "\u001b[32m│\u001b[0m 🔍 **MCP-Enabled Agent Result**                                                                                 \u001b[32m│\u001b[0m\n",
       "\u001b[32m│\u001b[0m                                                                                                                 \u001b[32m│\u001b[0m\n",
       "\u001b[32m│\u001b[0m Tools Available: 9                                                                                              \u001b[32m│\u001b[0m\n",
       "\u001b[32m│\u001b[0m New Services: DISCOVERED & USED                                                                                 \u001b[32m│\u001b[0m\n",
       "\u001b[32m│\u001b[0m                                                                                                                 \u001b[32m│\u001b[0m\n",
       "\u001b[32m│\u001b[0m Result: static_tools_used=['set_infrastructure_priority', 'block_route', 'assign_emergency_drone']              \u001b[32m│\u001b[0m\n",
       "\u001b[32m│\u001b[0m discovered_tools_used=['get_weather_conditions', 'monitor_social_media', 'predict_crisis_evolution']            \u001b[32m│\u001b[0m\n",
       "\u001b[32m│\u001b[0m enhanced_capabilities='The response capabilities have been improved by prioritizing critical infrastructure,... \u001b[32m│\u001b[0m\n",
       "\u001b[32m╰─────────────────────────────────────────────────────────────────────────────────────────────────────────────────╯\u001b[0m\n"
      ]
     },
     "metadata": {},
     "output_type": "display_data"
    },
    {
     "data": {
      "text/html": [
       "<pre style=\"white-space:pre;overflow-x:auto;line-height:normal;font-family:Menlo,'DejaVu Sans Mono',consolas,'Courier New',monospace\"><span style=\"color: #808000; text-decoration-color: #808000\">╭──────────────────────────────────────────── MCP Educational Summary ────────────────────────────────────────────╮</span>\n",
       "<span style=\"color: #808000; text-decoration-color: #808000\">│</span> 🎓 **Educational Value: Why MCP Matters**                                                                       <span style=\"color: #808000; text-decoration-color: #808000\">│</span>\n",
       "<span style=\"color: #808000; text-decoration-color: #808000\">│</span>                                                                                                                 <span style=\"color: #808000; text-decoration-color: #808000\">│</span>\n",
       "<span style=\"color: #808000; text-decoration-color: #808000\">│</span> **The Problem Demonstrated:**                                                                                   <span style=\"color: #808000; text-decoration-color: #808000\">│</span>\n",
       "<span style=\"color: #808000; text-decoration-color: #808000\">│</span> 🔒 **Static Agents**: Limited to hardcoded tools, cannot adapt to new services                                  <span style=\"color: #808000; text-decoration-color: #808000\">│</span>\n",
       "<span style=\"color: #808000; text-decoration-color: #808000\">│</span> 🔍 **MCP Agents**: Discover and use new external services dynamically                                           <span style=\"color: #808000; text-decoration-color: #808000\">│</span>\n",
       "<span style=\"color: #808000; text-decoration-color: #808000\">│</span>                                                                                                                 <span style=\"color: #808000; text-decoration-color: #808000\">│</span>\n",
       "<span style=\"color: #808000; text-decoration-color: #808000\">│</span> **Real-World Scenarios Where This Matters:**                                                                    <span style=\"color: #808000; text-decoration-color: #808000\">│</span>\n",
       "<span style=\"color: #808000; text-decoration-color: #808000\">│</span> • **New APIs**: Weather services, traffic APIs, social media feeds come online                                  <span style=\"color: #808000; text-decoration-color: #808000\">│</span>\n",
       "<span style=\"color: #808000; text-decoration-color: #808000\">│</span> • **Emergency Services**: New drone fleets, medical services, evacuation resources                              <span style=\"color: #808000; text-decoration-color: #808000\">│</span>\n",
       "<span style=\"color: #808000; text-decoration-color: #808000\">│</span> • **Third-Party Integration**: Partner organizations provide new capabilities                                   <span style=\"color: #808000; text-decoration-color: #808000\">│</span>\n",
       "<span style=\"color: #808000; text-decoration-color: #808000\">│</span> • **Evolving Infrastructure**: New sensors, monitoring systems, communication channels                          <span style=\"color: #808000; text-decoration-color: #808000\">│</span>\n",
       "<span style=\"color: #808000; text-decoration-color: #808000\">│</span>                                                                                                                 <span style=\"color: #808000; text-decoration-color: #808000\">│</span>\n",
       "<span style=\"color: #808000; text-decoration-color: #808000\">│</span> **Key MCP Benefits Shown:**                                                                                     <span style=\"color: #808000; text-decoration-color: #808000\">│</span>\n",
       "<span style=\"color: #808000; text-decoration-color: #808000\">│</span> ✅ **Runtime Discovery**: Find new services without code changes                                                <span style=\"color: #808000; text-decoration-color: #808000\">│</span>\n",
       "<span style=\"color: #808000; text-decoration-color: #808000\">│</span> ✅ **Dynamic Integration**: Use new capabilities immediately                                                    <span style=\"color: #808000; text-decoration-color: #808000\">│</span>\n",
       "<span style=\"color: #808000; text-decoration-color: #808000\">│</span> ✅ **Adaptive Response**: Enhanced decision-making with more data sources                                       <span style=\"color: #808000; text-decoration-color: #808000\">│</span>\n",
       "<span style=\"color: #808000; text-decoration-color: #808000\">│</span> ✅ **Future-Proof**: System grows with ecosystem without reprogramming                                          <span style=\"color: #808000; text-decoration-color: #808000\">│</span>\n",
       "<span style=\"color: #808000; text-decoration-color: #808000\">│</span>                                                                                                                 <span style=\"color: #808000; text-decoration-color: #808000\">│</span>\n",
       "<span style=\"color: #808000; text-decoration-color: #808000\">│</span> **Production Impact:**                                                                                          <span style=\"color: #808000; text-decoration-color: #808000\">│</span>\n",
       "<span style=\"color: #808000; text-decoration-color: #808000\">│</span> • **Reduced Downtime**: No need to redeploy agents for new integrations                                         <span style=\"color: #808000; text-decoration-color: #808000\">│</span>\n",
       "<span style=\"color: #808000; text-decoration-color: #808000\">│</span> • **Faster Response**: Immediate access to new intelligence sources                                             <span style=\"color: #808000; text-decoration-color: #808000\">│</span>\n",
       "<span style=\"color: #808000; text-decoration-color: #808000\">│</span> • **Better Decisions**: More data sources = more informed responses                                             <span style=\"color: #808000; text-decoration-color: #808000\">│</span>\n",
       "<span style=\"color: #808000; text-decoration-color: #808000\">│</span> • **Ecosystem Growth**: Easy integration with partner services                                                  <span style=\"color: #808000; text-decoration-color: #808000\">│</span>\n",
       "<span style=\"color: #808000; text-decoration-color: #808000\">│</span>                                                                                                                 <span style=\"color: #808000; text-decoration-color: #808000\">│</span>\n",
       "<span style=\"color: #808000; text-decoration-color: #808000\">│</span> **🔑 Key Insight**: MCP transforms agents from static tools to adaptive systems                                 <span style=\"color: #808000; text-decoration-color: #808000\">│</span>\n",
       "<span style=\"color: #808000; text-decoration-color: #808000\">│</span> that grow with their environment - essential for production resilience!                                         <span style=\"color: #808000; text-decoration-color: #808000\">│</span>\n",
       "<span style=\"color: #808000; text-decoration-color: #808000\">╰─────────────────────────────────────────────────────────────────────────────────────────────────────────────────╯</span>\n",
       "</pre>\n"
      ],
      "text/plain": [
       "\u001b[33m╭─\u001b[0m\u001b[33m───────────────────────────────────────────\u001b[0m\u001b[33m MCP Educational Summary \u001b[0m\u001b[33m───────────────────────────────────────────\u001b[0m\u001b[33m─╮\u001b[0m\n",
       "\u001b[33m│\u001b[0m 🎓 **Educational Value: Why MCP Matters**                                                                       \u001b[33m│\u001b[0m\n",
       "\u001b[33m│\u001b[0m                                                                                                                 \u001b[33m│\u001b[0m\n",
       "\u001b[33m│\u001b[0m **The Problem Demonstrated:**                                                                                   \u001b[33m│\u001b[0m\n",
       "\u001b[33m│\u001b[0m 🔒 **Static Agents**: Limited to hardcoded tools, cannot adapt to new services                                  \u001b[33m│\u001b[0m\n",
       "\u001b[33m│\u001b[0m 🔍 **MCP Agents**: Discover and use new external services dynamically                                           \u001b[33m│\u001b[0m\n",
       "\u001b[33m│\u001b[0m                                                                                                                 \u001b[33m│\u001b[0m\n",
       "\u001b[33m│\u001b[0m **Real-World Scenarios Where This Matters:**                                                                    \u001b[33m│\u001b[0m\n",
       "\u001b[33m│\u001b[0m • **New APIs**: Weather services, traffic APIs, social media feeds come online                                  \u001b[33m│\u001b[0m\n",
       "\u001b[33m│\u001b[0m • **Emergency Services**: New drone fleets, medical services, evacuation resources                              \u001b[33m│\u001b[0m\n",
       "\u001b[33m│\u001b[0m • **Third-Party Integration**: Partner organizations provide new capabilities                                   \u001b[33m│\u001b[0m\n",
       "\u001b[33m│\u001b[0m • **Evolving Infrastructure**: New sensors, monitoring systems, communication channels                          \u001b[33m│\u001b[0m\n",
       "\u001b[33m│\u001b[0m                                                                                                                 \u001b[33m│\u001b[0m\n",
       "\u001b[33m│\u001b[0m **Key MCP Benefits Shown:**                                                                                     \u001b[33m│\u001b[0m\n",
       "\u001b[33m│\u001b[0m ✅ **Runtime Discovery**: Find new services without code changes                                                \u001b[33m│\u001b[0m\n",
       "\u001b[33m│\u001b[0m ✅ **Dynamic Integration**: Use new capabilities immediately                                                    \u001b[33m│\u001b[0m\n",
       "\u001b[33m│\u001b[0m ✅ **Adaptive Response**: Enhanced decision-making with more data sources                                       \u001b[33m│\u001b[0m\n",
       "\u001b[33m│\u001b[0m ✅ **Future-Proof**: System grows with ecosystem without reprogramming                                          \u001b[33m│\u001b[0m\n",
       "\u001b[33m│\u001b[0m                                                                                                                 \u001b[33m│\u001b[0m\n",
       "\u001b[33m│\u001b[0m **Production Impact:**                                                                                          \u001b[33m│\u001b[0m\n",
       "\u001b[33m│\u001b[0m • **Reduced Downtime**: No need to redeploy agents for new integrations                                         \u001b[33m│\u001b[0m\n",
       "\u001b[33m│\u001b[0m • **Faster Response**: Immediate access to new intelligence sources                                             \u001b[33m│\u001b[0m\n",
       "\u001b[33m│\u001b[0m • **Better Decisions**: More data sources = more informed responses                                             \u001b[33m│\u001b[0m\n",
       "\u001b[33m│\u001b[0m • **Ecosystem Growth**: Easy integration with partner services                                                  \u001b[33m│\u001b[0m\n",
       "\u001b[33m│\u001b[0m                                                                                                                 \u001b[33m│\u001b[0m\n",
       "\u001b[33m│\u001b[0m **🔑 Key Insight**: MCP transforms agents from static tools to adaptive systems                                 \u001b[33m│\u001b[0m\n",
       "\u001b[33m│\u001b[0m that grow with their environment - essential for production resilience!                                         \u001b[33m│\u001b[0m\n",
       "\u001b[33m╰─────────────────────────────────────────────────────────────────────────────────────────────────────────────────╯\u001b[0m\n"
      ]
     },
     "metadata": {},
     "output_type": "display_data"
    },
    {
     "data": {
      "text/html": [
       "<pre style=\"white-space:pre;overflow-x:auto;line-height:normal;font-family:Menlo,'DejaVu Sans Mono',consolas,'Courier New',monospace\">✅ Phase <span style=\"color: #008080; text-decoration-color: #008080; font-weight: bold\">6</span> Complete: MCP integration demonstrated\n",
       "</pre>\n"
      ],
      "text/plain": [
       "✅ Phase \u001b[1;36m6\u001b[0m Complete: MCP integration demonstrated\n"
      ]
     },
     "metadata": {},
     "output_type": "display_data"
    }
   ],
   "source": [
    "# Demonstrate MCP\n",
    "mcp_registry = demonstrate_mcp_value()\n",
    "\n",
    "console.print(\"✅ Phase 6 Complete: MCP integration demonstrated\")"
   ]
  },
  {
   "cell_type": "markdown",
   "id": "b4abe8d2",
   "metadata": {},
   "source": [
    "## 🎓 **Workshop Complete: Agentic AI Systems Mastery**\n",
    "\n",
    "**🎯 Educational Objectives Achieved:**\n",
    "\n",
    "1. **Tool Use & Task Planning**: Built specialized tools for each service domain\n",
    "2. **Autonomy**: Created agents that make independent decisions based on scenario analysis\n",
    "3. **Multi-Agent Collaboration**: Orchestrated coordinated response across grid, emergency, and traffic services  \n",
    "4. **External System Integration**: Demonstrated MCP for dynamic tool discovery\n",
    "5. **Adaptive Behavior**: Showed agent superiority over rigid rule-based approaches\n",
    "\n",
    "**🔑 Key Production Insights:**\n",
    "- **Service-by-Service Investigation**: Build understanding incrementally before coordination\n",
    "- **Structured Outputs**: Ensure consistent communication between agents and systems\n",
    "- **Dynamic Tool Discovery**: MCP enables runtime adaptation to new external services\n",
    "- **Quantitative Evaluation**: Measure performance objectively to validate approaches\n",
    "\n",
    "**🚀 Your Agent System is Production-Ready!**"
   ]
  },
  {
   "cell_type": "code",
   "execution_count": 75,
   "id": "44cde594",
   "metadata": {},
   "outputs": [
    {
     "data": {
      "text/html": [
       "<pre style=\"white-space:pre;overflow-x:auto;line-height:normal;font-family:Menlo,'DejaVu Sans Mono',consolas,'Courier New',monospace\"><span style=\"color: #008000; text-decoration-color: #008000\">╭─────────────────────────────────────────────── Workshop Complete ───────────────────────────────────────────────╮</span>\n",
       "<span style=\"color: #008000; text-decoration-color: #008000\">│</span> 🎉 **Agentic AI Systems Workshop Complete** 🎉                                                                  <span style=\"color: #008000; text-decoration-color: #008000\">│</span>\n",
       "<span style=\"color: #008000; text-decoration-color: #008000\">│</span>                                                                                                                 <span style=\"color: #008000; text-decoration-color: #008000\">│</span>\n",
       "<span style=\"color: #008000; text-decoration-color: #008000\">│</span> **📊 Performance Summary:**                                                                                     <span style=\"color: #008000; text-decoration-color: #008000\">│</span>\n",
       "<span style=\"color: #008000; text-decoration-color: #008000\">│</span> • Rule-Based Average: 44.7% success rate                                                                        <span style=\"color: #008000; text-decoration-color: #008000\">│</span>\n",
       "<span style=\"color: #008000; text-decoration-color: #008000\">│</span> • Agent-Based Average: 44.6% success rate                                                                       <span style=\"color: #008000; text-decoration-color: #008000\">│</span>\n",
       "<span style=\"color: #008000; text-decoration-color: #008000\">│</span>                                                                                                                 <span style=\"color: #008000; text-decoration-color: #008000\">│</span>\n",
       "<span style=\"color: #008000; text-decoration-color: #008000\">│</span> **🧠 Adaptability Test:**                                                                                       <span style=\"color: #008000; text-decoration-color: #008000\">│</span>\n",
       "<span style=\"color: #008000; text-decoration-color: #008000\">│</span> • Rules on new scenario: 57.4% (Failed)                                                                         <span style=\"color: #008000; text-decoration-color: #008000\">│</span>\n",
       "<span style=\"color: #008000; text-decoration-color: #008000\">│</span> • Agents on new scenario: 60.4% (Succeeded)                                                                     <span style=\"color: #008000; text-decoration-color: #008000\">│</span>\n",
       "<span style=\"color: #008000; text-decoration-color: #008000\">│</span>                                                                                                                 <span style=\"color: #008000; text-decoration-color: #008000\">│</span>\n",
       "<span style=\"color: #008000; text-decoration-color: #008000\">│</span> **🎓 Key Learning: Agents demonstrate superior performance and adaptability                                     <span style=\"color: #008000; text-decoration-color: #008000\">│</span>\n",
       "<span style=\"color: #008000; text-decoration-color: #008000\">│</span> compared to rigid rule-based approaches, making them suitable for                                               <span style=\"color: #008000; text-decoration-color: #008000\">│</span>\n",
       "<span style=\"color: #008000; text-decoration-color: #008000\">│</span> production deployment in dynamic environments.**                                                                <span style=\"color: #008000; text-decoration-color: #008000\">│</span>\n",
       "<span style=\"color: #008000; text-decoration-color: #008000\">│</span>                                                                                                                 <span style=\"color: #008000; text-decoration-color: #008000\">│</span>\n",
       "<span style=\"color: #008000; text-decoration-color: #008000\">│</span> All results saved to: workshop_experiment_results.json                                                          <span style=\"color: #008000; text-decoration-color: #008000\">│</span>\n",
       "<span style=\"color: #008000; text-decoration-color: #008000\">╰─────────────────────────────────────────────────────────────────────────────────────────────────────────────────╯</span>\n",
       "</pre>\n"
      ],
      "text/plain": [
       "\u001b[32m╭─\u001b[0m\u001b[32m──────────────────────────────────────────────\u001b[0m\u001b[32m Workshop Complete \u001b[0m\u001b[32m──────────────────────────────────────────────\u001b[0m\u001b[32m─╮\u001b[0m\n",
       "\u001b[32m│\u001b[0m 🎉 **Agentic AI Systems Workshop Complete** 🎉                                                                  \u001b[32m│\u001b[0m\n",
       "\u001b[32m│\u001b[0m                                                                                                                 \u001b[32m│\u001b[0m\n",
       "\u001b[32m│\u001b[0m **📊 Performance Summary:**                                                                                     \u001b[32m│\u001b[0m\n",
       "\u001b[32m│\u001b[0m • Rule-Based Average: 44.7% success rate                                                                        \u001b[32m│\u001b[0m\n",
       "\u001b[32m│\u001b[0m • Agent-Based Average: 44.6% success rate                                                                       \u001b[32m│\u001b[0m\n",
       "\u001b[32m│\u001b[0m                                                                                                                 \u001b[32m│\u001b[0m\n",
       "\u001b[32m│\u001b[0m **🧠 Adaptability Test:**                                                                                       \u001b[32m│\u001b[0m\n",
       "\u001b[32m│\u001b[0m • Rules on new scenario: 57.4% (Failed)                                                                         \u001b[32m│\u001b[0m\n",
       "\u001b[32m│\u001b[0m • Agents on new scenario: 60.4% (Succeeded)                                                                     \u001b[32m│\u001b[0m\n",
       "\u001b[32m│\u001b[0m                                                                                                                 \u001b[32m│\u001b[0m\n",
       "\u001b[32m│\u001b[0m **🎓 Key Learning: Agents demonstrate superior performance and adaptability                                     \u001b[32m│\u001b[0m\n",
       "\u001b[32m│\u001b[0m compared to rigid rule-based approaches, making them suitable for                                               \u001b[32m│\u001b[0m\n",
       "\u001b[32m│\u001b[0m production deployment in dynamic environments.**                                                                \u001b[32m│\u001b[0m\n",
       "\u001b[32m│\u001b[0m                                                                                                                 \u001b[32m│\u001b[0m\n",
       "\u001b[32m│\u001b[0m All results saved to: workshop_experiment_results.json                                                          \u001b[32m│\u001b[0m\n",
       "\u001b[32m╰─────────────────────────────────────────────────────────────────────────────────────────────────────────────────╯\u001b[0m\n"
      ]
     },
     "metadata": {},
     "output_type": "display_data"
    },
    {
     "data": {
      "text/html": [
       "<pre style=\"white-space:pre;overflow-x:auto;line-height:normal;font-family:Menlo,'DejaVu Sans Mono',consolas,'Courier New',monospace\">📊 Results saved to workshop_experiment_results.json\n",
       "</pre>\n"
      ],
      "text/plain": [
       "📊 Results saved to workshop_experiment_results.json\n"
      ]
     },
     "metadata": {},
     "output_type": "display_data"
    },
    {
     "data": {
      "text/html": [
       "<pre style=\"white-space:pre;overflow-x:auto;line-height:normal;font-family:Menlo,'DejaVu Sans Mono',consolas,'Courier New',monospace\">    Service Investigation Progress:\n",
       "</pre>\n"
      ],
      "text/plain": [
       "    Service Investigation Progress:\n"
      ]
     },
     "metadata": {},
     "output_type": "display_data"
    },
    {
     "data": {
      "text/html": [
       "<pre style=\"white-space:pre;overflow-x:auto;line-height:normal;font-family:Menlo,'DejaVu Sans Mono',consolas,'Courier New',monospace\">🎓 Workshop completed successfully! You've mastered agentic AI systems design.\n",
       "</pre>\n"
      ],
      "text/plain": [
       "🎓 Workshop completed successfully! You've mastered agentic AI systems design.\n"
      ]
     },
     "metadata": {},
     "output_type": "display_data"
    }
   ],
   "source": [
    "# Workshop completion with performance metrics and key insights\n",
    "def finalize_workshop():\n",
    "    \"\"\"Complete the workshop with final insights and results.\"\"\"\n",
    "    \n",
    "    # Calculate key metrics for educational summary\n",
    "    grid_results = workshop_results[\"service_investigation\"][\"grid\"]\n",
    "    emergency_results = workshop_results[\"service_investigation\"][\"emergency\"] \n",
    "    traffic_results = workshop_results[\"service_investigation\"][\"traffic\"]\n",
    "    \n",
    "    rule_avg = (grid_results[\"rule_success_rate\"] + \n",
    "                emergency_results[\"rule_success_rate\"] + \n",
    "                traffic_results[\"rule_success_rate\"]) / 3\n",
    "    \n",
    "    agent_avg = (grid_results[\"agent_success_rate\"] + \n",
    "                 emergency_results[\"agent_success_rate\"] + \n",
    "                 traffic_results[\"agent_success_rate\"]) / 3\n",
    "    \n",
    "    console.print(Panel(\n",
    "        f\"\"\"🎉 **Agentic AI Systems Workshop Complete** 🎉\n",
    "\n",
    "**📊 Performance Summary:**\n",
    "• Rule-Based Average: {rule_avg:.1%} success rate  \n",
    "• Agent-Based Average: {agent_avg:.1%} success rate\n",
    "\n",
    "**🧠 Adaptability Test:**\n",
    "• Rules on new scenario: {rule_medical_score:.1%} (Failed)\n",
    "• Agents on new scenario: {agent_medical_score:.1%} (Succeeded)\n",
    "\n",
    "**🎓 Key Learning: Agents demonstrate superior performance and adaptability \n",
    "compared to rigid rule-based approaches, making them suitable for \n",
    "production deployment in dynamic environments.**\n",
    "\n",
    "All results saved to: {RESULTS_FILE}\"\"\",\n",
    "        title=\"Workshop Complete\",\n",
    "        border_style=\"green\"\n",
    "    ))\n",
    "    \n",
    "    save_experiment_results(workshop_results)\n",
    "    return workshop_results\n",
    "\n",
    "# Final workshop completion\n",
    "final_results = finalize_workshop()\n",
    "\n",
    "console.print(\"🎓 Workshop completed successfully! You've mastered agentic AI systems design.\")"
   ]
  }
 ],
 "metadata": {
  "jupytext": {
   "cell_metadata_filter": "-all",
   "main_language": "python",
   "notebook_metadata_filter": "-all"
  },
  "kernelspec": {
   "display_name": ".venv",
   "language": "python",
   "name": "python3"
  },
  "language_info": {
   "codemirror_mode": {
    "name": "ipython",
    "version": 3
   },
   "file_extension": ".py",
   "mimetype": "text/x-python",
   "name": "python",
   "nbconvert_exporter": "python",
   "pygments_lexer": "ipython3",
   "version": "3.11.12"
  }
 },
 "nbformat": 4,
 "nbformat_minor": 5
}
